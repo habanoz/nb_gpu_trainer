{
 "cells": [
  {
   "cell_type": "code",
   "execution_count": 1,
   "metadata": {},
   "outputs": [],
   "source": [
    "from datasets import load_dataset"
   ]
  },
  {
   "cell_type": "code",
   "execution_count": 1,
   "metadata": {},
   "outputs": [
    {
     "name": "stdout",
     "output_type": "stream",
     "text": [
      "usage: cli_generate_data.py [-h] --repo_id REPO_ID --ds_repo_id DS_REPO_ID\n",
      "                            [--data_dir DATA_DIR]\n",
      "cli_generate_data.py: error: the following arguments are required: --repo_id, --ds_repo_id\n"
     ]
    }
   ],
   "source": [
    "!python src/nbtr/cli_generate_data.py"
   ]
  },
  {
   "cell_type": "code",
   "execution_count": 2,
   "metadata": {},
   "outputs": [
    {
     "name": "stdout",
     "output_type": "stream",
     "text": [
      "Renaming column 'validation' to 'val'!\n",
      "Generating tokens!\n",
      "tokenizing the splits: 100%|█| 2119719/2119719 [10:17<00:00, 3433.29 examples/s]\n",
      "tokenizing the splits: 100%|█████| 21990/21990 [00:03<00:00, 6788.96 examples/s]\n",
      "Split train, token count: 943063987\n",
      "memmap is ready!\n",
      "Saving split 'train', docs: 2119719, tokens: 943063987 in 1048576 batches.\n",
      "writing TinyStories/train.bin: 100%|█| 1048576/1048576 [26:01<00:00, 671.60it/s]\n",
      "Saved 'train' tokens.\n",
      "Split val, token count: 9522563\n",
      "memmap is ready!\n",
      "Saving split 'val', docs: 21990, tokens: 9522563 in 1024 batches.\n",
      "writing TinyStories/val.bin: 100%|█████████| 1024/1024 [00:01<00:00, 648.44it/s]\n",
      "Saved 'val' tokens.\n",
      "Done!\n"
     ]
    }
   ],
   "source": [
    "!python src/nbtr/cli_generate_data.py --repo_id habanoz/news-tr-1.8M-tokenizer-8k --ds_repo_id roneneldan/TinyStories --data_dir TinyStories"
   ]
  },
  {
   "cell_type": "code",
   "execution_count": null,
   "metadata": {},
   "outputs": [],
   "source": []
  }
 ],
 "metadata": {
  "kernelspec": {
   "display_name": "myenv",
   "language": "python",
   "name": "python3"
  },
  "language_info": {
   "codemirror_mode": {
    "name": "ipython",
    "version": 3
   },
   "file_extension": ".py",
   "mimetype": "text/x-python",
   "name": "python",
   "nbconvert_exporter": "python",
   "pygments_lexer": "ipython3",
   "version": "3.11.9"
  }
 },
 "nbformat": 4,
 "nbformat_minor": 2
}
