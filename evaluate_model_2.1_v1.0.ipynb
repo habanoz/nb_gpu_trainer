{
 "cells": [
  {
   "cell_type": "code",
   "execution_count": 1,
   "metadata": {},
   "outputs": [],
   "source": [
    "from nbtr.model.hf_model import HfModel\n",
    "from nbtr.tokenizer.tokenizer import Tokenizer\n",
    "import torch\n",
    "from torch.nn import functional as F"
   ]
  },
  {
   "cell_type": "code",
   "execution_count": 2,
   "metadata": {},
   "outputs": [
    {
     "data": {
      "application/vnd.jupyter.widget-view+json": {
       "model_id": "0376392ec75b40b6823c5fad78281c62",
       "version_major": 2,
       "version_minor": 0
      },
      "text/plain": [
       "pytorch_model.bin:   0%|          | 0.00/55.9M [00:00<?, ?B/s]"
      ]
     },
     "metadata": {},
     "output_type": "display_data"
    },
    {
     "data": {
      "application/vnd.jupyter.widget-view+json": {
       "model_id": "45710ca5732043f79602d0626640b3d2",
       "version_major": 2,
       "version_minor": 0
      },
      "text/plain": [
       "config.json:   0%|          | 0.00/146 [00:00<?, ?B/s]"
      ]
     },
     "metadata": {},
     "output_type": "display_data"
    },
    {
     "name": "stdout",
     "output_type": "stream",
     "text": [
      "number of parameters: 13.77M\n",
      "Restored model state from repository!\n"
     ]
    }
   ],
   "source": [
    "model = HfModel.from_pretrained(\"habanoz/haber-gpt-2.1-small-v1.0-13M\",device=\"cpu\")"
   ]
  },
  {
   "cell_type": "code",
   "execution_count": 3,
   "metadata": {},
   "outputs": [],
   "source": [
    "def generate(prompt):\n",
    "    return model.generate(prompt, max_length = 50)"
   ]
  },
  {
   "cell_type": "code",
   "execution_count": 4,
   "metadata": {},
   "outputs": [],
   "source": [
    "tokenizer = Tokenizer.from_pretrained(\"habanoz/news-tr-1.8M-tokenizer-8k\")"
   ]
  },
  {
   "cell_type": "code",
   "execution_count": 5,
   "metadata": {},
   "outputs": [],
   "source": [
    "def generate(model, tokenizer, prompt, max_tokens=50):\n",
    "    \n",
    "    prompt = torch.tensor(tokenizer.encode(prompt)['input_ids']).view(1, -1)\n",
    "    \n",
    "    for i in range(max_tokens):\n",
    "        logits = model.forward(prompt)['logits']\n",
    "        logits = logits[:, -1, :]\n",
    "        probs = F.softmax(logits, dim=1)\n",
    "        tok = torch.multinomial(probs, 1, replacement=True)\n",
    "        \n",
    "        if tok == tokenizer.eos_id:\n",
    "            break\n",
    "\n",
    "        prompt = torch.cat((prompt , tok), dim=-1)\n",
    "\n",
    "    text = tokenizer.decode(prompt.tolist()[0])\n",
    "    print(text)\n"
   ]
  },
  {
   "cell_type": "code",
   "execution_count": 6,
   "metadata": {},
   "outputs": [
    {
     "name": "stdout",
     "output_type": "stream",
     "text": [
      "15 Temmuz şehitleri ikiz polislerin babasının acısı dinmiyor “O-Biber Çığlığından Aracı Türkiye'de OPERO, Robotik Hal İşsizlik Oluyor” müşaviri Coşkun Bağış, senaryonun reyting rekorları kırarak, özgün bir algı oluşturmayı başardı. Oyun ekibi Robotik ve Ömür Bilgin Ercan Kahraman'ın baş aktör yardımcısı olan Sinan Karakuş cinayetiyle ilgili 28 Ocak 2014'te açıkladı. Sinan Yöngeç, Orhan\n"
     ]
    }
   ],
   "source": [
    "generate(model, tokenizer, '15 Temmuz şehitleri ikiz polislerin babasının acısı dinmiyor', max_tokens=100)"
   ]
  },
  {
   "cell_type": "code",
   "execution_count": 7,
   "metadata": {},
   "outputs": [
    {
     "name": "stdout",
     "output_type": "stream",
     "text": [
      "Fransa devlet başkanı Bu yarışta bir başka kaybettiğimiz canlar, bir başka büyük canlar. Çiçek Yetenek, Hasta Gülüt gibi yapacağımız iki ödül, bir dişi, bir de sarı kayalmış hayatlarımız. Eleştiri yeteneği, eserlerine yenisini eklemek, mekânı bambaşka bir dünya bırakmak amacındayız. Dünya Küre Şampiyonası'nda elde edilen zafer; Cemre seçimi ve daha fazla jakuzi kazandı. Cemre'\n"
     ]
    }
   ],
   "source": [
    "generate(model, tokenizer, 'Fransa devlet başkanı', max_tokens=100)"
   ]
  },
  {
   "cell_type": "code",
   "execution_count": 8,
   "metadata": {},
   "outputs": [
    {
     "name": "stdout",
     "output_type": "stream",
     "text": [
      "Borsa güne yükselişle başladı AK Parti'den Binali Yıldırım konuştu: Alper 'sınız'e ilişkin konuşan eski CHP lideri Kemal Kılıçdaroğlu'na yönelik eleştirilerde bulunan eski ve yeni milletvekili Erenerjelik'e reform yapılmasının sürdüğünü söyleyen eski ve yeni CHP lideri, şu anda cumhurbaşkanlığı görevini yürüten Kartal MHP lideri Devlet Bahçeli'ye pozisyon atmasının konu edildiği ilk istifaını verdi. Daha önce Karabük'te kurulan özel bir kurumla ilgili Kayseri Cumhuriyet Başsavcılığı'na suç duyurusunda bulunulmasını da yapan eski\n"
     ]
    }
   ],
   "source": [
    "generate(model, tokenizer, 'Borsa güne yükselişle başladı', max_tokens=100)"
   ]
  },
  {
   "cell_type": "code",
   "execution_count": 9,
   "metadata": {},
   "outputs": [
    {
     "name": "stdout",
     "output_type": "stream",
     "text": [
      "Dünya kupasının kazananı belli oldu Mercedes Benz Türkiye Hedeflerine Kattı Türk spor tarihinde Hedeflerine emin adımlarla yaklaşan Mercedes Benz Türkiye, hafta içi 30 dereceye varan derecelendirme araçlarına hakim olarak yeni standartlarına göre fiyat belirledi. Yeni tip koronavirüs (Kovid-19) salgını sebebiyle kapalı olan mekanların düzenlenmesi ile test sezonunun başlaması ile Otokar, tatilin haftaya 11. derece ile başlaması için şehirler arası gerçekleşmesi plan\n"
     ]
    }
   ],
   "source": [
    "generate(model, tokenizer, 'Dünya kupasının kazananı belli oldu', max_tokens=100)"
   ]
  },
  {
   "cell_type": "code",
   "execution_count": 10,
   "metadata": {},
   "outputs": [
    {
     "name": "stdout",
     "output_type": "stream",
     "text": [
      "Altın yatırıcımcısında yüzler gülüyor Dünyaca ünlü defineciler Google'ın sahte sansür operasyonu Diriso Benim 45. bölümünü gözaltına aldığı iddia edilen kişilerin dosyası, satılık petrol ve gaz imalatı gerekçesiyle kapatıldı. Mart ayında masada bulunan şirketi Kahvehanelerin Kapılar'ında konuk ettiği Koroğlu Kısa listeden farklı bir söz verdi. Adnan Oktarlar'ın paylaşımına Türkiye Dışişleri Bakanı Mevlüt Çavuşoğlu'nun mesnetsiz iddiası yalanlanarak Market'e yapılan\n"
     ]
    }
   ],
   "source": [
    "generate(model, tokenizer, 'Altın yatırıcımcısında yüzler gülüyor', max_tokens=100)"
   ]
  },
  {
   "cell_type": "code",
   "execution_count": 11,
   "metadata": {},
   "outputs": [
    {
     "name": "stdout",
     "output_type": "stream",
     "text": [
      "Vizyona yeni giren filimler Adana sınırları ve Doğu Anadolu bölümünde, marsikbiküller yüz ölçümü yapıldı. Duz ve orta pençe ile mart, nisan ve nisanda kalkacak proje, bu bölge merkezindeki 191 üniversitenin akademik bütçeli belgeleri değerlendikten sonra tamamlanabilseydi, aralık ayından önceki beş derslik bir arada geçebilirdi. Palandöken, 2007 yılı: Başkent'te 1945-\n"
     ]
    }
   ],
   "source": [
    "generate(model, tokenizer, 'Vizyona yeni giren filimler', max_tokens=100)"
   ]
  },
  {
   "cell_type": "code",
   "execution_count": 12,
   "metadata": {},
   "outputs": [
    {
     "name": "stdout",
     "output_type": "stream",
     "text": [
      "İkinci dünya savaşında kaybedilenler anıldı Sicilya Adası'ndaki bombalı araç, durduruldu. Yetkililere göre Rusya Devlet Başkanı Vladimir Putin, 3 milyondan fazla insanın göç ettiğini ve ülkenin en önemli geçim kaynağı olduğunu belirtti. Detayları, konfederasyon hükümeti Cumhurbaşkanı Dio-bakdery, Başbakan Yardımcısı Dimitri Ponçenko ve Başbakan Yardımcısı Perez Lukaşenko paylaştı. Soruları tamamlayan Dışişleri Bakanı Çavuşoğlu, “Bir NATO müttefik\n"
     ]
    }
   ],
   "source": [
    "generate(model, tokenizer, 'İkinci dünya savaşında kaybedilenler anıldı', max_tokens=100)"
   ]
  },
  {
   "cell_type": "code",
   "execution_count": 13,
   "metadata": {},
   "outputs": [
    {
     "name": "stdout",
     "output_type": "stream",
     "text": [
      "Buğdayda bu sene rekolte düşük Hürriyet Gazetesi, yayınladığı Türkiye'nin en az darbe yiyen ülkesi olduğunu belirterek \"Türk tipi öğretmen\" ifadesini kullandı, hükümet karşıtı değerler ve vaagini dikkat çekti. Hürriyet gazetesindeki yazısında Sözcü Gazetesi, devre dışı bırakılacak \"Milli Eğitim Bakanı Cevdet Yılmaz ve Cumhurbaşkanı Tayyip Erdoğan'a tepeden tacizde bulunan ve sayıları 24 bini aşan \"Hükümetçiler Meclis'in Başkanı\" başlıklı eleştirilere yer verilen bir bildiri yayımladı.\n"
     ]
    }
   ],
   "source": [
    "generate(model, tokenizer, 'Buğdayda bu sene rekolte düşük', max_tokens=100)"
   ]
  },
  {
   "cell_type": "code",
   "execution_count": 14,
   "metadata": {},
   "outputs": [
    {
     "name": "stdout",
     "output_type": "stream",
     "text": [
      "Piyasalar TC Merkez Bankasının kararına kilitlendi Sağanak sağanak aralık sonrasında gerçekleşen sel binlerce dönüme yayıldı. Su seviyesinin yükselmesi Tekirdağ'ın Bereketli ilçesi bungalovları yardıma muhtaç 365, bandrolsüz sular nedeniyle kapalı cezaevlerinde kalan 7 bin 198 kişiden 139'unun durumunun daha da kötüye kullanıldığı belirlendi. İlçe sınırları içerisinde bir çok yüksek fiyata abonelerine doğal gaz satma imkanı bulunan, bu kapsamda bölgeye sevk edilen, uyumsuz\n"
     ]
    }
   ],
   "source": [
    "generate(model, tokenizer, 'Piyasalar TC Merkez Bankasının kararına kilitlendi', max_tokens=100)"
   ]
  },
  {
   "cell_type": "code",
   "execution_count": 15,
   "metadata": {},
   "outputs": [
    {
     "name": "stdout",
     "output_type": "stream",
     "text": [
      "Başkan Erdoğan muhalefet liderine seslendi Yüreğir haberleri Kozanlı suç kurtarmada bulunan abiler, hayal kırıklığı yaşattı Ali CanZındık\n"
     ]
    }
   ],
   "source": [
    "generate(model, tokenizer, 'Başkan Erdoğan muhalefet liderine seslendi', max_tokens=100)"
   ]
  },
  {
   "cell_type": "code",
   "execution_count": null,
   "metadata": {},
   "outputs": [],
   "source": []
  },
  {
   "cell_type": "code",
   "execution_count": null,
   "metadata": {},
   "outputs": [],
   "source": []
  },
  {
   "cell_type": "code",
   "execution_count": null,
   "metadata": {},
   "outputs": [],
   "source": []
  }
 ],
 "metadata": {
  "kernelspec": {
   "display_name": "myenv",
   "language": "python",
   "name": "python3"
  },
  "language_info": {
   "codemirror_mode": {
    "name": "ipython",
    "version": 3
   },
   "file_extension": ".py",
   "mimetype": "text/x-python",
   "name": "python",
   "nbconvert_exporter": "python",
   "pygments_lexer": "ipython3",
   "version": "3.11.9"
  }
 },
 "nbformat": 4,
 "nbformat_minor": 2
}
