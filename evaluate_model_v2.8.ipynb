{
 "cells": [
  {
   "cell_type": "code",
   "execution_count": 1,
   "metadata": {},
   "outputs": [],
   "source": [
    "from nbtr.model.hf_model import HfModel\n",
    "from nbtr.tokenizer.tokenizer import Tokenizer\n",
    "from nbtr.decode.decoder import Decoder\n",
    "import torch\n",
    "from torch.nn import functional as F"
   ]
  },
  {
   "cell_type": "code",
   "execution_count": 2,
   "metadata": {},
   "outputs": [
    {
     "name": "stdout",
     "output_type": "stream",
     "text": [
      "number of parameters: 29.37M\n",
      "Restored model state from repository!\n"
     ]
    }
   ],
   "source": [
    "model = HfModel.from_pretrained(\"habanoz/haber-gpt-2-small-v2.8-30M\",device=\"cpu\")"
   ]
  },
  {
   "cell_type": "code",
   "execution_count": 3,
   "metadata": {},
   "outputs": [],
   "source": [
    "tokenizer = Tokenizer.from_pretrained(\"habanoz/news-tr-1.8M-tokenizer-8k\")"
   ]
  },
  {
   "cell_type": "code",
   "execution_count": 4,
   "metadata": {},
   "outputs": [],
   "source": [
    "decoder = Decoder(tokenizer, model)"
   ]
  },
  {
   "cell_type": "code",
   "execution_count": 5,
   "metadata": {},
   "outputs": [
    {
     "data": {
      "text/plain": [
       "\"15 Temmuz şehitleri ikiz polislerin babasının acısı dinmiyor. 15 Temmuz'da şehit olan polisler için 15 Temmuz Şehitleri Anıtı'nda anma töreni düzenlendi. Törene, şehit polisler ve gaziler katıldı. Şehitler için 15 Temmuz Şehitleri Anıtı'nda anma töreni düzenlendi. Törene, şehit polislerin yanı sıra şehit yakınları ve gaziler katıldı. Şehit polislerin aileleri, şehit yakınları ve gaziler, şehit polislerin babasının acısı dinmiyor. Şehit polislerin babasının\""
      ]
     },
     "execution_count": 5,
     "metadata": {},
     "output_type": "execute_result"
    }
   ],
   "source": [
    "decoder.decode_greedy('15 Temmuz şehitleri ikiz polislerin babasının acısı dinmiyor', max_tokens=100)"
   ]
  },
  {
   "cell_type": "code",
   "execution_count": 20,
   "metadata": {},
   "outputs": [
    {
     "data": {
      "text/plain": [
       "\"Fransa devlet başkanı, 1990'lı yıllardaki en büyük ekonomik krizin ardından 1990'lı yıllardaki en büyük ekonomik krizin ardından 1990'lı yıllardaki en büyük ekonomik krizin ardından 1990'lı yıllardaki en büyük ekonomik krizin ardından 1990'lı yıllardaki en büyük ekonomik krizin ardından 1990'lı yıllardaki en büyük ekonomik krizin ardından 1990'lı yıllardaki\""
      ]
     },
     "execution_count": 20,
     "metadata": {},
     "output_type": "execute_result"
    }
   ],
   "source": [
    "decoder.decode_greedy('Fransa devlet başkanı', max_tokens=100)"
   ]
  },
  {
   "cell_type": "code",
   "execution_count": 7,
   "metadata": {},
   "outputs": [
    {
     "data": {
      "text/plain": [
       "'Borsa güne yükselişle başladı. ABD Merkez Bankası\\'nın (Fed) faiz kararı sonrası dünkü işlemlerde 1.2500 baz puanlık yükselişle 1.2500 baz puandan işlem görüyor. Bankanın faiz kararı sonrası ABD Merkez Bankası (Fed) Başkanı Jerome Powell, faiz kararı sonrası açıklamalarda bulundu. Powell, \"Fed\\'in faiz kararı sonrası bugün faiz kararı sonrası bugünkü işlemlerde 1.250 baz puanlık bir artış'"
      ]
     },
     "execution_count": 7,
     "metadata": {},
     "output_type": "execute_result"
    }
   ],
   "source": [
    "decoder.decode_greedy('Borsa güne yükselişle başladı', max_tokens=100)"
   ]
  },
  {
   "cell_type": "code",
   "execution_count": 8,
   "metadata": {},
   "outputs": [
    {
     "data": {
      "text/plain": [
       "\"Dünya kupasının kazananı belli oldu. 2016 yılında 100 milyon Euro'luk ödülün sahibi olan 2016 yılında 100 milyon Euro'luk ödülün sahibi olan 2016 yılında 100 milyon Euro'luk ödülün sahibi oldu. 2016 yılında 100 milyon Euro'luk ödülün sahibi olan 2016 yılında 100 milyon Euro'luk ödülün sahibi olan 2016 yılında 1\""
      ]
     },
     "execution_count": 8,
     "metadata": {},
     "output_type": "execute_result"
    }
   ],
   "source": [
    "decoder.decode_greedy('Dünya kupasının kazananı belli oldu', max_tokens=100)"
   ]
  },
  {
   "cell_type": "code",
   "execution_count": 9,
   "metadata": {},
   "outputs": [
    {
     "data": {
      "text/plain": [
       "\"Altın yatırıcımcısında yüzler gülüyor Altın yatırımı yapan firmalar, 2018'de 100 bin lira olan 2018'de 100 bin liraya 100 bin lira olan 2018'de 100 bin liraya 100 bin liraya, 2018'de 100 bin liraya 100 bin liraya, 2019'da 100 bin liraya, 2019\""
      ]
     },
     "execution_count": 9,
     "metadata": {},
     "output_type": "execute_result"
    }
   ],
   "source": [
    "decoder.decode_greedy('Altın yatırıcımcısında yüzler gülüyor', max_tokens=100)"
   ]
  },
  {
   "cell_type": "code",
   "execution_count": 10,
   "metadata": {},
   "outputs": [
    {
     "data": {
      "text/plain": [
       "\"Vizyona yeni giren filimler, 2018'in ilk yarısında 100 milyon TL'lik bir yatırımla 100 milyon TL'lik bir yatırımla 100 milyon TL'lik bir yatırımla 100 milyon TL'lik bir yatırımla 100 milyon TL'lik bir yatırımla 100 milyon TL'lik bir yatırımla 100 milyon TL'lik bir yatırımla 100 milyon TL'lik bir yatırımla \""
      ]
     },
     "execution_count": 10,
     "metadata": {},
     "output_type": "execute_result"
    }
   ],
   "source": [
    "decoder.decode_greedy('Vizyona yeni giren filimler', max_tokens=100)"
   ]
  },
  {
   "cell_type": "code",
   "execution_count": 11,
   "metadata": {},
   "outputs": [
    {
     "data": {
      "text/plain": [
       "\"İkinci dünya savaşında kaybedilenler anıldı. 1990'lı yılların başında, 1990'lı yıllarda, 1990'lı yıllarda, 1990'lı yılların başında, 1990'lı yıllarda, 1990'lı yıllarda, 1990'lı yılların başında, 1990'lı yılların başında, 1990'lı yılların başında, 1990'lı yıl\""
      ]
     },
     "execution_count": 11,
     "metadata": {},
     "output_type": "execute_result"
    }
   ],
   "source": [
    "decoder.decode_greedy('İkinci dünya savaşında kaybedilenler anıldı', max_tokens=100)"
   ]
  },
  {
   "cell_type": "code",
   "execution_count": 12,
   "metadata": {},
   "outputs": [
    {
     "data": {
      "text/plain": [
       "'Buğdayda bu sene rekolte düşüklüğü var. Buğdayda buğdayda bu sene rekolt düşüklüğü var. Buğdayda bu sene rekoltemiz yüksek. Bu sene rekolte düşüklüğü var. Bu sene rekolte düşüklüğü var. Bu sene rekolte düşüklüğü var. Bu sene rekoltemiz düşüklüğü var. Bu sene rekolte düşüklüğü var. Bu sene rekolte düşüklüğü var. Bu sene rekolte düşüklüğü var. Bu sene rekol'"
      ]
     },
     "execution_count": 12,
     "metadata": {},
     "output_type": "execute_result"
    }
   ],
   "source": [
    "decoder.decode_greedy('Buğdayda bu sene rekolte düşük', max_tokens=100)"
   ]
  },
  {
   "cell_type": "code",
   "execution_count": 13,
   "metadata": {},
   "outputs": [
    {
     "data": {
      "text/plain": [
       "\"Piyasalar TC Merkez Bankasının kararına kilitlendi. Merkez Bankası'nın (TCMB) 2020 yılı için enflasyon beklentisi yüzde 10.25'ten yüzde 10.25'e kadar geriledi. TCMB'nin 2020 yılı için yüzde 10.25 olan faiz oranını yüzde 10.25'ten yüzde 10.25'e yükseltmesi TCMB'nin 2020 yılı için yüzde 10.2\""
      ]
     },
     "execution_count": 13,
     "metadata": {},
     "output_type": "execute_result"
    }
   ],
   "source": [
    "decoder.decode_greedy('Piyasalar TC Merkez Bankasının kararına kilitlendi', max_tokens=100)"
   ]
  },
  {
   "cell_type": "code",
   "execution_count": 14,
   "metadata": {},
   "outputs": [
    {
     "data": {
      "text/plain": [
       "\"Başkan Erdoğan muhalefet liderine seslendi: “Sizden özür dilemeliyiz” 15 Temmuz darbe girişiminin ardından Cumhurbaşkanı Erdoğan'ın, “Sizden özür dilemeliyiz” sözleri üzerine, “Sizden özür dilemeliyiz” dedi. Cumhurbaşkanı Erdoğan, “Sizden özür dilemeliyiz” dedi. Erdoğan, “Sizden özür dilemeliyiz. Sizden özür dilemeliyiz. Sizden özür dilemeliyiz. Sizden özür dilemeliyiz.\""
      ]
     },
     "execution_count": 14,
     "metadata": {},
     "output_type": "execute_result"
    }
   ],
   "source": [
    "decoder.decode_greedy('Başkan Erdoğan muhalefet liderine seslendi', max_tokens=100)"
   ]
  },
  {
   "cell_type": "code",
   "execution_count": null,
   "metadata": {},
   "outputs": [],
   "source": []
  },
  {
   "cell_type": "code",
   "execution_count": null,
   "metadata": {},
   "outputs": [],
   "source": []
  },
  {
   "cell_type": "code",
   "execution_count": null,
   "metadata": {},
   "outputs": [],
   "source": []
  }
 ],
 "metadata": {
  "kernelspec": {
   "display_name": "myenv",
   "language": "python",
   "name": "python3"
  },
  "language_info": {
   "codemirror_mode": {
    "name": "ipython",
    "version": 3
   },
   "file_extension": ".py",
   "mimetype": "text/x-python",
   "name": "python",
   "nbconvert_exporter": "python",
   "pygments_lexer": "ipython3",
   "version": "3.11.9"
  }
 },
 "nbformat": 4,
 "nbformat_minor": 2
}
