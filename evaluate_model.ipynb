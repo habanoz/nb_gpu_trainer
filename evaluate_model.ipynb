{
 "cells": [
  {
   "cell_type": "code",
   "execution_count": 1,
   "metadata": {},
   "outputs": [],
   "source": [
    "from nbtr.model.hf_model import HfModel\n",
    "from nbtr.tokenizer.tokenizer import Tokenizer\n",
    "import torch\n",
    "from torch.nn import functional as F"
   ]
  },
  {
   "cell_type": "code",
   "execution_count": 2,
   "metadata": {},
   "outputs": [
    {
     "name": "stdout",
     "output_type": "stream",
     "text": [
      "number of parameters: 13.77M\n",
      "Restored model state from repository!\n"
     ]
    }
   ],
   "source": [
    "model = HfModel.from_pretrained(\"habanoz/haber-gpt-2-small-v1.0\",device=\"cpu\")"
   ]
  },
  {
   "cell_type": "code",
   "execution_count": 3,
   "metadata": {},
   "outputs": [],
   "source": [
    "def generate(prompt):\n",
    "    return model.generate(prompt, max_length = 50)"
   ]
  },
  {
   "cell_type": "code",
   "execution_count": 4,
   "metadata": {},
   "outputs": [],
   "source": [
    "tokenizer = Tokenizer.from_pretrained(\"habanoz/news-tr-1.8M-tokenizer-8k\")"
   ]
  },
  {
   "cell_type": "code",
   "execution_count": 17,
   "metadata": {},
   "outputs": [],
   "source": [
    "def generate(model, tokenizer, prompt, max_tokens=50):\n",
    "    \n",
    "    prompt = torch.tensor(tokenizer.encode(\"# Borsa güne yükselişle başladı\")['input_ids']).view(1, -1)\n",
    "    \n",
    "    for i in range(max_tokens):\n",
    "        logits = model.forward(prompt)['logits']\n",
    "        logits = logits[:, -1, :]\n",
    "        probs = F.softmax(logits, dim=1)\n",
    "        tok = torch.multinomial(probs, 1, replacement=True)\n",
    "        \n",
    "        if tok == tokenizer.eos_id:\n",
    "            break\n",
    "\n",
    "        prompt = torch.cat((prompt , tok), dim=-1)\n",
    "\n",
    "    text = tokenizer.decode(prompt.tolist()[0])\n",
    "    print(text)\n"
   ]
  },
  {
   "cell_type": "code",
   "execution_count": 19,
   "metadata": {},
   "outputs": [
    {
     "name": "stdout",
     "output_type": "stream",
     "text": [
      " ⁇  Borsa güne yükselişle başladı Uyku odasında bulunan 3 bir hafta aranan Muradis, hükümetin 1893'den fazla kötü saat sonra Almanya piyasalarında yaşanan jeopolitik gerilim karşısında yüzde 8-11'le önde kap\n"
     ]
    }
   ],
   "source": [
    "generate(model, tokenizer, \"Borsa güne yükselişle başladı\\n\")"
   ]
  },
  {
   "cell_type": "code",
   "execution_count": 9,
   "metadata": {},
   "outputs": [
    {
     "data": {
      "text/plain": [
       "<nbtr.tokenizer.tokenizer.Tokenizer at 0x7c59d0b69750>"
      ]
     },
     "execution_count": 9,
     "metadata": {},
     "output_type": "execute_result"
    }
   ],
   "source": [
    "tokenizer"
   ]
  },
  {
   "cell_type": "code",
   "execution_count": null,
   "metadata": {},
   "outputs": [],
   "source": []
  }
 ],
 "metadata": {
  "kernelspec": {
   "display_name": "myenv",
   "language": "python",
   "name": "python3"
  },
  "language_info": {
   "codemirror_mode": {
    "name": "ipython",
    "version": 3
   },
   "file_extension": ".py",
   "mimetype": "text/x-python",
   "name": "python",
   "nbconvert_exporter": "python",
   "pygments_lexer": "ipython3",
   "version": "3.11.9"
  }
 },
 "nbformat": 4,
 "nbformat_minor": 2
}
