{
 "cells": [
  {
   "cell_type": "code",
   "execution_count": 1,
   "metadata": {},
   "outputs": [],
   "source": [
    "from nbtr.model.hf_model import HfModel\n",
    "from nbtr.tokenizer.tokenizer import Tokenizer\n",
    "import torch\n",
    "from torch.nn import functional as F\n",
    "from nbtr.decode.decoder import Decoder"
   ]
  },
  {
   "cell_type": "code",
   "execution_count": 2,
   "metadata": {},
   "outputs": [
    {
     "data": {
      "application/vnd.jupyter.widget-view+json": {
       "model_id": "4a115d1685724892bb442f73d5ee18fd",
       "version_major": 2,
       "version_minor": 0
      },
      "text/plain": [
       "pytorch_model.bin:   0%|          | 0.00/432M [00:00<?, ?B/s]"
      ]
     },
     "metadata": {},
     "output_type": "display_data"
    },
    {
     "data": {
      "application/vnd.jupyter.widget-view+json": {
       "model_id": "16a618fd3b88427b8c43816072f0ae6d",
       "version_major": 2,
       "version_minor": 0
      },
      "text/plain": [
       "config.json:   0%|          | 0.00/147 [00:00<?, ?B/s]"
      ]
     },
     "metadata": {},
     "output_type": "display_data"
    },
    {
     "name": "stdout",
     "output_type": "stream",
     "text": [
      "number of parameters: 108.04M\n",
      "Restored model state from repository!\n"
     ]
    }
   ],
   "source": [
    "model = HfModel.from_pretrained(\"habanoz/haber-gpt-2.1-100M-8k-v1.08\",device=\"cpu\")"
   ]
  },
  {
   "cell_type": "code",
   "execution_count": 3,
   "metadata": {},
   "outputs": [],
   "source": [
    "tokenizer = Tokenizer.from_pretrained(\"habanoz/news-tr-1.8M-tokenizer-8k\")"
   ]
  },
  {
   "cell_type": "code",
   "execution_count": 4,
   "metadata": {},
   "outputs": [],
   "source": [
    "decoder = Decoder(tokenizer, model)"
   ]
  },
  {
   "cell_type": "code",
   "execution_count": 5,
   "metadata": {},
   "outputs": [
    {
     "name": "stdout",
     "output_type": "stream",
     "text": [
      "15 Temmuz şehitleri ikiz polislerin babasının acısı dinmiyor 15 Temmuz şehitleri ikiz polislerin babasının acısı dinmiyor 15 Temmuz şehitleri ikiz polislerin babasının acısı dinmiyor 15 Temmuz şehitleri ikiz polislerin babasının acısı dinmiyor 15 Temmuz şehitleri ikiz polislerin babasının acısı dinmiyor 15 Temmuz şehitleri ikiz polislerin babasının acısı dinmiyor 15 Temmuz şehitleri ikiz polislerin babasının acısı dinmiyor 15 Temmuz\n"
     ]
    }
   ],
   "source": [
    "print(decoder.decode_greedy('15 Temmuz şehitleri ikiz polislerin babasının acısı dinmiyor', max_tokens=100))"
   ]
  },
  {
   "cell_type": "code",
   "execution_count": 6,
   "metadata": {},
   "outputs": [
    {
     "name": "stdout",
     "output_type": "stream",
     "text": [
      "2015 yılında Fransa devlet başkanı seçilen François Hollande, 2016'da yapılacak cumhurbaşkanlığı seçiminde yeniden aday olacağını açıkladı. Hollande, 2016'da yapılacak cumhurbaşkanlığı seçiminde yeniden aday olacağını açıkladı. Hollande, 2016'da yapılacak cumhurbaşkanlığı seçiminde yeniden aday olacağını açıkladı. Hollande, 2016'da yapılacak cumhurbaşkanlığı seçiminde yeniden aday olacağını açıkladı. Hollande, 2016'da\n"
     ]
    }
   ],
   "source": [
    "print(decoder.decode_greedy('2015 yılında Fransa devlet başkanı', max_tokens=100))"
   ]
  },
  {
   "cell_type": "code",
   "execution_count": 7,
   "metadata": {},
   "outputs": [
    {
     "name": "stdout",
     "output_type": "stream",
     "text": [
      "2015 yılında Fransa devlet başkanı oldu, 2017'de yine Cumhurbaşkanı oldu. 1995'te Birleşmiş Millet örneklerini tekrar etti, 2017'de cumhurbaşkanı seçildi. 2018'de Fransa'da ilk defa bir resmi ziyaret gerçekleşti. Birde Angst olduğunu zannetti ki Türk uçağından Türkler inmiyor... Türkiye'nin Kurtuluş Savaşı başlarken, tam da Çanakkale ve Kahire zaferi, dalaşması için eşik\n"
     ]
    }
   ],
   "source": [
    "print(decoder.decode('2015 yılında Fransa devlet başkanı', max_tokens=100))"
   ]
  },
  {
   "cell_type": "code",
   "execution_count": 8,
   "metadata": {},
   "outputs": [
    {
     "name": "stdout",
     "output_type": "stream",
     "text": [
      "2020 yılında Fransa devlet başkanı seçilen Macron, 2021'de yeniden cumhurbaşkanı seçilmişti. Macron, 2022'de yapılacak seçimde yeniden cumhurbaşkanı seçilmişti. 2021'de Macron'un yeniden cumhurbaşkanı seçilmesinin ardından, 2022'de de Macron'un yeniden cumhurbaşkanı seçilmesi bekleniyor. 2022'de yapılacak seçimde Macron'un yeniden cumhurbaşkanı seçilmesi durumunda, 2022'de yapılacak seçimde Macron'un yeniden cumhurbaşkanı seç\n"
     ]
    }
   ],
   "source": [
    "print(decoder.decode_greedy('2020 yılında Fransa devlet başkanı', max_tokens=100))"
   ]
  },
  {
   "cell_type": "code",
   "execution_count": 9,
   "metadata": {},
   "outputs": [
    {
     "name": "stdout",
     "output_type": "stream",
     "text": [
      "2010 yılında Fransa devlet başkanı seçilen François Hollande, 2012 yılında yapılacak cumhurbaşkanlığı seçiminde yeniden aday olacağını açıkladı. Hollande, 2012 yılında yapılacak cumhurbaşkanlığı seçiminde yeniden aday olacağını açıkladı. Hollande, 2012 yılında yapılacak cumhurbaşkanlığı seçiminde yeniden aday olacağını açıkladı. Hollande, 2012 yılında yapılacak cumhurbaşkanlığı seçiminde yeniden aday olacağını açıkladı. Hollande, 2012 yılında yapılacak cumhurbaşkanlığı seçiminde\n"
     ]
    }
   ],
   "source": [
    "print(decoder.decode_greedy('2010 yılında Fransa devlet başkanı', max_tokens=100))"
   ]
  },
  {
   "cell_type": "code",
   "execution_count": null,
   "metadata": {},
   "outputs": [],
   "source": []
  },
  {
   "cell_type": "code",
   "execution_count": 9,
   "metadata": {},
   "outputs": [
    {
     "name": "stdout",
     "output_type": "stream",
     "text": [
      "Borsa güne yükselişle başladı Borsa İstanbul'da BIST 100 endeksi, güne yüzde 0,14 artışla 91.400,44 puandan başladı. Açılışta BIST 100 endeksi, 1.100 puanın üzerinde 91.400,44 puandan işlem gördü. Bankacılık endeksi yüzde 0,10 değer kaybederken, holding endeksi yüzde 0,10 değer kaybetti.\n"
     ]
    }
   ],
   "source": [
    "print(decoder.decode_greedy( 'Borsa güne yükselişle başladı', max_tokens=100))"
   ]
  },
  {
   "cell_type": "code",
   "execution_count": null,
   "metadata": {},
   "outputs": [],
   "source": []
  },
  {
   "cell_type": "code",
   "execution_count": 10,
   "metadata": {},
   "outputs": [
    {
     "name": "stdout",
     "output_type": "stream",
     "text": [
      "Dünya kupasının kazananı belli oldu. 2018 FIFA Dünya Kupası'nda finalde Brezilya ile İspanya karşı karşıya geldi. 1-1 sona eren ilk maçın rövanşında Brezilya, İspanya'yı 2-1 mağlup ederek adını finale yazdırdı. 2018 FIFA Dünya Kupası'nda finalin adı belli oldu. 2018 FIFA Dünya Kupası'nda finalin adı belli oldu. 1-1 sona eren ilk maçın rövanşında Brezilya\n"
     ]
    }
   ],
   "source": [
    "print(decoder.decode_greedy( 'Dünya kupasının kazananı belli oldu', max_tokens=100))"
   ]
  },
  {
   "cell_type": "code",
   "execution_count": 11,
   "metadata": {},
   "outputs": [
    {
     "name": "stdout",
     "output_type": "stream",
     "text": [
      "Dünya kupasının kazananı belli oldu. Son dört turnuvanın 2'sinde belirli galibiyetlerin ardından 5 ve 6 Mayıs'ta düzenlenecek Dünya Kupası'na ev sahipliği yapacak takımlar belli olurken, üçüncüye altın, beşinciye ise çakmalık 500 bin dolar değerinde kupa verilecek. Sadece üç gün önce Paris'te oynanan son Dünya Kupası'nda büyük finalde üçüncülüğü İngiltere aldı. Fransa: Leonardo Da Vinci, Hollanda: Julian\n"
     ]
    }
   ],
   "source": [
    "print(decoder.decode( 'Dünya kupasının kazananı belli oldu', max_tokens=100))"
   ]
  },
  {
   "cell_type": "code",
   "execution_count": null,
   "metadata": {},
   "outputs": [],
   "source": []
  },
  {
   "cell_type": "code",
   "execution_count": 12,
   "metadata": {},
   "outputs": [
    {
     "name": "stdout",
     "output_type": "stream",
     "text": [
      "Dünyanın en tehlikeli 100 insanı listesinde 100'den fazla kişi, dünyanın en tehlikeli 100 insanı listesinde yer aldı. Listede 100'den fazla kişi, dünyanın en tehlikeli 100 insanı listesinde yer aldı. Listede 100'den fazla kişi, dünyanın en tehlikeli 100 insanı listesinde yer aldı. Listede 100'den fazla kişi, dünyanın en tehlikeli 100 insanı list\n"
     ]
    }
   ],
   "source": [
    "print(decoder.decode_greedy( 'Dünyanın en tehlikeli', max_tokens=100))"
   ]
  },
  {
   "cell_type": "code",
   "execution_count": 13,
   "metadata": {},
   "outputs": [
    {
     "name": "stdout",
     "output_type": "stream",
     "text": [
      "Dünyanın en güvenli şehirleri listesinde 10. sırada yer alan İstanbul'da, 100 bin nüfuslu 1000'in üzerinde semt bulunuyor. İstanbul'da 100 bin nüfuslu 1000'in üzerinde semt bulunuyor. İstanbul'da 100 bin nüfuslu 1000'in üzerinde semt bulunuyor. İstanbul'da 100 bin nüfuslu 1000'in üzerinde semt bulunuyor.\n"
     ]
    }
   ],
   "source": [
    "print(decoder.decode_greedy( 'Dünyanın en güvenli', max_tokens=100))"
   ]
  },
  {
   "cell_type": "code",
   "execution_count": null,
   "metadata": {},
   "outputs": [],
   "source": []
  },
  {
   "cell_type": "code",
   "execution_count": 14,
   "metadata": {},
   "outputs": [
    {
     "name": "stdout",
     "output_type": "stream",
     "text": [
      "Dünyanın en sağlıklı insanı olarak kabul edilen ve 1990'lı yıllarda 100'den fazla ülkede 100'den fazla ödül alan 50 yaşındaki Jennifer Lopez, 2019'da 100'den fazla ödülle bu unvanı aldı. Lopez, 2019'da 100'den fazla ödülle bu unvanı aldı. Lopez, 2019'\n"
     ]
    }
   ],
   "source": [
    "print(decoder.decode_greedy( 'Dünyanın en sağlıklı', max_tokens=100))"
   ]
  },
  {
   "cell_type": "code",
   "execution_count": 15,
   "metadata": {},
   "outputs": [
    {
     "name": "stdout",
     "output_type": "stream",
     "text": [
      "Dünyanın en zengin insanı olan Jeff Bezos, 2020'de 100 milyar dolarlık servetini kaybetti. Bezos, 2020'de 100 milyar dolarlık servetini kaybetti. Bezos, 2020'de 100 milyar dolarlık servetini kaybetti. Bezos, 2020'de 100 milyar dolarlık servetini kaybetti. Bezos, 20\n"
     ]
    }
   ],
   "source": [
    "print(decoder.decode_greedy( 'Dünyanın en zengin', max_tokens=100))"
   ]
  },
  {
   "cell_type": "code",
   "execution_count": null,
   "metadata": {},
   "outputs": [],
   "source": []
  },
  {
   "cell_type": "code",
   "execution_count": 16,
   "metadata": {},
   "outputs": [
    {
     "name": "stdout",
     "output_type": "stream",
     "text": [
      "Vizyonda bu hafta: 11 Ekim 2021 10:49 11 Ekim'de vizyona girecek olan 'Vizyonda Bu Hafta' filminin yönetmenliğini ve senaristliğini üstlenen Can Ulkay, “Vizyonda bu hafta” diyerek filmin vizyona gireceğini duyurdu. 211 filmin gösterildiği 'Vizyonda Bu Haf' filminin yönetmenliğini ve senaristliğini üstlenen Can Ulkay, “Vizyonda bu hafta\n"
     ]
    }
   ],
   "source": [
    "print(decoder.decode_greedy( 'Vizyonda bu hafta:', max_tokens=100))"
   ]
  },
  {
   "cell_type": "code",
   "execution_count": 32,
   "metadata": {},
   "outputs": [
    {
     "name": "stdout",
     "output_type": "stream",
     "text": [
      "Yeşil çamın usta oyuncusu, 1970'li yıllarda Yeşilçam'da canlandırdığı 'Karaoğlan' karakteriyle hafızalara kazınan, 1970'li yıllarda ise 'Karaoğlan' filminde canlandırdığı 'Karaoğlan' karakteriyle hafızalara kazınan, 1970'li yıllarda Yeşilçam'da canlandırdığı 'Karaoğlan' karakteriyle hafızalara kazınan, 1970'li yıllarda\n"
     ]
    }
   ],
   "source": [
    "print(decoder.decode_greedy( 'Yeşil çamın usta oyuncusu', max_tokens=100))"
   ]
  },
  {
   "cell_type": "code",
   "execution_count": 16,
   "metadata": {},
   "outputs": [
    {
     "name": "stdout",
     "output_type": "stream",
     "text": [
      "Başbakan Erdoğan muhalefet liderine seslendi: \"Seçimler 2023'te yapılacak\" Başbakan Recep Tayyip Erdoğan, \"Seçimler 2023'te yapılacak. Bu seçimde de sandıktan çıkan sonucu kabul etmeyenler, sandıktan çıkan sonucu kabul etmeyenler, sandıktan çıkan sonucu kabul etmeyenler, sandıktan çıkan sonucu kabul etmeyenler, sandıktan çıkan sonucu kabul etmeyenler, sandıktan çıkan sonucu kabul etmeyenler, sandıktan çıkan sonucu kabul etmeyenler\n"
     ]
    }
   ],
   "source": [
    "print(decoder.decode_greedy( 'Başbakan Erdoğan muhalefet liderine seslendi', max_tokens=100))"
   ]
  },
  {
   "cell_type": "code",
   "execution_count": 17,
   "metadata": {},
   "outputs": [
    {
     "name": "stdout",
     "output_type": "stream",
     "text": [
      "Başkan Erdoğan muhalefet liderine seslendi: Bu ülkede demokrasi var, bu ülkede özgürlük var, bu ülkede adalet var, bu ülkede barış var, bu ülkede barış var, bu ülkede barış var, bu ülkede barış var, bu ülkede barış var, bu ülkede barış var, bu ülkede barış var, bu ülkede barış var, bu ülkede barış var, bu ülkede barış var, bu ülkede barış var, bu ülkede barış var, bu ülkede barış var, bu ülkede barış var, bu ülkede barış var, bu ülkede barış var, bu ülkede barış var\n"
     ]
    }
   ],
   "source": [
    "print(decoder.decode_greedy( 'Başkan Erdoğan muhalefet liderine seslendi', max_tokens=100))"
   ]
  },
  {
   "cell_type": "code",
   "execution_count": 18,
   "metadata": {},
   "outputs": [
    {
     "name": "stdout",
     "output_type": "stream",
     "text": [
      "Başkan Erdoğan muhalefet liderine seslendi: Virüse sana yakalanmış olsa idi yazmadım! Cumhurbaşkanı'mıze saldıran şahıs, mesajında 'Kabine değişikliği gidecek' dedi Erdoğan'ın Sağlık Bilimleri Üniversitesi Cerrahpaşa Tıp Fakültesi hastanesini bu yıl bilmeyip 'Sağlık bakanlığı kuracağız' deyip sözü gitmesine rağmen açıklamam üzerinden 5 gün geçmesi üzerine Erdoğan'ın 3. kez aradığı şüpheli hakkında, CHP Grup Başkanvekili Engin Altay açıklama yaptı CHP Grup Başkanvekili Engin Altay\n"
     ]
    }
   ],
   "source": [
    "print(decoder.decode( 'Başkan Erdoğan muhalefet liderine seslendi', max_tokens=100))"
   ]
  },
  {
   "cell_type": "code",
   "execution_count": 19,
   "metadata": {},
   "outputs": [
    {
     "name": "stdout",
     "output_type": "stream",
     "text": [
      "Başbakan Erdoğan muhalefet liderine seslendi: Bu buzağıyı zehirledim \"Böyle bir konuyu biliyorum. Gelin beraber bu konuyu konuşalım\" 26 Ocak 2017 17:23 Emma Sinclair - Wimbledon Final Serisi hayranlarına bebek alıyorum bülteni after suites to level aged'de yer alıyordu. Bükreş Roman Meydanı'nda bir dizi organizasyonda, geçen yıl da,\n"
     ]
    }
   ],
   "source": [
    "print(decoder.decode( 'Başbakan Erdoğan muhalefet liderine seslendi', max_tokens=100))"
   ]
  },
  {
   "cell_type": "code",
   "execution_count": 20,
   "metadata": {},
   "outputs": [
    {
     "name": "stdout",
     "output_type": "stream",
     "text": [
      "Yeşil çamın usta oyuncusu Levent Ülgen, sessiz sedasız Beşiktaş'ın deplasmanda Beşiktaş'ı 2-0 mağlup ettiği maçın son dakikalarıyla ilgili, \"Geçen seneki maça benzer bir sonuç oldu. Bugün oyuncularıma en büyük katkı veren dünya kulubunun söz dinlemesi oldu. Omzuna tokat atılan oyuncuları görünce burada üzgünken okey bölüşüyor gözlerim ve boğazımda ağrılar var zannettim\" dedi. Beşiktaş'ın Everton'ı\n"
     ]
    }
   ],
   "source": [
    "print(decoder.decode( 'Yeşil çamın usta oyuncusu', max_tokens=100))"
   ]
  },
  {
   "cell_type": "code",
   "execution_count": 21,
   "metadata": {},
   "outputs": [
    {
     "name": "stdout",
     "output_type": "stream",
     "text": [
      "Yeşil çamın usta oyuncusu Nasuh Kümbet, 26 Ağustos 1990'da doğumgünü olan Gümüşsuyu Mezarlığı'na defnedildi. Yeşil çamın usta oyuncusu Nasuh Kümbet, doğum gününü maden kazası sonucu eşi Köksal ailesi İstanbul'un Galata semtinde özel bireyler yurdunda geçti. Akşam defnedilmeden önce Kümbet'in bizzat öğretmeni tarafından kahlkah\n"
     ]
    }
   ],
   "source": [
    "print(decoder.decode( 'Yeşil çamın usta oyuncusu', max_tokens=100))"
   ]
  },
  {
   "cell_type": "code",
   "execution_count": null,
   "metadata": {},
   "outputs": [],
   "source": []
  },
  {
   "cell_type": "code",
   "execution_count": 22,
   "metadata": {},
   "outputs": [
    {
     "name": "stdout",
     "output_type": "stream",
     "text": [
      "Bursa'nın merkez ilçeleri şunlardır: Orhaneli, Büyükorhan, Harmancık, İnegöl, Keles, Mudanya, Karacabey, Orhaneli, İnegöl, İznik, Mudanya, Yenişehir, İnegöl, Keles, Orhangazi, İznik, Yenişehir, Osmangazi, Nilüfer, Yıldırım, Nilüfer, Gürsu, Yenişehir, Nilüfer, Osmangazi, Nilüfer, Nilüfer, Osmangazi, Nilü\n"
     ]
    }
   ],
   "source": [
    "print(decoder.decode_greedy( 'Bursa\\'nın merkez ilçeleri şunlardır: ', max_tokens=100))"
   ]
  },
  {
   "cell_type": "code",
   "execution_count": 23,
   "metadata": {},
   "outputs": [
    {
     "name": "stdout",
     "output_type": "stream",
     "text": [
      "Kars'ın merkez ilçeleri şunlardır: Arpaçay, Digor, Kağızman, Sarıkamış, Selim, Sarıkamış, Selim, Selim'in de aralarında bulunduğu 10 ilçe, 10 belde, 108 köy, 102 mezra, 108 köy ve 10 mezra olmak üzere toplam 113 yerleşim yeri, 108 köy ve 10 mezra olmak üzere toplam 113 yerleşim yeri, 1\n"
     ]
    }
   ],
   "source": [
    "print(decoder.decode_greedy( 'Kars\\'ın merkez ilçeleri şunlardır: ', max_tokens=100))"
   ]
  },
  {
   "cell_type": "code",
   "execution_count": 24,
   "metadata": {},
   "outputs": [
    {
     "name": "stdout",
     "output_type": "stream",
     "text": [
      "Muş'a bağlı ilçeler şunlardır: Muş'un Malazgirt, Bulanık, Malazgirt, Varto, Varto, Varto, Varto, Varto, Varto, Varto, Varto, Varto, Varto, Varto, Varto, Varto, Varto, Varto, Varto, Varto, Varto, Varto, Varto,\n"
     ]
    }
   ],
   "source": [
    "print(decoder.decode_greedy( 'Muş\\'a bağlı ilçeler şunlardır: ', max_tokens=100))"
   ]
  },
  {
   "cell_type": "code",
   "execution_count": 25,
   "metadata": {},
   "outputs": [
    {
     "name": "stdout",
     "output_type": "stream",
     "text": [
      "Antalya'ya bağlı ilçeler şunlardır: Kepez, Konyaaltı, Muratpaşa, Aksu, Serik, Manavgat, Serik, Serik, Gazipaşa, Serik, Serik, Kumluca, Serik, Serik, Serik, Serik, Serik, Serik, Serik, Serik, Serik, Serik, Serik, Serik, Serik, Serik, Serik, Serik, Serik, Serik, Serik, Serik,\n"
     ]
    }
   ],
   "source": [
    "print(decoder.decode_greedy( 'Antalya\\'ya bağlı ilçeler şunlardır: ', max_tokens=100))"
   ]
  },
  {
   "cell_type": "code",
   "execution_count": 26,
   "metadata": {},
   "outputs": [
    {
     "name": "stdout",
     "output_type": "stream",
     "text": [
      "Türkiye'nin başkenti Ankara'da, 1 Mayıs Emek ve Dayanışma Günü kutlamaları kapsamında, sendika ve siyasi parti temsilcilerinin katılımıyla miting düzenlendi. Ankara'da 1 Mayıs Emek ve Dayanışma Günü kutlamaları kapsamında, sendika ve siyasi parti temsilcilerinin katılımıyla miting düzenlendi. Mitingde konuşan sendika ve siyasi parti temsilcileri, 1 Mayıs'ın emek ve dayanışma günü olduğunu belirterek, \"Bu bayram emekçilerin bayramıdır\" dedi. Ankara'da 1 Mayıs Emek ve\n"
     ]
    }
   ],
   "source": [
    "print(decoder.decode_greedy('Türkiye\\'nin başkenti', max_tokens=100))"
   ]
  },
  {
   "cell_type": "code",
   "execution_count": 27,
   "metadata": {},
   "outputs": [
    {
     "name": "stdout",
     "output_type": "stream",
     "text": [
      "Yunanistan'ın başkenti Atina'da, 1996 yılında 13 Türk vatandaşının katledildiği katliamın yıldönümü nedeniyle anma töreni düzenlendi. Törene katılanlar, katliamda hayatını kaybedenleri anmak için bir araya geldi. 1996 yılında 13 Türk vatandaşının katledildiği katliamın yıldönümü nedeniyle Atina'da anma töreni düzenlendi. Törene katılanlar, katliamda hayatını kaybedenleri anmak için bir araya geldi. Törene katılan\n"
     ]
    }
   ],
   "source": [
    "print(decoder.decode_greedy('Yunanistan\\'ın başkenti', max_tokens=100))"
   ]
  },
  {
   "cell_type": "code",
   "execution_count": 28,
   "metadata": {},
   "outputs": [
    {
     "name": "stdout",
     "output_type": "stream",
     "text": [
      "AB'nin merkezi Brüksel'de toplanan AB liderleri, Türkiye'nin üyelik müzakerelerinin durdurulması konusunda uzlaştı. AB liderleri, Türkiye'nin üyelik müzakerelerinin durdurulması konusunda uzlaştı. AB liderleri, Türkiye'nin üyelik müzakerelerinin durdurulması konusunda uzlaştı. AB liderleri, Türkiye'nin üyelik müzakerelerinin durdurulması konusunda uzlaştı. AB liderleri, Türkiye'nin üyelik müzakerelerinin durdurulması konusunda uzlaştı. AB liderleri, Türkiye'\n"
     ]
    }
   ],
   "source": [
    "print(decoder.decode_greedy('AB\\'nin merkezi', max_tokens=100))"
   ]
  },
  {
   "cell_type": "code",
   "execution_count": 29,
   "metadata": {},
   "outputs": [
    {
     "name": "stdout",
     "output_type": "stream",
     "text": [
      "Kırım işgali ve Donbass'taki Rus ayrılıkçıların saldırıları nedeniyle 2014'te Rusya'dan bağımsızlığını ilan eden Kırım'da 2014'te yapılan referandumda halk Rusça'nın resmi dil olarak kabul edilmesini talep etmişti. Rusya'nın 2014'te Kırım'ı ilhak etmesinin ardından Kırım'da yaşayan Ruslar, 2015'te Rusya'ya katılmak için referandum düzenle\n"
     ]
    }
   ],
   "source": [
    "print(decoder.decode_greedy('Kırım işgali', max_tokens=100))"
   ]
  },
  {
   "cell_type": "code",
   "execution_count": null,
   "metadata": {},
   "outputs": [],
   "source": []
  },
  {
   "cell_type": "code",
   "execution_count": null,
   "metadata": {},
   "outputs": [],
   "source": []
  },
  {
   "cell_type": "code",
   "execution_count": null,
   "metadata": {},
   "outputs": [],
   "source": []
  }
 ],
 "metadata": {
  "kernelspec": {
   "display_name": "myenv",
   "language": "python",
   "name": "python3"
  },
  "language_info": {
   "codemirror_mode": {
    "name": "ipython",
    "version": 3
   },
   "file_extension": ".py",
   "mimetype": "text/x-python",
   "name": "python",
   "nbconvert_exporter": "python",
   "pygments_lexer": "ipython3",
   "version": "3.11.9"
  }
 },
 "nbformat": 4,
 "nbformat_minor": 2
}
