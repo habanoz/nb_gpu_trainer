{
 "cells": [
  {
   "cell_type": "code",
   "execution_count": 1,
   "metadata": {},
   "outputs": [],
   "source": [
    "from nbtr.model.hf_model import HfModel\n",
    "from nbtr.tokenizer.tokenizer import Tokenizer\n",
    "import torch\n",
    "from torch.nn import functional as F\n",
    "from nbtr.decode.decoder import Decoder"
   ]
  },
  {
   "cell_type": "code",
   "execution_count": 2,
   "metadata": {},
   "outputs": [
    {
     "data": {
      "application/vnd.jupyter.widget-view+json": {
       "model_id": "e8c0468ba57b4298a07b591591b337c6",
       "version_major": 2,
       "version_minor": 0
      },
      "text/plain": [
       "pytorch_model.bin:   0%|          | 0.00/432M [00:00<?, ?B/s]"
      ]
     },
     "metadata": {},
     "output_type": "display_data"
    },
    {
     "name": "stdout",
     "output_type": "stream",
     "text": [
      "number of parameters: 108.04M\n",
      "Restored model state from repository!\n"
     ]
    }
   ],
   "source": [
    "model = HfModel.from_pretrained(\"habanoz/haber-gpt-2.1-100M-8k-v1.08\",device=\"cpu\")"
   ]
  },
  {
   "cell_type": "code",
   "execution_count": 5,
   "metadata": {},
   "outputs": [],
   "source": [
    "tokenizer = Tokenizer.from_pretrained(\"habanoz/news-tr-1.8M-tokenizer-8k\")"
   ]
  },
  {
   "cell_type": "code",
   "execution_count": 6,
   "metadata": {},
   "outputs": [],
   "source": [
    "decoder = Decoder(tokenizer, model)"
   ]
  },
  {
   "cell_type": "code",
   "execution_count": 8,
   "metadata": {},
   "outputs": [
    {
     "name": "stdout",
     "output_type": "stream",
     "text": [
      "15 Temmuz şehitleri ikiz polislerin babasının acısı dinmiyor Şehit polis memuru Mustafa Ertürk'ün babası Mehmet Ertürk, 15 Temmuz darbe girişiminin 4. yıl dönümünde ikiz polislerin babaları ve yakınları ile birlikte şehitliği ziyaret etti. 15 Temmuz darbe girişiminin 4. yıl dönümünde şehit polis memuru Mustafa Ertürk'ün babası Mehmet Ertürk, 15 Temmuz şehitleri ikiz polislerin babaları ve yakınları ile birlikte şehitliği ziyaret etti. 15 Temmuz şehitleri için dua eden baba Mehmet Er\n"
     ]
    }
   ],
   "source": [
    "print(decoder.decode_greedy('15 Temmuz şehitleri ikiz polislerin babasının acısı dinmiyor', max_tokens=100))"
   ]
  },
  {
   "cell_type": "code",
   "execution_count": 9,
   "metadata": {},
   "outputs": [
    {
     "name": "stdout",
     "output_type": "stream",
     "text": [
      "15 Temmuz şehitleri ikiz polislerin babasının acısı dinmiyor ANTALYA'nın Manavgat ilçesinde geçen hafta şehit düşen polis memuru Ramazan Uysal'ın ve 15 Temmuz şehitlerinden eşinin acısı uluslararası camiada büyüdü. Manavgat'ta 20 Eylül 2016 tarihinde İlçe Emniyet Müdürlüğü bürosu önünde görev yaparken görevli polis memurlarının Fetih suresi okuyup dua etmesi ve eşinin getirdiği askeri çelengi vatan nöbetçisi olarak şehit ettiği Devran Yıldırım'ın (58) acısına ülke genelinde çoğalarak\n"
     ]
    }
   ],
   "source": [
    "print(decoder.decode('15 Temmuz şehitleri ikiz polislerin babasının acısı dinmiyor', max_tokens=100))"
   ]
  },
  {
   "cell_type": "code",
   "execution_count": 10,
   "metadata": {},
   "outputs": [
    {
     "name": "stdout",
     "output_type": "stream",
     "text": [
      "15 Temmuz şehitleri ikiz polislerin babasının acısı dinmiyor 15 Temmuz darbe girişiminin 2. yıldönümünde şehit olan polisler ikiz kardeşler Bünyamin ve Mehmet Ali Çelebi'nin babası Mehmet Çelebi, \"15 Temmuz'u unutmadık, unutmayacağız. 15 Temmuz'u unutmayacağız, unutturmayacağız\" dedi. 15 Temmuz gecesi Ankara'da, Özel Harekat Daire Başkanlığı'nda şehit düşen polisler ikiz kardeşler Bünyamin ve Mehmet\n"
     ]
    }
   ],
   "source": [
    "print(decoder.decode_temp('15 Temmuz şehitleri ikiz polislerin babasının acısı dinmiyor', max_tokens=100,temperature=0.4))"
   ]
  },
  {
   "cell_type": "code",
   "execution_count": null,
   "metadata": {},
   "outputs": [],
   "source": []
  },
  {
   "cell_type": "code",
   "execution_count": 11,
   "metadata": {},
   "outputs": [
    {
     "name": "stdout",
     "output_type": "stream",
     "text": [
      "2015 yılında Fransa devlet başkanı seçilen François Hollande, 2016 yılında Fransa'nın yeni cumhurbaşkanı seçilmişti. Hollande, 2017 yılında yapılan cumhurbaşkanlığı seçimlerini kazanarak, Fransa'nın yeni cumhurbaşkanı olmuştu. Hollande, 2017 yılında yapılan cumhurbaşkanlığı seçimlerini kazanarak, Fransa'nın yeni cumhurbaşkanı olmuştu. Hollande, 2018 yılında yapılan cumhurbaşkanlığı seçimlerini kazanarak, Fransa'nın yeni cumhurbaşkanı olmuştu. Hollan\n"
     ]
    }
   ],
   "source": [
    "print(decoder.decode_greedy('2015 yılında Fransa devlet başkanı', max_tokens=100))"
   ]
  },
  {
   "cell_type": "code",
   "execution_count": 12,
   "metadata": {},
   "outputs": [
    {
     "name": "stdout",
     "output_type": "stream",
     "text": [
      "2015 yılında Fransa devlet başkanı seçilen Emmanuel Macron'un kabinesine, 2020-2026 yılları arasında danışman olarak başkanlık yapmasının istenmesine ilişkin soru, havuz medyasının en önemli tartışma başlıklarından biri oldu. Tepkilerin yayılmasının ardından Paris Hilton Fransa takıda Fransa futbolunda 'Cezayir Prensi' lakaplı görevden ayrılan Paris Hilton'un, kararını bugün aldığı açıklandı. Paris Hilton'a medya alanında polisin karışabileceği şeklinde\n"
     ]
    }
   ],
   "source": [
    "print(decoder.decode('2015 yılında Fransa devlet başkanı', max_tokens=100))"
   ]
  },
  {
   "cell_type": "code",
   "execution_count": 13,
   "metadata": {},
   "outputs": [
    {
     "name": "stdout",
     "output_type": "stream",
     "text": [
      "2015 yılında Fransa devlet başkanı seçilen François Hollande'ın 2017 yılında göreve başlaması bekleniyor. Hollande'ın cumhurbaşkanlığına seçilebilmesi için 11 adayın yarıştığı seçimde, 3 adayın daha yarışması bekleniyor. 2017 yılında yapılacak cumhurbaşkanlığı seçiminde Hollande'ın rakibi olan Sosyalist Parti'nin adayı Hollande, 2017 yılında yapılacak cumhurbaşkanlığı seçiminde yeniden aday olacağını açıkladı. Hollan\n"
     ]
    }
   ],
   "source": [
    "print(decoder.decode_temp('2015 yılında Fransa devlet başkanı', max_tokens=100, temperature=0.5))"
   ]
  },
  {
   "cell_type": "code",
   "execution_count": null,
   "metadata": {},
   "outputs": [],
   "source": []
  },
  {
   "cell_type": "code",
   "execution_count": 14,
   "metadata": {},
   "outputs": [
    {
     "name": "stdout",
     "output_type": "stream",
     "text": [
      "2020 yılında Fransa devlet başkanı seçilen Emmanuel Macron, 2021 yılında da Fransa'nın yeni cumhurbaşkanı olacak. Macron, 2021 yılında Fransa'nın yeni cumhurbaşkanı olacak. Fransa'da cumhurbaşkanlığı seçiminin ikinci turu 28 Nisan'da yapılacak. 2021 yılında Fransa'nın yeni cumhurbaşkanı olacak olan Emmanuel Macron, 2021 yılında da Fransa'nın yeni cumhurbaşkanı olacak. Macron, 2021 yılında Fransa'nın yeni cumhurbaşkanı olacak.\n"
     ]
    }
   ],
   "source": [
    "print(decoder.decode_greedy('2020 yılında Fransa devlet başkanı', max_tokens=100))"
   ]
  },
  {
   "cell_type": "code",
   "execution_count": 16,
   "metadata": {},
   "outputs": [
    {
     "name": "stdout",
     "output_type": "stream",
     "text": [
      "2020 yılında Fransa devlet başkanı seçilen François Fillon'un önünde, Paris'in banliyöleri Nanterre'deki Türkyılmaz Tiyatrosu'nda Birgül Küçükbalçık (59) ile olan çekişmesi var. 'Hayır' hedefiyle özgürlük, eşitlik, adalet talepleriyle bir araya gelen gruplar, 2001'den bu yana dosya dosya, vadederek bir araya gelen ve benzer sorunların yoğunlaşması üzerine 68\n"
     ]
    }
   ],
   "source": [
    "print(decoder.decode('2020 yılında Fransa devlet başkanı', max_tokens=100))"
   ]
  },
  {
   "cell_type": "code",
   "execution_count": 17,
   "metadata": {},
   "outputs": [
    {
     "name": "stdout",
     "output_type": "stream",
     "text": [
      "2020 yılında Fransa devlet başkanı seçilen Emmanuel Macron'un \"seçim yenilgisi\" olarak nitelendirdiği cumhurbaşkanlığı seçiminin ikinci turu 2 Aralık'ta yapılacak. Fransız medyasında yer alan haberlere göre, Macron'un ikinci turda seçim yarışını kazanması halinde Fransa'nın yeni cumhurbaşkanı olacak isim, 2 Aralık'ta yapılacak ikinci turda belli olacak. Fransa'da cumhurbaşkanlığı seçiminin ikinci turu 2 Aralık'ta yapılacak. İlk turda hiçbir aday yüzde 50'den\n"
     ]
    }
   ],
   "source": [
    "print(decoder.decode_temp('2020 yılında Fransa devlet başkanı', max_tokens=100, temperature=0.5))"
   ]
  },
  {
   "cell_type": "code",
   "execution_count": null,
   "metadata": {},
   "outputs": [],
   "source": []
  },
  {
   "cell_type": "code",
   "execution_count": 9,
   "metadata": {},
   "outputs": [
    {
     "name": "stdout",
     "output_type": "stream",
     "text": [
      "Borsa güne yükselişle başladı Borsa İstanbul'da BIST 100 endeksi, güne yüzde 0,14 artışla 91.400,44 puandan başladı. Açılışta BIST 100 endeksi, 1.100 puanın üzerinde 91.400,44 puandan işlem gördü. Bankacılık endeksi yüzde 0,10 değer kaybederken, holding endeksi yüzde 0,10 değer kaybetti.\n"
     ]
    }
   ],
   "source": [
    "print(decoder.decode_greedy( 'Borsa güne yükselişle başladı', max_tokens=100))"
   ]
  },
  {
   "cell_type": "code",
   "execution_count": null,
   "metadata": {},
   "outputs": [],
   "source": []
  },
  {
   "cell_type": "code",
   "execution_count": 21,
   "metadata": {},
   "outputs": [
    {
     "name": "stdout",
     "output_type": "stream",
     "text": [
      "Borsa güne yükselişle başladı. Sadece otomotivde yükseliş görülmedi. Bankacılık endeksi yüzde 0,17, holding endeksi yüzde 0,06 değer kazandı. 15 Temmuz Şehitler Köprüsü'nde 15 Temmuz Şehitler Köprüsü'nde 15 Temmuz Şehitler Köprüsü'nde 15 Temmuz Şehitler Köprüsü'nde 15 Temmuz Şehitler Köprüsü'nde 15 Temmuz Şehitler Köprüsü'nde 15 Temmuz Şehitler Köprüsü'nde 15 Temmuz Şehitler Köprüsü'\n"
     ]
    }
   ],
   "source": [
    "print(decoder.decode_greedy( 'Borsa güne yükselişle başladı. Sadece otomotivde yükseliş görülmedi. Bankacılık', max_tokens=100))"
   ]
  },
  {
   "cell_type": "code",
   "execution_count": 22,
   "metadata": {},
   "outputs": [
    {
     "name": "stdout",
     "output_type": "stream",
     "text": [
      "Borsa güne yükselişle başladı. Sadece otomotivde yükseliş görülmedi. Bankacılık endeksi de yüzde 1,26 yükseldi. Borsa İstanbul'da BIST 100 endeksi, günü önceki kapanışa göre 67,19 puan artarken, toplam işlem hacmi 2,2 milyar lira düzeyinde gerçekleşti. Bankacılık endeksi yüzde 1,26 değer kazanırken, holding endeksi yüzde 1,19 değer kaybetti. Sektör endeksleri arasında en fazla kazandıran yüzde 3,40 ile turizm,\n"
     ]
    }
   ],
   "source": [
    "print(decoder.decode_temp( 'Borsa güne yükselişle başladı. Sadece otomotivde yükseliş görülmedi. Bankacılık', max_tokens=100, temperature=0.5))"
   ]
  },
  {
   "cell_type": "code",
   "execution_count": 65,
   "metadata": {},
   "outputs": [
    {
     "name": "stdout",
     "output_type": "stream",
     "text": [
      "Borsa güne yükselişle başladı Sporda düşüş sürdü. Spor hisselerinde düne kıyasla yüzde 1,95'lik yükseliş kaydedildi. Borsa günü 1.500 puanın üzerinde tamamladı. Spor hisselerinde düne kıyasla yüzde 1,95'lik artış kaydedildi. Borsa İstanbul'da işlem gören spor şirketlerinin hisseleri, 2022'nin 1.500 puanı aşarak, 2021'den bu yana en yüksek seviyeye ulaştı. Borsa İstanbul'\n"
     ]
    }
   ],
   "source": [
    "print(decoder.decode_temp('Borsa güne yükselişle başladı\\nSporda düşüş sürdü.',max_tokens=100, temperature=0.5))"
   ]
  },
  {
   "cell_type": "code",
   "execution_count": null,
   "metadata": {},
   "outputs": [],
   "source": []
  },
  {
   "cell_type": "code",
   "execution_count": 25,
   "metadata": {},
   "outputs": [
    {
     "name": "stdout",
     "output_type": "stream",
     "text": [
      "Dünya kupasının kazananı belli oldu. 2018 Dünya Kupası'nda finalin adı belli oldu. Rusya'nın ev sahipliği yaptığı turnuvada şampiyon İspanya oldu. İspanya'nın rakibi ise Hollanda oldu. 2018 FIFA Dünya Kupası'nda finalistler belli oldu. Rusya'nın ev sahipliği yaptığı turnuvada şampiyon İspanya oldu. 2018 FIFA Dünya Kupası'nda finalistler belli oldu. Rusya'nın ev sahipliği yaptığı turnuvada şampiyon İspanya oldu. İspanya'nın rakibi ise Hollanda\n"
     ]
    }
   ],
   "source": [
    "print(decoder.decode_greedy( 'Dünya kupasının kazananı belli oldu', max_tokens=100))"
   ]
  },
  {
   "cell_type": "code",
   "execution_count": 26,
   "metadata": {},
   "outputs": [
    {
     "name": "stdout",
     "output_type": "stream",
     "text": [
      "Dünya kupasının kazananı belli oldu. Finalde Brezilya ile karşılaşan Arjantin, rakibini 2-1 yenerek şampiyon oldu. Brezilya, 2014 Dünya Kupası'nda Fransa'yı 2-1 yenerek ikinci kez kupayı müzesine götürdü. Brezilya, 1950 yılından bu yana düzenlenen turnuvada 1954 yılından bu yana ilk kez kupaya uzandı. Brezilya'nın ev sahipliği yaptığı 2014 Dünya Kupası'nın finalinde Ar\n"
     ]
    }
   ],
   "source": [
    "print(decoder.decode_temp( 'Dünya kupasının kazananı belli oldu', max_tokens=100, temperature=0.5))"
   ]
  },
  {
   "cell_type": "code",
   "execution_count": null,
   "metadata": {},
   "outputs": [],
   "source": []
  },
  {
   "cell_type": "code",
   "execution_count": 27,
   "metadata": {},
   "outputs": [
    {
     "name": "stdout",
     "output_type": "stream",
     "text": [
      "Dünyanın en tehlikeli yollarından biri olarak kabul edilen ve 1990'lı yıllarda Türkiye'nin de gündemine oturan İstanbul-İzmir otoyolu, 2014'te yapılan ihaleyle özel sektöre devredildi. 2014'te özel sektör tarafından yapılan ihaleyi, 1 milyar 150 milyon lira bedelle, Türkiye'nin en büyük otoyol inşaatı olan Gebze-Orhangazi-İzmir Otoyolu İnşaat ve\n"
     ]
    }
   ],
   "source": [
    "print(decoder.decode_greedy( 'Dünyanın en tehlikeli', max_tokens=100))"
   ]
  },
  {
   "cell_type": "code",
   "execution_count": 30,
   "metadata": {},
   "outputs": [
    {
     "name": "stdout",
     "output_type": "stream",
     "text": [
      "Dünyanın en tehlikeli yolları arasında gösterilen Habis Nehri'nin 12 kilometre ilerisindeki Dicle Nehri, doğudan batıya kadar uzanan 72 kilometrelik tünellerle geçiliyor. İçten ve batıdan geçen tünellerle geçilen yollar, 2000'li yıllarda 50 bin nüfusun yoğun olduğu Diyarbakır'da büyük sıkıntıya yol açıyor. Diyarbakır'ın Seyrantepe semtinde bulunan ve\n"
     ]
    }
   ],
   "source": [
    "print(decoder.decode_temp( 'Dünyanın en tehlikeli', max_tokens=100, temperature=0.5))"
   ]
  },
  {
   "cell_type": "code",
   "execution_count": 31,
   "metadata": {},
   "outputs": [
    {
     "name": "stdout",
     "output_type": "stream",
     "text": [
      "Dünyanın en güvenli şehirleri listesinde ilk 10'da yer alan İstanbul'un en güvenli ilçesi ise 10 milyon 800 bin nüfuslu Yalova. 10 milyon 800 bin nüfuslu Yalova'da 10 milyon 800 bin nüfuslu bir ilçe olması nedeniyle de nüfusun yüzde 10'u bile olsa, İstanbul'un en güvenli ilçesi olması nedeniyle de en güvenli ilçeler arasında yer alıyor. 10 milyon 800\n"
     ]
    }
   ],
   "source": [
    "print(decoder.decode_greedy( 'Dünyanın en güvenli', max_tokens=100))"
   ]
  },
  {
   "cell_type": "code",
   "execution_count": 32,
   "metadata": {},
   "outputs": [
    {
     "name": "stdout",
     "output_type": "stream",
     "text": [
      "Dünyanın en güvenli şehirleri arasında yer alan İstanbul'daki 5 yıldızlı otellerin yüzde 99'u Afrika'dan ve İsrail'den gelen müşterilerin olduğunu söyledi. 22 Mayıs 2010 03:00 T24- Dünyanın en güvenli şehirleri arasında yer alan İstanbul'daki 5 yıldızlı otellerin yüzde 99'u Afrika'dan ve İsrail'den gelen müşterilerin olduğunu söyledi. İstanbul'da 200 milyon dolarlık turizm yatırımının\n"
     ]
    }
   ],
   "source": [
    "print(decoder.decode_temp( 'Dünyanın en güvenli', max_tokens=100, temperature=0.5))"
   ]
  },
  {
   "cell_type": "code",
   "execution_count": null,
   "metadata": {},
   "outputs": [],
   "source": []
  },
  {
   "cell_type": "code",
   "execution_count": 14,
   "metadata": {},
   "outputs": [
    {
     "name": "stdout",
     "output_type": "stream",
     "text": [
      "Dünyanın en sağlıklı insanı olarak kabul edilen ve 1990'lı yıllarda 100'den fazla ülkede 100'den fazla ödül alan 50 yaşındaki Jennifer Lopez, 2019'da 100'den fazla ödülle bu unvanı aldı. Lopez, 2019'da 100'den fazla ödülle bu unvanı aldı. Lopez, 2019'\n"
     ]
    }
   ],
   "source": [
    "print(decoder.decode_greedy( 'Dünyanın en sağlıklı', max_tokens=100))"
   ]
  },
  {
   "cell_type": "code",
   "execution_count": 33,
   "metadata": {},
   "outputs": [
    {
     "name": "stdout",
     "output_type": "stream",
     "text": [
      "Dünyanın en zengin 100 kişisi listesinde ilk 10'da yer alan isimler arasında yer alan 100 yaşındaki iş adamı, 1980'li yıllarda ABD'nin en zengin 100 kişisi arasında yer alıyordu. 1980'li yıllarda ABD'nin en zengin 100 kişisi arasında yer alan 100 yaşındaki iş adamı, 1980'li yıllarda ABD'nin en zengin 100 kiş\n"
     ]
    }
   ],
   "source": [
    "print(decoder.decode_greedy( 'Dünyanın en zengin', max_tokens=100))"
   ]
  },
  {
   "cell_type": "code",
   "execution_count": 34,
   "metadata": {},
   "outputs": [
    {
     "name": "stdout",
     "output_type": "stream",
     "text": [
      "Dünyanın en zenginleri listesinde 3. sırada yer alan Elon Musk, 2021'de 1.2 milyar dolar değerinde kişisel serveti sattı. Musk'ın bu satışı, Musk'ın 1994 yılından bu yana en düşük seviyeye gerilemesine neden oldu. Musk, 2021'de 1.2 milyar dolar değerinde kişisel serveti sattı. Musk, 1994'ten bu yana\n"
     ]
    }
   ],
   "source": [
    "print(decoder.decode_temp( 'Dünyanın en zengin', max_tokens=100, temperature=0.5))"
   ]
  },
  {
   "cell_type": "code",
   "execution_count": 36,
   "metadata": {},
   "outputs": [
    {
     "name": "stdout",
     "output_type": "stream",
     "text": [
      "Dünyanın en zengin ülkeleri sıralamasında ABD'nin ardından ikinci sırada gelen Birleşik Krallık'ta halka arzlar başta olmak üzere yatırımcılar için vergi kolaylıkları ülkenin \"Londra'daki hükümet yardımı\" olarak geçebilir. Fakat vergi kurallarını ezici bir çoğunlukla ihlal ettiği gerekçesiyle eleştiri oklarının hedefi olması, ülkenin \"cebrazyona\" uğraması potansiyeline sahip görünüyor. Bank of England'ın iş modeline ilişkin raporu ön planda tutuldu ve 1973\n"
     ]
    }
   ],
   "source": [
    "print(decoder.decode( 'Dünyanın en zengin', max_tokens=100))"
   ]
  },
  {
   "cell_type": "code",
   "execution_count": 35,
   "metadata": {},
   "outputs": [
    {
     "name": "stdout",
     "output_type": "stream",
     "text": [
      "Vizyonda bu hafta: 19-20-24 Şubat 2024 tarihleri arasında vizyona girecek olan filmler Bir Zamanlar Hollywood'da (Once Upon a Time in Hollywood) 19-20-24 Şubat 2024 tarihleri arasında vizyona girecek. Filmin başrol oyuncusu Leonardo DiCaprio, filmin yapımcısı Jonathan Goldstein ile birlikte kamera\n"
     ]
    }
   ],
   "source": [
    "print(decoder.decode_greedy( 'Vizyonda bu hafta:', max_tokens=100))"
   ]
  },
  {
   "cell_type": "code",
   "execution_count": 37,
   "metadata": {},
   "outputs": [
    {
     "name": "stdout",
     "output_type": "stream",
     "text": [
      "Yeşil çamın usta oyuncusu, 1970'li yıllardaki ilk rolünü 1980'li yıllardaki ilk rolüne çevirdi. 1990'lı yıllardaki ilk rolünü 1995'te aldı. 1996'da ise 1997'de ilk rolünü aldı. 1998'de ise 1999'da ilk rolünü aldı. 1999'da ise 19\n"
     ]
    }
   ],
   "source": [
    "print(decoder.decode_greedy( 'Yeşil çamın usta oyuncusu', max_tokens=100))"
   ]
  },
  {
   "cell_type": "code",
   "execution_count": 38,
   "metadata": {},
   "outputs": [
    {
     "name": "stdout",
     "output_type": "stream",
     "text": [
      "Başbakan Erdoğan muhalefet liderine seslendi: Bu kadar da olmaz, bu kadar da olmaz. Bu kadar da olmaz. Bu kadar da olmaz. Bu kadar da olmaz. Bu kadar da olmaz. Bu kadar da olmaz. Bu kadar da olmaz. Bu kadar da olmaz. Bu kadar da olmaz. Bu kadar da olmaz. Bu kadar da olmaz. Bu kadar da olmaz. Bu kadar da olmaz. Bu kadar da olmaz. Bu kadar da olmaz. Bu kadar da olmaz. Bu kadar da olmaz. Bu kadar da olmaz. Bu kadar da olmaz\n"
     ]
    }
   ],
   "source": [
    "print(decoder.decode_greedy( 'Başbakan Erdoğan muhalefet liderine seslendi', max_tokens=100))"
   ]
  },
  {
   "cell_type": "code",
   "execution_count": 39,
   "metadata": {},
   "outputs": [
    {
     "name": "stdout",
     "output_type": "stream",
     "text": [
      "Başbakan Erdoğan muhalefet liderine seslendi: Bu milleti terk ederseniz, bu millet size asla oy vermez\n"
     ]
    }
   ],
   "source": [
    "print(decoder.decode_temp( 'Başbakan Erdoğan muhalefet liderine seslendi', max_tokens=100, temperature=0.5))"
   ]
  },
  {
   "cell_type": "code",
   "execution_count": 40,
   "metadata": {},
   "outputs": [
    {
     "name": "stdout",
     "output_type": "stream",
     "text": [
      "Başkan Erdoğan muhalefet liderine seslendi: Bu millete efendi olmaya değil, hizmetkar olmaya geldim Cumhurbaşkanı Erdoğan, CHP Genel Başkanı Kemal Kılıçdaroğlu'nun \"Millet İttifakı'nın cumhurbaşkanı adayı kim olacak?\" sorusuna \"Bu millete efendi olmaya değil, hizmetkar olmaya geldim\" yanıtını verdi. Cumhurbaşkanı ve AK Parti Genel Başkanı Recep Tayyip Erdoğan, partisinin TBMM Grup Toplantısı'nda konuştu. Kılıçdaroğlu'nun \"Millet İttifakı'nın cumhurbaşkanı adayı kim olacak?\" sorusuna yanıt veren Erdoğan, \"Bu millete ef\n"
     ]
    }
   ],
   "source": [
    "print(decoder.decode_greedy( 'Başkan Erdoğan muhalefet liderine seslendi', max_tokens=100))"
   ]
  },
  {
   "cell_type": "code",
   "execution_count": 41,
   "metadata": {},
   "outputs": [
    {
     "name": "stdout",
     "output_type": "stream",
     "text": [
      "Başkan Erdoğan muhalefet liderine seslendi: \"Siz kimsiniz de bizi tehdit ediyorsunuz?\" Cumhurbaşkanı ve AKP Genel Başkanı Recep Tayyip Erdoğan, partisinin TBMM'deki grup toplantısında yaptığı konuşmada, \"Siyasi hayatımızda defalarca şahit olduğumuz bu ihanet şebekesi, ülkemizi hedef alan bir kalkışmanın failidir. Bu ihanet çetesinin mensubu olanların, bu kanlı kalkışmayı gerçekleştirenleri ve onların arkasındaki güçleri destekleyenleri saklayacak, gizleyecek, hakikatleri çarpıtacak\n"
     ]
    }
   ],
   "source": [
    "print(decoder.decode_temp( 'Başkan Erdoğan muhalefet liderine seslendi', max_tokens=100, temperature=0.5))"
   ]
  },
  {
   "cell_type": "code",
   "execution_count": 66,
   "metadata": {},
   "outputs": [
    {
     "name": "stdout",
     "output_type": "stream",
     "text": [
      "Başkan Erdoğan muhalefet liderine seslendi: Kılıçdaroğlu'na karşı ilk kez bir adam var Cumhurbaşkanı Recep Tayyip Erdoğan, Milli Türk Talebe Birliği Mütevelli Heyeti üyelerinden Hasan Hüseyin Ertok'u Cumhurbaşkanlığı Sarayı'nda kabul etti. Ertok, şu ana kadar kendisine yönelik eleştirilere yanıt verirken, muhalefet liderine \"Polemik yapmak için maruz bulunup da ciddiyetle minnetle anılmaya alışılmış bir er meydanı. Kılıçdaroğlu'na karşı ilk kez bir adam var\"\n"
     ]
    }
   ],
   "source": [
    "print(decoder.decode( 'Başkan Erdoğan muhalefet liderine seslendi', max_tokens=100))"
   ]
  },
  {
   "cell_type": "code",
   "execution_count": 67,
   "metadata": {},
   "outputs": [
    {
     "name": "stdout",
     "output_type": "stream",
     "text": [
      "Başbakan Erdoğan muhalefet liderine seslendi: Dünkü resim zulüm filmi idi Eski CHP Genel Başkanı Kemal Kılıçdaroğlu'nun muhalif kanadı Devrimci İşçi Partisi'nin CHP milletvekili adayları, büyükşehir adayı Muammer Keskin, görevi usta isim meclise girdi. Kemal Kılıçdaroğlu adaylıktan ötürü Erdoğan'ı tebrik ederken, dönemin AKP Grup Başkanvekili Bülent Turan ise Kemal Kılıçdaroğlu'nun adaylığının sözkonusu olmadığını söyledi. CHP'den istifa eden Şanlıurfa eski Belediye Başkanı Mehmet Kasım Gülpınar ise adaylıktan\n"
     ]
    }
   ],
   "source": [
    "print(decoder.decode( 'Başbakan Erdoğan muhalefet liderine seslendi', max_tokens=100))"
   ]
  },
  {
   "cell_type": "code",
   "execution_count": 42,
   "metadata": {},
   "outputs": [
    {
     "name": "stdout",
     "output_type": "stream",
     "text": [
      "Yeşil çamın usta oyuncusu Sabri Ustabaş, Marmaris Belediyesi 'nin şehirde önemli bir kaybolmaya sebep olacak olan motorlu taşıtların denetiminden vazgeçilmesine yönelik organizasyonunda bedensel engelli kanun kaçağı Sefer Boz'a sürpriz hediye. Usta oyuncu Sefer Boz Marmaris Belediye Tiyatrosunun davetlisi olarak sahne alacak. İş yerinde işbaşında proje hayata geçiren Yeşilçam'ın usta oyuncusu Usta sanatçı Sefer Boz 30 kişilik çalışanına Akşam Gazetesi tarafından yapılan davet\n"
     ]
    }
   ],
   "source": [
    "print(decoder.decode( 'Yeşil çamın usta oyuncusu', max_tokens=100))"
   ]
  },
  {
   "cell_type": "code",
   "execution_count": 44,
   "metadata": {},
   "outputs": [
    {
     "name": "stdout",
     "output_type": "stream",
     "text": [
      "Yeşil çamın usta oyuncusu, Yeşilçam'ın unutulmaz oyuncusu Sadri Alışık, vefatının 4. yılında anılıyor. Sadri Alışık, 1937 yılında İstanbul'da dünyaya geldi. Babası yazar, annesi oyuncu olan Sadri Alışık, ilkokulu Hacıhüsrev'de, ortaokulu İstanbul'da, liseyi ise Ankara'da okudu. Ankara Devlet Konservatuvarı'ndan mezun oldu. Devlet Tiyatroları'nda görev yaptı.\n"
     ]
    }
   ],
   "source": [
    "print(decoder.decode_temp( 'Yeşil çamın usta oyuncusu', max_tokens=100, temperature=0.5))"
   ]
  },
  {
   "cell_type": "code",
   "execution_count": null,
   "metadata": {},
   "outputs": [],
   "source": []
  },
  {
   "cell_type": "code",
   "execution_count": 45,
   "metadata": {},
   "outputs": [
    {
     "name": "stdout",
     "output_type": "stream",
     "text": [
      "Bursa'nın merkez ilçeleri şunlardır: Gemlik, Mudanya, Gürsu, Kestel, Gürsu, İnegöl, İznik, Keles, Harmancık, Keles, Orhangazi, İznik, Kestel, Osmangazi, Nilüfer, Yenişehir, Orhangazi, Nilüfer, Osmangazi, Yenişehir, Nilüfer, Osmangazi, Nilüfer, Nilüfer, Keles, Kestel, Keles, Keles\n"
     ]
    }
   ],
   "source": [
    "print(decoder.decode_greedy( 'Bursa\\'nın merkez ilçeleri şunlardır: ', max_tokens=100))"
   ]
  },
  {
   "cell_type": "code",
   "execution_count": 46,
   "metadata": {},
   "outputs": [
    {
     "name": "stdout",
     "output_type": "stream",
     "text": [
      "Kars'ın merkez ilçeleri şunlardır: Arpaçay, Digor, Kağızman, Sarıkamış, Selim, Akyaka, Sarıkamış, Selim, Aras, Digor, Kağızman, Sarıkamış, Kars, Digor, Selim, Aras, Selim, Aras, Selim, Aras, Aras, Aras, Aras, Aras, Aras, Aras, Aras, Aras, Aras, Aras, Aras\n"
     ]
    }
   ],
   "source": [
    "print(decoder.decode_greedy( 'Kars\\'ın merkez ilçeleri şunlardır: ', max_tokens=100))"
   ]
  },
  {
   "cell_type": "code",
   "execution_count": 47,
   "metadata": {},
   "outputs": [
    {
     "name": "stdout",
     "output_type": "stream",
     "text": [
      "Muş'a bağlı ilçeler şunlardır: Malazgirt, Ahlat, Bitlis, Muş, Bingöl, Elazığ, Tunceli, Erzurum, Kars, Ardahan, Iğdır, Bayburt, Erzincan, Tunceli, Kars, Muş, Bayburt, Bingöl, Muş, Bitlis, Diyarbakır, Hakkari, Mardin, Muş, Siirt, Şanlıurfa, Şırnak, Van, Ağrı, Iğdır, Van, Kars,\n"
     ]
    }
   ],
   "source": [
    "print(decoder.decode_greedy( 'Muş\\'a bağlı ilçeler şunlardır: ', max_tokens=100))"
   ]
  },
  {
   "cell_type": "code",
   "execution_count": 48,
   "metadata": {},
   "outputs": [
    {
     "name": "stdout",
     "output_type": "stream",
     "text": [
      "Antalya'ya bağlı ilçeler şunlardır: Kepez, Manavgat, Alanya, Gazipaşa, Serik, Aksu, Aksu, Korkuteli, Elmalı, Kepez, Muratpaşa, Kepez, Muratpaşa, Kepez, Muratpaşa, Kepez, Muratpaşa, Kepez, Muratpaşa, Kepez, Muratpaşa, Kepez, Muratpaşa, Kepez, Muratpaşa, Kepez, Muratpaşa, Kepez, Kep\n"
     ]
    }
   ],
   "source": [
    "print(decoder.decode_greedy( 'Antalya\\'ya bağlı ilçeler şunlardır: ', max_tokens=100))"
   ]
  },
  {
   "cell_type": "code",
   "execution_count": 49,
   "metadata": {},
   "outputs": [
    {
     "name": "stdout",
     "output_type": "stream",
     "text": [
      "Türkiye'nin başkenti Ankara'da, 15 Temmuz Demokrasi ve Milli Birlik Günü dolayısıyla anma programı düzenlendi. Ankara Valiliği'nce düzenlenen program, saat 09.00'da, Cumhurbaşkanlığı Külliyesi'nde gerçekleştirildi. Programda, Cumhurbaşkanı Recep Tayyip Erdoğan'ın mesajı okundu. Cumhurbaşkanı Erdoğan, mesajında, \"15 Temmuz gecesi milletimizin hürriyetinden, istiklalinden ve istikbalinden asla taviz vermeyeceğinin en büyük ispatı, millet\n"
     ]
    }
   ],
   "source": [
    "print(decoder.decode_greedy('Türkiye\\'nin başkenti', max_tokens=100))"
   ]
  },
  {
   "cell_type": "code",
   "execution_count": 50,
   "metadata": {},
   "outputs": [
    {
     "name": "stdout",
     "output_type": "stream",
     "text": [
      "Yunanistan'ın başkenti Atina'da, 1974'te Kıbrıs Barış Harekatı'nın yıl dönümü dolayısıyla düzenlenen törende, 1974 Kıbrıs Barış Harekatı'nda şehit olan 11 Kıbrıs gazisi için saygı duruşunda bulunuldu. Kıbrıs Barış Harekatı'nın 47. yıl dönümü dolayısıyla Atina'da tören düzenlendi. Törene, Yunanistan Başbakanı Kiryakos Miçotakis, Dışişleri Bakanı Nikos Dendias, Yunanistan Savunma Bakanı N\n"
     ]
    }
   ],
   "source": [
    "print(decoder.decode_greedy('Yunanistan\\'ın başkenti', max_tokens=100))"
   ]
  },
  {
   "cell_type": "code",
   "execution_count": 51,
   "metadata": {},
   "outputs": [
    {
     "name": "stdout",
     "output_type": "stream",
     "text": [
      "AB'nin merkezi Brüksel'de, AB Komisyonu'nun genişlemeden sorumlu üyesi Olli Rehn'in, Türkiye'nin üyelik müzakerelerinin başlaması için gereken kriterleri yerine getirip getirmediği konusunda bir rapor hazırladı. Raporda, Türkiye'nin üyelik müzakerelerinin başlaması için gereken kriterleri yerine getirip getirmediği konusunda, AB Komisyonu'nun genişlemeden sorumlu üyesi Olli Rehn'in hazırladığı rapora yer verildi. Raporda, Türkiye'nin üyelik\n"
     ]
    }
   ],
   "source": [
    "print(decoder.decode_greedy('AB\\'nin merkezi', max_tokens=100))"
   ]
  },
  {
   "cell_type": "code",
   "execution_count": 52,
   "metadata": {},
   "outputs": [
    {
     "name": "stdout",
     "output_type": "stream",
     "text": [
      "Kırım işgali ve Ukrayna'nın doğusundaki Rusya yanlısı ayrılıkçıların kontrolü altındaki Donetsk ve Lugansk bölgelerinde yaşayanların durumunu inceleyen Ukrayna İnsan Hakları Gözlemevi, 2014'ten bu yana 100 binden fazla kişinin Rusya'ya iltica başvurusunda bulunduğunu bildirdi. Merkezi Lugansk'ta bulunan insan hakları gözlemevi, Rusya'nın 24 Şubat'ta başlattığı işgalin ardından Ukrayna'nın doğusundaki Donet\n"
     ]
    }
   ],
   "source": [
    "print(decoder.decode_greedy('Kırım işgali', max_tokens=100))"
   ]
  },
  {
   "cell_type": "code",
   "execution_count": 53,
   "metadata": {},
   "outputs": [
    {
     "name": "stdout",
     "output_type": "stream",
     "text": [
      "Cinnet getiren genç kız, 10 yaşındaki kız kardeşini öldürdü 20.04.2021 - 17:44  ⁇  Haber Kaynağı: DHA Antalya'da cinnet getiren 17 yaşındaki genç kız, 10 yaşındaki kız kardeşini tabancayla öldürdü. Olay, saat 17.00 sıralarında Kepez ilçesi Yeni Emek Mahallesi 2123 Sokak'ta meydana geldi. İddiaya göre, cinnet getiren\n"
     ]
    }
   ],
   "source": [
    "print(decoder.decode_greedy('Cinnet', max_tokens=100))"
   ]
  },
  {
   "cell_type": "code",
   "execution_count": 54,
   "metadata": {},
   "outputs": [
    {
     "name": "stdout",
     "output_type": "stream",
     "text": [
      "Tecavüze uğrayan kadın, \"Beni öldürecekler\" diye bağırdı Antalya'da 20 yaşındaki genç kadın, 15 yaşındaki erkek arkadaşının tecavüzüne uğradığını iddia ederek, \"Beni öldürecekler\" diye bağırdı. Antalya'da 20 yaşındaki genç kadın, 15 yaşındaki erkek arkadaşının tecavüzüne uğradığını iddia ederek, \"Beni öldürecekler\" diye bağırdı. Genç kadın, \"Beni öldürecekler\" diye bağırırken, erkek\n"
     ]
    }
   ],
   "source": [
    "print(decoder.decode_greedy('Tecavüz', max_tokens=100))"
   ]
  },
  {
   "cell_type": "code",
   "execution_count": 55,
   "metadata": {},
   "outputs": [
    {
     "name": "stdout",
     "output_type": "stream",
     "text": [
      "Cinayet şüphelisi, 2008'de 17 yaşındayken öldürülen 17 yaşındaki N.K.'nın babası çıktı. Cinayet şüphelisi, 2008'de 17 yaşındayken öldürülen 17 yaşındaki N.K.'nın babası çıktı. Cinayet şüphelisi, 2008'de 17 yaşındayken öldürülen 17 yaşındaki N.K.'nın babası çıktı. Cinayet şüphelisi, 200\n"
     ]
    }
   ],
   "source": [
    "print(decoder.decode_greedy('Cinayet', max_tokens=100))"
   ]
  },
  {
   "cell_type": "code",
   "execution_count": 56,
   "metadata": {},
   "outputs": [
    {
     "name": "stdout",
     "output_type": "stream",
     "text": [
      "ABD başkanına suikast girişimi ABD'nin New York eyaletinde, Başkan Donald Trump'a suikast girişiminde bulunulduğu bildirildi. New York Times'ın haberine göre, New York'un  ⁇ ueens bölgesinde bulunan bir parkta, 2016'daki başkanlık seçimlerine müdahale etmekle suçlanan bir kişi, Trump'a suikast girişiminde bulundu. Olay yerine gelen polis, şüphelinin gözaltına alındığını ve sorgulandığını açıkladı. Trump'a suikast girişimi, \n"
     ]
    }
   ],
   "source": [
    "print(decoder.decode_greedy('ABD başkanına suikast', max_tokens=100))"
   ]
  },
  {
   "cell_type": "code",
   "execution_count": 57,
   "metadata": {},
   "outputs": [
    {
     "name": "stdout",
     "output_type": "stream",
     "text": [
      "ABD Kanada'ya savaş ilan etti. ABD Başkanı Donald Trump, Kanada'nın 1915 olaylarını \"soykırım\" olarak nitelemesine tepki gösterdi. ABD Başkanı Donald Trump, Kanada'nın 1915 olaylarını \"soykırım\" olarak nitelemesine tepki gösterdi. Trump, Twitter hesabından yaptığı açıklamada, \"Kanada'nın 1915 olaylarını \"soykırım\" olarak nitelemesini şiddetle kınıyorum. Kanada'nın bu kararı, tarihin\n"
     ]
    }
   ],
   "source": [
    "print(decoder.decode_greedy('ABD Kanada\\'ya savaş ilan etti.', max_tokens=100))"
   ]
  },
  {
   "cell_type": "code",
   "execution_count": 58,
   "metadata": {},
   "outputs": [
    {
     "name": "stdout",
     "output_type": "stream",
     "text": [
      "Devrim muhafızları Washington'da toplandı Devrim muhafızları Washington'da toplandı. Muhalif liderler, ABD'nin Suriye'den çekilmesi için baskı yapmaya devam edeceklerini söyledi. Muhalif liderler, ABD'nin Suriye'den çekilmesi için baskı yapmaya devam edeceklerini söyledi. Muhalif liderler, ABD'nin Suriye'den çekilmesi için baskı yapmaya devam edeceklerini söyledi. Muhalif liderler, ABD'nin Suriye'den çekilmesi için baskı yapmaya devam edeceklerini\n"
     ]
    }
   ],
   "source": [
    "print(decoder.decode_greedy('Devrim muhafızları Washington\\'da', max_tokens=100))"
   ]
  },
  {
   "cell_type": "code",
   "execution_count": 59,
   "metadata": {},
   "outputs": [
    {
     "name": "stdout",
     "output_type": "stream",
     "text": [
      "Türk ordusu Atina'ya girdi, Yunanistan'da darbe girişimi püskürtüldü Yunanistan'da, Cumhurbaşkanı Erdoğan'ın çağrısı üzerine, Türk Silahlı Kuvvetleri'nin (TSK) Atina'ya girmesinin ardından, Cumhurbaşkanı Erdoğan'ın çağrısı üzerine, Türk ordusu Atina'ya girdi, Yunanistan'da darbe girişimi püskürtüldü. Cumhurbaşkanı Erdoğan'ın çağrısı üzerine, Türk Silahlı Kuvvetleri'nin (TSK) Atina'ya girmesinin ardından, Cumhurbaşkanı Erdoğan'ın çağrısı üzerine, Türk ordusu\n"
     ]
    }
   ],
   "source": [
    "print(decoder.decode_greedy('Türk ordusu Atina\\'ya girdi', max_tokens=100))"
   ]
  },
  {
   "cell_type": "code",
   "execution_count": 60,
   "metadata": {},
   "outputs": [
    {
     "name": "stdout",
     "output_type": "stream",
     "text": [
      "Suriye ordusu Hatay'ı işgal etti. Suriye ordusu Hatay'ı işgal etti. Suriye ordusu Hatay'ı işgal etti. Suriye ordusu Hatay'ı işgal etti. Suriye ordusu Hatay'ı işgal etti. Suriye ordusu Hatay'ı işgal etti. Suriye ordusu Hatay'ı işgal etti. Suriye ordusu Hatay'ı işgal etti. Suriye ordusu Hatay'ı işgal etti. Suriye ordusu Hatay'ı işgal etti. Suriye ordusu Hatay'ı işgal etti. Suriye ordusu Hatay'ı işgal etti. Suriye ordusu Hatay'ı işgal etti. Suriye ordusu Hatay\n"
     ]
    }
   ],
   "source": [
    "print(decoder.decode_greedy('Suriye ordusu Hatay\\'ı işgal etti', max_tokens=100))"
   ]
  },
  {
   "cell_type": "code",
   "execution_count": 61,
   "metadata": {},
   "outputs": [
    {
     "name": "stdout",
     "output_type": "stream",
     "text": [
      "Referandum sonrası Trabzon Rusya Federasyonuna bağlandı. Rusya Federasyonu'na bağlanan iller arasında Trabzon da var. Rusya Federasyonu'na bağlanan iller arasında Trabzon da var. Rusya Federasyonu'na bağlanan iller arasında Trabzon da var. Rusya Federasyonu'na bağlanan iller arasında Trabzon da var. Rusya Federasyonu'na bağlanan iller arasında Trabzon da var. Rusya Federasyonu'na bağlanan iller arasında Trabzon da var. Rusya Federasyonu'na bağlanan iller arasında Trabzon da var. Rusya Federasyonu'na bağlanan iller\n"
     ]
    }
   ],
   "source": [
    "print(decoder.decode_greedy('Referandum sonrası Trabzon Rusya Federasyonuna bağlandı', max_tokens=100))"
   ]
  },
  {
   "cell_type": "code",
   "execution_count": 62,
   "metadata": {},
   "outputs": [
    {
     "name": "stdout",
     "output_type": "stream",
     "text": [
      "Referandum sonrası Kırım Rusya Federasyonuna bağlandı. Kırım'ın Rusya'ya bağlanması, Kırım'ın Rusya'ya bağlanması anlamına geliyor. Rusya'nın Kırım'ı ilhak etmesinin ardından Kırım'ın Rusya'ya bağlanması için referandum yapıldı. Referandumda Kırım'ın Rusya'ya bağlanması için 160 bin 600 oy kullanıldı. Kırım'ın Rusya'ya bağlanması için yapılan referandumda Kırım'ın Rusya'ya bağlanması için 1\n"
     ]
    }
   ],
   "source": [
    "print(decoder.decode_greedy('Referandum sonrası Kırım Rusya Federasyonuna bağlandı', max_tokens=100))"
   ]
  },
  {
   "cell_type": "code",
   "execution_count": 63,
   "metadata": {},
   "outputs": [
    {
     "name": "stdout",
     "output_type": "stream",
     "text": [
      "Rusya Federasyonu başkanı Vladimir Putin, Rusya'nın Ukrayna'ya yönelik askeri operasyonunun başlamasının ardından yaptığı açıklamada, \"Ukrayna'nın toprak bütünlüğünü destekliyoruz. Rusya'nın Ukrayna'ya yönelik askeri operasyonunun başlamasının ardından yaptığı açıklamada, \"Ukrayna'nın toprak bütünlüğünü destekliyoruz. Rusya'nın Ukrayna'ya yönelik askeri operasyonunun başlamasının ardından yaptığı açıklamada, Rusya'nın Ukrayna'ya yönelik askeri operasyonunun başlamasının ardından yaptığı açıklamada, Rusya'nın Ukrayna'ya yönelik askeri operasyon\n"
     ]
    }
   ],
   "source": [
    "print(decoder.decode_greedy('Rusya Federasyonu başkanı', max_tokens=100))"
   ]
  },
  {
   "cell_type": "code",
   "execution_count": null,
   "metadata": {},
   "outputs": [],
   "source": []
  },
  {
   "cell_type": "code",
   "execution_count": null,
   "metadata": {},
   "outputs": [],
   "source": []
  },
  {
   "cell_type": "code",
   "execution_count": null,
   "metadata": {},
   "outputs": [],
   "source": []
  }
 ],
 "metadata": {
  "kernelspec": {
   "display_name": "myenv",
   "language": "python",
   "name": "python3"
  },
  "language_info": {
   "codemirror_mode": {
    "name": "ipython",
    "version": 3
   },
   "file_extension": ".py",
   "mimetype": "text/x-python",
   "name": "python",
   "nbconvert_exporter": "python",
   "pygments_lexer": "ipython3",
   "version": "3.11.9"
  }
 },
 "nbformat": 4,
 "nbformat_minor": 2
}
