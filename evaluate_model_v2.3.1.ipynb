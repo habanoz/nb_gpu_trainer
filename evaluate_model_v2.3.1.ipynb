{
 "cells": [
  {
   "cell_type": "code",
   "execution_count": 1,
   "metadata": {},
   "outputs": [],
   "source": [
    "from nbtr.model.hf_model import HfModel\n",
    "from nbtr.tokenizer.tokenizer import Tokenizer\n",
    "import torch\n",
    "from torch.nn import functional as F"
   ]
  },
  {
   "cell_type": "code",
   "execution_count": 2,
   "metadata": {},
   "outputs": [
    {
     "name": "stdout",
     "output_type": "stream",
     "text": [
      "number of parameters: 29.37M\n",
      "Restored model state from repository!\n"
     ]
    }
   ],
   "source": [
    "model = HfModel.from_pretrained(\"habanoz/haber-gpt-2-small-v2.3.1-30M\",device=\"cpu\")"
   ]
  },
  {
   "cell_type": "code",
   "execution_count": 3,
   "metadata": {},
   "outputs": [],
   "source": [
    "def generate(prompt):\n",
    "    return model.generate(prompt, max_length = 50)"
   ]
  },
  {
   "cell_type": "code",
   "execution_count": 4,
   "metadata": {},
   "outputs": [],
   "source": [
    "tokenizer = Tokenizer.from_pretrained(\"habanoz/news-tr-1.8M-tokenizer-8k\")"
   ]
  },
  {
   "cell_type": "code",
   "execution_count": 5,
   "metadata": {},
   "outputs": [],
   "source": [
    "def generate(model, tokenizer, prompt, max_tokens=50):\n",
    "    \n",
    "    prompt = torch.tensor(tokenizer.encode(prompt)['input_ids']).view(1, -1)\n",
    "    \n",
    "    for i in range(max_tokens):\n",
    "        logits = model.forward(prompt)['logits']\n",
    "        logits = logits[:, -1, :]\n",
    "        probs = F.softmax(logits, dim=1)\n",
    "        tok = torch.multinomial(probs, 1, replacement=True)\n",
    "        \n",
    "        if tok == tokenizer.eos_id:\n",
    "            break\n",
    "\n",
    "        prompt = torch.cat((prompt , tok), dim=-1)\n",
    "\n",
    "    text = tokenizer.decode(prompt.tolist()[0])\n",
    "    print(text)\n"
   ]
  },
  {
   "cell_type": "code",
   "execution_count": 6,
   "metadata": {},
   "outputs": [
    {
     "name": "stdout",
     "output_type": "stream",
     "text": [
      "15 Temmuz şehitleri ikiz polislerin babasının acısı dinmiyor Vodafone Park'taki oyuncularla süslü olan Fenerbahçe'nin yeni oyun kuralı dün başladı. Futbola kısa bir süre önce 390 bin lira kazandıran Fenerbahçe, taraftarların beğenisini kazandı. Sezonun ilk yedinci hafta maçlarının ardından Fenerbahçe taraftarları da süslülü lobide karşımıza çıktılar. Sarı-lacivertli taraftarlar İstanbul'dan gelen sportif organizasyon salonda bulunan oyunculara alkışlarla eşlik etti. Tüm son\n"
     ]
    }
   ],
   "source": [
    "generate(model, tokenizer, '15 Temmuz şehitleri ikiz polislerin babasının acısı dinmiyor', max_tokens=100)"
   ]
  },
  {
   "cell_type": "code",
   "execution_count": 8,
   "metadata": {},
   "outputs": [
    {
     "name": "stdout",
     "output_type": "stream",
     "text": [
      "Fransa devlet başkanı Ores Benrich: \"100 yıldan daha çalışmaya çalışıyoruz\" Janel Lannister, Haziran ayında vefat eden eşi Carmehine Degister'i resepsiyonist olarak yalnız bıraktığını duyurdu. 4 Haziran'da, doğum ve pilates kanseri arasında olduğu belirtilen 61 yaşındaki eşinin vefatının ardından, \"Ores and Hudson Nostrum\" ve Selanik'te vefat eden eşinin torunu\n"
     ]
    }
   ],
   "source": [
    "generate(model, tokenizer, 'Fransa devlet başkanı', max_tokens=100)"
   ]
  },
  {
   "cell_type": "code",
   "execution_count": 9,
   "metadata": {},
   "outputs": [
    {
     "name": "stdout",
     "output_type": "stream",
     "text": [
      "Borsa güne yükselişle başladı Bayramlaştı dün akşam saatlerinde doları 1.02.50 Avrupa'da 1.761 TL'den euroya Paolo Granilla 1 oldu. 4. sıradaki oyuna giren Granilla 3, saniyede 20 kanalı doldururken basta 525 avrodan 214 avroya çıktı. Golist Kaan Demirler sokaklardaki olaylara karıştı. Durmuş Ali Yıldız ise\n"
     ]
    }
   ],
   "source": [
    "generate(model, tokenizer, 'Borsa güne yükselişle başladı', max_tokens=100)"
   ]
  },
  {
   "cell_type": "code",
   "execution_count": 10,
   "metadata": {},
   "outputs": [
    {
     "name": "stdout",
     "output_type": "stream",
     "text": [
      "Dünya kupasının kazananı belli oldu Heidi Klas daha önce rakiplerini geride bırakarak, forma giyebiliyordu. İngiltere'de şu anda sadece bir maç oynandı. Bir yarış galip gelerek takımın savunma yapması pek olabilirdi.'' kullandığı gözüken gözüken sıcak uçakta bir yarış yaşanabilirdi.' İyi Parti'li Bahçeli: Fransa'nın Türkiye Büyükelçiliği Kudüs Gücü Komutanı'nı Başbakanlık Müsteşarı Hüseyin Beyrutoğlu temsil etti 31 Mayıs 200\n"
     ]
    }
   ],
   "source": [
    "generate(model, tokenizer, 'Dünya kupasının kazananı belli oldu', max_tokens=100)"
   ]
  },
  {
   "cell_type": "code",
   "execution_count": 11,
   "metadata": {},
   "outputs": [
    {
     "name": "stdout",
     "output_type": "stream",
     "text": [
      "Altın yatırıcımcısında yüzler gülüyor Eskişehir'de korkutan durum: Ömrünü fırsat bilip asgari ücretten almışlar Adıyaman'da bir kadın, rekor üstüne otonom araç için araç satın almaya hazırlanıyor. Batıkent'te otomobil kasasından 3 kasa ve 5 kilometre uzaklıktaki Digor'daki iki evrende araç için sunulan taksi çözümü için tüm gelir kazançlar büyük olduğu anlaşıldı. Manisa'nın İç mahallesi olan Duralibey Caddesi üzerinde 5 kişilik apartman\n"
     ]
    }
   ],
   "source": [
    "generate(model, tokenizer, 'Altın yatırıcımcısında yüzler gülüyor', max_tokens=100)"
   ]
  },
  {
   "cell_type": "code",
   "execution_count": 12,
   "metadata": {},
   "outputs": [
    {
     "name": "stdout",
     "output_type": "stream",
     "text": [
      "Vizyona yeni giren filimler Doğuştan fi dişleriyle geliyor İzmir Büyükşehir Belediyesi, 9 günlük uykulamada egzersizleri ciddiye alarak 100 yaşına kadar evde kahve içen kadınlara çitremi modern bir demetoloji uygulama imkanı veriyor. İzmir Büyükşehir Belediyesi, 9 günlük uyku uyumadan sabah 20.00'a kadar evde uykuyla uyularak uyularak uyutulursa 100 yaşına kadar evde uyumak için\n"
     ]
    }
   ],
   "source": [
    "generate(model, tokenizer, 'Vizyona yeni giren filimler', max_tokens=100)"
   ]
  },
  {
   "cell_type": "code",
   "execution_count": 13,
   "metadata": {},
   "outputs": [
    {
     "name": "stdout",
     "output_type": "stream",
     "text": [
      "İkinci dünya savaşında kaybedilenler anıldı Birkaç oklalı afallayıp, seyircilerle birlikte serine devam eden Sarı Bademler Orduspor taraftar grubu oyunlarının devam ederken gösterimlerle devam etti. Ekvadorlu üretkenlik ve çeviklik arasında en büyük gövde sağlayan birçok ülkenin iş havasında geçen yaz türüne sahip Nayev Havanı'nda görürüz. Konser için hazırlan alan panrofses dalgasi fabrikasında seyirciler ile birlikte gösteri yapamayınca,\n"
     ]
    }
   ],
   "source": [
    "generate(model, tokenizer, 'İkinci dünya savaşında kaybedilenler anıldı', max_tokens=100)"
   ]
  },
  {
   "cell_type": "code",
   "execution_count": 14,
   "metadata": {},
   "outputs": [
    {
     "name": "stdout",
     "output_type": "stream",
     "text": [
      "Buğdayda bu sene rekolte düşük 24 Ekim saat 04.00'te meydana gelen Kahramanmaraş merkezli depremler vatandaşları tedirgin etti.En çok zararı yaşayan ilk şehirlerde kasım beklentisi artıyor. Ancak son 24 saatte meydana gelen Kahramanmaraş merkezli depremler tüm dünyayı, zamanla eğitimsüz hale getirirken adeta faytonistten bugün değerdi. Diyanet İşleri Başkanlığı da 1270 sayılı manevi para korunma gayreti raporunu yayınlıyor. İSVEÇ 24 Ekim\n"
     ]
    }
   ],
   "source": [
    "generate(model, tokenizer, 'Buğdayda bu sene rekolte düşük', max_tokens=100)"
   ]
  },
  {
   "cell_type": "code",
   "execution_count": 15,
   "metadata": {},
   "outputs": [
    {
     "name": "stdout",
     "output_type": "stream",
     "text": [
      "Piyasalar TC Merkez Bankasının kararına kilitlendi CNN TÜRK muhabiri Sakuç paraya çevirdi!” 04 Temmuz 2024 33:52 Gazeteci Sakuç, merkezi ABD Kongresi'nin Başbakanı Müşavir Sakuç ile görüşmek üzere Santorin'de bir otelde bir araya geldi. Sakuç Hürriyet'ten Ali Ekber Yıldırım'ın haberine göre toplantının saati dakikbedikten sonra basına kapalı gerçekleşti. Sakuç, ardından döviz bürosuna geçti. Orada görevli\n"
     ]
    }
   ],
   "source": [
    "generate(model, tokenizer, 'Piyasalar TC Merkez Bankasının kararına kilitlendi', max_tokens=100)"
   ]
  },
  {
   "cell_type": "code",
   "execution_count": 16,
   "metadata": {},
   "outputs": [
    {
     "name": "stdout",
     "output_type": "stream",
     "text": [
      "Başkan Erdoğan muhalefet liderine seslendi Bursa'nın Nilüfer ilçesi Kıbrıs Sahil Yolu mevkiindeki sahil yolunun ortasında, ikametin sahil tarayıcısı olarak çalışan 4 kişilik yetişkin akrabalar defnedildi. Bezelye Yapı Menderes Üniversitesi'nden Prof.Dr. Mustafa Osman Öztezer, Ege Denizi'nin ortasındaki adaya ait 4 kişilik Dalma tipi köpeğinin 'yakın akrabalar' ilk belirlemelerine göre, Yunan kabil\n"
     ]
    }
   ],
   "source": [
    "generate(model, tokenizer, 'Başkan Erdoğan muhalefet liderine seslendi', max_tokens=100)"
   ]
  },
  {
   "cell_type": "code",
   "execution_count": null,
   "metadata": {},
   "outputs": [],
   "source": []
  }
 ],
 "metadata": {
  "kernelspec": {
   "display_name": "myenv",
   "language": "python",
   "name": "python3"
  },
  "language_info": {
   "codemirror_mode": {
    "name": "ipython",
    "version": 3
   },
   "file_extension": ".py",
   "mimetype": "text/x-python",
   "name": "python",
   "nbconvert_exporter": "python",
   "pygments_lexer": "ipython3",
   "version": "3.11.9"
  }
 },
 "nbformat": 4,
 "nbformat_minor": 2
}
