{
 "cells": [
  {
   "cell_type": "code",
   "execution_count": 1,
   "metadata": {},
   "outputs": [],
   "source": [
    "from nbtr.model.hf_model import HfModel\n",
    "from nbtr.tokenizer.tokenizer import Tokenizer\n",
    "import torch\n",
    "from torch.nn import functional as F"
   ]
  },
  {
   "cell_type": "code",
   "execution_count": 2,
   "metadata": {},
   "outputs": [
    {
     "data": {
      "application/vnd.jupyter.widget-view+json": {
       "model_id": "a4441a702f1b465aa4be7561f5d2f7e6",
       "version_major": 2,
       "version_minor": 0
      },
      "text/plain": [
       "pytorch_model.bin:   0%|          | 0.00/119M [00:00<?, ?B/s]"
      ]
     },
     "metadata": {},
     "output_type": "display_data"
    },
    {
     "data": {
      "application/vnd.jupyter.widget-view+json": {
       "model_id": "361b0551d6cf48f29e4db8d6933f0132",
       "version_major": 2,
       "version_minor": 0
      },
      "text/plain": [
       "config.json:   0%|          | 0.00/146 [00:00<?, ?B/s]"
      ]
     },
     "metadata": {},
     "output_type": "display_data"
    },
    {
     "name": "stdout",
     "output_type": "stream",
     "text": [
      "number of parameters: 29.37M\n",
      "Restored model state from repository!\n"
     ]
    }
   ],
   "source": [
    "model = HfModel.from_pretrained(\"habanoz/haber-gpt-2-small-v2.3.1-30M\",device=\"cpu\")"
   ]
  },
  {
   "cell_type": "code",
   "execution_count": 3,
   "metadata": {},
   "outputs": [],
   "source": [
    "def generate(prompt):\n",
    "    return model.generate(prompt, max_length = 50)"
   ]
  },
  {
   "cell_type": "code",
   "execution_count": 4,
   "metadata": {},
   "outputs": [],
   "source": [
    "tokenizer = Tokenizer.from_pretrained(\"habanoz/news-tr-1.8M-tokenizer-8k\")"
   ]
  },
  {
   "cell_type": "code",
   "execution_count": 9,
   "metadata": {},
   "outputs": [],
   "source": [
    "def generate(model, tokenizer, prompt, max_tokens=50):\n",
    "    \n",
    "    prompt = torch.tensor(tokenizer.encode(prompt)['input_ids']).view(1, -1)\n",
    "    \n",
    "    for i in range(max_tokens):\n",
    "        logits = model.forward(prompt)['logits']\n",
    "        logits = logits[:, -1, :]\n",
    "        probs = F.softmax(logits, dim=1)\n",
    "        tok = torch.multinomial(probs, 1, replacement=True)\n",
    "        \n",
    "        if tok == tokenizer.eos_id:\n",
    "            break\n",
    "\n",
    "        prompt = torch.cat((prompt , tok), dim=-1)\n",
    "\n",
    "    text = tokenizer.decode(prompt.tolist()[0])\n",
    "    print(text)\n"
   ]
  },
  {
   "cell_type": "code",
   "execution_count": 17,
   "metadata": {},
   "outputs": [
    {
     "name": "stdout",
     "output_type": "stream",
     "text": [
      "15 Temmuz şehitleri ikiz polislerin babasının acısı dinmiyor Çağatay Ulusoy: \"Geceyarısı şekerin 10 kat daha büyük olması için operasyonlar başlayacak Ankara Büyükşehir Kulübüne bağlı güneş paneli ve hafif hafif de lazer spor salonu personeli zor şartlarda çalışanlara önceki yıllarda getirilen aigand inimon haline devam etmeli. Yılbaşından bu yana yapılan güneş paneli sıkışıklık sistemimizi güçlendirmemeli.\" Emine kartopularının ilaçlara halsizlik, kızılçık, kanad\n"
     ]
    }
   ],
   "source": [
    "generate(model, tokenizer, '15 Temmuz şehitleri ikiz polislerin babasının acısı dinmiyor', max_tokens=100)"
   ]
  },
  {
   "cell_type": "code",
   "execution_count": 9,
   "metadata": {},
   "outputs": [
    {
     "data": {
      "text/plain": [
       "<nbtr.tokenizer.tokenizer.Tokenizer at 0x7c59d0b69750>"
      ]
     },
     "execution_count": 9,
     "metadata": {},
     "output_type": "execute_result"
    }
   ],
   "source": [
    "tokenizer"
   ]
  },
  {
   "cell_type": "code",
   "execution_count": null,
   "metadata": {},
   "outputs": [],
   "source": []
  }
 ],
 "metadata": {
  "kernelspec": {
   "display_name": "myenv",
   "language": "python",
   "name": "python3"
  },
  "language_info": {
   "codemirror_mode": {
    "name": "ipython",
    "version": 3
   },
   "file_extension": ".py",
   "mimetype": "text/x-python",
   "name": "python",
   "nbconvert_exporter": "python",
   "pygments_lexer": "ipython3",
   "version": "3.11.9"
  }
 },
 "nbformat": 4,
 "nbformat_minor": 2
}
