{
 "cells": [
  {
   "cell_type": "code",
   "execution_count": 3,
   "metadata": {},
   "outputs": [],
   "source": [
    "import gdown"
   ]
  },
  {
   "cell_type": "code",
   "execution_count": 5,
   "metadata": {},
   "outputs": [
    {
     "name": "stderr",
     "output_type": "stream",
     "text": [
      "Retrieving folder contents\n"
     ]
    },
    {
     "name": "stdout",
     "output_type": "stream",
     "text": [
      "Processing file 1xkIM3bG_M0X8k43np5ggeCfnVQY-fW3b fineweb2tr_train_000000.bin.gz\n",
      "Processing file 1HG273QQ06JrUIGuxLgQKCRVOY5RdTvt9 fineweb2tr_train_000001.bin.gz\n",
      "Processing file 1IVQmp3Fqkg0nYOPem_1vtaEBtXWPf8lL fineweb2tr_train_000002.bin.gz\n",
      "Processing file 1n1TxuqplKTTY2Tm_x3Deg1598X0vF3G6 fineweb2tr_train_000003.bin.gz\n",
      "Processing file 14aN8WJa0-uW72aoKv83rdTLefA63clSx fineweb2tr_train_000004.bin.gz\n",
      "Processing file 13P6RwhU0JoioSF0fK4RIdA1sU1wS0oRi fineweb2tr_train_000005.bin.gz\n",
      "Processing file 1g7uVJz8JzG8VasNtL9APTzaBjAQI5wSw fineweb2tr_train_000006.bin.gz\n",
      "Processing file 1-S1jJfwDWHZrx_zDe-OXksxR51m1D8WM fineweb2tr_train_000007.bin.gz\n",
      "Processing file 1x4TUPR7UPxIYl2T6iYpFlyNnCDx0X9P7 fineweb2tr_train_000008.bin.gz\n",
      "Processing file 16OEALK594ELduIdOZKuKNA7kCyU81tNO fineweb2tr_train_000009.bin.gz\n",
      "Processing file 18bqKLeUHE6uAjeN_Xywl3POs2Wb8GJZh fineweb2tr_train_000010.bin.gz\n",
      "Processing file 1UIF6iInErZfIa6JW64z3ZBxWMsltHEhU fineweb2tr_train_000011.bin.gz\n",
      "Processing file 1OIWi_kToqF-yHZGhWCpThxQhpCeMCRn0 fineweb2tr_train_000012.bin.gz\n",
      "Processing file 1jy8D68LXjf9IWUm4QL0bW0Zssj8tihIi fineweb2tr_train_000013.bin.gz\n",
      "Processing file 1VPKVMAoMJjGO0g5PDA65uwZdroA5P9L- fineweb2tr_train_000014.bin.gz\n",
      "Processing file 10yrX7rFrBSfGKM2-9Sz1BvBCgvxoGzT- fineweb2tr_train_000015.bin.gz\n",
      "Processing file 1tSSRSWSIm7voszOlwcgv0jJwfNPy-RzH fineweb2tr_train_000016.bin.gz\n",
      "Processing file 1VL7CM7KrOL7xASRcZDngPJENTOHht3lJ fineweb2tr_train_000017.bin.gz\n",
      "Processing file 1OBe6JPnJ-C4D1jAvXkmJruXsYP6Qg_By fineweb2tr_train_000018.bin.gz\n",
      "Processing file 1UmA1MEDMUncdUbYpvZv5slS1eA9S3AiC fineweb2tr_train_000019.bin.gz\n",
      "Processing file 181gb1XGtftVwWXWEWIRdBv6VA-sfut_F fineweb2tr_train_000020.bin.gz\n",
      "Processing file 1pMlQmQuV2nX4a9R73z6g4owod4SQGq8E fineweb2tr_train_000021.bin.gz\n",
      "Processing file 1dzWh0vn2GN6zpe7-nmfkpABl81ipPzyC fineweb2tr_train_000022.bin.gz\n",
      "Processing file 1Mvz7Lrqr1Wci-qeddE0vGuoFqaleQlwX fineweb2tr_train_000023.bin.gz\n",
      "Processing file 1pMZTDFiy8MEKCdwmAQYAIwqRT1x0Ixko fineweb2tr_train_000024.bin.gz\n",
      "Processing file 15xqMefSF7XNhtPDIWgoXl8_WDXOlSTJT fineweb2tr_train_000025.bin.gz\n",
      "Processing file 1Vrbf1rxN3ri6-O-y6bk70KULOZLDKCUh fineweb2tr_train_000026.bin.gz\n",
      "Processing file 1U4_TwD9o9q50RMTFMPO50aPi1JYtA4af fineweb2tr_train_000027.bin.gz\n",
      "Processing file 1x6obor2aj-HqxDYneoFsrL8IEkwCzYYg fineweb2tr_train_000028.bin.gz\n",
      "Processing file 1x7YRGjh4AscxWBVNkEKNuW3mccN9PKwl fineweb2tr_train_000029.bin.gz\n",
      "Processing file 1W4eRrsYExuv87pv0bm-GBUH8y9BZ-LRg fineweb2tr_train_000030.bin.gz\n",
      "Processing file 1xujWYuFt1m8yy4u1nIOwFnKFR-OxU5Py fineweb2tr_train_000031.bin.gz\n",
      "Processing file 1cs7KiZeXjsNtMFCz6xeyKRe709lNbjKH fineweb2tr_train_000032.bin.gz\n",
      "Processing file 1T6mbRfxYtGF7vT2N1Mk4GMHrNXt0W60G fineweb2tr_train_000033.bin.gz\n",
      "Processing file 1o_c14Xvx6WEWpaI70YKV4zcvO7bTfZSe fineweb2tr_train_000034.bin.gz\n",
      "Processing file 1TYQFcB2bOjGcKAEcAjGCHk7b1DYR4HxS fineweb2tr_train_000035.bin.gz\n",
      "Processing file 13Px-w-gL54_YGj2HQUsXdQ_5vmIygy9R fineweb2tr_train_000036.bin.gz\n",
      "Processing file 1BsTmy84P5bz9iPYIdztYWI3wsjBS7nVT fineweb2tr_train_000037.bin.gz\n",
      "Processing file 1Da4Fc6crSeKD6IfbP6XrnJ_ArBOJawFl fineweb2tr_train_000038.bin.gz\n",
      "Processing file 1d2w90mr6CMwS2QOhUkosZrtHZnUMVloF fineweb2tr_train_000039.bin.gz\n",
      "Processing file 1aHUcqX6rexbMODJMNHa40ShqskB6VQSp fineweb2tr_train_000040.bin.gz\n",
      "Processing file 195OfauRZ_kNRVgYw0SxOKBIne07qRr1s fineweb2tr_train_000041.bin.gz\n",
      "Processing file 1F160VXPmlgX7WDsN-skbZPdOKFjiSqSF fineweb2tr_train_000042.bin.gz\n",
      "Processing file 1A3XYUb4nXIrhlhM1YSByKaqpqGXYVLnJ fineweb2tr_train_000043.bin.gz\n",
      "Processing file 1TycKCUGAYk-cu2Bn4NBPV8Fy396FOtGK fineweb2tr_train_000044.bin.gz\n",
      "Processing file 1QGk6uuThH86KD2P_n3rkqNSWpgfKMQMk fineweb2tr_train_000045.bin.gz\n",
      "Processing file 1AY17_T5Fi4j2EPyJTAib3kWSOUtTEjFF fineweb2tr_train_000046.bin.gz\n",
      "Processing file 1XH9vBWR_Z9ExZEJ96bavpb1I1rW75UdP fineweb2tr_train_000047.bin.gz\n",
      "Processing file 1H9BB0wwGDlphoDmMZDcgy4kQDFQ4JyFn fineweb2tr_train_000048.bin.gz\n"
     ]
    },
    {
     "name": "stderr",
     "output_type": "stream",
     "text": [
      "Retrieving folder contents completed\n",
      "Building directory structure\n",
      "Building directory structure completed\n",
      "Download completed\n"
     ]
    }
   ],
   "source": [
    "# https://drive.google.com/drive/folders/1rJsl0abPpo_E7iOAdjn_DgVaViC3krwY?usp=drive_link\n",
    "files0 = gdown.download_folder(id=\"1rJsl0abPpo_E7iOAdjn_DgVaViC3krwY\",skip_download=True)"
   ]
  },
  {
   "cell_type": "code",
   "execution_count": 6,
   "metadata": {},
   "outputs": [
    {
     "name": "stderr",
     "output_type": "stream",
     "text": [
      "Retrieving folder contents\n"
     ]
    },
    {
     "name": "stdout",
     "output_type": "stream",
     "text": [
      "Processing file 1O71gTV_FtKBgLZbGnoZ1mM6okmFo3mmT fineweb2tr_train_000049.bin.gz\n",
      "Processing file 1d4JqRmGKLBVbaMzo01dXWAMqDRYGjTBx fineweb2tr_train_000050.bin.gz\n",
      "Processing file 1oqC_e77MElYVaL8igdgezANGAFMZosgH fineweb2tr_train_000051.bin.gz\n",
      "Processing file 1eADLwZTfyjB4Y9uRXtN_chGopLTQJ9H8 fineweb2tr_train_000052.bin.gz\n",
      "Processing file 1vEVG_JFInCLg-5pxN3cSCd4QEIhHFYsk fineweb2tr_train_000053.bin.gz\n",
      "Processing file 1D3tYMmXqTuS-zjzy_qGFq1hb8fTSOE-h fineweb2tr_train_000054.bin.gz\n",
      "Processing file 1TSSMadSdkpIOL4XDeqraa-ymwp_2obMN fineweb2tr_train_000055.bin.gz\n",
      "Processing file 1FjfRK82iYOiSh-0N9NhGp1VCjc-b01DN fineweb2tr_train_000056.bin.gz\n",
      "Processing file 1dc267puLN7-arntT2ZL1J8vZMsxmc-SW fineweb2tr_train_000057.bin.gz\n",
      "Processing file 1hYQBXsEWFIiNRgFYZsf-e3F-OMLE0GPc fineweb2tr_train_000058.bin.gz\n",
      "Processing file 17dBM0ukxq0K5JX1zvleWtyQd1ntt35yK fineweb2tr_train_000059.bin.gz\n",
      "Processing file 1foJpH0NGYSaEf98zPa5-XKdJ_HAsMnBE fineweb2tr_train_000060.bin.gz\n",
      "Processing file 1VACurNqeb-LtoQKJ_ZQ8vU1NNIim2KtG fineweb2tr_train_000061.bin.gz\n",
      "Processing file 1jHTcamDTen29O5DYqo0-84Wc30_vcIm3 fineweb2tr_train_000062.bin.gz\n",
      "Processing file 15mArpNzEa_0BFAsFTMRNZ7C5NSLvzX0J fineweb2tr_train_000063.bin.gz\n",
      "Processing file 1RhGwaac6loH4bWxqya9lJOFRIJjvCutU fineweb2tr_train_000064.bin.gz\n",
      "Processing file 1mVPihW90jAnpUAkrvUV2Zg_sKFm2kaP5 fineweb2tr_train_000065.bin.gz\n",
      "Processing file 199kaRZAtN97c4f0ywW4Y8i5Wk0hXVI_q fineweb2tr_train_000066.bin.gz\n",
      "Processing file 1TUgGClbdAeoSgsh3APv-ilUlM3DO-piQ fineweb2tr_train_000067.bin.gz\n",
      "Processing file 1EpzEzmM5JHvv5nyxmA4eYchv41H8HhKd fineweb2tr_train_000068.bin.gz\n",
      "Processing file 1Lj4q6L5DXElTX9PfH27wv7W23f3VyvlT fineweb2tr_train_000069.bin.gz\n",
      "Processing file 1_w4PsHKhvEheCt4TiyzdWhZFjEvGpOac fineweb2tr_train_000070.bin.gz\n",
      "Processing file 18Rp9D_9z4K8Y2Z6rLseBlagWJ28RacSZ fineweb2tr_train_000071.bin.gz\n",
      "Processing file 1VLL6BstE5wlOag2IuPBoFttDeWKpwS6r fineweb2tr_train_000072.bin.gz\n",
      "Processing file 12bGAdJhj15X7NnVFjgSouTuEpWI3Dyqp fineweb2tr_train_000073.bin.gz\n",
      "Processing file 1I_rj_bXL50XP1QpUtILA-9-itY4w-TTQ fineweb2tr_train_000074.bin.gz\n",
      "Processing file 1Eoi0NLD9x7lWewguuyOoARP_elFeRY1K fineweb2tr_train_000075.bin.gz\n",
      "Processing file 1rhefQg2r9NfD2LRKfGwbHwAV5_cZ-J5h fineweb2tr_train_000076.bin.gz\n",
      "Processing file 1oaZTqytBlCmdpY4vvLD5uXQcJiKDx1qg fineweb2tr_train_000077.bin.gz\n",
      "Processing file 1CqnArx8SoT8eIcTCKgQHkxIGmEAtabhQ fineweb2tr_train_000078.bin.gz\n",
      "Processing file 1b9_PG0Jkt1hef0XbpCRXWNuKJjNh9rZ- fineweb2tr_train_000079.bin.gz\n",
      "Processing file 14WYXJwgWKDKFtPuLX6sVjjhzeHQGAvUp fineweb2tr_train_000080.bin.gz\n",
      "Processing file 1Hwop4bXi-wQVzH5QPhezyZraMrbXcuYO fineweb2tr_train_000081.bin.gz\n",
      "Processing file 1o_Ger0NExsjRCTjzQA-_Hh4N9j9qYhMR fineweb2tr_train_000082.bin.gz\n",
      "Processing file 1nduiiRd-DR1Z3_u6FRoKFAv3PPDJgvSY fineweb2tr_train_000083.bin.gz\n",
      "Processing file 1NZDZWYK-JOLQugsdRI2_UEvc1oDBN9vk fineweb2tr_train_000084.bin.gz\n",
      "Processing file 1BvBcti2AKTpJ6sA8pGBXK-VZtJsj_t0q fineweb2tr_train_000085.bin.gz\n",
      "Processing file 1x-wmowCQWIcdcg0MT1mg8YbqtUOOiiYl fineweb2tr_train_000086.bin.gz\n",
      "Processing file 1kK9odW-ty-XmrA8UaVFAyb2xzsfDEHCp fineweb2tr_train_000087.bin.gz\n",
      "Processing file 1jrqTyD9v8bfOvxT2Aa1uHQCoOQZrlNqE fineweb2tr_train_000088.bin.gz\n",
      "Processing file 1RxtjXBkzxoSHw5DRI2PyOh6_GCpu3_yF fineweb2tr_train_000089.bin.gz\n",
      "Processing file 1Xwtj4bAn_4nyVd2d3DmDCeeAPGFzHSSB fineweb2tr_train_000090.bin.gz\n",
      "Processing file 1A-Rj1yEd3n1UfM7WEwpKJ5xcTNizo1MJ fineweb2tr_train_000091.bin.gz\n",
      "Processing file 1a6EKoAXpF787ZFCwJXdVkTyCeuCL4Ud2 fineweb2tr_train_000092.bin.gz\n",
      "Processing file 1a3BRk9IIsbSEZBO5cgNul4zrsSdzuCIs fineweb2tr_train_000093.bin.gz\n",
      "Processing file 1hxb5CvF6biubaQgEySGAQODuCh5u3cpx fineweb2tr_train_000094.bin.gz\n",
      "Processing file 1veQSnQE6QyvLmbeqILEizkxoD1h-jOzy fineweb2tr_train_000095.bin.gz\n",
      "Processing file 18s4Rrq7Nlv6A_XgqWcGCXhOoHg89Blgj fineweb2tr_train_000096.bin.gz\n",
      "Processing file 12X45OPtCa37gEg0rcRAgIBdmUgN4Y1eR fineweb2tr_train_000097.bin.gz\n"
     ]
    },
    {
     "name": "stderr",
     "output_type": "stream",
     "text": [
      "Retrieving folder contents completed\n",
      "Building directory structure\n",
      "Building directory structure completed\n",
      "Download completed\n"
     ]
    }
   ],
   "source": [
    "# https://drive.google.com/drive/folders/15PkDetDFnalghxgCmasdTk-xE4X_afdc?usp=sharing\n",
    "files1 = gdown.download_folder(id=\"15PkDetDFnalghxgCmasdTk-xE4X_afdc\",skip_download=True)"
   ]
  },
  {
   "cell_type": "code",
   "execution_count": 7,
   "metadata": {},
   "outputs": [
    {
     "name": "stderr",
     "output_type": "stream",
     "text": [
      "Retrieving folder contents\n"
     ]
    },
    {
     "name": "stdout",
     "output_type": "stream",
     "text": [
      "Processing file 1KZkG11_fxOA57foxItWAtyqw2Ry2zS4Y fineweb2tr_train_000098.bin.gz\n",
      "Processing file 1eRVzGPdoFNTBwbq3akXuhAcTABKVed0f fineweb2tr_train_000099.bin.gz\n",
      "Processing file 1BcESx6p16uwDFBuxGlJpQljD_g05xcAf fineweb2tr_train_000100.bin.gz\n",
      "Processing file 1K51xvOhBMJSKBh_fboHjQjMgbz5Q13fL fineweb2tr_val_000000.bin.gz\n",
      "Processing file 1jCRnuvEtP8xCVIJn7rpMFL30Ct_J7eiK z_newstr_val_000000.bin\n"
     ]
    },
    {
     "name": "stderr",
     "output_type": "stream",
     "text": [
      "Retrieving folder contents completed\n",
      "Building directory structure\n",
      "Building directory structure completed\n",
      "Download completed\n"
     ]
    }
   ],
   "source": [
    "# https://drive.google.com/drive/folders/1xYCHMf0CtH3qSr8dWKEhdGIFA6ChLS5O?usp=drive_link\n",
    "files2 = gdown.download_folder(id=\"1xYCHMf0CtH3qSr8dWKEhdGIFA6ChLS5O\",skip_download=True)"
   ]
  },
  {
   "cell_type": "code",
   "execution_count": 8,
   "metadata": {},
   "outputs": [],
   "source": [
    "all_files = files0+files1+files2"
   ]
  },
  {
   "cell_type": "code",
   "execution_count": 9,
   "metadata": {},
   "outputs": [
    {
     "data": {
      "text/plain": [
       "103"
      ]
     },
     "execution_count": 9,
     "metadata": {},
     "output_type": "execute_result"
    }
   ],
   "source": [
    "len(all_files)"
   ]
  },
  {
   "cell_type": "code",
   "execution_count": 10,
   "metadata": {},
   "outputs": [],
   "source": [
    "files_dict = {file.path:file.id for file in all_files}"
   ]
  },
  {
   "cell_type": "code",
   "execution_count": 11,
   "metadata": {},
   "outputs": [
    {
     "data": {
      "text/plain": [
       "{'fineweb2tr_train_000000.bin.gz': '1xkIM3bG_M0X8k43np5ggeCfnVQY-fW3b',\n",
       " 'fineweb2tr_train_000001.bin.gz': '1HG273QQ06JrUIGuxLgQKCRVOY5RdTvt9',\n",
       " 'fineweb2tr_train_000002.bin.gz': '1IVQmp3Fqkg0nYOPem_1vtaEBtXWPf8lL',\n",
       " 'fineweb2tr_train_000003.bin.gz': '1n1TxuqplKTTY2Tm_x3Deg1598X0vF3G6',\n",
       " 'fineweb2tr_train_000004.bin.gz': '14aN8WJa0-uW72aoKv83rdTLefA63clSx',\n",
       " 'fineweb2tr_train_000005.bin.gz': '13P6RwhU0JoioSF0fK4RIdA1sU1wS0oRi',\n",
       " 'fineweb2tr_train_000006.bin.gz': '1g7uVJz8JzG8VasNtL9APTzaBjAQI5wSw',\n",
       " 'fineweb2tr_train_000007.bin.gz': '1-S1jJfwDWHZrx_zDe-OXksxR51m1D8WM',\n",
       " 'fineweb2tr_train_000008.bin.gz': '1x4TUPR7UPxIYl2T6iYpFlyNnCDx0X9P7',\n",
       " 'fineweb2tr_train_000009.bin.gz': '16OEALK594ELduIdOZKuKNA7kCyU81tNO',\n",
       " 'fineweb2tr_train_000010.bin.gz': '18bqKLeUHE6uAjeN_Xywl3POs2Wb8GJZh',\n",
       " 'fineweb2tr_train_000011.bin.gz': '1UIF6iInErZfIa6JW64z3ZBxWMsltHEhU',\n",
       " 'fineweb2tr_train_000012.bin.gz': '1OIWi_kToqF-yHZGhWCpThxQhpCeMCRn0',\n",
       " 'fineweb2tr_train_000013.bin.gz': '1jy8D68LXjf9IWUm4QL0bW0Zssj8tihIi',\n",
       " 'fineweb2tr_train_000014.bin.gz': '1VPKVMAoMJjGO0g5PDA65uwZdroA5P9L-',\n",
       " 'fineweb2tr_train_000015.bin.gz': '10yrX7rFrBSfGKM2-9Sz1BvBCgvxoGzT-',\n",
       " 'fineweb2tr_train_000016.bin.gz': '1tSSRSWSIm7voszOlwcgv0jJwfNPy-RzH',\n",
       " 'fineweb2tr_train_000017.bin.gz': '1VL7CM7KrOL7xASRcZDngPJENTOHht3lJ',\n",
       " 'fineweb2tr_train_000018.bin.gz': '1OBe6JPnJ-C4D1jAvXkmJruXsYP6Qg_By',\n",
       " 'fineweb2tr_train_000019.bin.gz': '1UmA1MEDMUncdUbYpvZv5slS1eA9S3AiC',\n",
       " 'fineweb2tr_train_000020.bin.gz': '181gb1XGtftVwWXWEWIRdBv6VA-sfut_F',\n",
       " 'fineweb2tr_train_000021.bin.gz': '1pMlQmQuV2nX4a9R73z6g4owod4SQGq8E',\n",
       " 'fineweb2tr_train_000022.bin.gz': '1dzWh0vn2GN6zpe7-nmfkpABl81ipPzyC',\n",
       " 'fineweb2tr_train_000023.bin.gz': '1Mvz7Lrqr1Wci-qeddE0vGuoFqaleQlwX',\n",
       " 'fineweb2tr_train_000024.bin.gz': '1pMZTDFiy8MEKCdwmAQYAIwqRT1x0Ixko',\n",
       " 'fineweb2tr_train_000025.bin.gz': '15xqMefSF7XNhtPDIWgoXl8_WDXOlSTJT',\n",
       " 'fineweb2tr_train_000026.bin.gz': '1Vrbf1rxN3ri6-O-y6bk70KULOZLDKCUh',\n",
       " 'fineweb2tr_train_000027.bin.gz': '1U4_TwD9o9q50RMTFMPO50aPi1JYtA4af',\n",
       " 'fineweb2tr_train_000028.bin.gz': '1x6obor2aj-HqxDYneoFsrL8IEkwCzYYg',\n",
       " 'fineweb2tr_train_000029.bin.gz': '1x7YRGjh4AscxWBVNkEKNuW3mccN9PKwl',\n",
       " 'fineweb2tr_train_000030.bin.gz': '1W4eRrsYExuv87pv0bm-GBUH8y9BZ-LRg',\n",
       " 'fineweb2tr_train_000031.bin.gz': '1xujWYuFt1m8yy4u1nIOwFnKFR-OxU5Py',\n",
       " 'fineweb2tr_train_000032.bin.gz': '1cs7KiZeXjsNtMFCz6xeyKRe709lNbjKH',\n",
       " 'fineweb2tr_train_000033.bin.gz': '1T6mbRfxYtGF7vT2N1Mk4GMHrNXt0W60G',\n",
       " 'fineweb2tr_train_000034.bin.gz': '1o_c14Xvx6WEWpaI70YKV4zcvO7bTfZSe',\n",
       " 'fineweb2tr_train_000035.bin.gz': '1TYQFcB2bOjGcKAEcAjGCHk7b1DYR4HxS',\n",
       " 'fineweb2tr_train_000036.bin.gz': '13Px-w-gL54_YGj2HQUsXdQ_5vmIygy9R',\n",
       " 'fineweb2tr_train_000037.bin.gz': '1BsTmy84P5bz9iPYIdztYWI3wsjBS7nVT',\n",
       " 'fineweb2tr_train_000038.bin.gz': '1Da4Fc6crSeKD6IfbP6XrnJ_ArBOJawFl',\n",
       " 'fineweb2tr_train_000039.bin.gz': '1d2w90mr6CMwS2QOhUkosZrtHZnUMVloF',\n",
       " 'fineweb2tr_train_000040.bin.gz': '1aHUcqX6rexbMODJMNHa40ShqskB6VQSp',\n",
       " 'fineweb2tr_train_000041.bin.gz': '195OfauRZ_kNRVgYw0SxOKBIne07qRr1s',\n",
       " 'fineweb2tr_train_000042.bin.gz': '1F160VXPmlgX7WDsN-skbZPdOKFjiSqSF',\n",
       " 'fineweb2tr_train_000043.bin.gz': '1A3XYUb4nXIrhlhM1YSByKaqpqGXYVLnJ',\n",
       " 'fineweb2tr_train_000044.bin.gz': '1TycKCUGAYk-cu2Bn4NBPV8Fy396FOtGK',\n",
       " 'fineweb2tr_train_000045.bin.gz': '1QGk6uuThH86KD2P_n3rkqNSWpgfKMQMk',\n",
       " 'fineweb2tr_train_000046.bin.gz': '1AY17_T5Fi4j2EPyJTAib3kWSOUtTEjFF',\n",
       " 'fineweb2tr_train_000047.bin.gz': '1XH9vBWR_Z9ExZEJ96bavpb1I1rW75UdP',\n",
       " 'fineweb2tr_train_000048.bin.gz': '1H9BB0wwGDlphoDmMZDcgy4kQDFQ4JyFn',\n",
       " 'fineweb2tr_train_000049.bin.gz': '1O71gTV_FtKBgLZbGnoZ1mM6okmFo3mmT',\n",
       " 'fineweb2tr_train_000050.bin.gz': '1d4JqRmGKLBVbaMzo01dXWAMqDRYGjTBx',\n",
       " 'fineweb2tr_train_000051.bin.gz': '1oqC_e77MElYVaL8igdgezANGAFMZosgH',\n",
       " 'fineweb2tr_train_000052.bin.gz': '1eADLwZTfyjB4Y9uRXtN_chGopLTQJ9H8',\n",
       " 'fineweb2tr_train_000053.bin.gz': '1vEVG_JFInCLg-5pxN3cSCd4QEIhHFYsk',\n",
       " 'fineweb2tr_train_000054.bin.gz': '1D3tYMmXqTuS-zjzy_qGFq1hb8fTSOE-h',\n",
       " 'fineweb2tr_train_000055.bin.gz': '1TSSMadSdkpIOL4XDeqraa-ymwp_2obMN',\n",
       " 'fineweb2tr_train_000056.bin.gz': '1FjfRK82iYOiSh-0N9NhGp1VCjc-b01DN',\n",
       " 'fineweb2tr_train_000057.bin.gz': '1dc267puLN7-arntT2ZL1J8vZMsxmc-SW',\n",
       " 'fineweb2tr_train_000058.bin.gz': '1hYQBXsEWFIiNRgFYZsf-e3F-OMLE0GPc',\n",
       " 'fineweb2tr_train_000059.bin.gz': '17dBM0ukxq0K5JX1zvleWtyQd1ntt35yK',\n",
       " 'fineweb2tr_train_000060.bin.gz': '1foJpH0NGYSaEf98zPa5-XKdJ_HAsMnBE',\n",
       " 'fineweb2tr_train_000061.bin.gz': '1VACurNqeb-LtoQKJ_ZQ8vU1NNIim2KtG',\n",
       " 'fineweb2tr_train_000062.bin.gz': '1jHTcamDTen29O5DYqo0-84Wc30_vcIm3',\n",
       " 'fineweb2tr_train_000063.bin.gz': '15mArpNzEa_0BFAsFTMRNZ7C5NSLvzX0J',\n",
       " 'fineweb2tr_train_000064.bin.gz': '1RhGwaac6loH4bWxqya9lJOFRIJjvCutU',\n",
       " 'fineweb2tr_train_000065.bin.gz': '1mVPihW90jAnpUAkrvUV2Zg_sKFm2kaP5',\n",
       " 'fineweb2tr_train_000066.bin.gz': '199kaRZAtN97c4f0ywW4Y8i5Wk0hXVI_q',\n",
       " 'fineweb2tr_train_000067.bin.gz': '1TUgGClbdAeoSgsh3APv-ilUlM3DO-piQ',\n",
       " 'fineweb2tr_train_000068.bin.gz': '1EpzEzmM5JHvv5nyxmA4eYchv41H8HhKd',\n",
       " 'fineweb2tr_train_000069.bin.gz': '1Lj4q6L5DXElTX9PfH27wv7W23f3VyvlT',\n",
       " 'fineweb2tr_train_000070.bin.gz': '1_w4PsHKhvEheCt4TiyzdWhZFjEvGpOac',\n",
       " 'fineweb2tr_train_000071.bin.gz': '18Rp9D_9z4K8Y2Z6rLseBlagWJ28RacSZ',\n",
       " 'fineweb2tr_train_000072.bin.gz': '1VLL6BstE5wlOag2IuPBoFttDeWKpwS6r',\n",
       " 'fineweb2tr_train_000073.bin.gz': '12bGAdJhj15X7NnVFjgSouTuEpWI3Dyqp',\n",
       " 'fineweb2tr_train_000074.bin.gz': '1I_rj_bXL50XP1QpUtILA-9-itY4w-TTQ',\n",
       " 'fineweb2tr_train_000075.bin.gz': '1Eoi0NLD9x7lWewguuyOoARP_elFeRY1K',\n",
       " 'fineweb2tr_train_000076.bin.gz': '1rhefQg2r9NfD2LRKfGwbHwAV5_cZ-J5h',\n",
       " 'fineweb2tr_train_000077.bin.gz': '1oaZTqytBlCmdpY4vvLD5uXQcJiKDx1qg',\n",
       " 'fineweb2tr_train_000078.bin.gz': '1CqnArx8SoT8eIcTCKgQHkxIGmEAtabhQ',\n",
       " 'fineweb2tr_train_000079.bin.gz': '1b9_PG0Jkt1hef0XbpCRXWNuKJjNh9rZ-',\n",
       " 'fineweb2tr_train_000080.bin.gz': '14WYXJwgWKDKFtPuLX6sVjjhzeHQGAvUp',\n",
       " 'fineweb2tr_train_000081.bin.gz': '1Hwop4bXi-wQVzH5QPhezyZraMrbXcuYO',\n",
       " 'fineweb2tr_train_000082.bin.gz': '1o_Ger0NExsjRCTjzQA-_Hh4N9j9qYhMR',\n",
       " 'fineweb2tr_train_000083.bin.gz': '1nduiiRd-DR1Z3_u6FRoKFAv3PPDJgvSY',\n",
       " 'fineweb2tr_train_000084.bin.gz': '1NZDZWYK-JOLQugsdRI2_UEvc1oDBN9vk',\n",
       " 'fineweb2tr_train_000085.bin.gz': '1BvBcti2AKTpJ6sA8pGBXK-VZtJsj_t0q',\n",
       " 'fineweb2tr_train_000086.bin.gz': '1x-wmowCQWIcdcg0MT1mg8YbqtUOOiiYl',\n",
       " 'fineweb2tr_train_000087.bin.gz': '1kK9odW-ty-XmrA8UaVFAyb2xzsfDEHCp',\n",
       " 'fineweb2tr_train_000088.bin.gz': '1jrqTyD9v8bfOvxT2Aa1uHQCoOQZrlNqE',\n",
       " 'fineweb2tr_train_000089.bin.gz': '1RxtjXBkzxoSHw5DRI2PyOh6_GCpu3_yF',\n",
       " 'fineweb2tr_train_000090.bin.gz': '1Xwtj4bAn_4nyVd2d3DmDCeeAPGFzHSSB',\n",
       " 'fineweb2tr_train_000091.bin.gz': '1A-Rj1yEd3n1UfM7WEwpKJ5xcTNizo1MJ',\n",
       " 'fineweb2tr_train_000092.bin.gz': '1a6EKoAXpF787ZFCwJXdVkTyCeuCL4Ud2',\n",
       " 'fineweb2tr_train_000093.bin.gz': '1a3BRk9IIsbSEZBO5cgNul4zrsSdzuCIs',\n",
       " 'fineweb2tr_train_000094.bin.gz': '1hxb5CvF6biubaQgEySGAQODuCh5u3cpx',\n",
       " 'fineweb2tr_train_000095.bin.gz': '1veQSnQE6QyvLmbeqILEizkxoD1h-jOzy',\n",
       " 'fineweb2tr_train_000096.bin.gz': '18s4Rrq7Nlv6A_XgqWcGCXhOoHg89Blgj',\n",
       " 'fineweb2tr_train_000097.bin.gz': '12X45OPtCa37gEg0rcRAgIBdmUgN4Y1eR',\n",
       " 'fineweb2tr_train_000098.bin.gz': '1KZkG11_fxOA57foxItWAtyqw2Ry2zS4Y',\n",
       " 'fineweb2tr_train_000099.bin.gz': '1eRVzGPdoFNTBwbq3akXuhAcTABKVed0f',\n",
       " 'fineweb2tr_train_000100.bin.gz': '1BcESx6p16uwDFBuxGlJpQljD_g05xcAf',\n",
       " 'fineweb2tr_val_000000.bin.gz': '1K51xvOhBMJSKBh_fboHjQjMgbz5Q13fL',\n",
       " 'z_newstr_val_000000.bin': '1jCRnuvEtP8xCVIJn7rpMFL30Ct_J7eiK'}"
      ]
     },
     "execution_count": 11,
     "metadata": {},
     "output_type": "execute_result"
    }
   ],
   "source": [
    "files_dict"
   ]
  },
  {
   "cell_type": "code",
   "execution_count": 12,
   "metadata": {},
   "outputs": [],
   "source": [
    "sorted_files_dict = { k:files_dict[k] for k in sorted(files_dict.keys())}"
   ]
  },
  {
   "cell_type": "code",
   "execution_count": 13,
   "metadata": {},
   "outputs": [
    {
     "data": {
      "text/plain": [
       "{'fineweb2tr_train_000000.bin.gz': '1xkIM3bG_M0X8k43np5ggeCfnVQY-fW3b',\n",
       " 'fineweb2tr_train_000001.bin.gz': '1HG273QQ06JrUIGuxLgQKCRVOY5RdTvt9',\n",
       " 'fineweb2tr_train_000002.bin.gz': '1IVQmp3Fqkg0nYOPem_1vtaEBtXWPf8lL',\n",
       " 'fineweb2tr_train_000003.bin.gz': '1n1TxuqplKTTY2Tm_x3Deg1598X0vF3G6',\n",
       " 'fineweb2tr_train_000004.bin.gz': '14aN8WJa0-uW72aoKv83rdTLefA63clSx',\n",
       " 'fineweb2tr_train_000005.bin.gz': '13P6RwhU0JoioSF0fK4RIdA1sU1wS0oRi',\n",
       " 'fineweb2tr_train_000006.bin.gz': '1g7uVJz8JzG8VasNtL9APTzaBjAQI5wSw',\n",
       " 'fineweb2tr_train_000007.bin.gz': '1-S1jJfwDWHZrx_zDe-OXksxR51m1D8WM',\n",
       " 'fineweb2tr_train_000008.bin.gz': '1x4TUPR7UPxIYl2T6iYpFlyNnCDx0X9P7',\n",
       " 'fineweb2tr_train_000009.bin.gz': '16OEALK594ELduIdOZKuKNA7kCyU81tNO',\n",
       " 'fineweb2tr_train_000010.bin.gz': '18bqKLeUHE6uAjeN_Xywl3POs2Wb8GJZh',\n",
       " 'fineweb2tr_train_000011.bin.gz': '1UIF6iInErZfIa6JW64z3ZBxWMsltHEhU',\n",
       " 'fineweb2tr_train_000012.bin.gz': '1OIWi_kToqF-yHZGhWCpThxQhpCeMCRn0',\n",
       " 'fineweb2tr_train_000013.bin.gz': '1jy8D68LXjf9IWUm4QL0bW0Zssj8tihIi',\n",
       " 'fineweb2tr_train_000014.bin.gz': '1VPKVMAoMJjGO0g5PDA65uwZdroA5P9L-',\n",
       " 'fineweb2tr_train_000015.bin.gz': '10yrX7rFrBSfGKM2-9Sz1BvBCgvxoGzT-',\n",
       " 'fineweb2tr_train_000016.bin.gz': '1tSSRSWSIm7voszOlwcgv0jJwfNPy-RzH',\n",
       " 'fineweb2tr_train_000017.bin.gz': '1VL7CM7KrOL7xASRcZDngPJENTOHht3lJ',\n",
       " 'fineweb2tr_train_000018.bin.gz': '1OBe6JPnJ-C4D1jAvXkmJruXsYP6Qg_By',\n",
       " 'fineweb2tr_train_000019.bin.gz': '1UmA1MEDMUncdUbYpvZv5slS1eA9S3AiC',\n",
       " 'fineweb2tr_train_000020.bin.gz': '181gb1XGtftVwWXWEWIRdBv6VA-sfut_F',\n",
       " 'fineweb2tr_train_000021.bin.gz': '1pMlQmQuV2nX4a9R73z6g4owod4SQGq8E',\n",
       " 'fineweb2tr_train_000022.bin.gz': '1dzWh0vn2GN6zpe7-nmfkpABl81ipPzyC',\n",
       " 'fineweb2tr_train_000023.bin.gz': '1Mvz7Lrqr1Wci-qeddE0vGuoFqaleQlwX',\n",
       " 'fineweb2tr_train_000024.bin.gz': '1pMZTDFiy8MEKCdwmAQYAIwqRT1x0Ixko',\n",
       " 'fineweb2tr_train_000025.bin.gz': '15xqMefSF7XNhtPDIWgoXl8_WDXOlSTJT',\n",
       " 'fineweb2tr_train_000026.bin.gz': '1Vrbf1rxN3ri6-O-y6bk70KULOZLDKCUh',\n",
       " 'fineweb2tr_train_000027.bin.gz': '1U4_TwD9o9q50RMTFMPO50aPi1JYtA4af',\n",
       " 'fineweb2tr_train_000028.bin.gz': '1x6obor2aj-HqxDYneoFsrL8IEkwCzYYg',\n",
       " 'fineweb2tr_train_000029.bin.gz': '1x7YRGjh4AscxWBVNkEKNuW3mccN9PKwl',\n",
       " 'fineweb2tr_train_000030.bin.gz': '1W4eRrsYExuv87pv0bm-GBUH8y9BZ-LRg',\n",
       " 'fineweb2tr_train_000031.bin.gz': '1xujWYuFt1m8yy4u1nIOwFnKFR-OxU5Py',\n",
       " 'fineweb2tr_train_000032.bin.gz': '1cs7KiZeXjsNtMFCz6xeyKRe709lNbjKH',\n",
       " 'fineweb2tr_train_000033.bin.gz': '1T6mbRfxYtGF7vT2N1Mk4GMHrNXt0W60G',\n",
       " 'fineweb2tr_train_000034.bin.gz': '1o_c14Xvx6WEWpaI70YKV4zcvO7bTfZSe',\n",
       " 'fineweb2tr_train_000035.bin.gz': '1TYQFcB2bOjGcKAEcAjGCHk7b1DYR4HxS',\n",
       " 'fineweb2tr_train_000036.bin.gz': '13Px-w-gL54_YGj2HQUsXdQ_5vmIygy9R',\n",
       " 'fineweb2tr_train_000037.bin.gz': '1BsTmy84P5bz9iPYIdztYWI3wsjBS7nVT',\n",
       " 'fineweb2tr_train_000038.bin.gz': '1Da4Fc6crSeKD6IfbP6XrnJ_ArBOJawFl',\n",
       " 'fineweb2tr_train_000039.bin.gz': '1d2w90mr6CMwS2QOhUkosZrtHZnUMVloF',\n",
       " 'fineweb2tr_train_000040.bin.gz': '1aHUcqX6rexbMODJMNHa40ShqskB6VQSp',\n",
       " 'fineweb2tr_train_000041.bin.gz': '195OfauRZ_kNRVgYw0SxOKBIne07qRr1s',\n",
       " 'fineweb2tr_train_000042.bin.gz': '1F160VXPmlgX7WDsN-skbZPdOKFjiSqSF',\n",
       " 'fineweb2tr_train_000043.bin.gz': '1A3XYUb4nXIrhlhM1YSByKaqpqGXYVLnJ',\n",
       " 'fineweb2tr_train_000044.bin.gz': '1TycKCUGAYk-cu2Bn4NBPV8Fy396FOtGK',\n",
       " 'fineweb2tr_train_000045.bin.gz': '1QGk6uuThH86KD2P_n3rkqNSWpgfKMQMk',\n",
       " 'fineweb2tr_train_000046.bin.gz': '1AY17_T5Fi4j2EPyJTAib3kWSOUtTEjFF',\n",
       " 'fineweb2tr_train_000047.bin.gz': '1XH9vBWR_Z9ExZEJ96bavpb1I1rW75UdP',\n",
       " 'fineweb2tr_train_000048.bin.gz': '1H9BB0wwGDlphoDmMZDcgy4kQDFQ4JyFn',\n",
       " 'fineweb2tr_train_000049.bin.gz': '1O71gTV_FtKBgLZbGnoZ1mM6okmFo3mmT',\n",
       " 'fineweb2tr_train_000050.bin.gz': '1d4JqRmGKLBVbaMzo01dXWAMqDRYGjTBx',\n",
       " 'fineweb2tr_train_000051.bin.gz': '1oqC_e77MElYVaL8igdgezANGAFMZosgH',\n",
       " 'fineweb2tr_train_000052.bin.gz': '1eADLwZTfyjB4Y9uRXtN_chGopLTQJ9H8',\n",
       " 'fineweb2tr_train_000053.bin.gz': '1vEVG_JFInCLg-5pxN3cSCd4QEIhHFYsk',\n",
       " 'fineweb2tr_train_000054.bin.gz': '1D3tYMmXqTuS-zjzy_qGFq1hb8fTSOE-h',\n",
       " 'fineweb2tr_train_000055.bin.gz': '1TSSMadSdkpIOL4XDeqraa-ymwp_2obMN',\n",
       " 'fineweb2tr_train_000056.bin.gz': '1FjfRK82iYOiSh-0N9NhGp1VCjc-b01DN',\n",
       " 'fineweb2tr_train_000057.bin.gz': '1dc267puLN7-arntT2ZL1J8vZMsxmc-SW',\n",
       " 'fineweb2tr_train_000058.bin.gz': '1hYQBXsEWFIiNRgFYZsf-e3F-OMLE0GPc',\n",
       " 'fineweb2tr_train_000059.bin.gz': '17dBM0ukxq0K5JX1zvleWtyQd1ntt35yK',\n",
       " 'fineweb2tr_train_000060.bin.gz': '1foJpH0NGYSaEf98zPa5-XKdJ_HAsMnBE',\n",
       " 'fineweb2tr_train_000061.bin.gz': '1VACurNqeb-LtoQKJ_ZQ8vU1NNIim2KtG',\n",
       " 'fineweb2tr_train_000062.bin.gz': '1jHTcamDTen29O5DYqo0-84Wc30_vcIm3',\n",
       " 'fineweb2tr_train_000063.bin.gz': '15mArpNzEa_0BFAsFTMRNZ7C5NSLvzX0J',\n",
       " 'fineweb2tr_train_000064.bin.gz': '1RhGwaac6loH4bWxqya9lJOFRIJjvCutU',\n",
       " 'fineweb2tr_train_000065.bin.gz': '1mVPihW90jAnpUAkrvUV2Zg_sKFm2kaP5',\n",
       " 'fineweb2tr_train_000066.bin.gz': '199kaRZAtN97c4f0ywW4Y8i5Wk0hXVI_q',\n",
       " 'fineweb2tr_train_000067.bin.gz': '1TUgGClbdAeoSgsh3APv-ilUlM3DO-piQ',\n",
       " 'fineweb2tr_train_000068.bin.gz': '1EpzEzmM5JHvv5nyxmA4eYchv41H8HhKd',\n",
       " 'fineweb2tr_train_000069.bin.gz': '1Lj4q6L5DXElTX9PfH27wv7W23f3VyvlT',\n",
       " 'fineweb2tr_train_000070.bin.gz': '1_w4PsHKhvEheCt4TiyzdWhZFjEvGpOac',\n",
       " 'fineweb2tr_train_000071.bin.gz': '18Rp9D_9z4K8Y2Z6rLseBlagWJ28RacSZ',\n",
       " 'fineweb2tr_train_000072.bin.gz': '1VLL6BstE5wlOag2IuPBoFttDeWKpwS6r',\n",
       " 'fineweb2tr_train_000073.bin.gz': '12bGAdJhj15X7NnVFjgSouTuEpWI3Dyqp',\n",
       " 'fineweb2tr_train_000074.bin.gz': '1I_rj_bXL50XP1QpUtILA-9-itY4w-TTQ',\n",
       " 'fineweb2tr_train_000075.bin.gz': '1Eoi0NLD9x7lWewguuyOoARP_elFeRY1K',\n",
       " 'fineweb2tr_train_000076.bin.gz': '1rhefQg2r9NfD2LRKfGwbHwAV5_cZ-J5h',\n",
       " 'fineweb2tr_train_000077.bin.gz': '1oaZTqytBlCmdpY4vvLD5uXQcJiKDx1qg',\n",
       " 'fineweb2tr_train_000078.bin.gz': '1CqnArx8SoT8eIcTCKgQHkxIGmEAtabhQ',\n",
       " 'fineweb2tr_train_000079.bin.gz': '1b9_PG0Jkt1hef0XbpCRXWNuKJjNh9rZ-',\n",
       " 'fineweb2tr_train_000080.bin.gz': '14WYXJwgWKDKFtPuLX6sVjjhzeHQGAvUp',\n",
       " 'fineweb2tr_train_000081.bin.gz': '1Hwop4bXi-wQVzH5QPhezyZraMrbXcuYO',\n",
       " 'fineweb2tr_train_000082.bin.gz': '1o_Ger0NExsjRCTjzQA-_Hh4N9j9qYhMR',\n",
       " 'fineweb2tr_train_000083.bin.gz': '1nduiiRd-DR1Z3_u6FRoKFAv3PPDJgvSY',\n",
       " 'fineweb2tr_train_000084.bin.gz': '1NZDZWYK-JOLQugsdRI2_UEvc1oDBN9vk',\n",
       " 'fineweb2tr_train_000085.bin.gz': '1BvBcti2AKTpJ6sA8pGBXK-VZtJsj_t0q',\n",
       " 'fineweb2tr_train_000086.bin.gz': '1x-wmowCQWIcdcg0MT1mg8YbqtUOOiiYl',\n",
       " 'fineweb2tr_train_000087.bin.gz': '1kK9odW-ty-XmrA8UaVFAyb2xzsfDEHCp',\n",
       " 'fineweb2tr_train_000088.bin.gz': '1jrqTyD9v8bfOvxT2Aa1uHQCoOQZrlNqE',\n",
       " 'fineweb2tr_train_000089.bin.gz': '1RxtjXBkzxoSHw5DRI2PyOh6_GCpu3_yF',\n",
       " 'fineweb2tr_train_000090.bin.gz': '1Xwtj4bAn_4nyVd2d3DmDCeeAPGFzHSSB',\n",
       " 'fineweb2tr_train_000091.bin.gz': '1A-Rj1yEd3n1UfM7WEwpKJ5xcTNizo1MJ',\n",
       " 'fineweb2tr_train_000092.bin.gz': '1a6EKoAXpF787ZFCwJXdVkTyCeuCL4Ud2',\n",
       " 'fineweb2tr_train_000093.bin.gz': '1a3BRk9IIsbSEZBO5cgNul4zrsSdzuCIs',\n",
       " 'fineweb2tr_train_000094.bin.gz': '1hxb5CvF6biubaQgEySGAQODuCh5u3cpx',\n",
       " 'fineweb2tr_train_000095.bin.gz': '1veQSnQE6QyvLmbeqILEizkxoD1h-jOzy',\n",
       " 'fineweb2tr_train_000096.bin.gz': '18s4Rrq7Nlv6A_XgqWcGCXhOoHg89Blgj',\n",
       " 'fineweb2tr_train_000097.bin.gz': '12X45OPtCa37gEg0rcRAgIBdmUgN4Y1eR',\n",
       " 'fineweb2tr_train_000098.bin.gz': '1KZkG11_fxOA57foxItWAtyqw2Ry2zS4Y',\n",
       " 'fineweb2tr_train_000099.bin.gz': '1eRVzGPdoFNTBwbq3akXuhAcTABKVed0f',\n",
       " 'fineweb2tr_train_000100.bin.gz': '1BcESx6p16uwDFBuxGlJpQljD_g05xcAf',\n",
       " 'fineweb2tr_val_000000.bin.gz': '1K51xvOhBMJSKBh_fboHjQjMgbz5Q13fL',\n",
       " 'z_newstr_val_000000.bin': '1jCRnuvEtP8xCVIJn7rpMFL30Ct_J7eiK'}"
      ]
     },
     "execution_count": 13,
     "metadata": {},
     "output_type": "execute_result"
    }
   ],
   "source": [
    "sorted_files_dict"
   ]
  },
  {
   "cell_type": "code",
   "execution_count": 23,
   "metadata": {},
   "outputs": [],
   "source": [
    "import json\n",
    "with open(\"data_files.json\",\"w\") as f:\n",
    "    json.dump(sorted_files_dict, f, indent=1)"
   ]
  },
  {
   "cell_type": "code",
   "execution_count": 24,
   "metadata": {},
   "outputs": [],
   "source": [
    "import glob"
   ]
  },
  {
   "cell_type": "code",
   "execution_count": 25,
   "metadata": {},
   "outputs": [
    {
     "data": {
      "text/plain": [
       "['newstr_tokenized/z_newstr_val_000000.bin',\n",
       " 'newstr_tokenized/z_newstr_train_000005.bin',\n",
       " 'newstr_tokenized/z_newstr_train_000000.bin',\n",
       " 'newstr_tokenized/z_newstr_train_000008.bin',\n",
       " 'newstr_tokenized/z_newstr_train_000006.bin',\n",
       " 'newstr_tokenized/z_newstr_train_000002.bin',\n",
       " 'newstr_tokenized/z_newstr_train_000003.bin',\n",
       " 'newstr_tokenized/z_newstr_train_000004.bin',\n",
       " 'newstr_tokenized/z_newstr_train_000010.bin',\n",
       " 'newstr_tokenized/z_newstr_train_000009.bin',\n",
       " 'newstr_tokenized/z_newstr_train_000001.bin',\n",
       " 'newstr_tokenized/z_newstr_train_000007.bin']"
      ]
     },
     "execution_count": 25,
     "metadata": {},
     "output_type": "execute_result"
    }
   ],
   "source": [
    "glob.glob(\"newstr_tokenized/*.bin\")"
   ]
  },
  {
   "cell_type": "code",
   "execution_count": null,
   "metadata": {},
   "outputs": [],
   "source": []
  }
 ],
 "metadata": {
  "kernelspec": {
   "display_name": "myenv",
   "language": "python",
   "name": "python3"
  },
  "language_info": {
   "codemirror_mode": {
    "name": "ipython",
    "version": 3
   },
   "file_extension": ".py",
   "mimetype": "text/x-python",
   "name": "python",
   "nbconvert_exporter": "python",
   "pygments_lexer": "ipython3",
   "version": "3.11.9"
  }
 },
 "nbformat": 4,
 "nbformat_minor": 2
}
