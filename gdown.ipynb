{
 "cells": [
  {
   "cell_type": "code",
   "execution_count": 3,
   "metadata": {},
   "outputs": [],
   "source": [
    "import gdown"
   ]
  },
  {
   "cell_type": "code",
   "execution_count": 4,
   "metadata": {},
   "outputs": [
    {
     "name": "stderr",
     "output_type": "stream",
     "text": [
      "Retrieving folder contents\n"
     ]
    },
    {
     "name": "stdout",
     "output_type": "stream",
     "text": [
      "Processing file 1bBTywzrmvokX57LP5pe2GSTO5N-N5xXS train_000000.bin\n",
      "Processing file 1eHp4uCQveLJOMHeCtrcm-arhPvlzgJgo train_000001.bin\n",
      "Processing file 1W8HxpP5rDTLuY_XsCqke-fQsqGRP1q3A train_000002.bin\n",
      "Processing file 1HB_DhGeKNZe2nMJ58_RRiTLiPGGBvsjr train_000003.bin\n",
      "Processing file 1W0bvzaGRAQAziL_n_05LrTsvMtVryd-z train_000004.bin\n",
      "Processing file 1F6AtAoXcHYGrZ7eDeuo-w2oqAFylIgXJ train_000005.bin\n",
      "Processing file 1sdHk5ds0YiWq1KYiVIo0N5hL9t-yFCck train_000006.bin\n",
      "Processing file 1pAbWDCy6M43M5XkYRxyCCYOgHAcaRtSw train_000007.bin\n",
      "Processing file 1fPaJEDd493oN8lq7fL2d8pdiytG5vLxD train_000008.bin\n",
      "Processing file 1cftwTPHJymZptrANm-GEbdc0AoIcY-rS train_000009.bin\n",
      "Processing file 1l6b6sEzD7L0F5x_6QFQNx6qAsSFhyHn8 train_000010.bin\n",
      "Processing file 1VtH7iUBe7U_I2Y3nSJiD0dpv5cbU6sVM train_000011.bin\n",
      "Processing file 1hnUs5drfWNndZroHtuif9EwJ_6YHTU5t train_000012.bin\n",
      "Processing file 1tGSLsmDSj6Epn9_SEPxWtqUU9pqhpIlf train_000013.bin\n",
      "Processing file 1ALLXmxoP6bAtwYQ-6Q3ytVOJOH3B61z7 train_000014.bin\n",
      "Processing file 10Ges75n8EEwIm8yfrls-ZQrSSCfHtAGt train_000015.bin\n",
      "Processing file 1xyBBvCjlbTNmqo91cx-B4NUIlyWPOrui train_000016.bin\n",
      "Processing file 1YKZT02HXK3W0KVJIJ2nN7WyqcqAcQz8t train_000017.bin\n",
      "Processing file 1-6wJgvP27CSQt9TsVXCeY2OT8roT3Uvk train_000018.bin\n",
      "Processing file 1RDq2GPR2OlAEnpmCNs5QSKMrqb8eHYeP train_000019.bin\n",
      "Processing file 1iA6SyH9aVv7zNhSne3pVBXig_rWaGdK7 train_000020.bin\n",
      "Processing file 1PyVnPAH8vzFl--YUCg7xyhXpyRMry9ot train_000021.bin\n",
      "Processing file 1Ou7-PM58b9HNf4YwpqkIG8MTuf9msZwh train_000022.bin\n",
      "Processing file 1_Mwx9s15pE-dQVuYGqVtdsCXYEQIlPma train_000023.bin\n",
      "Processing file 1tO6INRwyWFjVdg8umJYTBE8cym0mqc0y train_000024.bin\n",
      "Processing file 1do2lZ3EQUt1uj_9YTwWSa6vNOPPH5db0 train_000025.bin\n",
      "Processing file 1hvFt915BSJz3-DxzTpnwfW21hafIAwgP train_000026.bin\n",
      "Processing file 1CHNDYwcSYfZ5Qaz5OF1808rftVOW3OiX train_000027.bin\n",
      "Processing file 1Z7VdiL5HI6mVQYvaDAAYRY4cl-M1RxnA train_000028.bin\n",
      "Processing file 19g6q2N2Ep3CQy36of4PqzM7rddsFcx0C train_000029.bin\n",
      "Processing file 1sTY8n1XzXpSAH2ZV9Ei_y_HgrT5XzM5k train_000030.bin\n",
      "Processing file 1Bcaszdn6dLjboAB7PFucyNi_in05ygvn train_000031.bin\n",
      "Processing file 1g42ypsof0TJOsbk6RGwDwR_m604TM4Gb train_000032.bin\n",
      "Processing file 1dZa0hG26NYy9-pBxyIdx5Jhoy6YktU82 train_000033.bin\n",
      "Processing file 1ZffZvErW0Q6l3jFU7nFqQBEeW_mWnBHZ train_000034.bin\n",
      "Processing file 1BoUxXHI-Ni3bqYX2Y1Ws7uHThD-nNOm7 train_000035.bin\n",
      "Processing file 18fWIUYgDc9X4kdNPvQkho1W26CExC9jW train_000036.bin\n",
      "Processing file 1572L_4qdYBgCP6yz1_uieB5XJGHXzpSZ train_000037.bin\n",
      "Processing file 1jJKZJUihtHVp8g4njPoD-DiAIkmDjomD train_000038.bin\n",
      "Processing file 14QYJWyfcXB2dDiEab5-zxTCbjDxI0mJj train_000039.bin\n",
      "Processing file 1kWmgzIaMb4nTXlnVipwTio7p7oldrkvt train_000040.bin\n",
      "Processing file 1ZvUYQhT36TKK__r6PW9QNvoLSMUbrvG7 train_000041.bin\n",
      "Processing file 1QzW70fzg5Vm2GSZkKhQRaHWr0eS6BLrt train_000042.bin\n",
      "Processing file 1Ie5274MfTaJ4KKW1Ve2mG4DzfdoZq_e_ train_000043.bin\n",
      "Processing file 1S03JsNm7hoJskMO1M2zFvsMb4qVwUZKO train_000044.bin\n",
      "Processing file 1277FG-MdAvkLy4bCY6sPGahnjGzqXDv- train_000045.bin\n",
      "Processing file 1NkTowgSN2-uzX_t3GJCB6ZJRPlEYHB7I train_000046.bin\n",
      "Processing file 1yOwRNOS1LYnZRZatWhke-wAswHYg2YCl train_000047.bin\n",
      "Processing file 1cALZP-hXJxBsRbZtStNUVZeIb_UCEj4K train_000048.bin\n"
     ]
    },
    {
     "name": "stderr",
     "output_type": "stream",
     "text": [
      "Retrieving folder contents completed\n",
      "Building directory structure\n",
      "Building directory structure completed\n",
      "Download completed\n"
     ]
    }
   ],
   "source": [
    "# https://drive.google.com/drive/folders/1By1EamA0twEyfODrxtp_htR8uu3xGT9m?usp=drive_link\n",
    "files2 = gdown.download_folder(id=\"1By1EamA0twEyfODrxtp_htR8uu3xGT9m\",skip_download=True)"
   ]
  },
  {
   "cell_type": "code",
   "execution_count": 9,
   "metadata": {},
   "outputs": [],
   "source": [
    "files2=files"
   ]
  },
  {
   "cell_type": "code",
   "execution_count": 6,
   "metadata": {},
   "outputs": [
    {
     "name": "stderr",
     "output_type": "stream",
     "text": [
      "Retrieving folder contents\n"
     ]
    },
    {
     "name": "stdout",
     "output_type": "stream",
     "text": [
      "Processing file 1o95LDlRqExrQE5bF51QttnN_BHcimMKf train_000049.bin\n",
      "Processing file 1VVnqOzxFAVzWULjwWQsHxtaUa4IS9FL8 train_000050.bin\n",
      "Processing file 1_FYw1qb_L-y8pp1KOa3hxyhOyglt5yd- train_000051.bin\n",
      "Processing file 1wUaquPK47azKgKOB-6OPl-zlArCh3bUq train_000052.bin\n",
      "Processing file 1MaSwWox9uxWPrdVFrIPeMeHMaZkdWIJA train_000053.bin\n",
      "Processing file 1ePImhivBH35I2934qEVaCzSiS5mW-ph8 train_000054.bin\n",
      "Processing file 1txLDwceva6i3Z6Zzppgo4zOTBsOHH1La train_000055.bin\n",
      "Processing file 1wEgQ3HaSJmoa8iTnXG8Vvpsf0bEfi3uU train_000056.bin\n",
      "Processing file 1OnlufUSY3_llQSKeyOwFXmiJhVmlN07X z_newstr_train_000006.bin\n",
      "Processing file 1XJlpwKntrflQWrZn7lhSsECsQ8mbGOY1 z_newstr_train_000007.bin\n",
      "Processing file 1jR1zaH7CdJfHoYBXmWbBmyCbOQogYfRl z_newstr_train_000008.bin\n",
      "Processing file 1w2_2GVRmZVjLIQ-xIRxdmx9nv16gdvkp z_newstr_train_000009.bin\n",
      "Processing file 1QOzB5pwbmWkJSKqxcy4Bqr4a4cEcMox3 z_newstr_train_000010.bin\n",
      "Processing file 1yhIDFDVgG2pezrY_sHLxeRV-NJOdmJrL z_newstr_val_000000.bin\n"
     ]
    },
    {
     "name": "stderr",
     "output_type": "stream",
     "text": [
      "Retrieving folder contents completed\n",
      "Building directory structure\n",
      "Building directory structure completed\n",
      "Download completed\n"
     ]
    }
   ],
   "source": [
    "# https://drive.google.com/drive/folders/1gYt4pnFDklj-FOw9BzThBCmt08ST7cGb?usp=drive_link\n",
    "files3 = gdown.download_folder(id=\"1gYt4pnFDklj-FOw9BzThBCmt08ST7cGb\",skip_download=True)"
   ]
  },
  {
   "cell_type": "code",
   "execution_count": 7,
   "metadata": {},
   "outputs": [
    {
     "name": "stderr",
     "output_type": "stream",
     "text": [
      "Retrieving folder contents\n"
     ]
    },
    {
     "name": "stdout",
     "output_type": "stream",
     "text": [
      "Processing file 1eqY4dbTSOmMSCX9IVk4mARB5yVcmZ3vz train_000058.bin\n",
      "Processing file 1HDH4XSEJCxRTaLdGYfzLcfyIp97OKBdh train_000059.bin\n",
      "Processing file 1Ffcn7UqNqCiMrEjE8uKHTTnQI6At0_Xy train_000060.bin\n",
      "Processing file 1m_4IVCUJP3yEa8Sr9ICQGGys_eSaMxUf train_000061.bin\n",
      "Processing file 1ISwbqApkC1Ht8PLWDsvr7TBRLhPwYw4s train_000062.bin\n",
      "Processing file 1nMsMxCedZsZX6IC7ZPCSFL46-ZeZo0CP train_000063.bin\n",
      "Processing file 1_RmgtyJ1VvzY0jfUu-JG_ApFg9aF81z8 train_000064.bin\n",
      "Processing file 1gJvM6m8AiEHdSiHAVfXWvKpAPqT28Z1d train_000065.bin\n",
      "Processing file 19-J8CKs6VWsFQvB7cAIao2vNEuluCMZS train_000066.bin\n",
      "Processing file 1mEWnthzvW_JMusavlvvXTpDP8LSDELOI train_000067.bin\n",
      "Processing file 17sC-W8HSCO85kN_U-wluzwSDz4azwG3u train_000068.bin\n",
      "Processing file 1ybNQszJ93uBJrlMdOx-qBVG_zFjR66-2 train_000069.bin\n",
      "Processing file 1FiC7-g1ZbzoFvnTC2G9Bjjy9RNlT0Klv train_000070.bin\n",
      "Processing file 1OelfmWIAIbCVlEOMZXgsfW2i9qblLNhk train_000071.bin\n",
      "Processing file 18icsHifOYr7Fihg0Z7FlH8-YHJ7TIPeb train_000072.bin\n",
      "Processing file 1RkyyMLvfqurOE6gv8n4CVlT6KyvgRcfO train_000073.bin\n",
      "Processing file 17YNBjeCCWhBsdaLZto9624D7uZIvkofC train_000074.bin\n",
      "Processing file 1nevJZ6_jMiItUy-TjMRImFfMj6NXGPEl train_000075.bin\n",
      "Processing file 1DZbKIypaHyHA1tCprjCeFMkcgsN-LqBj train_000076.bin\n",
      "Processing file 1zKjY0AX8Jh3hiHv1Eh4DjpNY4O46oHrm train_000077.bin\n",
      "Processing file 1mAjuZXc7ZRBO0POzJAJYrMo8zOvqBvP4 train_000078.bin\n",
      "Processing file 1LDNBGYbxSNmsf9o3i3l0Lu6v8u_QqfeX train_000079.bin\n",
      "Processing file 1UOA__T21jQuscgqx-KqXz_IsyIyHVo5b train_000080.bin\n",
      "Processing file 1QYr0uGo4EqXtDHSjohagCEZiMmatKOm4 train_000081.bin\n",
      "Processing file 1AGFu6He4ovyL440K_SwluenXPp2EoKCn train_000082.bin\n",
      "Processing file 1kTnIYxFswRZb7eKCvxEbCFQSRh7dL2Tj train_000083.bin\n",
      "Processing file 1aErJzVOp7p9V1uLSJ-wFr_J3kY7bjZlD train_000084.bin\n",
      "Processing file 1CKHao8FL-eFavgCr1gk1I6C9hn5cmMEI train_000085.bin\n",
      "Processing file 1rpIrOG9vRf5bERG6EK_gnK3dYLpYKmJu train_000086.bin\n",
      "Processing file 13qn6zq7inqVGQR5I4ynhUTe6EFO3Fk4J train_000087.bin\n",
      "Processing file 1qbsmk1GyB5HYx1-xE-oenEm_4BCRL869 train_000088.bin\n",
      "Processing file 1fTPXuR-EbwbNyqzsAqJg9_DHROAzQPk2 train_000089.bin\n",
      "Processing file 1UN8tWG2aDMsHhmQB7G8hJwKTaIGn7otQ train_000090.bin\n",
      "Processing file 1xacIkTpC6CbqHEGdXxkDHmQOpcNqCodF train_000091.bin\n",
      "Processing file 1Jq_cs08zIv130RSMF8_SoxEO3rmTG7Ub train_000092.bin\n",
      "Processing file 13to6seKsekNnjP70kyxBg_8YhxqHivdq train_000093.bin\n",
      "Processing file 1my-DHyTlPyWi4CDuwC3hRm-D8Pgicpkx train_000094.bin\n",
      "Processing file 1Bp5Su972mDsi08kWvXtWwXySJkIPMEPO train_000095.bin\n",
      "Processing file 1id6UZzkUL6BEJbeoQ7hrfLtppWUwo5pG train_000096.bin\n",
      "Processing file 1cBvWQ1PDjzU7X96FiTtuQuYSp-YqxU5h train_000097.bin\n",
      "Processing file 1c0ZwUDBs9zvUQp407Qp5132dSUlzSsh0 train_000098.bin\n",
      "Processing file 1pfe98hFTUFNGbElHDbCYGMO34BUmLPnc train_000099.bin\n",
      "Processing file 1L53Gp9kXZNFqTE1PeZuktzcDGXQPx7ns train_000100.bin\n",
      "Processing file 1zqpOhm7PNH6M1RkmF25XUDVRwA63W3qr train_000101.bin\n",
      "Processing file 18Qa1omQl92QaxtHQ9uOKnwGhvdtnbhdA train_000102.bin\n",
      "Processing file 1gkZMnNLIZ5p1Gf10deVvztWCUQbIzTaz train_000103.bin\n",
      "Processing file 1v8gLAzOB0hfDGu-ipohHCMT1fXCNGfq_ train_000104.bin\n",
      "Processing file 1SCqRpMu5Hg-B4EbWZEeTn9hv8kj2mGCX train_000105.bin\n",
      "Processing file 1cnmdVgjK8CNBs84G2XbkxO1HOIqhtrwF train_000106.bin\n"
     ]
    },
    {
     "name": "stderr",
     "output_type": "stream",
     "text": [
      "Retrieving folder contents completed\n",
      "Building directory structure\n",
      "Building directory structure completed\n",
      "Download completed\n"
     ]
    }
   ],
   "source": [
    "# https://drive.google.com/drive/folders/1i0K8UknjeWVIucqxJz6LQ-Dv39gcmgBY?usp=drive_link\n",
    "files0 = gdown.download_folder(id=\"1i0K8UknjeWVIucqxJz6LQ-Dv39gcmgBY\",skip_download=True)"
   ]
  },
  {
   "cell_type": "code",
   "execution_count": 8,
   "metadata": {},
   "outputs": [
    {
     "name": "stderr",
     "output_type": "stream",
     "text": [
      "Retrieving folder contents\n"
     ]
    },
    {
     "name": "stdout",
     "output_type": "stream",
     "text": [
      "Processing file 1G6WpyewKGcXwEkDlXFMcNshtTTfmitNI train_000057.bin\n",
      "Processing file 1uUWJjKkkNAdkSxBw-OSf9HWqb_E5KfD9 train_000107.bin\n",
      "Processing file 1zqysW3nQn_cCyKz4gQDVa-HQwPDX26yu train_000108.bin\n",
      "Processing file 1G90V3sFy8WvkaXXtufJTHetNKYuNruBh train_000109.bin\n",
      "Processing file 1xzifp6nKfW2w8aQqvqmNn5jSWzN6Z68R train_000110.bin\n",
      "Processing file 1M0iMuNRVVEhzBw5NBwBtiafYOCt4UaUb z_newstr_train_000000.bin\n",
      "Processing file 147_FF8DuPY8NiMsKla8D9tUoZ6Qv9f7_ z_newstr_train_000001.bin\n",
      "Processing file 1zKDsEe3v9NaKtXW-c2X4TSHx6xxYFIky z_newstr_train_000002.bin\n",
      "Processing file 1X4ai9ODdxw7YwAXCmniCc0oX2KNiZIMU z_newstr_train_000003.bin\n",
      "Processing file 1aOH5hd4GJWA1cctJH94g9rW2mbYDcU2d z_newstr_train_000004.bin\n",
      "Processing file 1Qdtv3IcjdLceaIkN99gArCvnZiIQjiky z_newstr_train_000005.bin\n"
     ]
    },
    {
     "name": "stderr",
     "output_type": "stream",
     "text": [
      "Retrieving folder contents completed\n",
      "Building directory structure\n",
      "Building directory structure completed\n",
      "Download completed\n"
     ]
    }
   ],
   "source": [
    "# https://drive.google.com/drive/folders/11j232gxmqcykA1GlmT1nTcqTTYoeC3to?usp=drive_link\n",
    "files1 = gdown.download_folder(id=\"11j232gxmqcykA1GlmT1nTcqTTYoeC3to\",skip_download=True)"
   ]
  },
  {
   "cell_type": "code",
   "execution_count": 11,
   "metadata": {},
   "outputs": [
    {
     "data": {
      "text/plain": [
       "'1bBTywzrmvokX57LP5pe2GSTO5N-N5xXS'"
      ]
     },
     "execution_count": 11,
     "metadata": {},
     "output_type": "execute_result"
    }
   ],
   "source": [
    "files[0].id"
   ]
  },
  {
   "cell_type": "code",
   "execution_count": 13,
   "metadata": {},
   "outputs": [
    {
     "data": {
      "text/plain": [
       "'train_000000.bin'"
      ]
     },
     "execution_count": 13,
     "metadata": {},
     "output_type": "execute_result"
    }
   ],
   "source": [
    "files[0].path"
   ]
  },
  {
   "cell_type": "code",
   "execution_count": 14,
   "metadata": {},
   "outputs": [],
   "source": [
    "all_files = files0+files1+files2+files3"
   ]
  },
  {
   "cell_type": "code",
   "execution_count": 15,
   "metadata": {},
   "outputs": [
    {
     "data": {
      "text/plain": [
       "123"
      ]
     },
     "execution_count": 15,
     "metadata": {},
     "output_type": "execute_result"
    }
   ],
   "source": [
    "len(all_files)"
   ]
  },
  {
   "cell_type": "code",
   "execution_count": 16,
   "metadata": {},
   "outputs": [],
   "source": [
    "files_dict = {file.path:file.id for file in all_files}"
   ]
  },
  {
   "cell_type": "code",
   "execution_count": 17,
   "metadata": {},
   "outputs": [
    {
     "data": {
      "text/plain": [
       "{'train_000058.bin': '1eqY4dbTSOmMSCX9IVk4mARB5yVcmZ3vz',\n",
       " 'train_000059.bin': '1HDH4XSEJCxRTaLdGYfzLcfyIp97OKBdh',\n",
       " 'train_000060.bin': '1Ffcn7UqNqCiMrEjE8uKHTTnQI6At0_Xy',\n",
       " 'train_000061.bin': '1m_4IVCUJP3yEa8Sr9ICQGGys_eSaMxUf',\n",
       " 'train_000062.bin': '1ISwbqApkC1Ht8PLWDsvr7TBRLhPwYw4s',\n",
       " 'train_000063.bin': '1nMsMxCedZsZX6IC7ZPCSFL46-ZeZo0CP',\n",
       " 'train_000064.bin': '1_RmgtyJ1VvzY0jfUu-JG_ApFg9aF81z8',\n",
       " 'train_000065.bin': '1gJvM6m8AiEHdSiHAVfXWvKpAPqT28Z1d',\n",
       " 'train_000066.bin': '19-J8CKs6VWsFQvB7cAIao2vNEuluCMZS',\n",
       " 'train_000067.bin': '1mEWnthzvW_JMusavlvvXTpDP8LSDELOI',\n",
       " 'train_000068.bin': '17sC-W8HSCO85kN_U-wluzwSDz4azwG3u',\n",
       " 'train_000069.bin': '1ybNQszJ93uBJrlMdOx-qBVG_zFjR66-2',\n",
       " 'train_000070.bin': '1FiC7-g1ZbzoFvnTC2G9Bjjy9RNlT0Klv',\n",
       " 'train_000071.bin': '1OelfmWIAIbCVlEOMZXgsfW2i9qblLNhk',\n",
       " 'train_000072.bin': '18icsHifOYr7Fihg0Z7FlH8-YHJ7TIPeb',\n",
       " 'train_000073.bin': '1RkyyMLvfqurOE6gv8n4CVlT6KyvgRcfO',\n",
       " 'train_000074.bin': '17YNBjeCCWhBsdaLZto9624D7uZIvkofC',\n",
       " 'train_000075.bin': '1nevJZ6_jMiItUy-TjMRImFfMj6NXGPEl',\n",
       " 'train_000076.bin': '1DZbKIypaHyHA1tCprjCeFMkcgsN-LqBj',\n",
       " 'train_000077.bin': '1zKjY0AX8Jh3hiHv1Eh4DjpNY4O46oHrm',\n",
       " 'train_000078.bin': '1mAjuZXc7ZRBO0POzJAJYrMo8zOvqBvP4',\n",
       " 'train_000079.bin': '1LDNBGYbxSNmsf9o3i3l0Lu6v8u_QqfeX',\n",
       " 'train_000080.bin': '1UOA__T21jQuscgqx-KqXz_IsyIyHVo5b',\n",
       " 'train_000081.bin': '1QYr0uGo4EqXtDHSjohagCEZiMmatKOm4',\n",
       " 'train_000082.bin': '1AGFu6He4ovyL440K_SwluenXPp2EoKCn',\n",
       " 'train_000083.bin': '1kTnIYxFswRZb7eKCvxEbCFQSRh7dL2Tj',\n",
       " 'train_000084.bin': '1aErJzVOp7p9V1uLSJ-wFr_J3kY7bjZlD',\n",
       " 'train_000085.bin': '1CKHao8FL-eFavgCr1gk1I6C9hn5cmMEI',\n",
       " 'train_000086.bin': '1rpIrOG9vRf5bERG6EK_gnK3dYLpYKmJu',\n",
       " 'train_000087.bin': '13qn6zq7inqVGQR5I4ynhUTe6EFO3Fk4J',\n",
       " 'train_000088.bin': '1qbsmk1GyB5HYx1-xE-oenEm_4BCRL869',\n",
       " 'train_000089.bin': '1fTPXuR-EbwbNyqzsAqJg9_DHROAzQPk2',\n",
       " 'train_000090.bin': '1UN8tWG2aDMsHhmQB7G8hJwKTaIGn7otQ',\n",
       " 'train_000091.bin': '1xacIkTpC6CbqHEGdXxkDHmQOpcNqCodF',\n",
       " 'train_000092.bin': '1Jq_cs08zIv130RSMF8_SoxEO3rmTG7Ub',\n",
       " 'train_000093.bin': '13to6seKsekNnjP70kyxBg_8YhxqHivdq',\n",
       " 'train_000094.bin': '1my-DHyTlPyWi4CDuwC3hRm-D8Pgicpkx',\n",
       " 'train_000095.bin': '1Bp5Su972mDsi08kWvXtWwXySJkIPMEPO',\n",
       " 'train_000096.bin': '1id6UZzkUL6BEJbeoQ7hrfLtppWUwo5pG',\n",
       " 'train_000097.bin': '1cBvWQ1PDjzU7X96FiTtuQuYSp-YqxU5h',\n",
       " 'train_000098.bin': '1c0ZwUDBs9zvUQp407Qp5132dSUlzSsh0',\n",
       " 'train_000099.bin': '1pfe98hFTUFNGbElHDbCYGMO34BUmLPnc',\n",
       " 'train_000100.bin': '1L53Gp9kXZNFqTE1PeZuktzcDGXQPx7ns',\n",
       " 'train_000101.bin': '1zqpOhm7PNH6M1RkmF25XUDVRwA63W3qr',\n",
       " 'train_000102.bin': '18Qa1omQl92QaxtHQ9uOKnwGhvdtnbhdA',\n",
       " 'train_000103.bin': '1gkZMnNLIZ5p1Gf10deVvztWCUQbIzTaz',\n",
       " 'train_000104.bin': '1v8gLAzOB0hfDGu-ipohHCMT1fXCNGfq_',\n",
       " 'train_000105.bin': '1SCqRpMu5Hg-B4EbWZEeTn9hv8kj2mGCX',\n",
       " 'train_000106.bin': '1cnmdVgjK8CNBs84G2XbkxO1HOIqhtrwF',\n",
       " 'train_000057.bin': '1G6WpyewKGcXwEkDlXFMcNshtTTfmitNI',\n",
       " 'train_000107.bin': '1uUWJjKkkNAdkSxBw-OSf9HWqb_E5KfD9',\n",
       " 'train_000108.bin': '1zqysW3nQn_cCyKz4gQDVa-HQwPDX26yu',\n",
       " 'train_000109.bin': '1G90V3sFy8WvkaXXtufJTHetNKYuNruBh',\n",
       " 'train_000110.bin': '1xzifp6nKfW2w8aQqvqmNn5jSWzN6Z68R',\n",
       " 'z_newstr_train_000000.bin': '1M0iMuNRVVEhzBw5NBwBtiafYOCt4UaUb',\n",
       " 'z_newstr_train_000001.bin': '147_FF8DuPY8NiMsKla8D9tUoZ6Qv9f7_',\n",
       " 'z_newstr_train_000002.bin': '1zKDsEe3v9NaKtXW-c2X4TSHx6xxYFIky',\n",
       " 'z_newstr_train_000003.bin': '1X4ai9ODdxw7YwAXCmniCc0oX2KNiZIMU',\n",
       " 'z_newstr_train_000004.bin': '1aOH5hd4GJWA1cctJH94g9rW2mbYDcU2d',\n",
       " 'z_newstr_train_000005.bin': '1Qdtv3IcjdLceaIkN99gArCvnZiIQjiky',\n",
       " 'train_000000.bin': '1bBTywzrmvokX57LP5pe2GSTO5N-N5xXS',\n",
       " 'train_000001.bin': '1eHp4uCQveLJOMHeCtrcm-arhPvlzgJgo',\n",
       " 'train_000002.bin': '1W8HxpP5rDTLuY_XsCqke-fQsqGRP1q3A',\n",
       " 'train_000003.bin': '1HB_DhGeKNZe2nMJ58_RRiTLiPGGBvsjr',\n",
       " 'train_000004.bin': '1W0bvzaGRAQAziL_n_05LrTsvMtVryd-z',\n",
       " 'train_000005.bin': '1F6AtAoXcHYGrZ7eDeuo-w2oqAFylIgXJ',\n",
       " 'train_000006.bin': '1sdHk5ds0YiWq1KYiVIo0N5hL9t-yFCck',\n",
       " 'train_000007.bin': '1pAbWDCy6M43M5XkYRxyCCYOgHAcaRtSw',\n",
       " 'train_000008.bin': '1fPaJEDd493oN8lq7fL2d8pdiytG5vLxD',\n",
       " 'train_000009.bin': '1cftwTPHJymZptrANm-GEbdc0AoIcY-rS',\n",
       " 'train_000010.bin': '1l6b6sEzD7L0F5x_6QFQNx6qAsSFhyHn8',\n",
       " 'train_000011.bin': '1VtH7iUBe7U_I2Y3nSJiD0dpv5cbU6sVM',\n",
       " 'train_000012.bin': '1hnUs5drfWNndZroHtuif9EwJ_6YHTU5t',\n",
       " 'train_000013.bin': '1tGSLsmDSj6Epn9_SEPxWtqUU9pqhpIlf',\n",
       " 'train_000014.bin': '1ALLXmxoP6bAtwYQ-6Q3ytVOJOH3B61z7',\n",
       " 'train_000015.bin': '10Ges75n8EEwIm8yfrls-ZQrSSCfHtAGt',\n",
       " 'train_000016.bin': '1xyBBvCjlbTNmqo91cx-B4NUIlyWPOrui',\n",
       " 'train_000017.bin': '1YKZT02HXK3W0KVJIJ2nN7WyqcqAcQz8t',\n",
       " 'train_000018.bin': '1-6wJgvP27CSQt9TsVXCeY2OT8roT3Uvk',\n",
       " 'train_000019.bin': '1RDq2GPR2OlAEnpmCNs5QSKMrqb8eHYeP',\n",
       " 'train_000020.bin': '1iA6SyH9aVv7zNhSne3pVBXig_rWaGdK7',\n",
       " 'train_000021.bin': '1PyVnPAH8vzFl--YUCg7xyhXpyRMry9ot',\n",
       " 'train_000022.bin': '1Ou7-PM58b9HNf4YwpqkIG8MTuf9msZwh',\n",
       " 'train_000023.bin': '1_Mwx9s15pE-dQVuYGqVtdsCXYEQIlPma',\n",
       " 'train_000024.bin': '1tO6INRwyWFjVdg8umJYTBE8cym0mqc0y',\n",
       " 'train_000025.bin': '1do2lZ3EQUt1uj_9YTwWSa6vNOPPH5db0',\n",
       " 'train_000026.bin': '1hvFt915BSJz3-DxzTpnwfW21hafIAwgP',\n",
       " 'train_000027.bin': '1CHNDYwcSYfZ5Qaz5OF1808rftVOW3OiX',\n",
       " 'train_000028.bin': '1Z7VdiL5HI6mVQYvaDAAYRY4cl-M1RxnA',\n",
       " 'train_000029.bin': '19g6q2N2Ep3CQy36of4PqzM7rddsFcx0C',\n",
       " 'train_000030.bin': '1sTY8n1XzXpSAH2ZV9Ei_y_HgrT5XzM5k',\n",
       " 'train_000031.bin': '1Bcaszdn6dLjboAB7PFucyNi_in05ygvn',\n",
       " 'train_000032.bin': '1g42ypsof0TJOsbk6RGwDwR_m604TM4Gb',\n",
       " 'train_000033.bin': '1dZa0hG26NYy9-pBxyIdx5Jhoy6YktU82',\n",
       " 'train_000034.bin': '1ZffZvErW0Q6l3jFU7nFqQBEeW_mWnBHZ',\n",
       " 'train_000035.bin': '1BoUxXHI-Ni3bqYX2Y1Ws7uHThD-nNOm7',\n",
       " 'train_000036.bin': '18fWIUYgDc9X4kdNPvQkho1W26CExC9jW',\n",
       " 'train_000037.bin': '1572L_4qdYBgCP6yz1_uieB5XJGHXzpSZ',\n",
       " 'train_000038.bin': '1jJKZJUihtHVp8g4njPoD-DiAIkmDjomD',\n",
       " 'train_000039.bin': '14QYJWyfcXB2dDiEab5-zxTCbjDxI0mJj',\n",
       " 'train_000040.bin': '1kWmgzIaMb4nTXlnVipwTio7p7oldrkvt',\n",
       " 'train_000041.bin': '1ZvUYQhT36TKK__r6PW9QNvoLSMUbrvG7',\n",
       " 'train_000042.bin': '1QzW70fzg5Vm2GSZkKhQRaHWr0eS6BLrt',\n",
       " 'train_000043.bin': '1Ie5274MfTaJ4KKW1Ve2mG4DzfdoZq_e_',\n",
       " 'train_000044.bin': '1S03JsNm7hoJskMO1M2zFvsMb4qVwUZKO',\n",
       " 'train_000045.bin': '1277FG-MdAvkLy4bCY6sPGahnjGzqXDv-',\n",
       " 'train_000046.bin': '1NkTowgSN2-uzX_t3GJCB6ZJRPlEYHB7I',\n",
       " 'train_000047.bin': '1yOwRNOS1LYnZRZatWhke-wAswHYg2YCl',\n",
       " 'train_000048.bin': '1cALZP-hXJxBsRbZtStNUVZeIb_UCEj4K',\n",
       " 'train_000049.bin': '1o95LDlRqExrQE5bF51QttnN_BHcimMKf',\n",
       " 'train_000050.bin': '1VVnqOzxFAVzWULjwWQsHxtaUa4IS9FL8',\n",
       " 'train_000051.bin': '1_FYw1qb_L-y8pp1KOa3hxyhOyglt5yd-',\n",
       " 'train_000052.bin': '1wUaquPK47azKgKOB-6OPl-zlArCh3bUq',\n",
       " 'train_000053.bin': '1MaSwWox9uxWPrdVFrIPeMeHMaZkdWIJA',\n",
       " 'train_000054.bin': '1ePImhivBH35I2934qEVaCzSiS5mW-ph8',\n",
       " 'train_000055.bin': '1txLDwceva6i3Z6Zzppgo4zOTBsOHH1La',\n",
       " 'train_000056.bin': '1wEgQ3HaSJmoa8iTnXG8Vvpsf0bEfi3uU',\n",
       " 'z_newstr_train_000006.bin': '1OnlufUSY3_llQSKeyOwFXmiJhVmlN07X',\n",
       " 'z_newstr_train_000007.bin': '1XJlpwKntrflQWrZn7lhSsECsQ8mbGOY1',\n",
       " 'z_newstr_train_000008.bin': '1jR1zaH7CdJfHoYBXmWbBmyCbOQogYfRl',\n",
       " 'z_newstr_train_000009.bin': '1w2_2GVRmZVjLIQ-xIRxdmx9nv16gdvkp',\n",
       " 'z_newstr_train_000010.bin': '1QOzB5pwbmWkJSKqxcy4Bqr4a4cEcMox3',\n",
       " 'z_newstr_val_000000.bin': '1yhIDFDVgG2pezrY_sHLxeRV-NJOdmJrL'}"
      ]
     },
     "execution_count": 17,
     "metadata": {},
     "output_type": "execute_result"
    }
   ],
   "source": [
    "files_dict"
   ]
  },
  {
   "cell_type": "code",
   "execution_count": 20,
   "metadata": {},
   "outputs": [],
   "source": [
    "sorted_files_dict = { k:files_dict[k] for k in sorted(files_dict.keys())}"
   ]
  },
  {
   "cell_type": "code",
   "execution_count": 21,
   "metadata": {},
   "outputs": [
    {
     "data": {
      "text/plain": [
       "{'train_000000.bin': '1bBTywzrmvokX57LP5pe2GSTO5N-N5xXS',\n",
       " 'train_000001.bin': '1eHp4uCQveLJOMHeCtrcm-arhPvlzgJgo',\n",
       " 'train_000002.bin': '1W8HxpP5rDTLuY_XsCqke-fQsqGRP1q3A',\n",
       " 'train_000003.bin': '1HB_DhGeKNZe2nMJ58_RRiTLiPGGBvsjr',\n",
       " 'train_000004.bin': '1W0bvzaGRAQAziL_n_05LrTsvMtVryd-z',\n",
       " 'train_000005.bin': '1F6AtAoXcHYGrZ7eDeuo-w2oqAFylIgXJ',\n",
       " 'train_000006.bin': '1sdHk5ds0YiWq1KYiVIo0N5hL9t-yFCck',\n",
       " 'train_000007.bin': '1pAbWDCy6M43M5XkYRxyCCYOgHAcaRtSw',\n",
       " 'train_000008.bin': '1fPaJEDd493oN8lq7fL2d8pdiytG5vLxD',\n",
       " 'train_000009.bin': '1cftwTPHJymZptrANm-GEbdc0AoIcY-rS',\n",
       " 'train_000010.bin': '1l6b6sEzD7L0F5x_6QFQNx6qAsSFhyHn8',\n",
       " 'train_000011.bin': '1VtH7iUBe7U_I2Y3nSJiD0dpv5cbU6sVM',\n",
       " 'train_000012.bin': '1hnUs5drfWNndZroHtuif9EwJ_6YHTU5t',\n",
       " 'train_000013.bin': '1tGSLsmDSj6Epn9_SEPxWtqUU9pqhpIlf',\n",
       " 'train_000014.bin': '1ALLXmxoP6bAtwYQ-6Q3ytVOJOH3B61z7',\n",
       " 'train_000015.bin': '10Ges75n8EEwIm8yfrls-ZQrSSCfHtAGt',\n",
       " 'train_000016.bin': '1xyBBvCjlbTNmqo91cx-B4NUIlyWPOrui',\n",
       " 'train_000017.bin': '1YKZT02HXK3W0KVJIJ2nN7WyqcqAcQz8t',\n",
       " 'train_000018.bin': '1-6wJgvP27CSQt9TsVXCeY2OT8roT3Uvk',\n",
       " 'train_000019.bin': '1RDq2GPR2OlAEnpmCNs5QSKMrqb8eHYeP',\n",
       " 'train_000020.bin': '1iA6SyH9aVv7zNhSne3pVBXig_rWaGdK7',\n",
       " 'train_000021.bin': '1PyVnPAH8vzFl--YUCg7xyhXpyRMry9ot',\n",
       " 'train_000022.bin': '1Ou7-PM58b9HNf4YwpqkIG8MTuf9msZwh',\n",
       " 'train_000023.bin': '1_Mwx9s15pE-dQVuYGqVtdsCXYEQIlPma',\n",
       " 'train_000024.bin': '1tO6INRwyWFjVdg8umJYTBE8cym0mqc0y',\n",
       " 'train_000025.bin': '1do2lZ3EQUt1uj_9YTwWSa6vNOPPH5db0',\n",
       " 'train_000026.bin': '1hvFt915BSJz3-DxzTpnwfW21hafIAwgP',\n",
       " 'train_000027.bin': '1CHNDYwcSYfZ5Qaz5OF1808rftVOW3OiX',\n",
       " 'train_000028.bin': '1Z7VdiL5HI6mVQYvaDAAYRY4cl-M1RxnA',\n",
       " 'train_000029.bin': '19g6q2N2Ep3CQy36of4PqzM7rddsFcx0C',\n",
       " 'train_000030.bin': '1sTY8n1XzXpSAH2ZV9Ei_y_HgrT5XzM5k',\n",
       " 'train_000031.bin': '1Bcaszdn6dLjboAB7PFucyNi_in05ygvn',\n",
       " 'train_000032.bin': '1g42ypsof0TJOsbk6RGwDwR_m604TM4Gb',\n",
       " 'train_000033.bin': '1dZa0hG26NYy9-pBxyIdx5Jhoy6YktU82',\n",
       " 'train_000034.bin': '1ZffZvErW0Q6l3jFU7nFqQBEeW_mWnBHZ',\n",
       " 'train_000035.bin': '1BoUxXHI-Ni3bqYX2Y1Ws7uHThD-nNOm7',\n",
       " 'train_000036.bin': '18fWIUYgDc9X4kdNPvQkho1W26CExC9jW',\n",
       " 'train_000037.bin': '1572L_4qdYBgCP6yz1_uieB5XJGHXzpSZ',\n",
       " 'train_000038.bin': '1jJKZJUihtHVp8g4njPoD-DiAIkmDjomD',\n",
       " 'train_000039.bin': '14QYJWyfcXB2dDiEab5-zxTCbjDxI0mJj',\n",
       " 'train_000040.bin': '1kWmgzIaMb4nTXlnVipwTio7p7oldrkvt',\n",
       " 'train_000041.bin': '1ZvUYQhT36TKK__r6PW9QNvoLSMUbrvG7',\n",
       " 'train_000042.bin': '1QzW70fzg5Vm2GSZkKhQRaHWr0eS6BLrt',\n",
       " 'train_000043.bin': '1Ie5274MfTaJ4KKW1Ve2mG4DzfdoZq_e_',\n",
       " 'train_000044.bin': '1S03JsNm7hoJskMO1M2zFvsMb4qVwUZKO',\n",
       " 'train_000045.bin': '1277FG-MdAvkLy4bCY6sPGahnjGzqXDv-',\n",
       " 'train_000046.bin': '1NkTowgSN2-uzX_t3GJCB6ZJRPlEYHB7I',\n",
       " 'train_000047.bin': '1yOwRNOS1LYnZRZatWhke-wAswHYg2YCl',\n",
       " 'train_000048.bin': '1cALZP-hXJxBsRbZtStNUVZeIb_UCEj4K',\n",
       " 'train_000049.bin': '1o95LDlRqExrQE5bF51QttnN_BHcimMKf',\n",
       " 'train_000050.bin': '1VVnqOzxFAVzWULjwWQsHxtaUa4IS9FL8',\n",
       " 'train_000051.bin': '1_FYw1qb_L-y8pp1KOa3hxyhOyglt5yd-',\n",
       " 'train_000052.bin': '1wUaquPK47azKgKOB-6OPl-zlArCh3bUq',\n",
       " 'train_000053.bin': '1MaSwWox9uxWPrdVFrIPeMeHMaZkdWIJA',\n",
       " 'train_000054.bin': '1ePImhivBH35I2934qEVaCzSiS5mW-ph8',\n",
       " 'train_000055.bin': '1txLDwceva6i3Z6Zzppgo4zOTBsOHH1La',\n",
       " 'train_000056.bin': '1wEgQ3HaSJmoa8iTnXG8Vvpsf0bEfi3uU',\n",
       " 'train_000057.bin': '1G6WpyewKGcXwEkDlXFMcNshtTTfmitNI',\n",
       " 'train_000058.bin': '1eqY4dbTSOmMSCX9IVk4mARB5yVcmZ3vz',\n",
       " 'train_000059.bin': '1HDH4XSEJCxRTaLdGYfzLcfyIp97OKBdh',\n",
       " 'train_000060.bin': '1Ffcn7UqNqCiMrEjE8uKHTTnQI6At0_Xy',\n",
       " 'train_000061.bin': '1m_4IVCUJP3yEa8Sr9ICQGGys_eSaMxUf',\n",
       " 'train_000062.bin': '1ISwbqApkC1Ht8PLWDsvr7TBRLhPwYw4s',\n",
       " 'train_000063.bin': '1nMsMxCedZsZX6IC7ZPCSFL46-ZeZo0CP',\n",
       " 'train_000064.bin': '1_RmgtyJ1VvzY0jfUu-JG_ApFg9aF81z8',\n",
       " 'train_000065.bin': '1gJvM6m8AiEHdSiHAVfXWvKpAPqT28Z1d',\n",
       " 'train_000066.bin': '19-J8CKs6VWsFQvB7cAIao2vNEuluCMZS',\n",
       " 'train_000067.bin': '1mEWnthzvW_JMusavlvvXTpDP8LSDELOI',\n",
       " 'train_000068.bin': '17sC-W8HSCO85kN_U-wluzwSDz4azwG3u',\n",
       " 'train_000069.bin': '1ybNQszJ93uBJrlMdOx-qBVG_zFjR66-2',\n",
       " 'train_000070.bin': '1FiC7-g1ZbzoFvnTC2G9Bjjy9RNlT0Klv',\n",
       " 'train_000071.bin': '1OelfmWIAIbCVlEOMZXgsfW2i9qblLNhk',\n",
       " 'train_000072.bin': '18icsHifOYr7Fihg0Z7FlH8-YHJ7TIPeb',\n",
       " 'train_000073.bin': '1RkyyMLvfqurOE6gv8n4CVlT6KyvgRcfO',\n",
       " 'train_000074.bin': '17YNBjeCCWhBsdaLZto9624D7uZIvkofC',\n",
       " 'train_000075.bin': '1nevJZ6_jMiItUy-TjMRImFfMj6NXGPEl',\n",
       " 'train_000076.bin': '1DZbKIypaHyHA1tCprjCeFMkcgsN-LqBj',\n",
       " 'train_000077.bin': '1zKjY0AX8Jh3hiHv1Eh4DjpNY4O46oHrm',\n",
       " 'train_000078.bin': '1mAjuZXc7ZRBO0POzJAJYrMo8zOvqBvP4',\n",
       " 'train_000079.bin': '1LDNBGYbxSNmsf9o3i3l0Lu6v8u_QqfeX',\n",
       " 'train_000080.bin': '1UOA__T21jQuscgqx-KqXz_IsyIyHVo5b',\n",
       " 'train_000081.bin': '1QYr0uGo4EqXtDHSjohagCEZiMmatKOm4',\n",
       " 'train_000082.bin': '1AGFu6He4ovyL440K_SwluenXPp2EoKCn',\n",
       " 'train_000083.bin': '1kTnIYxFswRZb7eKCvxEbCFQSRh7dL2Tj',\n",
       " 'train_000084.bin': '1aErJzVOp7p9V1uLSJ-wFr_J3kY7bjZlD',\n",
       " 'train_000085.bin': '1CKHao8FL-eFavgCr1gk1I6C9hn5cmMEI',\n",
       " 'train_000086.bin': '1rpIrOG9vRf5bERG6EK_gnK3dYLpYKmJu',\n",
       " 'train_000087.bin': '13qn6zq7inqVGQR5I4ynhUTe6EFO3Fk4J',\n",
       " 'train_000088.bin': '1qbsmk1GyB5HYx1-xE-oenEm_4BCRL869',\n",
       " 'train_000089.bin': '1fTPXuR-EbwbNyqzsAqJg9_DHROAzQPk2',\n",
       " 'train_000090.bin': '1UN8tWG2aDMsHhmQB7G8hJwKTaIGn7otQ',\n",
       " 'train_000091.bin': '1xacIkTpC6CbqHEGdXxkDHmQOpcNqCodF',\n",
       " 'train_000092.bin': '1Jq_cs08zIv130RSMF8_SoxEO3rmTG7Ub',\n",
       " 'train_000093.bin': '13to6seKsekNnjP70kyxBg_8YhxqHivdq',\n",
       " 'train_000094.bin': '1my-DHyTlPyWi4CDuwC3hRm-D8Pgicpkx',\n",
       " 'train_000095.bin': '1Bp5Su972mDsi08kWvXtWwXySJkIPMEPO',\n",
       " 'train_000096.bin': '1id6UZzkUL6BEJbeoQ7hrfLtppWUwo5pG',\n",
       " 'train_000097.bin': '1cBvWQ1PDjzU7X96FiTtuQuYSp-YqxU5h',\n",
       " 'train_000098.bin': '1c0ZwUDBs9zvUQp407Qp5132dSUlzSsh0',\n",
       " 'train_000099.bin': '1pfe98hFTUFNGbElHDbCYGMO34BUmLPnc',\n",
       " 'train_000100.bin': '1L53Gp9kXZNFqTE1PeZuktzcDGXQPx7ns',\n",
       " 'train_000101.bin': '1zqpOhm7PNH6M1RkmF25XUDVRwA63W3qr',\n",
       " 'train_000102.bin': '18Qa1omQl92QaxtHQ9uOKnwGhvdtnbhdA',\n",
       " 'train_000103.bin': '1gkZMnNLIZ5p1Gf10deVvztWCUQbIzTaz',\n",
       " 'train_000104.bin': '1v8gLAzOB0hfDGu-ipohHCMT1fXCNGfq_',\n",
       " 'train_000105.bin': '1SCqRpMu5Hg-B4EbWZEeTn9hv8kj2mGCX',\n",
       " 'train_000106.bin': '1cnmdVgjK8CNBs84G2XbkxO1HOIqhtrwF',\n",
       " 'train_000107.bin': '1uUWJjKkkNAdkSxBw-OSf9HWqb_E5KfD9',\n",
       " 'train_000108.bin': '1zqysW3nQn_cCyKz4gQDVa-HQwPDX26yu',\n",
       " 'train_000109.bin': '1G90V3sFy8WvkaXXtufJTHetNKYuNruBh',\n",
       " 'train_000110.bin': '1xzifp6nKfW2w8aQqvqmNn5jSWzN6Z68R',\n",
       " 'z_newstr_train_000000.bin': '1M0iMuNRVVEhzBw5NBwBtiafYOCt4UaUb',\n",
       " 'z_newstr_train_000001.bin': '147_FF8DuPY8NiMsKla8D9tUoZ6Qv9f7_',\n",
       " 'z_newstr_train_000002.bin': '1zKDsEe3v9NaKtXW-c2X4TSHx6xxYFIky',\n",
       " 'z_newstr_train_000003.bin': '1X4ai9ODdxw7YwAXCmniCc0oX2KNiZIMU',\n",
       " 'z_newstr_train_000004.bin': '1aOH5hd4GJWA1cctJH94g9rW2mbYDcU2d',\n",
       " 'z_newstr_train_000005.bin': '1Qdtv3IcjdLceaIkN99gArCvnZiIQjiky',\n",
       " 'z_newstr_train_000006.bin': '1OnlufUSY3_llQSKeyOwFXmiJhVmlN07X',\n",
       " 'z_newstr_train_000007.bin': '1XJlpwKntrflQWrZn7lhSsECsQ8mbGOY1',\n",
       " 'z_newstr_train_000008.bin': '1jR1zaH7CdJfHoYBXmWbBmyCbOQogYfRl',\n",
       " 'z_newstr_train_000009.bin': '1w2_2GVRmZVjLIQ-xIRxdmx9nv16gdvkp',\n",
       " 'z_newstr_train_000010.bin': '1QOzB5pwbmWkJSKqxcy4Bqr4a4cEcMox3',\n",
       " 'z_newstr_val_000000.bin': '1yhIDFDVgG2pezrY_sHLxeRV-NJOdmJrL'}"
      ]
     },
     "execution_count": 21,
     "metadata": {},
     "output_type": "execute_result"
    }
   ],
   "source": [
    "sorted_files_dict"
   ]
  },
  {
   "cell_type": "code",
   "execution_count": 23,
   "metadata": {},
   "outputs": [],
   "source": [
    "import json\n",
    "with open(\"data_files.json\",\"w\") as f:\n",
    "    json.dump(sorted_files_dict, f, indent=1)"
   ]
  },
  {
   "cell_type": "code",
   "execution_count": 24,
   "metadata": {},
   "outputs": [],
   "source": [
    "import glob"
   ]
  },
  {
   "cell_type": "code",
   "execution_count": 25,
   "metadata": {},
   "outputs": [
    {
     "data": {
      "text/plain": [
       "['newstr_tokenized/z_newstr_val_000000.bin',\n",
       " 'newstr_tokenized/z_newstr_train_000005.bin',\n",
       " 'newstr_tokenized/z_newstr_train_000000.bin',\n",
       " 'newstr_tokenized/z_newstr_train_000008.bin',\n",
       " 'newstr_tokenized/z_newstr_train_000006.bin',\n",
       " 'newstr_tokenized/z_newstr_train_000002.bin',\n",
       " 'newstr_tokenized/z_newstr_train_000003.bin',\n",
       " 'newstr_tokenized/z_newstr_train_000004.bin',\n",
       " 'newstr_tokenized/z_newstr_train_000010.bin',\n",
       " 'newstr_tokenized/z_newstr_train_000009.bin',\n",
       " 'newstr_tokenized/z_newstr_train_000001.bin',\n",
       " 'newstr_tokenized/z_newstr_train_000007.bin']"
      ]
     },
     "execution_count": 25,
     "metadata": {},
     "output_type": "execute_result"
    }
   ],
   "source": [
    "glob.glob(\"newstr_tokenized/*.bin\")"
   ]
  },
  {
   "cell_type": "code",
   "execution_count": null,
   "metadata": {},
   "outputs": [],
   "source": []
  }
 ],
 "metadata": {
  "kernelspec": {
   "display_name": "myenv",
   "language": "python",
   "name": "python3"
  },
  "language_info": {
   "codemirror_mode": {
    "name": "ipython",
    "version": 3
   },
   "file_extension": ".py",
   "mimetype": "text/x-python",
   "name": "python",
   "nbconvert_exporter": "python",
   "pygments_lexer": "ipython3",
   "version": "3.11.9"
  }
 },
 "nbformat": 4,
 "nbformat_minor": 2
}
