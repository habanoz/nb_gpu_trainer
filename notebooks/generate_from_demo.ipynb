{
 "cells": [
  {
   "cell_type": "code",
   "execution_count": 1,
   "metadata": {},
   "outputs": [
    {
     "name": "stdout",
     "output_type": "stream",
     "text": [
      "/home/melek/workspace/vscode/nb_gpu_trainer\n"
     ]
    }
   ],
   "source": [
    "%cd .."
   ]
  },
  {
   "cell_type": "code",
   "execution_count": 29,
   "metadata": {},
   "outputs": [],
   "source": [
    "from nbtr.model.gpt2 import GPT\n",
    "from huggingface_hub import HfApi, login\n",
    "from transformers.utils import cached_file\n",
    "from nbtr.trainer import TrainerConfig\n",
    "from nbtr.tokenizer.tokenizer import Tokenizer\n",
    "from torch.nn import functional as F\n",
    "import torch"
   ]
  },
  {
   "cell_type": "code",
   "execution_count": 7,
   "metadata": {},
   "outputs": [
    {
     "data": {
      "application/vnd.jupyter.widget-view+json": {
       "model_id": "6fa61e55cf9f4876a3be66a8f195544a",
       "version_major": 2,
       "version_minor": 0
      },
      "text/plain": [
       "VBox(children=(HTML(value='<center> <img\\nsrc=https://huggingface.co/front/assets/huggingface_logo-noborder.sv…"
      ]
     },
     "metadata": {},
     "output_type": "display_data"
    }
   ],
   "source": [
    "login()"
   ]
  },
  {
   "cell_type": "code",
   "execution_count": 8,
   "metadata": {},
   "outputs": [],
   "source": [
    "api = HfApi()"
   ]
  },
  {
   "cell_type": "code",
   "execution_count": 10,
   "metadata": {},
   "outputs": [],
   "source": [
    "trainer_cfg_file = \"config/news_trainer.yml\"\n",
    "model_cfg_file = \"config/news_model.yml\""
   ]
  },
  {
   "cell_type": "code",
   "execution_count": 14,
   "metadata": {},
   "outputs": [],
   "source": [
    "def load_config(config_file)->TrainerConfig:\n",
    "    import yaml\n",
    "\n",
    "    with open(config_file) as f:\n",
    "        try:\n",
    "            doc = yaml.safe_load(f)\n",
    "        except yaml.YAMLError as exc:\n",
    "            print(exc)\n",
    "            exit(1)\n",
    "\n",
    "    return TrainerConfig(**doc)\n",
    "\n",
    "trainer_cfg = load_config(trainer_cfg_file)"
   ]
  },
  {
   "cell_type": "code",
   "execution_count": 15,
   "metadata": {},
   "outputs": [
    {
     "data": {
      "text/plain": [
       "TrainerConfig(seq_length=1024, gradient_accumulation_steps=1, batch_size=32, ds_repo_id='habanoz/haber-90k-gpt-text', data_dir='haber-90k-data', warmup_iters=100, learning_rate=0.001, lr_decay_iters=6000, max_iters=6000, min_lr=0.0001, weight_decay=0.1, beta1=0.9, beta2=0.99, compile=False, decay_lr=True, seed=145, log_interval=10, eval_interval=250, eval_iters=200, out_dir='haber-90k-gpt', wandb_log=True, wandb_project='NB-Haber-GPT-Training', wandb_run_name='haber-90k-gpt-v1.1', wandb_run_id='1721342907', grad_norm_clip=1.0, repo_id='habanoz/haber-90k-gpt-v1.1', dtype='float16')"
      ]
     },
     "execution_count": 15,
     "metadata": {},
     "output_type": "execute_result"
    }
   ],
   "source": [
    "trainer_cfg"
   ]
  },
  {
   "cell_type": "code",
   "execution_count": 11,
   "metadata": {},
   "outputs": [
    {
     "name": "stdout",
     "output_type": "stream",
     "text": [
      "number of parameters: 13.77M\n"
     ]
    }
   ],
   "source": [
    "model = GPT.from_config(model_cfg_file)"
   ]
  },
  {
   "cell_type": "code",
   "execution_count": 18,
   "metadata": {},
   "outputs": [],
   "source": [
    "model_state_file = cached_file(trainer_cfg.repo_id, 'pytorch_model.bin', _raise_exceptions_for_missing_entries=True)\n",
    "model_state = torch.load(model_state_file, map_location=torch.device('cpu') )"
   ]
  },
  {
   "cell_type": "code",
   "execution_count": 19,
   "metadata": {},
   "outputs": [
    {
     "data": {
      "text/plain": [
       "<All keys matched successfully>"
      ]
     },
     "execution_count": 19,
     "metadata": {},
     "output_type": "execute_result"
    }
   ],
   "source": [
    "model.load_state_dict(model_state)"
   ]
  },
  {
   "cell_type": "code",
   "execution_count": 20,
   "metadata": {},
   "outputs": [
    {
     "data": {
      "text/plain": [
       "GPT(\n",
       "  (transformer): ModuleDict(\n",
       "    (wte): Embedding(8192, 384)\n",
       "    (wpe): Embedding(1024, 384)\n",
       "    (drop): Dropout(p=0.2, inplace=False)\n",
       "    (h): ModuleList(\n",
       "      (0-5): 6 x Block(\n",
       "        (ln_1): LayerNorm((384,), eps=1e-05, elementwise_affine=True)\n",
       "        (attn): CausalSelfAttention(\n",
       "          (c_attn): Linear(in_features=384, out_features=1152, bias=False)\n",
       "          (c_proj): Linear(in_features=384, out_features=384, bias=False)\n",
       "          (attn_dropout): Dropout(p=0.2, inplace=False)\n",
       "          (resid_dropout): Dropout(p=0.2, inplace=False)\n",
       "        )\n",
       "        (ln_2): LayerNorm((384,), eps=1e-05, elementwise_affine=True)\n",
       "        (mlp): MLP(\n",
       "          (c_fc): Linear(in_features=384, out_features=1536, bias=False)\n",
       "          (gelu): GELU(approximate='none')\n",
       "          (c_proj): Linear(in_features=1536, out_features=384, bias=False)\n",
       "          (dropout): Dropout(p=0.2, inplace=False)\n",
       "        )\n",
       "      )\n",
       "    )\n",
       "    (ln_f): LayerNorm((384,), eps=1e-05, elementwise_affine=True)\n",
       "  )\n",
       "  (lm_head): Linear(in_features=384, out_features=8192, bias=False)\n",
       ")"
      ]
     },
     "execution_count": 20,
     "metadata": {},
     "output_type": "execute_result"
    }
   ],
   "source": [
    "model"
   ]
  },
  {
   "cell_type": "code",
   "execution_count": 21,
   "metadata": {},
   "outputs": [
    {
     "data": {
      "text/plain": [
       "GPT(\n",
       "  (transformer): ModuleDict(\n",
       "    (wte): Embedding(8192, 384)\n",
       "    (wpe): Embedding(1024, 384)\n",
       "    (drop): Dropout(p=0.2, inplace=False)\n",
       "    (h): ModuleList(\n",
       "      (0-5): 6 x Block(\n",
       "        (ln_1): LayerNorm((384,), eps=1e-05, elementwise_affine=True)\n",
       "        (attn): CausalSelfAttention(\n",
       "          (c_attn): Linear(in_features=384, out_features=1152, bias=False)\n",
       "          (c_proj): Linear(in_features=384, out_features=384, bias=False)\n",
       "          (attn_dropout): Dropout(p=0.2, inplace=False)\n",
       "          (resid_dropout): Dropout(p=0.2, inplace=False)\n",
       "        )\n",
       "        (ln_2): LayerNorm((384,), eps=1e-05, elementwise_affine=True)\n",
       "        (mlp): MLP(\n",
       "          (c_fc): Linear(in_features=384, out_features=1536, bias=False)\n",
       "          (gelu): GELU(approximate='none')\n",
       "          (c_proj): Linear(in_features=1536, out_features=384, bias=False)\n",
       "          (dropout): Dropout(p=0.2, inplace=False)\n",
       "        )\n",
       "      )\n",
       "    )\n",
       "    (ln_f): LayerNorm((384,), eps=1e-05, elementwise_affine=True)\n",
       "  )\n",
       "  (lm_head): Linear(in_features=384, out_features=8192, bias=False)\n",
       ")"
      ]
     },
     "execution_count": 21,
     "metadata": {},
     "output_type": "execute_result"
    }
   ],
   "source": [
    "model.eval()"
   ]
  },
  {
   "cell_type": "code",
   "execution_count": 36,
   "metadata": {},
   "outputs": [],
   "source": [
    "_tokenizer = Tokenizer.from_pretrained(trainer_cfg.repo_id)"
   ]
  },
  {
   "cell_type": "code",
   "execution_count": 37,
   "metadata": {},
   "outputs": [
    {
     "data": {
      "text/plain": [
       "{'input_ids': [1, 8108, 8141, 6080, 6610, 4559, 42, 961, 2]}"
      ]
     },
     "execution_count": 37,
     "metadata": {},
     "output_type": "execute_result"
    }
   ],
   "source": [
    "_tokenizer.encode(\"# Borsa güne yükselişle başladı\")"
   ]
  },
  {
   "cell_type": "code",
   "execution_count": 73,
   "metadata": {},
   "outputs": [
    {
     "name": "stdout",
     "output_type": "stream",
     "text": [
      "# Turkcell’den bayramda yurt dışı müjdesi ## Özet Turkcell Global Çocuk Koleksiyonu ve PSA Türkiye, 8-8 Mayıs arası gerçekleştirilecek \"Hemen İçin Vuhan Yol Kampı\"nda, başkent Turkcell'de yapılacak, 28-8 Mayıs arası gerçekleşecekleri yeni tip koronavirüs (Kovid-19) salgını sebebiyle çevrim içi arabaların çevrim içi duyurulduğu hesaplandığı açıklandı ## İçerik Turkcell'den yapılan açıklamaya göre, Turkcell’in online eğitim tarihinde ilk kez ailesinin katkısı, Turkcell'in dijitalleştiği bir iş ortağı olma vizyonuyla iş hayatında oluşmaya devam ediyor. Y Mevcut adımların faaliyetlerine en yakın bilgi veren Turkcell Global Çocuk Koleksiyonu ve PSA Türkiye, 8-9 Mayıs arası gerçekleşecek. Turkcell Global Çocuk Koleksiyonu’na 10-8 Mayıs arası gerçekleştirilecekleri yeni tip koronavirüs (Kovid-19) salgını sebebiyle çevrim içi alışverişlerde Garanti BBVA Grubunun avantajları ile yanıtlandı. Turkcell,  ⁇ R kodları ve TWF “Yılın Sosyal Güvenlik Dayanışma Kampı”nda, Turkcell Dijital PSA Türkiye, 7/24 Mayıs tarihlerinde İstanbul Mobil Okrugöz Bisiklet Fonu ve Bisiklet Fonu sosyal pasaportlarına Turkcell tarafından uygulanan \"Hemen İçin Vuhan Yol Kampı\"nda, dijital başka alanlarda ve en çok okuyucuyla buluştı. Turkcell’in sunduğu Dijital PSA Türkiye, 8-8 Mayıs arasındaki anlaşmayı 4 Mayıs’a kadar tamamlayacak. Turkcell Global Çocuk Koleksiyonu ve PSA’nın web sitesi arasında kullanıcılar, gençler, isterseprobassiyonunu mobil platformlarda, performans gösteren bağlı sensörler gibi popülerliğine ulaşmada da önem veren Turkcell Kurumsal Çocuk Koleksiyonu ve PSA’nın dijital denilebilecekleri yeni programda Turkcell'in dijitalleştirici güvenlik projeleri üstlendi. Turkcell Global Çocuk Koleksiyonu ve PSA Türkiye’nin Yurtiçi üyesi olacak LG InP, kullanıcıların bir evle olan kolayca karşılanacağı hediye çekleriyle birlikte sunuluyor. Turkcell tüm Turkcell Cargo, haziran ve içinde gerçekleştirilen tüm Turkcell’in salgın sürecine üye olma vizyonuyla adım adım adım adımı atıyor.\n"
     ]
    }
   ],
   "source": [
    "prompt = torch.tensor(_tokenizer.encode(\"# Turkcell’den bayramda yurt dışı müjdesi\")['input_ids']).view(1, -1)\n",
    "prompt = prompt[:,:-1]\n",
    "for i in range(512):\n",
    "    logits,_ = model(prompt)\n",
    "    logits = logits[:, -1, :]\n",
    "    probs = F.softmax(logits, dim=1)\n",
    "    tok = torch.multinomial(probs, 1, replacement=True)\n",
    "    \n",
    "    if tok.item() == 2:\n",
    "        break\n",
    "\n",
    "    prompt = torch.cat((prompt , tok), dim=-1)\n",
    "\n",
    "text = _tokenizer.decode(prompt.tolist()[0])\n",
    "\n",
    "print(text)"
   ]
  },
  {
   "cell_type": "code",
   "execution_count": 74,
   "metadata": {},
   "outputs": [],
   "source": [
    "from IPython.display import display, Markdown"
   ]
  },
  {
   "cell_type": "code",
   "execution_count": 75,
   "metadata": {},
   "outputs": [
    {
     "data": {
      "text/markdown": [
       "# Turkcell’den bayramda yurt dışı müjdesi ## Özet Turkcell Global Çocuk Koleksiyonu ve PSA Türkiye, 8-8 Mayıs arası gerçekleştirilecek \"Hemen İçin Vuhan Yol Kampı\"nda, başkent Turkcell'de yapılacak, 28-8 Mayıs arası gerçekleşecekleri yeni tip koronavirüs (Kovid-19) salgını sebebiyle çevrim içi arabaların çevrim içi duyurulduğu hesaplandığı açıklandı ## İçerik Turkcell'den yapılan açıklamaya göre, Turkcell’in online eğitim tarihinde ilk kez ailesinin katkısı, Turkcell'in dijitalleştiği bir iş ortağı olma vizyonuyla iş hayatında oluşmaya devam ediyor. Y Mevcut adımların faaliyetlerine en yakın bilgi veren Turkcell Global Çocuk Koleksiyonu ve PSA Türkiye, 8-9 Mayıs arası gerçekleşecek. Turkcell Global Çocuk Koleksiyonu’na 10-8 Mayıs arası gerçekleştirilecekleri yeni tip koronavirüs (Kovid-19) salgını sebebiyle çevrim içi alışverişlerde Garanti BBVA Grubunun avantajları ile yanıtlandı. Turkcell,  ⁇ R kodları ve TWF “Yılın Sosyal Güvenlik Dayanışma Kampı”nda, Turkcell Dijital PSA Türkiye, 7/24 Mayıs tarihlerinde İstanbul Mobil Okrugöz Bisiklet Fonu ve Bisiklet Fonu sosyal pasaportlarına Turkcell tarafından uygulanan \"Hemen İçin Vuhan Yol Kampı\"nda, dijital başka alanlarda ve en çok okuyucuyla buluştı. Turkcell’in sunduğu Dijital PSA Türkiye, 8-8 Mayıs arasındaki anlaşmayı 4 Mayıs’a kadar tamamlayacak. Turkcell Global Çocuk Koleksiyonu ve PSA’nın web sitesi arasında kullanıcılar, gençler, isterseprobassiyonunu mobil platformlarda, performans gösteren bağlı sensörler gibi popülerliğine ulaşmada da önem veren Turkcell Kurumsal Çocuk Koleksiyonu ve PSA’nın dijital denilebilecekleri yeni programda Turkcell'in dijitalleştirici güvenlik projeleri üstlendi. Turkcell Global Çocuk Koleksiyonu ve PSA Türkiye’nin Yurtiçi üyesi olacak LG InP, kullanıcıların bir evle olan kolayca karşılanacağı hediye çekleriyle birlikte sunuluyor. Turkcell tüm Turkcell Cargo, haziran ve içinde gerçekleştirilen tüm Turkcell’in salgın sürecine üye olma vizyonuyla adım adım adım adımı atıyor."
      ],
      "text/plain": [
       "<IPython.core.display.Markdown object>"
      ]
     },
     "metadata": {},
     "output_type": "display_data"
    }
   ],
   "source": [
    "display(Markdown(text))"
   ]
  },
  {
   "cell_type": "code",
   "execution_count": 65,
   "metadata": {},
   "outputs": [],
   "source": [
    "from datasets import load_dataset"
   ]
  },
  {
   "cell_type": "code",
   "execution_count": 66,
   "metadata": {},
   "outputs": [],
   "source": [
    "ds = load_dataset(\"habanoz/haber-90k-gpt-text\")"
   ]
  },
  {
   "cell_type": "code",
   "execution_count": 67,
   "metadata": {},
   "outputs": [
    {
     "data": {
      "text/plain": [
       "DatasetDict({\n",
       "    train: Dataset({\n",
       "        features: ['text'],\n",
       "        num_rows: 81708\n",
       "    })\n",
       "    validation: Dataset({\n",
       "        features: ['text'],\n",
       "        num_rows: 9079\n",
       "    })\n",
       "})"
      ]
     },
     "execution_count": 67,
     "metadata": {},
     "output_type": "execute_result"
    }
   ],
   "source": [
    "ds"
   ]
  },
  {
   "cell_type": "code",
   "execution_count": 71,
   "metadata": {},
   "outputs": [
    {
     "name": "stdout",
     "output_type": "stream",
     "text": [
      "# Turkcell’den bayramda yurt dışı müjdesi\n",
      "\n",
      "## Özet\n",
      "\n",
      "Turkcell, tarifesi ne olursa olsun Turkcell, 5-18 Ağustos'ta yurt dışında olacak bireysel ve kurumsal faturalı tüm müşterilerine 1GB internetin yanı sıra 60 dakika görüşme veya 60 SMS hediye ediyor\n",
      "\n",
      "## İçerik\n",
      "\n",
      "Şirketten yapılan açıklamaya göre, müşterilerini sadece Türkiye’de değil, dünyanın her yerinde en iyi hizmetle buluşturma amacıyla çalışan Turkcell, Kurban Bayramı'nda yurt dışına çıkacak müşterilerine özel bir hediye sunuyor.\n",
      "\n",
      "Bireysel ve kurumsal faturalı tüm Turkcell’liler tarifelerinden bağımsız olarak bayram döneminde yurt dışında yapacakları 1GB’lık internet kullanımının yanı sıra 60 dakika görüşme (arama/aranma) veya 60 SMS’i bayram hediyesi olarak ücretsiz kullanabilecek.\n",
      "\n",
      "88 ülkeyi kapsayan Kurban Bayramı hediyesiyle, Turkcell’liler rahat bir şekilde iletişim kurabilecek. 5-18 Ağustos'ta yurt dışında bulunacaklara otomatik olarak tanımlanacak olan hediyeyle Turkcell müşterileri sevdikleriyle Türkiye’deki gibi bayramlaşacak.\n",
      "\n",
      "-“Turkcell’liler bayramın coşkusunu yurt dışında da yaşayacak”\n",
      "\n",
      "Açıklamada görüşlerine yer verilen Turkcell Genel Müdür Yardımcısı Ömer Barbaros Yiş, şunları kaydetti:\n",
      "\n",
      "“Turkcell olarak sadece yurt içinde değil yurt dışında da müşterilerimizin yanındayız. Ülkemiz ve insanlarımızın için son derece manevi anlamlar taşıyan Kurban Bayramı’nda müşterilerimize yakınlarıyla rahatça bayramlaşabilmeleri için bugüne kadar benzeri olmayan bir hediye sunuyoruz. Bu hediyemiz sayesinde Turkcell’liler gerek internet üzerinden gerekse konuşarak bayramın coşkusunu dünyanın dört bir yanına taşıyacak. Bu vesileyle tüm Türkiye’nin bayramını şimdiden kutlarız.”\n",
      "\n",
      "Yurt dışındaki ilk kullanımda devreye girecek ve 1 saat geçerli olacak hediyenin kullanılabileceği ülkeler şöyle:\n",
      "\n",
      "ABD, Almanya, Arnavutluk, Avustralya, Avusturya, Azerbaycan, Bangladeş, Belçika, Beyaz Rusya, Birleşik Arap Emirlikleri, Bosna Hersek, Brezilya, Bruney, Bulgaristan, Cebelitarık, Çek Cumhuriyeti, Çin, Danimarka, Ekvator, Ermenistan, Estonya, Faroe Adaları, Fiji, Filistin, Finlandiya, Fransa, Guatemala, Güney Afrika, Güney Kore, Gürcistan, Hırvatistan, Hollanda, Hong Kong, Irak, İngiltere, İran, İrlanda, İspanya, İsrail, İsveç, İsviçre, İtalya, İzlanda, Kanada, Karadağ, Katar, Kazakistan, Kıbrıs, Kırgızistan, Kosova, Kosta Rika, Letonya, Lihtenştayn, Litvanya, Lüksemburg, Macaristan, Makao, Makedonya, Malezya, Malta, Mısır, Moldova, Monako, Montserrat, Nepal, Nijer, Norveç, Panama, Polonya, Portekiz, Porto Riko, Romanya, Rusya, San Marino, Sırbistan, Singapur, Slovakya, Slovenya, Sri Lanka, Suudi Arabistan, Tacikistan, Tayland, Tayvan, Tunus, Ukrayna, Uruguay, Yeni Zelanda, Yunanistan.\n"
     ]
    }
   ],
   "source": [
    "print(ds['train']['text'][0])"
   ]
  },
  {
   "cell_type": "code",
   "execution_count": 72,
   "metadata": {},
   "outputs": [
    {
     "data": {
      "text/markdown": [
       "# Turkcell’den bayramda yurt dışı müjdesi\n",
       "\n",
       "## Özet\n",
       "\n",
       "Turkcell, tarifesi ne olursa olsun Turkcell, 5-18 Ağustos'ta yurt dışında olacak bireysel ve kurumsal faturalı tüm müşterilerine 1GB internetin yanı sıra 60 dakika görüşme veya 60 SMS hediye ediyor\n",
       "\n",
       "## İçerik\n",
       "\n",
       "Şirketten yapılan açıklamaya göre, müşterilerini sadece Türkiye’de değil, dünyanın her yerinde en iyi hizmetle buluşturma amacıyla çalışan Turkcell, Kurban Bayramı'nda yurt dışına çıkacak müşterilerine özel bir hediye sunuyor.\n",
       "\n",
       "Bireysel ve kurumsal faturalı tüm Turkcell’liler tarifelerinden bağımsız olarak bayram döneminde yurt dışında yapacakları 1GB’lık internet kullanımının yanı sıra 60 dakika görüşme (arama/aranma) veya 60 SMS’i bayram hediyesi olarak ücretsiz kullanabilecek.\n",
       "\n",
       "88 ülkeyi kapsayan Kurban Bayramı hediyesiyle, Turkcell’liler rahat bir şekilde iletişim kurabilecek. 5-18 Ağustos'ta yurt dışında bulunacaklara otomatik olarak tanımlanacak olan hediyeyle Turkcell müşterileri sevdikleriyle Türkiye’deki gibi bayramlaşacak.\n",
       "\n",
       "-“Turkcell’liler bayramın coşkusunu yurt dışında da yaşayacak”\n",
       "\n",
       "Açıklamada görüşlerine yer verilen Turkcell Genel Müdür Yardımcısı Ömer Barbaros Yiş, şunları kaydetti:\n",
       "\n",
       "“Turkcell olarak sadece yurt içinde değil yurt dışında da müşterilerimizin yanındayız. Ülkemiz ve insanlarımızın için son derece manevi anlamlar taşıyan Kurban Bayramı’nda müşterilerimize yakınlarıyla rahatça bayramlaşabilmeleri için bugüne kadar benzeri olmayan bir hediye sunuyoruz. Bu hediyemiz sayesinde Turkcell’liler gerek internet üzerinden gerekse konuşarak bayramın coşkusunu dünyanın dört bir yanına taşıyacak. Bu vesileyle tüm Türkiye’nin bayramını şimdiden kutlarız.”\n",
       "\n",
       "Yurt dışındaki ilk kullanımda devreye girecek ve 1 saat geçerli olacak hediyenin kullanılabileceği ülkeler şöyle:\n",
       "\n",
       "ABD, Almanya, Arnavutluk, Avustralya, Avusturya, Azerbaycan, Bangladeş, Belçika, Beyaz Rusya, Birleşik Arap Emirlikleri, Bosna Hersek, Brezilya, Bruney, Bulgaristan, Cebelitarık, Çek Cumhuriyeti, Çin, Danimarka, Ekvator, Ermenistan, Estonya, Faroe Adaları, Fiji, Filistin, Finlandiya, Fransa, Guatemala, Güney Afrika, Güney Kore, Gürcistan, Hırvatistan, Hollanda, Hong Kong, Irak, İngiltere, İran, İrlanda, İspanya, İsrail, İsveç, İsviçre, İtalya, İzlanda, Kanada, Karadağ, Katar, Kazakistan, Kıbrıs, Kırgızistan, Kosova, Kosta Rika, Letonya, Lihtenştayn, Litvanya, Lüksemburg, Macaristan, Makao, Makedonya, Malezya, Malta, Mısır, Moldova, Monako, Montserrat, Nepal, Nijer, Norveç, Panama, Polonya, Portekiz, Porto Riko, Romanya, Rusya, San Marino, Sırbistan, Singapur, Slovakya, Slovenya, Sri Lanka, Suudi Arabistan, Tacikistan, Tayland, Tayvan, Tunus, Ukrayna, Uruguay, Yeni Zelanda, Yunanistan."
      ],
      "text/plain": [
       "<IPython.core.display.Markdown object>"
      ]
     },
     "metadata": {},
     "output_type": "display_data"
    }
   ],
   "source": [
    "display(Markdown(ds['train']['text'][0]))"
   ]
  },
  {
   "cell_type": "code",
   "execution_count": null,
   "metadata": {},
   "outputs": [],
   "source": []
  }
 ],
 "metadata": {
  "kernelspec": {
   "display_name": "myenv",
   "language": "python",
   "name": "python3"
  },
  "language_info": {
   "codemirror_mode": {
    "name": "ipython",
    "version": 3
   },
   "file_extension": ".py",
   "mimetype": "text/x-python",
   "name": "python",
   "nbconvert_exporter": "python",
   "pygments_lexer": "ipython3",
   "version": "3.11.9"
  }
 },
 "nbformat": 4,
 "nbformat_minor": 2
}
