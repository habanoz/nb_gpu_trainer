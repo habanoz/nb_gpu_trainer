{
 "cells": [
  {
   "cell_type": "code",
   "execution_count": 2,
   "metadata": {},
   "outputs": [
    {
     "name": "stdout",
     "output_type": "stream",
     "text": [
      "/home/melek/workspace/vscode/nb_gpu_trainer\n"
     ]
    }
   ],
   "source": [
    "cd .."
   ]
  },
  {
   "cell_type": "code",
   "execution_count": 14,
   "metadata": {},
   "outputs": [],
   "source": [
    "from datasets import load_dataset, DatasetDict"
   ]
  },
  {
   "cell_type": "code",
   "execution_count": 3,
   "metadata": {},
   "outputs": [
    {
     "data": {
      "application/vnd.jupyter.widget-view+json": {
       "model_id": "56e6366c4d90489eb9bb4b7442f308a6",
       "version_major": 2,
       "version_minor": 0
      },
      "text/plain": [
       "Downloading readme:   0%|          | 0.00/509 [00:00<?, ?B/s]"
      ]
     },
     "metadata": {},
     "output_type": "display_data"
    },
    {
     "data": {
      "application/vnd.jupyter.widget-view+json": {
       "model_id": "d2c96b743f8f4ddeb4120cacffa97eaa",
       "version_major": 2,
       "version_minor": 0
      },
      "text/plain": [
       "Downloading data:   0%|          | 0.00/249M [00:00<?, ?B/s]"
      ]
     },
     "metadata": {},
     "output_type": "display_data"
    },
    {
     "data": {
      "application/vnd.jupyter.widget-view+json": {
       "model_id": "833f5055c16e4a819a005e8e960bef48",
       "version_major": 2,
       "version_minor": 0
      },
      "text/plain": [
       "Downloading data:   0%|          | 0.00/225M [00:00<?, ?B/s]"
      ]
     },
     "metadata": {},
     "output_type": "display_data"
    },
    {
     "data": {
      "application/vnd.jupyter.widget-view+json": {
       "model_id": "d0c3a02c4b0d48acbaa87b0b3a1f9d85",
       "version_major": 2,
       "version_minor": 0
      },
      "text/plain": [
       "Downloading data:   0%|          | 0.00/220M [00:00<?, ?B/s]"
      ]
     },
     "metadata": {},
     "output_type": "display_data"
    },
    {
     "data": {
      "application/vnd.jupyter.widget-view+json": {
       "model_id": "0cae0f9e5caa4cc2b37cd895da50f831",
       "version_major": 2,
       "version_minor": 0
      },
      "text/plain": [
       "Generating train split:   0%|          | 0/372852 [00:00<?, ? examples/s]"
      ]
     },
     "metadata": {},
     "output_type": "display_data"
    }
   ],
   "source": [
    "ds = load_dataset(\"habanoz/wiki-tr-v1.0\")"
   ]
  },
  {
   "cell_type": "code",
   "execution_count": 4,
   "metadata": {},
   "outputs": [
    {
     "data": {
      "text/plain": [
       "DatasetDict({\n",
       "    train: Dataset({\n",
       "        features: ['Id', 'Text'],\n",
       "        num_rows: 372852\n",
       "    })\n",
       "})"
      ]
     },
     "execution_count": 4,
     "metadata": {},
     "output_type": "execute_result"
    }
   ],
   "source": [
    "ds"
   ]
  },
  {
   "cell_type": "code",
   "execution_count": 7,
   "metadata": {},
   "outputs": [
    {
     "data": {
      "application/vnd.jupyter.widget-view+json": {
       "model_id": "80e650ccdec943378a20268ac030106a",
       "version_major": 2,
       "version_minor": 0
      },
      "text/plain": [
       "Map:   0%|          | 0/372852 [00:00<?, ? examples/s]"
      ]
     },
     "metadata": {},
     "output_type": "display_data"
    }
   ],
   "source": [
    "def to_doc(x):\n",
    "    title = x['Id'].replace(\"_\", \" \")\n",
    "    body = x['Text']\n",
    "    text = f\"\"\"# {title}\n",
    "\n",
    "{body}\"\"\"\n",
    "\n",
    "    return {\"text\":text}\n",
    "\n",
    "ds_doc = ds.map(to_doc)"
   ]
  },
  {
   "cell_type": "code",
   "execution_count": 9,
   "metadata": {},
   "outputs": [],
   "source": [
    "ds_doc = ds_doc.remove_columns([\"Id\",\"Text\"])"
   ]
  },
  {
   "cell_type": "code",
   "execution_count": 12,
   "metadata": {},
   "outputs": [],
   "source": [
    "ds_doc = ds_doc['train'].train_test_split(0.1)"
   ]
  },
  {
   "cell_type": "code",
   "execution_count": 15,
   "metadata": {},
   "outputs": [],
   "source": [
    "ds_text = DatasetDict(\n",
    "    {\n",
    "        \"train\":ds_doc['train'],\n",
    "        \"validation\":ds_doc['test']\n",
    "    }\n",
    ")"
   ]
  },
  {
   "cell_type": "code",
   "execution_count": 16,
   "metadata": {},
   "outputs": [
    {
     "data": {
      "application/vnd.jupyter.widget-view+json": {
       "model_id": "5cfcd5c1ea6e479f94b8b19ffe405130",
       "version_major": 2,
       "version_minor": 0
      },
      "text/plain": [
       "Uploading the dataset shards:   0%|          | 0/3 [00:00<?, ?it/s]"
      ]
     },
     "metadata": {},
     "output_type": "display_data"
    },
    {
     "data": {
      "application/vnd.jupyter.widget-view+json": {
       "model_id": "86aa55ad4eaa44f8be2d2da850f8e877",
       "version_major": 2,
       "version_minor": 0
      },
      "text/plain": [
       "Creating parquet from Arrow format:   0%|          | 0/112 [00:00<?, ?ba/s]"
      ]
     },
     "metadata": {},
     "output_type": "display_data"
    },
    {
     "data": {
      "application/vnd.jupyter.widget-view+json": {
       "model_id": "0d18ed81aeac4815809fe2609d4b5edf",
       "version_major": 2,
       "version_minor": 0
      },
      "text/plain": [
       "Creating parquet from Arrow format:   0%|          | 0/112 [00:00<?, ?ba/s]"
      ]
     },
     "metadata": {},
     "output_type": "display_data"
    },
    {
     "data": {
      "application/vnd.jupyter.widget-view+json": {
       "model_id": "c6497a4414ed4c1e889ba2b067e84961",
       "version_major": 2,
       "version_minor": 0
      },
      "text/plain": [
       "Creating parquet from Arrow format:   0%|          | 0/112 [00:00<?, ?ba/s]"
      ]
     },
     "metadata": {},
     "output_type": "display_data"
    },
    {
     "data": {
      "application/vnd.jupyter.widget-view+json": {
       "model_id": "c4b445c317f94209bdf4f438ea4abe31",
       "version_major": 2,
       "version_minor": 0
      },
      "text/plain": [
       "Uploading the dataset shards:   0%|          | 0/1 [00:00<?, ?it/s]"
      ]
     },
     "metadata": {},
     "output_type": "display_data"
    },
    {
     "data": {
      "application/vnd.jupyter.widget-view+json": {
       "model_id": "fa7b48b9f2a74fa58fbc39ff6668d0c5",
       "version_major": 2,
       "version_minor": 0
      },
      "text/plain": [
       "Creating parquet from Arrow format:   0%|          | 0/38 [00:00<?, ?ba/s]"
      ]
     },
     "metadata": {},
     "output_type": "display_data"
    },
    {
     "data": {
      "text/plain": [
       "CommitInfo(commit_url='https://huggingface.co/datasets/habanoz/wiki-tr-v1.0-text/commit/72a8e137fa9871bbb17389924cccd46f9bfe2f3e', commit_message='Upload dataset', commit_description='', oid='72a8e137fa9871bbb17389924cccd46f9bfe2f3e', pr_url=None, pr_revision=None, pr_num=None)"
      ]
     },
     "execution_count": 16,
     "metadata": {},
     "output_type": "execute_result"
    }
   ],
   "source": [
    "ds_text.push_to_hub(\"habanoz/wiki-tr-v1.0-text\")"
   ]
  },
  {
   "cell_type": "code",
   "execution_count": 21,
   "metadata": {},
   "outputs": [],
   "source": [
    "from IPython.display import display, Markdown"
   ]
  },
  {
   "cell_type": "code",
   "execution_count": 24,
   "metadata": {},
   "outputs": [],
   "source": [
    "from nbtr.tokenizer.train import Trainer"
   ]
  },
  {
   "cell_type": "code",
   "execution_count": null,
   "metadata": {},
   "outputs": [],
   "source": [
    "Trainer(ds_repo_id=\"habanoz/wiki-tr-v1.0-text\", model_repo_id=\"habanoz/wiki-text-gpt-v0.0\")"
   ]
  },
  {
   "cell_type": "code",
   "execution_count": 26,
   "metadata": {},
   "outputs": [
    {
     "name": "stdout",
     "output_type": "stream",
     "text": [
      "Downloading readme: 100%|██████████████████████| 423/423 [00:00<00:00, 3.45MB/s]\n",
      "Downloading data: 100%|██████████████████████| 213M/213M [00:27<00:00, 7.77MB/s]\n",
      "Downloading data: 100%|██████████████████████| 214M/214M [00:26<00:00, 7.98MB/s]\n",
      "Downloading data: 100%|██████████████████████| 213M/213M [00:27<00:00, 7.78MB/s]\n",
      "Downloading data: 100%|████████████████████| 72.7M/72.7M [00:10<00:00, 7.02MB/s]\n",
      "Generating train split: 100%|█| 335566/335566 [00:09<00:00, 35071.96 examples/s]\n",
      "Generating validation split: 100%|█| 37286/37286 [00:01<00:00, 33136.75 examples\n",
      "sentencepiece_trainer.cc(78) LOG(INFO) Starts training with : \n",
      "trainer_spec {\n",
      "  input: /tmp/tmp81m63pe1\n",
      "  input_format: \n",
      "  model_prefix: wiki-text-gpt-v0.0/tokenizer\n",
      "  model_type: BPE\n",
      "  vocab_size: 8192\n",
      "  self_test_sample_size: 0\n",
      "  character_coverage: 0.9995\n",
      "  input_sentence_size: 0\n",
      "  shuffle_input_sentence: 1\n",
      "  seed_sentencepiece_size: 1000000\n",
      "  shrinking_factor: 0.75\n",
      "  max_sentence_length: 4192\n",
      "  num_threads: 16\n",
      "  num_sub_iterations: 2\n",
      "  max_sentencepiece_length: 16\n",
      "  split_by_unicode_script: 1\n",
      "  split_by_number: 1\n",
      "  split_by_whitespace: 1\n",
      "  split_digits: 1\n",
      "  pretokenization_delimiter: \n",
      "  treat_whitespace_as_suffix: 0\n",
      "  allow_whitespace_only_pieces: 0\n",
      "  required_chars: \n",
      "  byte_fallback: 0\n",
      "  vocabulary_output_piece_score: 1\n",
      "  train_extremely_large_corpus: 0\n",
      "  seed_sentencepieces_file: \n",
      "  hard_vocab_limit: 1\n",
      "  use_all_vocab: 0\n",
      "  unk_id: 0\n",
      "  bos_id: 1\n",
      "  eos_id: 2\n",
      "  pad_id: -1\n",
      "  unk_piece: <unk>\n",
      "  bos_piece: <s>\n",
      "  eos_piece: </s>\n",
      "  pad_piece: <pad>\n",
      "  unk_surface:  ⁇ \n",
      "  enable_differential_privacy: 0\n",
      "  differential_privacy_noise_level: 0\n",
      "  differential_privacy_clipping_threshold: 0\n",
      "}\n",
      "normalizer_spec {\n",
      "  name: nmt_nfkc\n",
      "  add_dummy_prefix: 1\n",
      "  remove_extra_whitespaces: 1\n",
      "  escape_whitespaces: 1\n",
      "  normalization_rule_tsv: \n",
      "}\n",
      "denormalizer_spec {}\n",
      "trainer_interface.cc(353) LOG(INFO) SentenceIterator is not specified. Using MultiFileSentenceIterator.\n",
      "trainer_interface.cc(185) LOG(INFO) Loading corpus: /tmp/tmp81m63pe1\n",
      "trainer_interface.cc(380) LOG(WARNING) Found too long line (6630 > 4192).\n",
      "trainer_interface.cc(382) LOG(WARNING) Too long lines are skipped in the training.\n",
      "trainer_interface.cc(383) LOG(WARNING) The maximum length can be changed with --max_sentence_length=<size> flag.\n",
      "trainer_interface.cc(147) LOG(INFO) Loaded 1000000 lines\n",
      "trainer_interface.cc(147) LOG(INFO) Loaded 2000000 lines\n",
      "trainer_interface.cc(147) LOG(INFO) Loaded 3000000 lines\n",
      "trainer_interface.cc(147) LOG(INFO) Loaded 4000000 lines\n",
      "trainer_interface.cc(147) LOG(INFO) Loaded 5000000 lines\n",
      "trainer_interface.cc(147) LOG(INFO) Loaded 6000000 lines\n",
      "trainer_interface.cc(147) LOG(INFO) Loaded 7000000 lines\n",
      "trainer_interface.cc(147) LOG(INFO) Loaded 8000000 lines\n",
      "trainer_interface.cc(147) LOG(INFO) Loaded 9000000 lines\n",
      "trainer_interface.cc(147) LOG(INFO) Loaded 10000000 lines\n",
      "trainer_interface.cc(147) LOG(INFO) Loaded 11000000 lines\n",
      "trainer_interface.cc(147) LOG(INFO) Loaded 12000000 lines\n",
      "trainer_interface.cc(147) LOG(INFO) Loaded 13000000 lines\n",
      "trainer_interface.cc(147) LOG(INFO) Loaded 14000000 lines\n",
      "trainer_interface.cc(124) LOG(WARNING) Too many sentences are loaded! (14984580), which may slow down training.\n",
      "trainer_interface.cc(126) LOG(WARNING) Consider using --input_sentence_size=<size> and --shuffle_input_sentence=true.\n",
      "trainer_interface.cc(129) LOG(WARNING) They allow to randomly sample <size> sentences from the entire corpus.\n",
      "trainer_interface.cc(409) LOG(INFO) Loaded all 14984580 sentences\n",
      "trainer_interface.cc(416) LOG(INFO) Skipped 1073 too long sentences.\n",
      "trainer_interface.cc(425) LOG(INFO) Adding meta_piece: <unk>\n",
      "trainer_interface.cc(425) LOG(INFO) Adding meta_piece: <s>\n",
      "trainer_interface.cc(425) LOG(INFO) Adding meta_piece: </s>\n",
      "trainer_interface.cc(430) LOG(INFO) Normalizing sentences...\n",
      "trainer_interface.cc(539) LOG(INFO) all chars count=1120190690\n",
      "trainer_interface.cc(550) LOG(INFO) Done: 99.95% characters are covered.\n",
      "trainer_interface.cc(560) LOG(INFO) Alphabet size=423\n",
      "trainer_interface.cc(561) LOG(INFO) Final character coverage=0.9995\n",
      "trainer_interface.cc(592) LOG(INFO) Done! preprocessed 14984559 sentences.\n",
      "trainer_interface.cc(598) LOG(INFO) Tokenizing input sentences with whitespace: 14984559\n",
      "trainer_interface.cc(609) LOG(INFO) Done! 6498667\n",
      "bpe_model_trainer.cc(159) LOG(INFO) Updating active symbols. max_freq=19168467 min_freq=22396\n",
      "bpe_model_trainer.cc(268) LOG(INFO) Added: freq=4645501 size=20 all=19789 active=4123 piece=el\n",
      "bpe_model_trainer.cc(268) LOG(INFO) Added: freq=3378997 size=40 all=23473 active=7807 piece=▁S\n",
      "bpe_model_trainer.cc(268) LOG(INFO) Added: freq=2234929 size=60 all=26830 active=11164 piece=▁m\n",
      "bpe_model_trainer.cc(268) LOG(INFO) Added: freq=1720771 size=80 all=30009 active=14343 piece=**\n",
      "bpe_model_trainer.cc(268) LOG(INFO) Added: freq=1319420 size=100 all=33667 active=18001 piece=inde\n",
      "bpe_model_trainer.cc(159) LOG(INFO) Updating active symbols. max_freq=1296709 min_freq=66392\n",
      "bpe_model_trainer.cc(268) LOG(INFO) Added: freq=1110881 size=120 all=37591 active=5424 piece=esi\n",
      "bpe_model_trainer.cc(268) LOG(INFO) Added: freq=955294 size=140 all=42073 active=9906 piece=ül\n",
      "bpe_model_trainer.cc(268) LOG(INFO) Added: freq=796720 size=160 all=46352 active=14185 piece=ön\n",
      "bpe_model_trainer.cc(268) LOG(INFO) Added: freq=695776 size=180 all=50319 active=18152 piece=▁yap\n",
      "bpe_model_trainer.cc(268) LOG(INFO) Added: freq=618278 size=200 all=54490 active=22323 piece=tı\n",
      "bpe_model_trainer.cc(159) LOG(INFO) Updating active symbols. max_freq=609496 min_freq=33959\n",
      "bpe_model_trainer.cc(268) LOG(INFO) Added: freq=551087 size=220 all=58356 active=6398 piece=▁W\n",
      "bpe_model_trainer.cc(268) LOG(INFO) Added: freq=475050 size=240 all=62940 active=10982 piece=▁oldu\n",
      "bpe_model_trainer.cc(268) LOG(INFO) Added: freq=441380 size=260 all=67202 active=15244 piece=eb\n",
      "bpe_model_trainer.cc(268) LOG(INFO) Added: freq=391786 size=280 all=71379 active=19421 piece=eni\n",
      "bpe_model_trainer.cc(268) LOG(INFO) Added: freq=358042 size=300 all=76042 active=24084 piece=ub\n",
      "bpe_model_trainer.cc(159) LOG(INFO) Updating active symbols. max_freq=356213 min_freq=21759\n",
      "bpe_model_trainer.cc(268) LOG(INFO) Added: freq=327575 size=320 all=79829 active=7163 piece=▁Bir\n",
      "bpe_model_trainer.cc(268) LOG(INFO) Added: freq=305828 size=340 all=83105 active=10439 piece=üç\n",
      "bpe_model_trainer.cc(268) LOG(INFO) Added: freq=283838 size=360 all=87298 active=14632 piece=ılan\n",
      "bpe_model_trainer.cc(268) LOG(INFO) Added: freq=263613 size=380 all=90799 active=18133 piece=▁sah\n",
      "bpe_model_trainer.cc(268) LOG(INFO) Added: freq=247225 size=400 all=94934 active=22268 piece=▁Er\n",
      "bpe_model_trainer.cc(159) LOG(INFO) Updating active symbols. max_freq=244632 min_freq=15642\n",
      "bpe_model_trainer.cc(268) LOG(INFO) Added: freq=235746 size=420 all=98047 active=7689 piece=▁ise\n",
      "bpe_model_trainer.cc(268) LOG(INFO) Added: freq=222320 size=440 all=101798 active=11440 piece=bol\n",
      "bpe_model_trainer.cc(268) LOG(INFO) Added: freq=209836 size=460 all=106024 active=15666 piece=▁Fran\n",
      "bpe_model_trainer.cc(268) LOG(INFO) Added: freq=202809 size=480 all=110109 active=19751 piece=▁Or\n",
      "bpe_model_trainer.cc(268) LOG(INFO) Added: freq=192009 size=500 all=114581 active=24223 piece=▁zaman\n",
      "bpe_model_trainer.cc(159) LOG(INFO) Updating active symbols. max_freq=191487 min_freq=11856\n",
      "bpe_model_trainer.cc(268) LOG(INFO) Added: freq=182104 size=520 all=119412 active=10508 piece=larında\n",
      "bpe_model_trainer.cc(268) LOG(INFO) Added: freq=174690 size=540 all=123616 active=14712 piece=kan\n",
      "bpe_model_trainer.cc(268) LOG(INFO) Added: freq=168203 size=560 all=128269 active=19365 piece=▁yük\n",
      "bpe_model_trainer.cc(268) LOG(INFO) Added: freq=160490 size=580 all=131533 active=22629 piece=▁Mar\n",
      "bpe_model_trainer.cc(268) LOG(INFO) Added: freq=154649 size=600 all=134392 active=25488 piece=ten\n",
      "bpe_model_trainer.cc(159) LOG(INFO) Updating active symbols. max_freq=154378 min_freq=9494\n",
      "bpe_model_trainer.cc(268) LOG(INFO) Added: freq=149187 size=620 all=137414 active=9304 piece=▁adı\n",
      "bpe_model_trainer.cc(268) LOG(INFO) Added: freq=144239 size=640 all=139593 active=11483 piece=umhur\n",
      "bpe_model_trainer.cc(268) LOG(INFO) Added: freq=137947 size=660 all=142089 active=13979 piece=and\n",
      "bpe_model_trainer.cc(268) LOG(INFO) Added: freq=133069 size=680 all=146023 active=17913 piece=▁bölg\n",
      "bpe_model_trainer.cc(268) LOG(INFO) Added: freq=128820 size=700 all=149456 active=21346 piece=▁ul\n",
      "bpe_model_trainer.cc(159) LOG(INFO) Updating active symbols. max_freq=128604 min_freq=8016\n",
      "bpe_model_trainer.cc(268) LOG(INFO) Added: freq=124984 size=720 all=153507 active=11442 piece=iyat\n",
      "bpe_model_trainer.cc(268) LOG(INFO) Added: freq=120892 size=740 all=156634 active=14569 piece=rupa\n",
      "bpe_model_trainer.cc(268) LOG(INFO) Added: freq=118687 size=760 all=159092 active=17027 piece=▁Cumhur\n",
      "bpe_model_trainer.cc(268) LOG(INFO) Added: freq=115178 size=780 all=161222 active=19157 piece=ord\n",
      "bpe_model_trainer.cc(268) LOG(INFO) Added: freq=111607 size=800 all=164867 active=22802 piece=▁Nis\n",
      "bpe_model_trainer.cc(159) LOG(INFO) Updating active symbols. max_freq=111594 min_freq=6980\n",
      "bpe_model_trainer.cc(268) LOG(INFO) Added: freq=109011 size=820 all=168116 active=11418 piece=iyas\n",
      "bpe_model_trainer.cc(268) LOG(INFO) Added: freq=106332 size=840 all=170790 active=14092 piece=▁İm\n",
      "bpe_model_trainer.cc(268) LOG(INFO) Added: freq=103358 size=860 all=174321 active=17623 piece=▁met\n",
      "bpe_model_trainer.cc(268) LOG(INFO) Added: freq=100869 size=880 all=177973 active=21275 piece=▁El\n",
      "bpe_model_trainer.cc(268) LOG(INFO) Added: freq=97879 size=900 all=180728 active=24030 piece=▁müz\n",
      "bpe_model_trainer.cc(159) LOG(INFO) Updating active symbols. max_freq=97839 min_freq=6089\n",
      "bpe_model_trainer.cc(268) LOG(INFO) Added: freq=95198 size=920 all=183731 active=11982 piece=▁Kral\n",
      "bpe_model_trainer.cc(268) LOG(INFO) Added: freq=92215 size=940 all=187518 active=15769 piece=▁değiş\n",
      "bpe_model_trainer.cc(268) LOG(INFO) Added: freq=89906 size=960 all=190505 active=18756 piece=▁In\n",
      "bpe_model_trainer.cc(268) LOG(INFO) Added: freq=88312 size=980 all=194497 active=22748 piece=▁şeh\n",
      "bpe_model_trainer.cc(268) LOG(INFO) Added: freq=86650 size=1000 all=196793 active=25044 piece=hil\n",
      "bpe_model_trainer.cc(159) LOG(INFO) Updating active symbols. max_freq=86557 min_freq=5367\n",
      "bpe_model_trainer.cc(268) LOG(INFO) Added: freq=84836 size=1020 all=199912 active=12637 piece=▁Alt\n",
      "bpe_model_trainer.cc(268) LOG(INFO) Added: freq=82518 size=1040 all=203713 active=16438 piece=▁İlk\n",
      "bpe_model_trainer.cc(268) LOG(INFO) Added: freq=81200 size=1060 all=206814 active=19539 piece=las\n",
      "bpe_model_trainer.cc(268) LOG(INFO) Added: freq=79654 size=1080 all=210688 active=23413 piece=mir\n",
      "bpe_model_trainer.cc(268) LOG(INFO) Added: freq=78128 size=1100 all=214697 active=27422 piece=▁birçok\n",
      "bpe_model_trainer.cc(159) LOG(INFO) Updating active symbols. max_freq=78119 min_freq=4764\n",
      "bpe_model_trainer.cc(268) LOG(INFO) Added: freq=76194 size=1120 all=217819 active=13842 piece=ğü\n",
      "bpe_model_trainer.cc(268) LOG(INFO) Added: freq=74812 size=1140 all=220727 active=16750 piece=aat\n",
      "bpe_model_trainer.cc(268) LOG(INFO) Added: freq=73282 size=1160 all=224064 active=20087 piece=▁ter\n",
      "bpe_model_trainer.cc(268) LOG(INFO) Added: freq=72087 size=1180 all=227098 active=23121 piece=ordu\n",
      "bpe_model_trainer.cc(268) LOG(INFO) Added: freq=70666 size=1200 all=230173 active=26196 piece=eng\n",
      "bpe_model_trainer.cc(159) LOG(INFO) Updating active symbols. max_freq=70505 min_freq=4293\n",
      "bpe_model_trainer.cc(268) LOG(INFO) Added: freq=69035 size=1220 all=232943 active=13721 piece=undan\n",
      "bpe_model_trainer.cc(268) LOG(INFO) Added: freq=67915 size=1240 all=235785 active=16563 piece=▁mah\n",
      "bpe_model_trainer.cc(268) LOG(INFO) Added: freq=66518 size=1260 all=238137 active=18915 piece=th\n",
      "bpe_model_trainer.cc(268) LOG(INFO) Added: freq=65355 size=1280 all=242425 active=23203 piece=′′\n",
      "bpe_model_trainer.cc(268) LOG(INFO) Added: freq=64280 size=1300 all=245643 active=26421 piece=br\n",
      "bpe_model_trainer.cc(159) LOG(INFO) Updating active symbols. max_freq=64193 min_freq=3898\n",
      "bpe_model_trainer.cc(268) LOG(INFO) Added: freq=63194 size=1320 all=249345 active=15561 piece=▁Yap\n",
      "bpe_model_trainer.cc(268) LOG(INFO) Added: freq=61947 size=1340 all=252123 active=18339 piece=▁Wil\n",
      "bpe_model_trainer.cc(268) LOG(INFO) Added: freq=60904 size=1360 all=254619 active=20835 piece=cel\n",
      "bpe_model_trainer.cc(268) LOG(INFO) Added: freq=59968 size=1380 all=257238 active=23454 piece=▁benz\n",
      "bpe_model_trainer.cc(268) LOG(INFO) Added: freq=58914 size=1400 all=260071 active=26287 piece=▁bulunmaktadır\n",
      "bpe_model_trainer.cc(159) LOG(INFO) Updating active symbols. max_freq=58903 min_freq=3582\n",
      "bpe_model_trainer.cc(268) LOG(INFO) Added: freq=58271 size=1420 all=262546 active=15476 piece=öyle\n",
      "bpe_model_trainer.cc(268) LOG(INFO) Added: freq=57509 size=1440 all=266563 active=19493 piece=▁seçim\n",
      "bpe_model_trainer.cc(268) LOG(INFO) Added: freq=56707 size=1460 all=268989 active=21919 piece=anda\n",
      "bpe_model_trainer.cc(268) LOG(INFO) Added: freq=55434 size=1480 all=271250 active=24180 piece=▁Daha\n",
      "bpe_model_trainer.cc(268) LOG(INFO) Added: freq=54218 size=1500 all=276077 active=29007 piece=hi\n",
      "bpe_model_trainer.cc(159) LOG(INFO) Updating active symbols. max_freq=54193 min_freq=3254\n",
      "bpe_model_trainer.cc(268) LOG(INFO) Added: freq=53388 size=1520 all=279666 active=16932 piece=▁Sa\n",
      "bpe_model_trainer.cc(268) LOG(INFO) Added: freq=52607 size=1540 all=283564 active=20830 piece=orn\n",
      "bpe_model_trainer.cc(268) LOG(INFO) Added: freq=51628 size=1560 all=286947 active=24213 piece=▁İsv\n",
      "bpe_model_trainer.cc(268) LOG(INFO) Added: freq=50930 size=1580 all=289498 active=26764 piece=ick\n",
      "bpe_model_trainer.cc(268) LOG(INFO) Added: freq=50503 size=1600 all=292275 active=29541 piece=▁merkezi\n",
      "bpe_model_trainer.cc(159) LOG(INFO) Updating active symbols. max_freq=50469 min_freq=3016\n",
      "bpe_model_trainer.cc(268) LOG(INFO) Added: freq=49810 size=1620 all=294885 active=17218 piece=lav\n",
      "bpe_model_trainer.cc(268) LOG(INFO) Added: freq=48867 size=1640 all=297886 active=20219 piece=▁kuzey\n",
      "bpe_model_trainer.cc(268) LOG(INFO) Added: freq=47859 size=1660 all=301636 active=23969 piece=cade\n",
      "bpe_model_trainer.cc(268) LOG(INFO) Added: freq=47184 size=1680 all=304177 active=26510 piece=▁kuvvet\n",
      "bpe_model_trainer.cc(268) LOG(INFO) Added: freq=46564 size=1700 all=307206 active=29539 piece=isine\n",
      "bpe_model_trainer.cc(159) LOG(INFO) Updating active symbols. max_freq=46549 min_freq=2811\n",
      "bpe_model_trainer.cc(268) LOG(INFO) Added: freq=46004 size=1720 all=310017 active=18006 piece=▁Coğraf\n",
      "bpe_model_trainer.cc(268) LOG(INFO) Added: freq=45300 size=1740 all=311181 active=19170 piece=▁ord\n",
      "bpe_model_trainer.cc(268) LOG(INFO) Added: freq=44681 size=1760 all=313724 active=21713 piece=▁temel\n",
      "bpe_model_trainer.cc(268) LOG(INFO) Added: freq=44142 size=1780 all=318099 active=26088 piece=▁kav\n",
      "bpe_model_trainer.cc(268) LOG(INFO) Added: freq=43279 size=1800 all=320150 active=28139 piece=▁elde\n",
      "bpe_model_trainer.cc(159) LOG(INFO) Updating active symbols. max_freq=43273 min_freq=2651\n",
      "bpe_model_trainer.cc(268) LOG(INFO) Added: freq=42456 size=1820 all=323155 active=18998 piece=eda\n",
      "bpe_model_trainer.cc(268) LOG(INFO) Added: freq=41729 size=1840 all=326436 active=22279 piece=▁ana\n",
      "bpe_model_trainer.cc(268) LOG(INFO) Added: freq=41186 size=1860 all=329090 active=24933 piece=▁inan\n",
      "bpe_model_trainer.cc(268) LOG(INFO) Added: freq=40765 size=1880 all=331954 active=27797 piece=▁Biz\n",
      "bpe_model_trainer.cc(268) LOG(INFO) Added: freq=40420 size=1900 all=334510 active=30353 piece=isk\n",
      "bpe_model_trainer.cc(159) LOG(INFO) Updating active symbols. max_freq=40363 min_freq=2480\n",
      "bpe_model_trainer.cc(268) LOG(INFO) Added: freq=39648 size=1920 all=336651 active=18446 piece=sik\n",
      "bpe_model_trainer.cc(268) LOG(INFO) Added: freq=39303 size=1940 all=339634 active=21429 piece=ser\n",
      "bpe_model_trainer.cc(268) LOG(INFO) Added: freq=38693 size=1960 all=341791 active=23586 piece=▁rom\n",
      "bpe_model_trainer.cc(268) LOG(INFO) Added: freq=38268 size=1980 all=344504 active=26299 piece=mez\n",
      "bpe_model_trainer.cc(268) LOG(INFO) Added: freq=37830 size=2000 all=346873 active=28668 piece=ray\n",
      "bpe_model_trainer.cc(159) LOG(INFO) Updating active symbols. max_freq=37756 min_freq=2341\n",
      "bpe_model_trainer.cc(268) LOG(INFO) Added: freq=37380 size=2020 all=349701 active=19850 piece=dem\n",
      "bpe_model_trainer.cc(268) LOG(INFO) Added: freq=36818 size=2040 all=352728 active=22877 piece=▁hükûmet\n",
      "bpe_model_trainer.cc(268) LOG(INFO) Added: freq=36349 size=2060 all=355077 active=25226 piece=▁almıştır\n",
      "bpe_model_trainer.cc(268) LOG(INFO) Added: freq=35907 size=2080 all=357604 active=27753 piece=▁Gök\n",
      "bpe_model_trainer.cc(268) LOG(INFO) Added: freq=35554 size=2100 all=361278 active=31427 piece=▁Dön\n",
      "bpe_model_trainer.cc(159) LOG(INFO) Updating active symbols. max_freq=35536 min_freq=2203\n",
      "bpe_model_trainer.cc(268) LOG(INFO) Added: freq=35135 size=2120 all=363894 active=20611 piece=iydi\n",
      "bpe_model_trainer.cc(268) LOG(INFO) Added: freq=34555 size=2140 all=365496 active=22213 piece=ena\n",
      "bpe_model_trainer.cc(268) LOG(INFO) Added: freq=34119 size=2160 all=369750 active=26467 piece=▁Paris\n",
      "bpe_model_trainer.cc(268) LOG(INFO) Added: freq=33563 size=2180 all=373689 active=30406 piece=▁çöz\n",
      "bpe_model_trainer.cc(268) LOG(INFO) Added: freq=33331 size=2200 all=376904 active=33621 piece=SB\n",
      "bpe_model_trainer.cc(159) LOG(INFO) Updating active symbols. max_freq=33331 min_freq=2077\n",
      "bpe_model_trainer.cc(268) LOG(INFO) Added: freq=33018 size=2220 all=378852 active=20694 piece=▁kullanılır\n",
      "bpe_model_trainer.cc(268) LOG(INFO) Added: freq=32714 size=2240 all=381424 active=23266 piece=öylece\n",
      "bpe_model_trainer.cc(268) LOG(INFO) Added: freq=32280 size=2260 all=384151 active=25993 piece=▁Don\n",
      "bpe_model_trainer.cc(268) LOG(INFO) Added: freq=31924 size=2280 all=385984 active=27826 piece=▁bes\n",
      "bpe_model_trainer.cc(268) LOG(INFO) Added: freq=31658 size=2300 all=388249 active=30091 piece=langı\n",
      "bpe_model_trainer.cc(159) LOG(INFO) Updating active symbols. max_freq=31653 min_freq=1994\n",
      "bpe_model_trainer.cc(268) LOG(INFO) Added: freq=31297 size=2320 all=391619 active=22763 piece=▁yönlendir\n",
      "bpe_model_trainer.cc(268) LOG(INFO) Added: freq=31000 size=2340 all=394055 active=25199 piece=▁sıcak\n",
      "bpe_model_trainer.cc(268) LOG(INFO) Added: freq=30612 size=2360 all=396428 active=27572 piece=▁İsrail\n",
      "bpe_model_trainer.cc(268) LOG(INFO) Added: freq=30373 size=2380 all=399403 active=30547 piece=İn\n",
      "bpe_model_trainer.cc(268) LOG(INFO) Added: freq=30139 size=2400 all=401542 active=32686 piece=▁Brit\n",
      "bpe_model_trainer.cc(159) LOG(INFO) Updating active symbols. max_freq=30137 min_freq=1900\n",
      "bpe_model_trainer.cc(268) LOG(INFO) Added: freq=29947 size=2420 all=404158 active=22639 piece=▁ilan\n",
      "bpe_model_trainer.cc(268) LOG(INFO) Added: freq=29637 size=2440 all=406059 active=24540 piece=doğ\n",
      "bpe_model_trainer.cc(268) LOG(INFO) Added: freq=29289 size=2460 all=408615 active=27096 piece=hael\n",
      "bpe_model_trainer.cc(268) LOG(INFO) Added: freq=28984 size=2480 all=411031 active=29512 piece=▁işg\n",
      "bpe_model_trainer.cc(268) LOG(INFO) Added: freq=28550 size=2500 all=413460 active=31941 piece=▁bulunduğu\n",
      "bpe_model_trainer.cc(159) LOG(INFO) Updating active symbols. max_freq=28545 min_freq=1819\n",
      "bpe_model_trainer.cc(268) LOG(INFO) Added: freq=28302 size=2520 all=416075 active=23284 piece=▁Kı\n",
      "bpe_model_trainer.cc(268) LOG(INFO) Added: freq=28037 size=2540 all=417666 active=24875 piece=▁sonraki\n",
      "bpe_model_trainer.cc(268) LOG(INFO) Added: freq=27793 size=2560 all=420875 active=28084 piece=▁başına\n",
      "bpe_model_trainer.cc(268) LOG(INFO) Added: freq=27496 size=2580 all=422377 active=29586 piece=▁Ven\n",
      "bpe_model_trainer.cc(268) LOG(INFO) Added: freq=27306 size=2600 all=425159 active=32368 piece=▁Hen\n",
      "bpe_model_trainer.cc(159) LOG(INFO) Updating active symbols. max_freq=27285 min_freq=1738\n",
      "bpe_model_trainer.cc(268) LOG(INFO) Added: freq=27137 size=2620 all=427801 active=23793 piece=▁Polonya\n",
      "bpe_model_trainer.cc(268) LOG(INFO) Added: freq=26837 size=2640 all=430746 active=26738 piece=▁herhangi\n",
      "bpe_model_trainer.cc(268) LOG(INFO) Added: freq=26622 size=2660 all=432969 active=28961 piece=▁Din\n",
      "bpe_model_trainer.cc(268) LOG(INFO) Added: freq=26317 size=2680 all=435153 active=31145 piece=▁Şir\n",
      "bpe_model_trainer.cc(268) LOG(INFO) Added: freq=26199 size=2700 all=436533 active=32525 piece=▁değildir\n",
      "bpe_model_trainer.cc(159) LOG(INFO) Updating active symbols. max_freq=26193 min_freq=1668\n",
      "bpe_model_trainer.cc(268) LOG(INFO) Added: freq=25949 size=2720 all=440359 active=25651 piece=▁ünlü\n",
      "bpe_model_trainer.cc(268) LOG(INFO) Added: freq=25703 size=2740 all=441688 active=26980 piece=▁resmi\n",
      "bpe_model_trainer.cc(268) LOG(INFO) Added: freq=25468 size=2760 all=444132 active=29424 piece=▁nes\n",
      "bpe_model_trainer.cc(268) LOG(INFO) Added: freq=25209 size=2780 all=446627 active=31919 piece=taydı\n",
      "bpe_model_trainer.cc(268) LOG(INFO) Added: freq=24943 size=2800 all=448779 active=34071 piece=org\n",
      "bpe_model_trainer.cc(159) LOG(INFO) Updating active symbols. max_freq=24938 min_freq=1596\n",
      "bpe_model_trainer.cc(268) LOG(INFO) Added: freq=24657 size=2820 all=451150 active=24485 piece=▁uzaklık\n",
      "bpe_model_trainer.cc(268) LOG(INFO) Added: freq=24409 size=2840 all=452722 active=26057 piece=avi\n",
      "bpe_model_trainer.cc(268) LOG(INFO) Added: freq=24227 size=2860 all=455046 active=28381 piece=▁cin\n",
      "bpe_model_trainer.cc(268) LOG(INFO) Added: freq=24005 size=2880 all=457500 active=30835 piece=▁pay\n",
      "bpe_model_trainer.cc(268) LOG(INFO) Added: freq=23765 size=2900 all=460219 active=33554 piece=▁yapımı\n",
      "bpe_model_trainer.cc(159) LOG(INFO) Updating active symbols. max_freq=23763 min_freq=1542\n",
      "bpe_model_trainer.cc(268) LOG(INFO) Added: freq=23579 size=2920 all=461523 active=24305 piece=acaktır\n",
      "bpe_model_trainer.cc(268) LOG(INFO) Added: freq=23347 size=2940 all=463982 active=26764 piece=▁yürüt\n",
      "bpe_model_trainer.cc(268) LOG(INFO) Added: freq=23187 size=2960 all=466742 active=29524 piece=ane\n",
      "bpe_model_trainer.cc(268) LOG(INFO) Added: freq=23032 size=2980 all=468727 active=31509 piece=▁County\n",
      "bpe_model_trainer.cc(268) LOG(INFO) Added: freq=22828 size=3000 all=471595 active=34377 piece=va\n",
      "bpe_model_trainer.cc(159) LOG(INFO) Updating active symbols. max_freq=22826 min_freq=1484\n",
      "bpe_model_trainer.cc(268) LOG(INFO) Added: freq=22607 size=3020 all=473617 active=25107 piece=▁Bol\n",
      "bpe_model_trainer.cc(268) LOG(INFO) Added: freq=22494 size=3040 all=476316 active=27806 piece=▁iddia\n",
      "bpe_model_trainer.cc(268) LOG(INFO) Added: freq=22303 size=3060 all=477722 active=29212 piece=▁Kah\n",
      "bpe_model_trainer.cc(268) LOG(INFO) Added: freq=22136 size=3080 all=479247 active=30737 piece=iyah\n",
      "bpe_model_trainer.cc(268) LOG(INFO) Added: freq=22039 size=3100 all=481119 active=32609 piece=▁ce\n",
      "bpe_model_trainer.cc(159) LOG(INFO) Updating active symbols. max_freq=22035 min_freq=1440\n",
      "bpe_model_trainer.cc(268) LOG(INFO) Added: freq=21782 size=3120 all=482979 active=25856 piece=▁elektrik\n",
      "bpe_model_trainer.cc(268) LOG(INFO) Added: freq=21654 size=3140 all=485196 active=28073 piece=rit\n",
      "bpe_model_trainer.cc(268) LOG(INFO) Added: freq=21444 size=3160 all=487996 active=30873 piece=▁kapsam\n",
      "bpe_model_trainer.cc(268) LOG(INFO) Added: freq=21244 size=3180 all=489603 active=32480 piece=▁İçindekiler\n",
      "bpe_model_trainer.cc(268) LOG(INFO) Added: freq=21074 size=3200 all=492000 active=34877 piece=deniz\n",
      "bpe_model_trainer.cc(159) LOG(INFO) Updating active symbols. max_freq=21067 min_freq=1389\n",
      "bpe_model_trainer.cc(268) LOG(INFO) Added: freq=20925 size=3220 all=493372 active=25857 piece=▁Ana\n",
      "bpe_model_trainer.cc(268) LOG(INFO) Added: freq=20805 size=3240 all=495454 active=27939 piece=eksiyon\n",
      "bpe_model_trainer.cc(268) LOG(INFO) Added: freq=20607 size=3260 all=497322 active=29807 piece=iğini\n",
      "bpe_model_trainer.cc(268) LOG(INFO) Added: freq=20442 size=3280 all=499540 active=32025 piece=▁Muhareb\n",
      "bpe_model_trainer.cc(268) LOG(INFO) Added: freq=20346 size=3300 all=501070 active=33555 piece=▁uğr\n",
      "bpe_model_trainer.cc(159) LOG(INFO) Updating active symbols. max_freq=20343 min_freq=1345\n",
      "bpe_model_trainer.cc(268) LOG(INFO) Added: freq=20156 size=3320 all=503273 active=27229 piece=▁Sıra\n",
      "bpe_model_trainer.cc(268) LOG(INFO) Added: freq=20028 size=3340 all=505338 active=29294 piece=ington\n",
      "bpe_model_trainer.cc(268) LOG(INFO) Added: freq=19853 size=3360 all=508133 active=32089 piece=onk\n",
      "bpe_model_trainer.cc(268) LOG(INFO) Added: freq=19665 size=3380 all=510253 active=34209 piece=atistik\n",
      "bpe_model_trainer.cc(268) LOG(INFO) Added: freq=19528 size=3400 all=512813 active=36769 piece=▁incel\n",
      "bpe_model_trainer.cc(159) LOG(INFO) Updating active symbols. max_freq=19526 min_freq=1298\n",
      "bpe_model_trainer.cc(268) LOG(INFO) Added: freq=19409 size=3420 all=514048 active=26812 piece=ette\n",
      "bpe_model_trainer.cc(268) LOG(INFO) Added: freq=19321 size=3440 all=517238 active=30002 piece=▁Jean\n",
      "bpe_model_trainer.cc(268) LOG(INFO) Added: freq=19174 size=3460 all=519184 active=31948 piece=▁Charles\n",
      "bpe_model_trainer.cc(268) LOG(INFO) Added: freq=19030 size=3480 all=521008 active=33772 piece=ovision\n",
      "bpe_model_trainer.cc(268) LOG(INFO) Added: freq=18858 size=3500 all=523681 active=36445 piece=▁Saint\n",
      "bpe_model_trainer.cc(159) LOG(INFO) Updating active symbols. max_freq=18854 min_freq=1257\n",
      "bpe_model_trainer.cc(268) LOG(INFO) Added: freq=18709 size=3520 all=525539 active=28027 piece=hane\n",
      "bpe_model_trainer.cc(268) LOG(INFO) Added: freq=18562 size=3540 all=527269 active=29757 piece=etin\n",
      "bpe_model_trainer.cc(268) LOG(INFO) Added: freq=18405 size=3560 all=528715 active=31203 piece=jantin\n",
      "bpe_model_trainer.cc(268) LOG(INFO) Added: freq=18226 size=3580 all=531464 active=33952 piece=▁Bill\n",
      "bpe_model_trainer.cc(268) LOG(INFO) Added: freq=18039 size=3600 all=533687 active=36175 piece=ole\n",
      "bpe_model_trainer.cc(159) LOG(INFO) Updating active symbols. max_freq=18038 min_freq=1220\n",
      "bpe_model_trainer.cc(268) LOG(INFO) Added: freq=17900 size=3620 all=536512 active=29144 piece=mail\n",
      "bpe_model_trainer.cc(268) LOG(INFO) Added: freq=17784 size=3640 all=538568 active=31200 piece=▁yönünde\n",
      "bpe_model_trainer.cc(268) LOG(INFO) Added: freq=17624 size=3660 all=539794 active=32426 piece=▁Danim\n",
      "bpe_model_trainer.cc(268) LOG(INFO) Added: freq=17502 size=3680 all=541732 active=34364 piece=▁açıklık\n",
      "bpe_model_trainer.cc(268) LOG(INFO) Added: freq=17388 size=3700 all=544023 active=36655 piece=▁forma\n",
      "bpe_model_trainer.cc(159) LOG(INFO) Updating active symbols. max_freq=17388 min_freq=1187\n",
      "bpe_model_trainer.cc(268) LOG(INFO) Added: freq=17290 size=3720 all=546065 active=29240 piece=▁Arjantin\n",
      "bpe_model_trainer.cc(268) LOG(INFO) Added: freq=17187 size=3740 all=548631 active=31806 piece=▁yayınlanan\n",
      "bpe_model_trainer.cc(268) LOG(INFO) Added: freq=17074 size=3760 all=550469 active=33644 piece=nam\n",
      "bpe_model_trainer.cc(268) LOG(INFO) Added: freq=16967 size=3780 all=552136 active=35311 piece=▁Siyas\n",
      "bpe_model_trainer.cc(268) LOG(INFO) Added: freq=16856 size=3800 all=554584 active=37759 piece=)#\n",
      "bpe_model_trainer.cc(159) LOG(INFO) Updating active symbols. max_freq=16856 min_freq=1150\n",
      "bpe_model_trainer.cc(268) LOG(INFO) Added: freq=16777 size=3820 all=556104 active=29215 piece=▁konusu\n",
      "bpe_model_trainer.cc(268) LOG(INFO) Added: freq=16640 size=3840 all=558511 active=31622 piece=by\n",
      "bpe_model_trainer.cc(268) LOG(INFO) Added: freq=16505 size=3860 all=560985 active=34096 piece=akya\n",
      "bpe_model_trainer.cc(268) LOG(INFO) Added: freq=16406 size=3880 all=563335 active=36446 piece=Ch\n",
      "bpe_model_trainer.cc(268) LOG(INFO) Added: freq=16316 size=3900 all=566192 active=39303 piece=SA\n",
      "bpe_model_trainer.cc(159) LOG(INFO) Updating active symbols. max_freq=16316 min_freq=1112\n",
      "bpe_model_trainer.cc(268) LOG(INFO) Added: freq=16198 size=3920 all=567646 active=29614 piece=lenmesi\n",
      "bpe_model_trainer.cc(268) LOG(INFO) Added: freq=16133 size=3940 all=570487 active=32455 piece=▁ülkeler\n",
      "bpe_model_trainer.cc(268) LOG(INFO) Added: freq=16040 size=3960 all=573554 active=35522 piece=▁Haf\n",
      "bpe_model_trainer.cc(268) LOG(INFO) Added: freq=15934 size=3980 all=574999 active=36967 piece=çu\n",
      "bpe_model_trainer.cc(268) LOG(INFO) Added: freq=15829 size=4000 all=577626 active=39594 piece=▁Los\n",
      "bpe_model_trainer.cc(159) LOG(INFO) Updating active symbols. max_freq=15827 min_freq=1075\n",
      "bpe_model_trainer.cc(268) LOG(INFO) Added: freq=15762 size=4020 all=579948 active=31133 piece=▁imzal\n",
      "bpe_model_trainer.cc(268) LOG(INFO) Added: freq=15643 size=4040 all=583138 active=34323 piece=ündeki\n",
      "bpe_model_trainer.cc(268) LOG(INFO) Added: freq=15555 size=4060 all=585185 active=36370 piece=▁IV\n",
      "bpe_model_trainer.cc(268) LOG(INFO) Added: freq=15466 size=4080 all=586593 active=37778 piece=mann\n",
      "bpe_model_trainer.cc(268) LOG(INFO) Added: freq=15400 size=4100 all=588655 active=39840 piece=akır\n",
      "bpe_model_trainer.cc(159) LOG(INFO) Updating active symbols. max_freq=15391 min_freq=1044\n",
      "bpe_model_trainer.cc(268) LOG(INFO) Added: freq=15283 size=4120 all=591804 active=32463 piece=▁seviy\n",
      "bpe_model_trainer.cc(268) LOG(INFO) Added: freq=15206 size=4140 all=592619 active=33278 piece=sur\n",
      "bpe_model_trainer.cc(268) LOG(INFO) Added: freq=15066 size=4160 all=596000 active=36659 piece=▁kup\n",
      "bpe_model_trainer.cc(268) LOG(INFO) Added: freq=14998 size=4180 all=597956 active=38615 piece=▁azal\n",
      "bpe_model_trainer.cc(268) LOG(INFO) Added: freq=14941 size=4200 all=599607 active=40266 piece=way\n",
      "bpe_model_trainer.cc(159) LOG(INFO) Updating active symbols. max_freq=14941 min_freq=1013\n",
      "bpe_model_trainer.cc(268) LOG(INFO) Added: freq=14856 size=4220 all=602490 active=32588 piece=▁denir\n",
      "bpe_model_trainer.cc(268) LOG(INFO) Added: freq=14787 size=4240 all=604022 active=34120 piece=▁Türkmen\n",
      "bpe_model_trainer.cc(268) LOG(INFO) Added: freq=14694 size=4260 all=605550 active=35648 piece=▁kullandı\n",
      "bpe_model_trainer.cc(268) LOG(INFO) Added: freq=14528 size=4280 all=607897 active=37995 piece=birliği\n",
      "bpe_model_trainer.cc(268) LOG(INFO) Added: freq=14421 size=4300 all=609349 active=39447 piece=liğin\n",
      "bpe_model_trainer.cc(159) LOG(INFO) Updating active symbols. max_freq=14421 min_freq=987\n",
      "bpe_model_trainer.cc(268) LOG(INFO) Added: freq=14345 size=4320 all=610968 active=31851 piece=esidir\n",
      "bpe_model_trainer.cc(268) LOG(INFO) Added: freq=14253 size=4340 all=613078 active=33961 piece=▁Enstitüsü\n",
      "bpe_model_trainer.cc(268) LOG(INFO) Added: freq=14182 size=4360 all=615961 active=36844 piece=ükle\n",
      "bpe_model_trainer.cc(268) LOG(INFO) Added: freq=14128 size=4380 all=617952 active=38835 piece=▁mon\n",
      "bpe_model_trainer.cc(268) LOG(INFO) Added: freq=14028 size=4400 all=621026 active=41909 piece=cia\n",
      "bpe_model_trainer.cc(159) LOG(INFO) Updating active symbols. max_freq=14012 min_freq=958\n",
      "bpe_model_trainer.cc(268) LOG(INFO) Added: freq=13927 size=4420 all=622869 active=32724 piece=▁düşünül\n",
      "bpe_model_trainer.cc(268) LOG(INFO) Added: freq=13847 size=4440 all=624295 active=34150 piece=SP\n",
      "bpe_model_trainer.cc(268) LOG(INFO) Added: freq=13726 size=4460 all=625255 active=35110 piece=▁onay\n",
      "bpe_model_trainer.cc(268) LOG(INFO) Added: freq=13669 size=4480 all=627133 active=36988 piece=gre\n",
      "bpe_model_trainer.cc(268) LOG(INFO) Added: freq=13591 size=4500 all=628609 active=38464 piece=▁yetiştir\n",
      "bpe_model_trainer.cc(159) LOG(INFO) Updating active symbols. max_freq=13590 min_freq=939\n",
      "bpe_model_trainer.cc(268) LOG(INFO) Added: freq=13535 size=4520 all=630980 active=33728 piece=ii\n",
      "bpe_model_trainer.cc(268) LOG(INFO) Added: freq=13465 size=4540 all=633539 active=36287 piece=▁ab\n",
      "bpe_model_trainer.cc(268) LOG(INFO) Added: freq=13399 size=4560 all=634672 active=37420 piece=▁Fır\n",
      "bpe_model_trainer.cc(268) LOG(INFO) Added: freq=13329 size=4580 all=636228 active=38976 piece=▁Mey\n",
      "bpe_model_trainer.cc(268) LOG(INFO) Added: freq=13253 size=4600 all=638721 active=41469 piece=▁Anay\n",
      "bpe_model_trainer.cc(159) LOG(INFO) Updating active symbols. max_freq=13252 min_freq=915\n",
      "bpe_model_trainer.cc(268) LOG(INFO) Added: freq=13148 size=4620 all=640850 active=34043 piece=laşma\n",
      "bpe_model_trainer.cc(268) LOG(INFO) Added: freq=13082 size=4640 all=643290 active=36483 piece=illi\n",
      "bpe_model_trainer.cc(268) LOG(INFO) Added: freq=13005 size=4660 all=645639 active=38832 piece=▁ağaç\n",
      "bpe_model_trainer.cc(268) LOG(INFO) Added: freq=12917 size=4680 all=647049 active=40242 piece=▁kesim\n",
      "bpe_model_trainer.cc(268) LOG(INFO) Added: freq=12848 size=4700 all=649178 active=42371 piece=▁kullanımı\n",
      "bpe_model_trainer.cc(159) LOG(INFO) Updating active symbols. max_freq=12844 min_freq=891\n",
      "bpe_model_trainer.cc(268) LOG(INFO) Added: freq=12772 size=4720 all=650912 active=34186 piece=▁Balık\n",
      "bpe_model_trainer.cc(268) LOG(INFO) Added: freq=12691 size=4740 all=653229 active=36503 piece=fat\n",
      "bpe_model_trainer.cc(268) LOG(INFO) Added: freq=12642 size=4760 all=655306 active=38580 piece=▁||||||||||||\n",
      "bpe_model_trainer.cc(268) LOG(INFO) Added: freq=12578 size=4780 all=656557 active=39831 piece=rian\n",
      "bpe_model_trainer.cc(268) LOG(INFO) Added: freq=12492 size=4800 all=659368 active=42642 piece=ush\n",
      "bpe_model_trainer.cc(159) LOG(INFO) Updating active symbols. max_freq=12489 min_freq=868\n",
      "bpe_model_trainer.cc(268) LOG(INFO) Added: freq=12385 size=4820 all=661481 active=34549 piece=▁yönetic\n",
      "bpe_model_trainer.cc(268) LOG(INFO) Added: freq=12305 size=4840 all=663371 active=36439 piece=port\n",
      "bpe_model_trainer.cc(268) LOG(INFO) Added: freq=12244 size=4860 all=666196 active=39264 piece=▁Çıkış\n",
      "bpe_model_trainer.cc(268) LOG(INFO) Added: freq=12193 size=4880 all=667947 active=41015 piece=ijinal\n",
      "bpe_model_trainer.cc(268) LOG(INFO) Added: freq=12115 size=4900 all=669008 active=42076 piece=▁Meclis\n",
      "bpe_model_trainer.cc(159) LOG(INFO) Updating active symbols. max_freq=12112 min_freq=849\n",
      "bpe_model_trainer.cc(268) LOG(INFO) Added: freq=12052 size=4920 all=671030 active=35444 piece=▁öldürüldü\n",
      "bpe_model_trainer.cc(268) LOG(INFO) Added: freq=12005 size=4940 all=674035 active=38449 piece=▁gece\n",
      "bpe_model_trainer.cc(268) LOG(INFO) Added: freq=11955 size=4960 all=675819 active=40233 piece=gör\n",
      "bpe_model_trainer.cc(268) LOG(INFO) Added: freq=11905 size=4980 all=678868 active=43282 piece=▁tören\n",
      "bpe_model_trainer.cc(268) LOG(INFO) Added: freq=11853 size=5000 all=680101 active=44515 piece=▁Eskişehir\n",
      "bpe_model_trainer.cc(159) LOG(INFO) Updating active symbols. max_freq=11852 min_freq=827\n",
      "bpe_model_trainer.cc(268) LOG(INFO) Added: freq=11763 size=5020 all=681454 active=35345 piece=▁mül\n",
      "bpe_model_trainer.cc(268) LOG(INFO) Added: freq=11687 size=5040 all=682450 active=36341 piece=cy\n",
      "bpe_model_trainer.cc(268) LOG(INFO) Added: freq=11631 size=5060 all=685265 active=39156 piece=▁çapında\n",
      "bpe_model_trainer.cc(268) LOG(INFO) Added: freq=11573 size=5080 all=686038 active=39929 piece=tıcı\n",
      "bpe_model_trainer.cc(268) LOG(INFO) Added: freq=11513 size=5100 all=688455 active=42346 piece=iantep\n",
      "bpe_model_trainer.cc(159) LOG(INFO) Updating active symbols. max_freq=11505 min_freq=811\n",
      "bpe_model_trainer.cc(268) LOG(INFO) Added: freq=11459 size=5120 all=690177 active=36126 piece=▁Latin\n",
      "bpe_model_trainer.cc(268) LOG(INFO) Added: freq=11402 size=5140 all=691554 active=37503 piece=Mar\n",
      "bpe_model_trainer.cc(268) LOG(INFO) Added: freq=11354 size=5160 all=693752 active=39701 piece=▁lisans\n",
      "bpe_model_trainer.cc(268) LOG(INFO) Added: freq=11294 size=5180 all=695606 active=41555 piece=ndaki\n",
      "bpe_model_trainer.cc(268) LOG(INFO) Added: freq=11233 size=5200 all=697626 active=43575 piece=astır\n",
      "bpe_model_trainer.cc(159) LOG(INFO) Updating active symbols. max_freq=11231 min_freq=795\n",
      "bpe_model_trainer.cc(268) LOG(INFO) Added: freq=11175 size=5220 all=698733 active=35884 piece=▁Kardeş\n",
      "bpe_model_trainer.cc(268) LOG(INFO) Added: freq=11124 size=5240 all=700178 active=37329 piece=▁yüzünden\n",
      "bpe_model_trainer.cc(268) LOG(INFO) Added: freq=11072 size=5260 all=701660 active=38811 piece=▁iline\n",
      "bpe_model_trainer.cc(268) LOG(INFO) Added: freq=11015 size=5280 all=702297 active=39448 piece=▁Hun\n",
      "bpe_model_trainer.cc(268) LOG(INFO) Added: freq=10951 size=5300 all=705219 active=42370 piece=▁adlandırılan\n",
      "bpe_model_trainer.cc(159) LOG(INFO) Updating active symbols. max_freq=10950 min_freq=781\n",
      "bpe_model_trainer.cc(268) LOG(INFO) Added: freq=10867 size=5320 all=706543 active=36578 piece=▁takımın\n",
      "bpe_model_trainer.cc(268) LOG(INFO) Added: freq=10808 size=5340 all=708657 active=38692 piece=Türkiye\n",
      "bpe_model_trainer.cc(268) LOG(INFO) Added: freq=10739 size=5360 all=710857 active=40892 piece=▁Ang\n",
      "bpe_model_trainer.cc(268) LOG(INFO) Added: freq=10676 size=5380 all=712905 active=42940 piece=ulması\n",
      "bpe_model_trainer.cc(268) LOG(INFO) Added: freq=10595 size=5400 all=714271 active=44306 piece=omo\n",
      "bpe_model_trainer.cc(159) LOG(INFO) Updating active symbols. max_freq=10587 min_freq=766\n",
      "bpe_model_trainer.cc(268) LOG(INFO) Added: freq=10524 size=5420 all=717141 active=38340 piece=▁Stan\n",
      "bpe_model_trainer.cc(268) LOG(INFO) Added: freq=10482 size=5440 all=718966 active=40165 piece=oul\n",
      "bpe_model_trainer.cc(268) LOG(INFO) Added: freq=10431 size=5460 all=721203 active=42402 piece=▁PTT\n",
      "bpe_model_trainer.cc(268) LOG(INFO) Added: freq=10395 size=5480 all=722191 active=43390 piece=▁Super\n",
      "bpe_model_trainer.cc(268) LOG(INFO) Added: freq=10355 size=5500 all=724563 active=45762 piece=▁Gazi\n",
      "bpe_model_trainer.cc(159) LOG(INFO) Updating active symbols. max_freq=10348 min_freq=749\n",
      "bpe_model_trainer.cc(268) LOG(INFO) Added: freq=10302 size=5520 all=726911 active=38556 piece=▁Birlik\n",
      "bpe_model_trainer.cc(268) LOG(INFO) Added: freq=10258 size=5540 all=728077 active=39722 piece=▁Hitler\n",
      "bpe_model_trainer.cc(268) LOG(INFO) Added: freq=10211 size=5560 all=730377 active=42022 piece=▁Kurtuluş\n",
      "bpe_model_trainer.cc(268) LOG(INFO) Added: freq=10163 size=5580 all=731785 active=43430 piece=▁idari\n",
      "bpe_model_trainer.cc(268) LOG(INFO) Added: freq=10113 size=5600 all=734826 active=46471 piece=▁Tro\n",
      "bpe_model_trainer.cc(159) LOG(INFO) Updating active symbols. max_freq=10104 min_freq=732\n",
      "bpe_model_trainer.cc(268) LOG(INFO) Added: freq=10048 size=5620 all=736140 active=37926 piece=▁kurucusu\n",
      "bpe_model_trainer.cc(268) LOG(INFO) Added: freq=10002 size=5640 all=738893 active=40679 piece=▁biz\n",
      "bpe_model_trainer.cc(268) LOG(INFO) Added: freq=9941 size=5660 all=740206 active=41992 piece=▁asit\n",
      "bpe_model_trainer.cc(268) LOG(INFO) Added: freq=9895 size=5680 all=742004 active=43790 piece=▁sahipliği\n",
      "bpe_model_trainer.cc(268) LOG(INFO) Added: freq=9843 size=5700 all=743035 active=44821 piece=▁yükseldi\n",
      "bpe_model_trainer.cc(159) LOG(INFO) Updating active symbols. max_freq=9842 min_freq=719\n",
      "bpe_model_trainer.cc(268) LOG(INFO) Added: freq=9799 size=5720 all=745291 active=39403 piece=▁Devrim\n",
      "bpe_model_trainer.cc(268) LOG(INFO) Added: freq=9743 size=5740 all=746024 active=40136 piece=▁söylen\n",
      "bpe_model_trainer.cc(268) LOG(INFO) Added: freq=9705 size=5760 all=748212 active=42324 piece=okol\n",
      "bpe_model_trainer.cc(268) LOG(INFO) Added: freq=9654 size=5780 all=751083 active=45195 piece=▁Araştırma\n",
      "bpe_model_trainer.cc(268) LOG(INFO) Added: freq=9602 size=5800 all=752489 active=46601 piece=▁Akademi\n",
      "bpe_model_trainer.cc(159) LOG(INFO) Updating active symbols. max_freq=9601 min_freq=705\n",
      "bpe_model_trainer.cc(268) LOG(INFO) Added: freq=9532 size=5820 all=753692 active=38812 piece=pool\n",
      "bpe_model_trainer.cc(268) LOG(INFO) Added: freq=9482 size=5840 all=755178 active=40298 piece=IA\n",
      "bpe_model_trainer.cc(268) LOG(INFO) Added: freq=9442 size=5860 all=756632 active=41752 piece=▁Just\n",
      "bpe_model_trainer.cc(268) LOG(INFO) Added: freq=9394 size=5880 all=758117 active=43237 piece=▁eksik\n",
      "bpe_model_trainer.cc(268) LOG(INFO) Added: freq=9352 size=5900 all=760112 active=45232 piece=Ay\n",
      "bpe_model_trainer.cc(159) LOG(INFO) Updating active symbols. max_freq=9347 min_freq=694\n",
      "bpe_model_trainer.cc(268) LOG(INFO) Added: freq=9322 size=5920 all=761635 active=39269 piece=▁göm\n",
      "bpe_model_trainer.cc(268) LOG(INFO) Added: freq=9283 size=5940 all=763917 active=41551 piece=▁University\n",
      "bpe_model_trainer.cc(268) LOG(INFO) Added: freq=9222 size=5960 all=766551 active=44185 piece=▁başkent\n",
      "bpe_model_trainer.cc(268) LOG(INFO) Added: freq=9180 size=5980 all=768284 active=45918 piece=▁geçici\n",
      "bpe_model_trainer.cc(268) LOG(INFO) Added: freq=9128 size=6000 all=769404 active=47038 piece=ecep\n",
      "bpe_model_trainer.cc(159) LOG(INFO) Updating active symbols. max_freq=9128 min_freq=680\n",
      "bpe_model_trainer.cc(268) LOG(INFO) Added: freq=9086 size=6020 all=771584 active=40617 piece=atıcı\n",
      "bpe_model_trainer.cc(268) LOG(INFO) Added: freq=9046 size=6040 all=773742 active=42775 piece=▁Türkç\n",
      "bpe_model_trainer.cc(268) LOG(INFO) Added: freq=9003 size=6060 all=775198 active=44231 piece=▁hayatta\n",
      "bpe_model_trainer.cc(268) LOG(INFO) Added: freq=8958 size=6080 all=777227 active=46260 piece=▁Halil\n",
      "bpe_model_trainer.cc(268) LOG(INFO) Added: freq=8909 size=6100 all=779105 active=48138 piece=▁Song\n",
      "bpe_model_trainer.cc(159) LOG(INFO) Updating active symbols. max_freq=8909 min_freq=667\n",
      "bpe_model_trainer.cc(268) LOG(INFO) Added: freq=8876 size=6120 all=781633 active=41406 piece=▁Fel\n",
      "bpe_model_trainer.cc(268) LOG(INFO) Added: freq=8836 size=6140 all=783295 active=43068 piece=▁dök\n",
      "bpe_model_trainer.cc(268) LOG(INFO) Added: freq=8796 size=6160 all=784781 active=44554 piece=▁tuz\n",
      "bpe_model_trainer.cc(268) LOG(INFO) Added: freq=8751 size=6180 all=785627 active=45400 piece=ılmasına\n",
      "bpe_model_trainer.cc(268) LOG(INFO) Added: freq=8718 size=6200 all=786861 active=46634 piece=▁mo\n",
      "bpe_model_trainer.cc(159) LOG(INFO) Updating active symbols. max_freq=8718 min_freq=656\n",
      "bpe_model_trainer.cc(268) LOG(INFO) Added: freq=8671 size=6220 all=788530 active=40907 piece=NGC\n",
      "bpe_model_trainer.cc(268) LOG(INFO) Added: freq=8627 size=6240 all=790299 active=42676 piece=avar\n",
      "bpe_model_trainer.cc(268) LOG(INFO) Added: freq=8591 size=6260 all=793364 active=45741 piece=▁yayımlandı\n",
      "bpe_model_trainer.cc(268) LOG(INFO) Added: freq=8559 size=6280 all=794737 active=47114 piece=ool\n",
      "bpe_model_trainer.cc(268) LOG(INFO) Added: freq=8521 size=6300 all=796079 active=48456 piece=mini\n",
      "bpe_model_trainer.cc(159) LOG(INFO) Updating active symbols. max_freq=8518 min_freq=644\n",
      "bpe_model_trainer.cc(268) LOG(INFO) Added: freq=8482 size=6320 all=797908 active=41489 piece=▁gezegen\n",
      "bpe_model_trainer.cc(268) LOG(INFO) Added: freq=8446 size=6340 all=799902 active=43483 piece=low\n",
      "bpe_model_trainer.cc(268) LOG(INFO) Added: freq=8411 size=6360 all=801910 active=45491 piece=▁zamanlarda\n",
      "bpe_model_trainer.cc(268) LOG(INFO) Added: freq=8379 size=6380 all=803402 active=46983 piece=▁milliyet\n",
      "bpe_model_trainer.cc(268) LOG(INFO) Added: freq=8347 size=6400 all=805176 active=48757 piece=Rusça\n",
      "bpe_model_trainer.cc(159) LOG(INFO) Updating active symbols. max_freq=8346 min_freq=633\n",
      "bpe_model_trainer.cc(268) LOG(INFO) Added: freq=8315 size=6420 all=806659 active=41738 piece=gur\n",
      "bpe_model_trainer.cc(268) LOG(INFO) Added: freq=8280 size=6440 all=809226 active=44305 piece=At\n",
      "bpe_model_trainer.cc(268) LOG(INFO) Added: freq=8241 size=6460 all=811475 active=46554 piece=▁cem\n",
      "bpe_model_trainer.cc(268) LOG(INFO) Added: freq=8213 size=6480 all=813115 active=48194 piece=ünc\n",
      "bpe_model_trainer.cc(268) LOG(INFO) Added: freq=8183 size=6500 all=814757 active=49836 piece=▁koruy\n",
      "bpe_model_trainer.cc(159) LOG(INFO) Updating active symbols. max_freq=8182 min_freq=621\n",
      "bpe_model_trainer.cc(268) LOG(INFO) Added: freq=8155 size=6520 all=816583 active=42541 piece=▁Şim\n",
      "bpe_model_trainer.cc(268) LOG(INFO) Added: freq=8111 size=6540 all=819173 active=45131 piece=▁Liga\n",
      "bpe_model_trainer.cc(268) LOG(INFO) Added: freq=8073 size=6560 all=820601 active=46559 piece=landalı\n",
      "bpe_model_trainer.cc(268) LOG(INFO) Added: freq=8029 size=6580 all=822599 active=48557 piece=▁Kolomb\n",
      "bpe_model_trainer.cc(268) LOG(INFO) Added: freq=7990 size=6600 all=824295 active=50253 piece=irmi\n",
      "bpe_model_trainer.cc(159) LOG(INFO) Updating active symbols. max_freq=7989 min_freq=610\n",
      "bpe_model_trainer.cc(268) LOG(INFO) Added: freq=7956 size=6620 all=825740 active=42610 piece=▁yola\n",
      "bpe_model_trainer.cc(268) LOG(INFO) Added: freq=7932 size=6640 all=827252 active=44122 piece=mektir\n",
      "bpe_model_trainer.cc(268) LOG(INFO) Added: freq=7902 size=6660 all=829105 active=45975 piece=▁Sic\n",
      "bpe_model_trainer.cc(268) LOG(INFO) Added: freq=7865 size=6680 all=830546 active=47416 piece=▁parlaklığı\n",
      "bpe_model_trainer.cc(268) LOG(INFO) Added: freq=7833 size=6700 all=831887 active=48757 piece=▁Onun\n",
      "bpe_model_trainer.cc(159) LOG(INFO) Updating active symbols. max_freq=7832 min_freq=601\n",
      "bpe_model_trainer.cc(268) LOG(INFO) Added: freq=7804 size=6720 all=832869 active=42566 piece=▁filozof\n",
      "bpe_model_trainer.cc(268) LOG(INFO) Added: freq=7766 size=6740 all=834266 active=43963 piece=▁Format\n",
      "bpe_model_trainer.cc(268) LOG(INFO) Added: freq=7732 size=6760 all=835359 active=45056 piece=▁Hic\n",
      "bpe_model_trainer.cc(268) LOG(INFO) Added: freq=7699 size=6780 all=836369 active=46066 piece=▁Hac\n",
      "bpe_model_trainer.cc(268) LOG(INFO) Added: freq=7671 size=6800 all=838043 active=47740 piece=▁Galaksi\n",
      "bpe_model_trainer.cc(159) LOG(INFO) Updating active symbols. max_freq=7669 min_freq=593\n",
      "bpe_model_trainer.cc(268) LOG(INFO) Added: freq=7628 size=6820 all=839223 active=43080 piece=▁erdi\n",
      "bpe_model_trainer.cc(268) LOG(INFO) Added: freq=7601 size=6840 all=840316 active=44173 piece=▁komutanı\n",
      "bpe_model_trainer.cc(268) LOG(INFO) Added: freq=7570 size=6860 all=841270 active=45127 piece=▁özerk\n",
      "bpe_model_trainer.cc(268) LOG(INFO) Added: freq=7532 size=6880 all=842429 active=46286 piece=Sp\n",
      "bpe_model_trainer.cc(268) LOG(INFO) Added: freq=7501 size=6900 all=844705 active=48562 piece=▁yanına\n",
      "bpe_model_trainer.cc(159) LOG(INFO) Updating active symbols. max_freq=7500 min_freq=586\n",
      "bpe_model_trainer.cc(268) LOG(INFO) Added: freq=7474 size=6920 all=846493 active=44023 piece=işli\n",
      "bpe_model_trainer.cc(268) LOG(INFO) Added: freq=7455 size=6940 all=848349 active=45879 piece=▁beşinci\n",
      "bpe_model_trainer.cc(268) LOG(INFO) Added: freq=7428 size=6960 all=849368 active=46898 piece=▁Sanayi\n",
      "bpe_model_trainer.cc(268) LOG(INFO) Added: freq=7401 size=6980 all=850493 active=48023 piece=▁önüne\n",
      "bpe_model_trainer.cc(268) LOG(INFO) Added: freq=7375 size=7000 all=852084 active=49614 piece=▁Steph\n",
      "bpe_model_trainer.cc(159) LOG(INFO) Updating active symbols. max_freq=7373 min_freq=578\n",
      "bpe_model_trainer.cc(268) LOG(INFO) Added: freq=7342 size=7020 all=853646 active=44149 piece=mamaktadır\n",
      "bpe_model_trainer.cc(268) LOG(INFO) Added: freq=7316 size=7040 all=854819 active=45322 piece=▁bundan\n",
      "bpe_model_trainer.cc(268) LOG(INFO) Added: freq=7292 size=7060 all=856117 active=46620 piece=pınar\n",
      "bpe_model_trainer.cc(268) LOG(INFO) Added: freq=7264 size=7080 all=857348 active=47851 piece=▁koleksiyon\n",
      "bpe_model_trainer.cc(268) LOG(INFO) Added: freq=7236 size=7100 all=858741 active=49244 piece=oon\n",
      "bpe_model_trainer.cc(159) LOG(INFO) Updating active symbols. max_freq=7236 min_freq=570\n",
      "bpe_model_trainer.cc(268) LOG(INFO) Added: freq=7204 size=7120 all=860285 active=44162 piece=lılığı\n",
      "bpe_model_trainer.cc(268) LOG(INFO) Added: freq=7182 size=7140 all=861693 active=45570 piece=▁evrim\n",
      "bpe_model_trainer.cc(268) LOG(INFO) Added: freq=7157 size=7160 all=863284 active=47161 piece=ukur\n",
      "bpe_model_trainer.cc(268) LOG(INFO) Added: freq=7130 size=7180 all=864824 active=48701 piece=▁sebebi\n",
      "bpe_model_trainer.cc(268) LOG(INFO) Added: freq=7107 size=7200 all=866456 active=50333 piece=ansa\n",
      "bpe_model_trainer.cc(159) LOG(INFO) Updating active symbols. max_freq=7106 min_freq=562\n",
      "bpe_model_trainer.cc(268) LOG(INFO) Added: freq=7062 size=7220 all=868212 active=44922 piece=ilmişti\n",
      "bpe_model_trainer.cc(268) LOG(INFO) Added: freq=7037 size=7240 all=869616 active=46326 piece=engiz\n",
      "bpe_model_trainer.cc(268) LOG(INFO) Added: freq=7014 size=7260 all=871352 active=48062 piece=▁je\n",
      "bpe_model_trainer.cc(268) LOG(INFO) Added: freq=6991 size=7280 all=872051 active=48761 piece=▁vücut\n",
      "bpe_model_trainer.cc(268) LOG(INFO) Added: freq=6976 size=7300 all=873394 active=50104 piece=▁mavi\n",
      "bpe_model_trainer.cc(159) LOG(INFO) Updating active symbols. max_freq=6975 min_freq=554\n",
      "bpe_model_trainer.cc(268) LOG(INFO) Added: freq=6952 size=7320 all=875432 active=45703 piece=isiz\n",
      "bpe_model_trainer.cc(268) LOG(INFO) Added: freq=6933 size=7340 all=876691 active=46962 piece=▁kendilerine\n",
      "bpe_model_trainer.cc(268) LOG(INFO) Added: freq=6904 size=7360 all=878086 active=48357 piece=mik\n",
      "bpe_model_trainer.cc(268) LOG(INFO) Added: freq=6886 size=7380 all=880064 active=50335 piece=▁olumsuz\n",
      "bpe_model_trainer.cc(268) LOG(INFO) Added: freq=6859 size=7400 all=881219 active=51490 piece=▁geçmektedir\n",
      "bpe_model_trainer.cc(159) LOG(INFO) Updating active symbols. max_freq=6857 min_freq=545\n",
      "bpe_model_trainer.cc(268) LOG(INFO) Added: freq=6824 size=7420 all=882638 active=45479 piece=mun\n",
      "bpe_model_trainer.cc(268) LOG(INFO) Added: freq=6803 size=7440 all=883971 active=46812 piece=tim\n",
      "bpe_model_trainer.cc(268) LOG(INFO) Added: freq=6784 size=7460 all=886473 active=49314 piece=▁Liv\n",
      "bpe_model_trainer.cc(268) LOG(INFO) Added: freq=6770 size=7480 all=888004 active=50845 piece=malarını\n",
      "bpe_model_trainer.cc(268) LOG(INFO) Added: freq=6741 size=7500 all=890342 active=53183 piece=ılmaz\n",
      "bpe_model_trainer.cc(159) LOG(INFO) Updating active symbols. max_freq=6740 min_freq=536\n",
      "bpe_model_trainer.cc(268) LOG(INFO) Added: freq=6722 size=7520 all=892710 active=46733 piece=▁demiryolu\n",
      "bpe_model_trainer.cc(268) LOG(INFO) Added: freq=6697 size=7540 all=895023 active=49046 piece=çilerin\n",
      "bpe_model_trainer.cc(268) LOG(INFO) Added: freq=6673 size=7560 all=896548 active=50571 piece=▁Simon\n",
      "bpe_model_trainer.cc(268) LOG(INFO) Added: freq=6652 size=7580 all=898157 active=52180 piece=▁hastalığı\n",
      "bpe_model_trainer.cc(268) LOG(INFO) Added: freq=6622 size=7600 all=899327 active=53350 piece=}}\n",
      "bpe_model_trainer.cc(159) LOG(INFO) Updating active symbols. max_freq=6622 min_freq=528\n",
      "bpe_model_trainer.cc(268) LOG(INFO) Added: freq=6599 size=7620 all=900734 active=46319 piece=▁Arthur\n",
      "bpe_model_trainer.cc(268) LOG(INFO) Added: freq=6575 size=7640 all=902758 active=48343 piece=▁yaşamış\n",
      "bpe_model_trainer.cc(268) LOG(INFO) Added: freq=6541 size=7660 all=904419 active=50004 piece=uka\n",
      "bpe_model_trainer.cc(268) LOG(INFO) Added: freq=6512 size=7680 all=905638 active=51223 piece=▁yerlerde\n",
      "bpe_model_trainer.cc(268) LOG(INFO) Added: freq=6497 size=7700 all=907664 active=53249 piece=for\n",
      "bpe_model_trainer.cc(159) LOG(INFO) Updating active symbols. max_freq=6497 min_freq=520\n",
      "bpe_model_trainer.cc(268) LOG(INFO) Added: freq=6468 size=7720 all=909140 active=46414 piece=▁ted\n",
      "bpe_model_trainer.cc(268) LOG(INFO) Added: freq=6450 size=7740 all=910761 active=48035 piece=▁Billboard\n",
      "bpe_model_trainer.cc(268) LOG(INFO) Added: freq=6424 size=7760 all=912128 active=49402 piece=▁`\n",
      "trainer_interface.cc(687) LOG(INFO) Saving model: wiki-text-gpt-v0.0/tokenizer.model\n",
      "trainer_interface.cc(699) LOG(INFO) Saving vocabs: wiki-text-gpt-v0.0/tokenizer.vocab\n",
      "Created repo https://huggingface.co/habanoz/wiki-text-gpt-v0.0\n",
      "tokenizer.model: 100%|████████████████████████| 366k/366k [00:00<00:00, 530kB/s]\n",
      "Files uploaded to the repo at location habanoz/wiki-text-gpt-v0.0\n",
      "Done!\n"
     ]
    }
   ],
   "source": [
    "!python src/nbtr/cli_train_tokenizer.py --ds_repo_id habanoz/wiki-tr-v1.0-text --repo_id habanoz/wiki-text-gpt-v0.0"
   ]
  },
  {
   "cell_type": "code",
   "execution_count": null,
   "metadata": {},
   "outputs": [],
   "source": []
  }
 ],
 "metadata": {
  "kernelspec": {
   "display_name": "myenv",
   "language": "python",
   "name": "python3"
  },
  "language_info": {
   "codemirror_mode": {
    "name": "ipython",
    "version": 3
   },
   "file_extension": ".py",
   "mimetype": "text/x-python",
   "name": "python",
   "nbconvert_exporter": "python",
   "pygments_lexer": "ipython3",
   "version": "3.11.9"
  }
 },
 "nbformat": 4,
 "nbformat_minor": 2
}
