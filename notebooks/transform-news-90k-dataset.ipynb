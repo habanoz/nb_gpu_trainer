{
 "cells": [
  {
   "cell_type": "code",
   "execution_count": 1,
   "metadata": {},
   "outputs": [
    {
     "name": "stdout",
     "output_type": "stream",
     "text": [
      "/home/melek/workspace/vscode/nb_gpu_trainer\n"
     ]
    }
   ],
   "source": [
    "%cd .."
   ]
  },
  {
   "cell_type": "code",
   "execution_count": 2,
   "metadata": {},
   "outputs": [
    {
     "name": "stdout",
     "output_type": "stream",
     "text": [
      "Obtaining file:///home/melek/workspace/vscode/nb_gpu_trainer\n",
      "  Installing build dependencies ... \u001b[?25ldone\n",
      "\u001b[?25h  Checking if build backend supports build_editable ... \u001b[?25ldone\n",
      "\u001b[?25h  Getting requirements to build editable ... \u001b[?25ldone\n",
      "\u001b[?25h  Preparing editable metadata (pyproject.toml) ... \u001b[?25ldone\n",
      "\u001b[?25hRequirement already satisfied: transformers in ./.conda/lib/python3.12/site-packages (from nb_gpu_trainer==1.0) (4.42.4)\n",
      "Requirement already satisfied: datasets in ./.conda/lib/python3.12/site-packages (from nb_gpu_trainer==1.0) (2.20.0)\n",
      "Requirement already satisfied: huggingface-hub in ./.conda/lib/python3.12/site-packages (from nb_gpu_trainer==1.0) (0.24.0)\n",
      "Requirement already satisfied: torch in ./.conda/lib/python3.12/site-packages (from nb_gpu_trainer==1.0) (2.3.1)\n",
      "Requirement already satisfied: numpy in ./.conda/lib/python3.12/site-packages (from nb_gpu_trainer==1.0) (1.26.4)\n",
      "Requirement already satisfied: sentencepiece in ./.conda/lib/python3.12/site-packages (from nb_gpu_trainer==1.0) (0.2.0)\n",
      "Requirement already satisfied: wandb in ./.conda/lib/python3.12/site-packages (from nb_gpu_trainer==1.0) (0.17.4)\n",
      "Requirement already satisfied: ipywidgets in ./.conda/lib/python3.12/site-packages (from nb_gpu_trainer==1.0) (8.1.3)\n",
      "Requirement already satisfied: filelock in ./.conda/lib/python3.12/site-packages (from datasets->nb_gpu_trainer==1.0) (3.15.4)\n",
      "Requirement already satisfied: pyarrow>=15.0.0 in ./.conda/lib/python3.12/site-packages (from datasets->nb_gpu_trainer==1.0) (17.0.0)\n",
      "Requirement already satisfied: pyarrow-hotfix in ./.conda/lib/python3.12/site-packages (from datasets->nb_gpu_trainer==1.0) (0.6)\n",
      "Requirement already satisfied: dill<0.3.9,>=0.3.0 in ./.conda/lib/python3.12/site-packages (from datasets->nb_gpu_trainer==1.0) (0.3.8)\n",
      "Requirement already satisfied: pandas in ./.conda/lib/python3.12/site-packages (from datasets->nb_gpu_trainer==1.0) (2.2.2)\n",
      "Requirement already satisfied: requests>=2.32.2 in ./.conda/lib/python3.12/site-packages (from datasets->nb_gpu_trainer==1.0) (2.32.3)\n",
      "Requirement already satisfied: tqdm>=4.66.3 in ./.conda/lib/python3.12/site-packages (from datasets->nb_gpu_trainer==1.0) (4.66.4)\n",
      "Requirement already satisfied: xxhash in ./.conda/lib/python3.12/site-packages (from datasets->nb_gpu_trainer==1.0) (3.4.1)\n",
      "Requirement already satisfied: multiprocess in ./.conda/lib/python3.12/site-packages (from datasets->nb_gpu_trainer==1.0) (0.70.16)\n",
      "Requirement already satisfied: fsspec<=2024.5.0,>=2023.1.0 in ./.conda/lib/python3.12/site-packages (from fsspec[http]<=2024.5.0,>=2023.1.0->datasets->nb_gpu_trainer==1.0) (2024.5.0)\n",
      "Requirement already satisfied: aiohttp in ./.conda/lib/python3.12/site-packages (from datasets->nb_gpu_trainer==1.0) (3.9.5)\n",
      "Requirement already satisfied: packaging in ./.conda/lib/python3.12/site-packages (from datasets->nb_gpu_trainer==1.0) (24.1)\n",
      "Requirement already satisfied: pyyaml>=5.1 in ./.conda/lib/python3.12/site-packages (from datasets->nb_gpu_trainer==1.0) (6.0.1)\n",
      "Requirement already satisfied: typing-extensions>=3.7.4.3 in ./.conda/lib/python3.12/site-packages (from huggingface-hub->nb_gpu_trainer==1.0) (4.12.2)\n",
      "Requirement already satisfied: comm>=0.1.3 in ./.conda/lib/python3.12/site-packages (from ipywidgets->nb_gpu_trainer==1.0) (0.2.2)\n",
      "Requirement already satisfied: ipython>=6.1.0 in ./.conda/lib/python3.12/site-packages (from ipywidgets->nb_gpu_trainer==1.0) (8.26.0)\n",
      "Requirement already satisfied: traitlets>=4.3.1 in ./.conda/lib/python3.12/site-packages (from ipywidgets->nb_gpu_trainer==1.0) (5.14.3)\n",
      "Requirement already satisfied: widgetsnbextension~=4.0.11 in ./.conda/lib/python3.12/site-packages (from ipywidgets->nb_gpu_trainer==1.0) (4.0.11)\n",
      "Requirement already satisfied: jupyterlab-widgets~=3.0.11 in ./.conda/lib/python3.12/site-packages (from ipywidgets->nb_gpu_trainer==1.0) (3.0.11)\n",
      "Requirement already satisfied: sympy in ./.conda/lib/python3.12/site-packages (from torch->nb_gpu_trainer==1.0) (1.13.0)\n",
      "Requirement already satisfied: networkx in ./.conda/lib/python3.12/site-packages (from torch->nb_gpu_trainer==1.0) (3.3)\n",
      "Requirement already satisfied: jinja2 in ./.conda/lib/python3.12/site-packages (from torch->nb_gpu_trainer==1.0) (3.1.4)\n",
      "Requirement already satisfied: nvidia-cuda-nvrtc-cu12==12.1.105 in ./.conda/lib/python3.12/site-packages (from torch->nb_gpu_trainer==1.0) (12.1.105)\n",
      "Requirement already satisfied: nvidia-cuda-runtime-cu12==12.1.105 in ./.conda/lib/python3.12/site-packages (from torch->nb_gpu_trainer==1.0) (12.1.105)\n",
      "Requirement already satisfied: nvidia-cuda-cupti-cu12==12.1.105 in ./.conda/lib/python3.12/site-packages (from torch->nb_gpu_trainer==1.0) (12.1.105)\n",
      "Requirement already satisfied: nvidia-cudnn-cu12==8.9.2.26 in ./.conda/lib/python3.12/site-packages (from torch->nb_gpu_trainer==1.0) (8.9.2.26)\n",
      "Requirement already satisfied: nvidia-cublas-cu12==12.1.3.1 in ./.conda/lib/python3.12/site-packages (from torch->nb_gpu_trainer==1.0) (12.1.3.1)\n",
      "Requirement already satisfied: nvidia-cufft-cu12==11.0.2.54 in ./.conda/lib/python3.12/site-packages (from torch->nb_gpu_trainer==1.0) (11.0.2.54)\n",
      "Requirement already satisfied: nvidia-curand-cu12==10.3.2.106 in ./.conda/lib/python3.12/site-packages (from torch->nb_gpu_trainer==1.0) (10.3.2.106)\n",
      "Requirement already satisfied: nvidia-cusolver-cu12==11.4.5.107 in ./.conda/lib/python3.12/site-packages (from torch->nb_gpu_trainer==1.0) (11.4.5.107)\n",
      "Requirement already satisfied: nvidia-cusparse-cu12==12.1.0.106 in ./.conda/lib/python3.12/site-packages (from torch->nb_gpu_trainer==1.0) (12.1.0.106)\n",
      "Requirement already satisfied: nvidia-nccl-cu12==2.20.5 in ./.conda/lib/python3.12/site-packages (from torch->nb_gpu_trainer==1.0) (2.20.5)\n",
      "Requirement already satisfied: nvidia-nvtx-cu12==12.1.105 in ./.conda/lib/python3.12/site-packages (from torch->nb_gpu_trainer==1.0) (12.1.105)\n",
      "Requirement already satisfied: nvidia-nvjitlink-cu12 in ./.conda/lib/python3.12/site-packages (from nvidia-cusolver-cu12==11.4.5.107->torch->nb_gpu_trainer==1.0) (12.5.82)\n",
      "Requirement already satisfied: regex!=2019.12.17 in ./.conda/lib/python3.12/site-packages (from transformers->nb_gpu_trainer==1.0) (2024.5.15)\n",
      "Requirement already satisfied: safetensors>=0.4.1 in ./.conda/lib/python3.12/site-packages (from transformers->nb_gpu_trainer==1.0) (0.4.3)\n",
      "Requirement already satisfied: tokenizers<0.20,>=0.19 in ./.conda/lib/python3.12/site-packages (from transformers->nb_gpu_trainer==1.0) (0.19.1)\n",
      "Requirement already satisfied: click!=8.0.0,>=7.1 in ./.conda/lib/python3.12/site-packages (from wandb->nb_gpu_trainer==1.0) (8.1.7)\n",
      "Requirement already satisfied: docker-pycreds>=0.4.0 in ./.conda/lib/python3.12/site-packages (from wandb->nb_gpu_trainer==1.0) (0.4.0)\n",
      "Requirement already satisfied: gitpython!=3.1.29,>=1.0.0 in ./.conda/lib/python3.12/site-packages (from wandb->nb_gpu_trainer==1.0) (3.1.43)\n",
      "Requirement already satisfied: platformdirs in ./.conda/lib/python3.12/site-packages (from wandb->nb_gpu_trainer==1.0) (4.2.2)\n",
      "Requirement already satisfied: protobuf!=4.21.0,<6,>=3.19.0 in ./.conda/lib/python3.12/site-packages (from wandb->nb_gpu_trainer==1.0) (5.27.2)\n",
      "Requirement already satisfied: psutil>=5.0.0 in ./.conda/lib/python3.12/site-packages (from wandb->nb_gpu_trainer==1.0) (5.9.0)\n",
      "Requirement already satisfied: sentry-sdk>=1.0.0 in ./.conda/lib/python3.12/site-packages (from wandb->nb_gpu_trainer==1.0) (2.10.0)\n",
      "Requirement already satisfied: setproctitle in ./.conda/lib/python3.12/site-packages (from wandb->nb_gpu_trainer==1.0) (1.3.3)\n",
      "Requirement already satisfied: setuptools in ./.conda/lib/python3.12/site-packages (from wandb->nb_gpu_trainer==1.0) (69.5.1)\n",
      "Requirement already satisfied: six>=1.4.0 in ./.conda/lib/python3.12/site-packages (from docker-pycreds>=0.4.0->wandb->nb_gpu_trainer==1.0) (1.16.0)\n",
      "Requirement already satisfied: aiosignal>=1.1.2 in ./.conda/lib/python3.12/site-packages (from aiohttp->datasets->nb_gpu_trainer==1.0) (1.3.1)\n",
      "Requirement already satisfied: attrs>=17.3.0 in ./.conda/lib/python3.12/site-packages (from aiohttp->datasets->nb_gpu_trainer==1.0) (23.2.0)\n",
      "Requirement already satisfied: frozenlist>=1.1.1 in ./.conda/lib/python3.12/site-packages (from aiohttp->datasets->nb_gpu_trainer==1.0) (1.4.1)\n",
      "Requirement already satisfied: multidict<7.0,>=4.5 in ./.conda/lib/python3.12/site-packages (from aiohttp->datasets->nb_gpu_trainer==1.0) (6.0.5)\n",
      "Requirement already satisfied: yarl<2.0,>=1.0 in ./.conda/lib/python3.12/site-packages (from aiohttp->datasets->nb_gpu_trainer==1.0) (1.9.4)\n",
      "Requirement already satisfied: gitdb<5,>=4.0.1 in ./.conda/lib/python3.12/site-packages (from gitpython!=3.1.29,>=1.0.0->wandb->nb_gpu_trainer==1.0) (4.0.11)\n",
      "Requirement already satisfied: decorator in ./.conda/lib/python3.12/site-packages (from ipython>=6.1.0->ipywidgets->nb_gpu_trainer==1.0) (5.1.1)\n",
      "Requirement already satisfied: jedi>=0.16 in ./.conda/lib/python3.12/site-packages (from ipython>=6.1.0->ipywidgets->nb_gpu_trainer==1.0) (0.19.1)\n",
      "Requirement already satisfied: matplotlib-inline in ./.conda/lib/python3.12/site-packages (from ipython>=6.1.0->ipywidgets->nb_gpu_trainer==1.0) (0.1.7)\n",
      "Requirement already satisfied: prompt-toolkit<3.1.0,>=3.0.41 in ./.conda/lib/python3.12/site-packages (from ipython>=6.1.0->ipywidgets->nb_gpu_trainer==1.0) (3.0.47)\n",
      "Requirement already satisfied: pygments>=2.4.0 in ./.conda/lib/python3.12/site-packages (from ipython>=6.1.0->ipywidgets->nb_gpu_trainer==1.0) (2.18.0)\n",
      "Requirement already satisfied: stack-data in ./.conda/lib/python3.12/site-packages (from ipython>=6.1.0->ipywidgets->nb_gpu_trainer==1.0) (0.6.2)\n",
      "Requirement already satisfied: pexpect>4.3 in ./.conda/lib/python3.12/site-packages (from ipython>=6.1.0->ipywidgets->nb_gpu_trainer==1.0) (4.9.0)\n",
      "Requirement already satisfied: charset-normalizer<4,>=2 in ./.conda/lib/python3.12/site-packages (from requests>=2.32.2->datasets->nb_gpu_trainer==1.0) (3.3.2)\n",
      "Requirement already satisfied: idna<4,>=2.5 in ./.conda/lib/python3.12/site-packages (from requests>=2.32.2->datasets->nb_gpu_trainer==1.0) (3.7)\n",
      "Requirement already satisfied: urllib3<3,>=1.21.1 in ./.conda/lib/python3.12/site-packages (from requests>=2.32.2->datasets->nb_gpu_trainer==1.0) (2.2.2)\n",
      "Requirement already satisfied: certifi>=2017.4.17 in ./.conda/lib/python3.12/site-packages (from requests>=2.32.2->datasets->nb_gpu_trainer==1.0) (2024.7.4)\n",
      "Requirement already satisfied: MarkupSafe>=2.0 in ./.conda/lib/python3.12/site-packages (from jinja2->torch->nb_gpu_trainer==1.0) (2.1.5)\n",
      "Requirement already satisfied: python-dateutil>=2.8.2 in ./.conda/lib/python3.12/site-packages (from pandas->datasets->nb_gpu_trainer==1.0) (2.9.0)\n",
      "Requirement already satisfied: pytz>=2020.1 in ./.conda/lib/python3.12/site-packages (from pandas->datasets->nb_gpu_trainer==1.0) (2024.1)\n",
      "Requirement already satisfied: tzdata>=2022.7 in ./.conda/lib/python3.12/site-packages (from pandas->datasets->nb_gpu_trainer==1.0) (2024.1)\n",
      "Requirement already satisfied: mpmath<1.4,>=1.1.0 in ./.conda/lib/python3.12/site-packages (from sympy->torch->nb_gpu_trainer==1.0) (1.3.0)\n",
      "Requirement already satisfied: smmap<6,>=3.0.1 in ./.conda/lib/python3.12/site-packages (from gitdb<5,>=4.0.1->gitpython!=3.1.29,>=1.0.0->wandb->nb_gpu_trainer==1.0) (5.0.1)\n",
      "Requirement already satisfied: parso<0.9.0,>=0.8.3 in ./.conda/lib/python3.12/site-packages (from jedi>=0.16->ipython>=6.1.0->ipywidgets->nb_gpu_trainer==1.0) (0.8.4)\n",
      "Requirement already satisfied: ptyprocess>=0.5 in ./.conda/lib/python3.12/site-packages (from pexpect>4.3->ipython>=6.1.0->ipywidgets->nb_gpu_trainer==1.0) (0.7.0)\n",
      "Requirement already satisfied: wcwidth in ./.conda/lib/python3.12/site-packages (from prompt-toolkit<3.1.0,>=3.0.41->ipython>=6.1.0->ipywidgets->nb_gpu_trainer==1.0) (0.2.13)\n",
      "Requirement already satisfied: executing>=1.2.0 in ./.conda/lib/python3.12/site-packages (from stack-data->ipython>=6.1.0->ipywidgets->nb_gpu_trainer==1.0) (2.0.1)\n",
      "Requirement already satisfied: asttokens>=2.1.0 in ./.conda/lib/python3.12/site-packages (from stack-data->ipython>=6.1.0->ipywidgets->nb_gpu_trainer==1.0) (2.4.1)\n",
      "Requirement already satisfied: pure-eval in ./.conda/lib/python3.12/site-packages (from stack-data->ipython>=6.1.0->ipywidgets->nb_gpu_trainer==1.0) (0.2.2)\n",
      "Building wheels for collected packages: nb_gpu_trainer\n",
      "  Building editable for nb_gpu_trainer (pyproject.toml) ... \u001b[?25ldone\n",
      "\u001b[?25h  Created wheel for nb_gpu_trainer: filename=nb_gpu_trainer-1.0-0.editable-py3-none-any.whl size=2181 sha256=b9bf2113764975df2d9e62a6f5d6edb3ba00e02cfaa111d630cda79ef1a95fb1\n",
      "  Stored in directory: /tmp/pip-ephem-wheel-cache-bah8qky7/wheels/79/92/70/55487793b668bb63a254086efaa207c1fa25d66f02098d5bd3\n",
      "Successfully built nb_gpu_trainer\n",
      "Installing collected packages: nb_gpu_trainer\n",
      "  Attempting uninstall: nb_gpu_trainer\n",
      "    Found existing installation: nb_gpu_trainer 1.0\n",
      "    Uninstalling nb_gpu_trainer-1.0:\n",
      "      Successfully uninstalled nb_gpu_trainer-1.0\n",
      "Successfully installed nb_gpu_trainer-1.0\n"
     ]
    }
   ],
   "source": [
    "!pip install -e ."
   ]
  },
  {
   "cell_type": "markdown",
   "metadata": {},
   "source": [
    "# Train a tokenizer"
   ]
  },
  {
   "cell_type": "code",
   "execution_count": 3,
   "metadata": {},
   "outputs": [],
   "source": [
    "from tokenizer.train import Trainer\n",
    "from huggingface_hub import login\n",
    "from trainer import TrainerConfig"
   ]
  },
  {
   "cell_type": "code",
   "execution_count": 4,
   "metadata": {},
   "outputs": [
    {
     "data": {
      "application/vnd.jupyter.widget-view+json": {
       "model_id": "f6a4757d93e74ada88e0752cbfcb21c3",
       "version_major": 2,
       "version_minor": 0
      },
      "text/plain": [
       "VBox(children=(HTML(value='<center> <img\\nsrc=https://huggingface.co/front/assets/huggingface_logo-noborder.sv…"
      ]
     },
     "metadata": {},
     "output_type": "display_data"
    }
   ],
   "source": [
    "login()"
   ]
  },
  {
   "cell_type": "code",
   "execution_count": 5,
   "metadata": {},
   "outputs": [],
   "source": [
    "def load_config(config_file)->TrainerConfig:\n",
    "    import yaml\n",
    "\n",
    "    with open(config_file) as f:\n",
    "        try:\n",
    "            doc = yaml.safe_load(f)\n",
    "        except yaml.YAMLError as exc:\n",
    "            print(exc)\n",
    "            exit(1)\n",
    "    \n",
    "    return TrainerConfig(**doc)\n",
    "\n",
    "trainer_cfg = load_config(\"config/news_trainer.yml\")"
   ]
  },
  {
   "cell_type": "code",
   "execution_count": 6,
   "metadata": {},
   "outputs": [
    {
     "data": {
      "text/plain": [
       "('habanoz/haber-90k-gpt-v1.0', 'haber-90k-gpt', 'habanoz/haber-90k-gpt-text')"
      ]
     },
     "execution_count": 6,
     "metadata": {},
     "output_type": "execute_result"
    }
   ],
   "source": [
    "trainer_cfg.repo_id, trainer_cfg.out_dir, trainer_cfg.ds_repo_id"
   ]
  },
  {
   "cell_type": "markdown",
   "metadata": {},
   "source": [
    "## Train and push"
   ]
  },
  {
   "cell_type": "code",
   "execution_count": 7,
   "metadata": {},
   "outputs": [],
   "source": [
    "from datasets import load_dataset, DatasetDict"
   ]
  },
  {
   "cell_type": "code",
   "execution_count": 8,
   "metadata": {},
   "outputs": [
    {
     "data": {
      "application/vnd.jupyter.widget-view+json": {
       "model_id": "a694c11ff3cd4161bacbedbada68cd70",
       "version_major": 2,
       "version_minor": 0
      },
      "text/plain": [
       "Downloading readme:   0%|          | 0.00/619 [00:00<?, ?B/s]"
      ]
     },
     "metadata": {},
     "output_type": "display_data"
    },
    {
     "data": {
      "application/vnd.jupyter.widget-view+json": {
       "model_id": "eb56bbfd654a40948fb58a42ac3cdd58",
       "version_major": 2,
       "version_minor": 0
      },
      "text/plain": [
       "Downloading data:   0%|          | 0.00/154M [00:00<?, ?B/s]"
      ]
     },
     "metadata": {},
     "output_type": "display_data"
    },
    {
     "data": {
      "application/vnd.jupyter.widget-view+json": {
       "model_id": "088a6d5b04ff4e8d8dc614ffd27af168",
       "version_major": 2,
       "version_minor": 0
      },
      "text/plain": [
       "Downloading data:   0%|          | 0.00/17.2M [00:00<?, ?B/s]"
      ]
     },
     "metadata": {},
     "output_type": "display_data"
    },
    {
     "data": {
      "application/vnd.jupyter.widget-view+json": {
       "model_id": "0cef2fe5168c455197b5aa81426dfc0b",
       "version_major": 2,
       "version_minor": 0
      },
      "text/plain": [
       "Generating train split:   0%|          | 0/81708 [00:00<?, ? examples/s]"
      ]
     },
     "metadata": {},
     "output_type": "display_data"
    },
    {
     "data": {
      "application/vnd.jupyter.widget-view+json": {
       "model_id": "d6355c2ac28644c28a2bc5cae1721443",
       "version_major": 2,
       "version_minor": 0
      },
      "text/plain": [
       "Generating validation split:   0%|          | 0/9079 [00:00<?, ? examples/s]"
      ]
     },
     "metadata": {},
     "output_type": "display_data"
    }
   ],
   "source": [
    "ds = load_dataset(\"habanoz/news-tr-90k\")"
   ]
  },
  {
   "cell_type": "code",
   "execution_count": 9,
   "metadata": {},
   "outputs": [],
   "source": [
    "dss = ds['train'].train_test_split(0.1)"
   ]
  },
  {
   "cell_type": "code",
   "execution_count": 10,
   "metadata": {},
   "outputs": [
    {
     "data": {
      "text/plain": [
       "DatasetDict({\n",
       "    train: Dataset({\n",
       "        features: ['Id', 'Tag', 'Labels', 'Title', 'Summary', 'Text', '__index_level_0__'],\n",
       "        num_rows: 81708\n",
       "    })\n",
       "    test: Dataset({\n",
       "        features: ['Id', 'Tag', 'Labels', 'Title', 'Summary', 'Text', '__index_level_0__'],\n",
       "        num_rows: 9079\n",
       "    })\n",
       "})"
      ]
     },
     "execution_count": 10,
     "metadata": {},
     "output_type": "execute_result"
    }
   ],
   "source": [
    "dss"
   ]
  },
  {
   "cell_type": "code",
   "execution_count": 11,
   "metadata": {},
   "outputs": [],
   "source": [
    "def to_doc(x):\n",
    "    return f\"\"\"# {x['Title']}\n",
    "\n",
    "## Özet\n",
    "\n",
    "{x['Summary']}\n",
    "\n",
    "## İçerik\n",
    "\n",
    "{x['Text']}\"\"\""
   ]
  },
  {
   "cell_type": "code",
   "execution_count": 12,
   "metadata": {},
   "outputs": [
    {
     "data": {
      "application/vnd.jupyter.widget-view+json": {
       "model_id": "3a79240d698f47509adeed615adb1303",
       "version_major": 2,
       "version_minor": 0
      },
      "text/plain": [
       "Map:   0%|          | 0/81708 [00:00<?, ? examples/s]"
      ]
     },
     "metadata": {},
     "output_type": "display_data"
    },
    {
     "data": {
      "application/vnd.jupyter.widget-view+json": {
       "model_id": "14e2b10944ab4bd78429a6ef743556d8",
       "version_major": 2,
       "version_minor": 0
      },
      "text/plain": [
       "Map:   0%|          | 0/9079 [00:00<?, ? examples/s]"
      ]
     },
     "metadata": {},
     "output_type": "display_data"
    }
   ],
   "source": [
    "dss = dss.map(lambda x: {'doc':to_doc(x)}, batched=False)"
   ]
  },
  {
   "cell_type": "code",
   "execution_count": 13,
   "metadata": {},
   "outputs": [
    {
     "data": {
      "text/plain": [
       "DatasetDict({\n",
       "    train: Dataset({\n",
       "        features: ['Id', 'Tag', 'Labels', 'Title', 'Summary', 'Text', '__index_level_0__', 'doc'],\n",
       "        num_rows: 81708\n",
       "    })\n",
       "    test: Dataset({\n",
       "        features: ['Id', 'Tag', 'Labels', 'Title', 'Summary', 'Text', '__index_level_0__', 'doc'],\n",
       "        num_rows: 9079\n",
       "    })\n",
       "})"
      ]
     },
     "execution_count": 13,
     "metadata": {},
     "output_type": "execute_result"
    }
   ],
   "source": [
    "dss"
   ]
  },
  {
   "cell_type": "code",
   "execution_count": 14,
   "metadata": {},
   "outputs": [],
   "source": [
    "dss = DatasetDict({\n",
    "    \"train\":dss['train'],\n",
    "    \"validation\":dss['test'],\n",
    "})"
   ]
  },
  {
   "cell_type": "code",
   "execution_count": 15,
   "metadata": {},
   "outputs": [
    {
     "data": {
      "text/plain": [
       "DatasetDict({\n",
       "    train: Dataset({\n",
       "        features: ['Id', 'Tag', 'Labels', 'Title', 'Summary', 'Text', '__index_level_0__', 'doc'],\n",
       "        num_rows: 81708\n",
       "    })\n",
       "    validation: Dataset({\n",
       "        features: ['Id', 'Tag', 'Labels', 'Title', 'Summary', 'Text', '__index_level_0__', 'doc'],\n",
       "        num_rows: 9079\n",
       "    })\n",
       "})"
      ]
     },
     "execution_count": 15,
     "metadata": {},
     "output_type": "execute_result"
    }
   ],
   "source": [
    "dss"
   ]
  },
  {
   "cell_type": "code",
   "execution_count": 16,
   "metadata": {},
   "outputs": [],
   "source": [
    "dss = dss.remove_columns(['Id', 'Tag', 'Labels', 'Title', 'Summary', 'Text', '__index_level_0__'])"
   ]
  },
  {
   "cell_type": "code",
   "execution_count": 18,
   "metadata": {},
   "outputs": [],
   "source": [
    "dss = dss.rename_column('doc','text')"
   ]
  },
  {
   "cell_type": "code",
   "execution_count": 20,
   "metadata": {},
   "outputs": [
    {
     "data": {
      "application/vnd.jupyter.widget-view+json": {
       "model_id": "beace8035d9f4119ba54e82e08b1ea48",
       "version_major": 2,
       "version_minor": 0
      },
      "text/plain": [
       "Uploading the dataset shards:   0%|          | 0/1 [00:00<?, ?it/s]"
      ]
     },
     "metadata": {},
     "output_type": "display_data"
    },
    {
     "data": {
      "application/vnd.jupyter.widget-view+json": {
       "model_id": "09504ad0e80f40558b3ba010f4a7b0f7",
       "version_major": 2,
       "version_minor": 0
      },
      "text/plain": [
       "Creating parquet from Arrow format:   0%|          | 0/82 [00:00<?, ?ba/s]"
      ]
     },
     "metadata": {},
     "output_type": "display_data"
    },
    {
     "data": {
      "application/vnd.jupyter.widget-view+json": {
       "model_id": "34cf5d24e66b4e54bf50aaf13354ded1",
       "version_major": 2,
       "version_minor": 0
      },
      "text/plain": [
       "Uploading the dataset shards:   0%|          | 0/1 [00:00<?, ?it/s]"
      ]
     },
     "metadata": {},
     "output_type": "display_data"
    },
    {
     "data": {
      "application/vnd.jupyter.widget-view+json": {
       "model_id": "52cea6c2681446f2846c7b9216842b08",
       "version_major": 2,
       "version_minor": 0
      },
      "text/plain": [
       "Creating parquet from Arrow format:   0%|          | 0/10 [00:00<?, ?ba/s]"
      ]
     },
     "metadata": {},
     "output_type": "display_data"
    },
    {
     "data": {
      "text/plain": [
       "CommitInfo(commit_url='https://huggingface.co/datasets/habanoz/haber-90k-gpt-text/commit/c02f66b5bdb10cac0c062492f39f6a6adc8ec3a6', commit_message='Upload dataset', commit_description='', oid='c02f66b5bdb10cac0c062492f39f6a6adc8ec3a6', pr_url=None, pr_revision=None, pr_num=None)"
      ]
     },
     "execution_count": 20,
     "metadata": {},
     "output_type": "execute_result"
    }
   ],
   "source": [
    "dss.push_to_hub(\"habanoz/haber-90k-gpt-text\")"
   ]
  },
  {
   "cell_type": "code",
   "execution_count": null,
   "metadata": {},
   "outputs": [],
   "source": []
  }
 ],
 "metadata": {
  "kernelspec": {
   "display_name": "myenv",
   "language": "python",
   "name": "python3"
  },
  "language_info": {
   "codemirror_mode": {
    "name": "ipython",
    "version": 3
   },
   "file_extension": ".py",
   "mimetype": "text/x-python",
   "name": "python",
   "nbconvert_exporter": "python",
   "pygments_lexer": "ipython3",
   "version": "3.12.4"
  }
 },
 "nbformat": 4,
 "nbformat_minor": 2
}
