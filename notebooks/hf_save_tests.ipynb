{
 "cells": [
  {
   "cell_type": "code",
   "execution_count": 1,
   "metadata": {},
   "outputs": [
    {
     "name": "stdout",
     "output_type": "stream",
     "text": [
      "/home/melek/workspace/vscode/nb_gpu_trainer\n"
     ]
    }
   ],
   "source": [
    "%cd .."
   ]
  },
  {
   "cell_type": "code",
   "execution_count": 13,
   "metadata": {},
   "outputs": [],
   "source": [
    "from nbtr.model.config_custom import HfConfig\n",
    "from nbtr.model.model_custom import HfModel\n",
    "from huggingface_hub import login\n",
    "from nbtr.model.gpt2 import GPT, GPTConfig\n",
    "from dataclasses import asdict\n",
    "from transformers import AutoConfig, PretrainedConfig, PreTrainedModel"
   ]
  },
  {
   "cell_type": "code",
   "execution_count": 3,
   "metadata": {},
   "outputs": [
    {
     "data": {
      "application/vnd.jupyter.widget-view+json": {
       "model_id": "86aa5fb2f01146a2bd931f9e9e5ca707",
       "version_major": 2,
       "version_minor": 0
      },
      "text/plain": [
       "VBox(children=(HTML(value='<center> <img\\nsrc=https://huggingface.co/front/assets/huggingface_logo-noborder.sv…"
      ]
     },
     "metadata": {},
     "output_type": "display_data"
    }
   ],
   "source": [
    "login()"
   ]
  },
  {
   "cell_type": "code",
   "execution_count": 4,
   "metadata": {},
   "outputs": [],
   "source": [
    "gpt_config = GPTConfig.from_yaml(\"config/news_model.yml\")"
   ]
  },
  {
   "cell_type": "code",
   "execution_count": 8,
   "metadata": {},
   "outputs": [],
   "source": [
    "hf_cfg = HfConfig(gpt_config=asdict(gpt_config))"
   ]
  },
  {
   "cell_type": "code",
   "execution_count": 10,
   "metadata": {},
   "outputs": [
    {
     "data": {
      "text/plain": [
       "GPTConfig(seq_length=1024, vocab_size=8192, n_embed=384, n_head=6, n_layer=6, dropout=0.2)"
      ]
     },
     "execution_count": 10,
     "metadata": {},
     "output_type": "execute_result"
    }
   ],
   "source": []
  },
  {
   "cell_type": "code",
   "execution_count": 12,
   "metadata": {},
   "outputs": [
    {
     "data": {
      "text/plain": [
       "CommitInfo(commit_url='https://huggingface.co/habanoz/push_to_hug_test/commit/3386c4c9f081559e50f30146ad465075dcd119e8', commit_message='Upload config', commit_description='', oid='3386c4c9f081559e50f30146ad465075dcd119e8', pr_url=None, pr_revision=None, pr_num=None)"
      ]
     },
     "execution_count": 12,
     "metadata": {},
     "output_type": "execute_result"
    }
   ],
   "source": [
    "hf_cfg.push_to_hub(\"habanoz/push_to_hug_test\", private=True)"
   ]
  },
  {
   "cell_type": "code",
   "execution_count": 15,
   "metadata": {},
   "outputs": [
    {
     "name": "stderr",
     "output_type": "stream",
     "text": [
      "loading configuration file config.json from cache at /home/melek/.cache/huggingface/hub/models--habanoz--push_to_hug_test/snapshots/3386c4c9f081559e50f30146ad465075dcd119e8/config.json\n",
      "Model config HfConfig {\n",
      "  \"gpt_config\": {\n",
      "    \"dropout\": 0.2,\n",
      "    \"n_embed\": 384,\n",
      "    \"n_head\": 6,\n",
      "    \"n_layer\": 6,\n",
      "    \"seq_length\": 1024,\n",
      "    \"vocab_size\": 8192\n",
      "  },\n",
      "  \"transformers_version\": \"4.41.2\"\n",
      "}\n",
      "\n"
     ]
    }
   ],
   "source": [
    "hf_cfg_from_hug = HfConfig.from_pretrained(\"habanoz/push_to_hug_test\")"
   ]
  },
  {
   "cell_type": "code",
   "execution_count": 18,
   "metadata": {},
   "outputs": [
    {
     "name": "stdout",
     "output_type": "stream",
     "text": [
      "number of parameters: 13.77M\n"
     ]
    }
   ],
   "source": [
    "hf_model = HfModel(config=hf_cfg_from_hug)"
   ]
  },
  {
   "cell_type": "code",
   "execution_count": 20,
   "metadata": {},
   "outputs": [
    {
     "name": "stderr",
     "output_type": "stream",
     "text": [
      "Configuration saved in /tmp/tmpavppl4o0/config.json\n",
      "Model weights saved in /tmp/tmpavppl4o0/pytorch_model.bin\n",
      "Uploading the following files to habanoz/push_to_hug_test: config.json,pytorch_model.bin,README.md\n"
     ]
    },
    {
     "data": {
      "application/vnd.jupyter.widget-view+json": {
       "model_id": "8dbced3449e840ffa119bad7c8467bbf",
       "version_major": 2,
       "version_minor": 0
      },
      "text/plain": [
       "pytorch_model.bin:   0%|          | 0.00/56.7M [00:00<?, ?B/s]"
      ]
     },
     "metadata": {},
     "output_type": "display_data"
    },
    {
     "data": {
      "text/plain": [
       "CommitInfo(commit_url='https://huggingface.co/habanoz/push_to_hug_test/commit/3dbff38ef29185a0d28ab541d8f3e36c956b3f1e', commit_message='Upload model', commit_description='', oid='3dbff38ef29185a0d28ab541d8f3e36c956b3f1e', pr_url=None, pr_revision=None, pr_num=None)"
      ]
     },
     "execution_count": 20,
     "metadata": {},
     "output_type": "execute_result"
    }
   ],
   "source": [
    "hf_model.push_to_hub(\"habanoz/push_to_hug_test\", safe_serialization=False)"
   ]
  },
  {
   "cell_type": "code",
   "execution_count": 21,
   "metadata": {},
   "outputs": [
    {
     "data": {
      "application/vnd.jupyter.widget-view+json": {
       "model_id": "511eb013c9cf4b19bf1f1fbf61be8d38",
       "version_major": 2,
       "version_minor": 0
      },
      "text/plain": [
       "config.json:   0%|          | 0.00/252 [00:00<?, ?B/s]"
      ]
     },
     "metadata": {},
     "output_type": "display_data"
    },
    {
     "name": "stderr",
     "output_type": "stream",
     "text": [
      "loading configuration file config.json from cache at /home/melek/.cache/huggingface/hub/models--habanoz--push_to_hug_test/snapshots/3dbff38ef29185a0d28ab541d8f3e36c956b3f1e/config.json\n",
      "Model config HfConfig {\n",
      "  \"architectures\": [\n",
      "    \"HfModel\"\n",
      "  ],\n",
      "  \"gpt_config\": {\n",
      "    \"dropout\": 0.2,\n",
      "    \"n_embed\": 384,\n",
      "    \"n_head\": 6,\n",
      "    \"n_layer\": 6,\n",
      "    \"seq_length\": 1024,\n",
      "    \"vocab_size\": 8192\n",
      "  },\n",
      "  \"torch_dtype\": \"float32\",\n",
      "  \"transformers_version\": \"4.41.2\"\n",
      "}\n",
      "\n"
     ]
    },
    {
     "data": {
      "application/vnd.jupyter.widget-view+json": {
       "model_id": "9e7ca062508b4a2e8af352dda0dadc4c",
       "version_major": 2,
       "version_minor": 0
      },
      "text/plain": [
       "pytorch_model.bin:   0%|          | 0.00/56.7M [00:00<?, ?B/s]"
      ]
     },
     "metadata": {},
     "output_type": "display_data"
    },
    {
     "name": "stderr",
     "output_type": "stream",
     "text": [
      "loading weights file pytorch_model.bin from cache at /home/melek/.cache/huggingface/hub/models--habanoz--push_to_hug_test/snapshots/3dbff38ef29185a0d28ab541d8f3e36c956b3f1e/pytorch_model.bin\n",
      "All model checkpoint weights were used when initializing HfModel.\n",
      "\n",
      "All the weights of HfModel were initialized from the model checkpoint at habanoz/push_to_hug_test.\n",
      "If your task is similar to the task the model of the checkpoint was trained on, you can already use HfModel for predictions without further training.\n"
     ]
    },
    {
     "name": "stdout",
     "output_type": "stream",
     "text": [
      "number of parameters: 13.77M\n"
     ]
    }
   ],
   "source": [
    "hf_model_from_hub = HfModel.from_pretrained(\"habanoz/push_to_hug_test\")"
   ]
  },
  {
   "cell_type": "code",
   "execution_count": null,
   "metadata": {},
   "outputs": [],
   "source": []
  }
 ],
 "metadata": {
  "kernelspec": {
   "display_name": "myenv",
   "language": "python",
   "name": "python3"
  },
  "language_info": {
   "codemirror_mode": {
    "name": "ipython",
    "version": 3
   },
   "file_extension": ".py",
   "mimetype": "text/x-python",
   "name": "python",
   "nbconvert_exporter": "python",
   "pygments_lexer": "ipython3",
   "version": "3.11.9"
  }
 },
 "nbformat": 4,
 "nbformat_minor": 2
}
