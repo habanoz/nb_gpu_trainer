{
 "cells": [
  {
   "cell_type": "code",
   "execution_count": 1,
   "metadata": {},
   "outputs": [],
   "source": [
    "from nbtr.model.hf_model import HfModel\n",
    "from nbtr.tokenizer.tokenizer import Tokenizer\n",
    "import torch\n",
    "from torch.nn import functional as F\n",
    "from nbtr.decode.decoder import Decoder"
   ]
  },
  {
   "cell_type": "code",
   "execution_count": 42,
   "metadata": {},
   "outputs": [
    {
     "name": "stdout",
     "output_type": "stream",
     "text": [
      "number of parameters: 38.81M\n",
      "Restored model state from repository!\n",
      "number of parameters: 38.81M\n",
      "Restored model state from repository!\n"
     ]
    },
    {
     "data": {
      "application/vnd.jupyter.widget-view+json": {
       "model_id": "ca262cfa760a45939d0e114be4149dc3",
       "version_major": 2,
       "version_minor": 0
      },
      "text/plain": [
       "pytorch_model.bin:   0%|          | 0.00/206M [00:00<?, ?B/s]"
      ]
     },
     "metadata": {},
     "output_type": "display_data"
    },
    {
     "data": {
      "application/vnd.jupyter.widget-view+json": {
       "model_id": "972eaaa573ea42fa8aba64ab5d0ffa61",
       "version_major": 2,
       "version_minor": 0
      },
      "text/plain": [
       "config.json:   0%|          | 0.00/148 [00:00<?, ?B/s]"
      ]
     },
     "metadata": {},
     "output_type": "display_data"
    },
    {
     "name": "stdout",
     "output_type": "stream",
     "text": [
      "number of parameters: 51.39M\n",
      "Restored model state from repository!\n"
     ]
    }
   ],
   "source": [
    "model1 = HfModel.from_pretrained(\"habanoz/haber-gpt-2.1-40M-v1.04\",device=\"cpu\")\n",
    "model2 = HfModel.from_pretrained(\"habanoz/haber-gpt-2.1-40M-30k-v1.0\",device=\"cpu\")\n",
    "model3 = HfModel.from_pretrained(\"habanoz/haber-gpt-2.1-40M-10k-vocab32k-v1.03\",device=\"cpu\")\n"
   ]
  },
  {
   "cell_type": "code",
   "execution_count": 4,
   "metadata": {},
   "outputs": [
    {
     "data": {
      "application/vnd.jupyter.widget-view+json": {
       "model_id": "8ff3aaa93f2244d38664227f34b0ddd2",
       "version_major": 2,
       "version_minor": 0
      },
      "text/plain": [
       "tokenizer.model:   0%|          | 0.00/837k [00:00<?, ?B/s]"
      ]
     },
     "metadata": {},
     "output_type": "display_data"
    }
   ],
   "source": [
    "tokenizer8 = Tokenizer.from_pretrained(\"habanoz/news-tr-1.8M-tokenizer-8k\")\n",
    "tokenizer32 = Tokenizer.from_pretrained(\"habanoz/news-tr-1.8M-tokenizer\")"
   ]
  },
  {
   "cell_type": "code",
   "execution_count": 6,
   "metadata": {},
   "outputs": [],
   "source": [
    "decoder1 = Decoder(tokenizer8, model1)\n",
    "decoder2 = Decoder(tokenizer8, model2)\n",
    "decoder3 = Decoder(tokenizer32, model3)\n",
    "decoders = [decoder1, decoder2, decoder3]"
   ]
  },
  {
   "cell_type": "code",
   "execution_count": 8,
   "metadata": {},
   "outputs": [
    {
     "name": "stdout",
     "output_type": "stream",
     "text": [
      "15 Temmuz şehitleri ikiz polislerin babasının acısı dinmiyor. 15 Temmuz şehitleri ikiz polislerin babasının acısı dinmiyor. 15 Temmuz şehitleri ikiz polislerin babasının acısı dinmiyor. 15 Temmuz şehitleri ikiz polislerin babasının acısı dinmiyor. 15 Temmuz şehitleri ikiz polislerin babasının acısı dinmiyor. 15 Temmuz şehitleri ikiz polislerin babasının acısı dinmiyor. 15 Temmuz şehitleri ikiz polislerin babasının acısı\n",
      "15 Temmuz şehitleri ikiz polislerin babasının acısı dinmiyor. 15 Temmuz şehitleri, ikiz polislerin babasının acısı dinmiyor. 15 Temmuz şehitleri, ikiz polislerin babasının acısı dinmiyor. 15 Temmuz şehitleri, ikiz polislerin babasının acısı dinmiyor. 15 Temmuz şehitleri, ikiz polislerin babasının acısı dinmiyor. 15 Temmuz şehitleri, ikiz polislerin babasının acısı dinmiyor. 15 Temmuz şehitleri, ikiz\n",
      "15 Temmuz şehitleri ikiz polislerin babasının acısı dinmiyor 15 Temmuz şehitleri ikiz polislerin babasının acısı dinmiyor 15 Temmuz şehitleri ikiz polislerin babasının acısı dinmiyor 15 Temmuz şehitleri ikiz polislerin babasının acısı dinmiyor 15 Temmuz şehitleri ikiz polislerin babasının acısı dinmiyor 15 Temmuz şehitleri ikiz polislerin babasının acısı dinmiyor 15 Temmuz şehitleri ikiz polislerin babasının acısı dinmiyor 15 Temmuz şehitleri ikiz polislerin babasının acısı dinmiyor 15 Temmuz şehitleri ikiz polislerin babasının acısı dinmiyor 15 Temmuz şehitleri ikiz polislerin babasının acısı dinmiyor \n"
     ]
    }
   ],
   "source": [
    "for decoder in decoders:\n",
    "    print(decoder.decode_greedy('15 Temmuz şehitleri ikiz polislerin babasının acısı dinmiyor', max_tokens=100))"
   ]
  },
  {
   "cell_type": "code",
   "execution_count": 9,
   "metadata": {},
   "outputs": [
    {
     "name": "stdout",
     "output_type": "stream",
     "text": [
      "2015 yılında Fransa devlet başkanı olan François Hollande, 2016 yılında da Fransa'nın Avrupa Birliği'ne (AB) tam üye olması için mücadele edeceğini açıklamıştı. Hollande, 2016 yılında da Fransa'nın Avrupa Birliği'ne (AB) tam üye olması için mücadele edeceğini açıklamıştı. Fransa'nın Avrupa Birliği'ne tam üye olması için mücadele edeceğini açıklayan Hollande, 2016 yılında da Fransa'nın Avrupa Birliği'ne tam üye olması için mücadele\n",
      "2015 yılında Fransa devlet başkanı seçilen François Hollande, 2016 yılında Fransa'nın yeni cumhurbaşkanı oldu. Fransa'da 2015 yılında Fransa'nın yeni cumhurbaşkanı seçilen François Hollande, 2016 yılında Fransa'nın yeni cumhurbaşkanı oldu. Fransa'da 2016 yılında yapılan cumhurbaşkanlığı seçimlerini kazanan François Hollande, 2016 yılında Fransa'nın yeni cumhurbaşkanı oldu. Fransa'da 20\n",
      "2015 yılında Fransa devlet başkanı seçilen François Hollande, 2016 yılında Fransa'nın yeni cumhurbaşkanı seçildi. Hollande, 2016 yılında Fransa'nın yeni cumhurbaşkanı seçildi. Hollande, 2016 yılında Fransa'nın yeni cumhurbaşkanı seçildi. Hollande, 2016 yılında Fransa'nın yeni cumhurbaşkanı seçildi. Hollande, 2016 yılında Fransa'nın yeni cumhurbaşkanı seçildi. Hollande, 2016 yılında Fransa'nın yeni cumhurbaşkanı seçildi. Hollande, 2016 yılında\n"
     ]
    }
   ],
   "source": [
    "for decoder in decoders:\n",
    "    print(decoder.decode_greedy('2015 yılında Fransa devlet başkanı', max_tokens=100))"
   ]
  },
  {
   "cell_type": "code",
   "execution_count": 10,
   "metadata": {},
   "outputs": [
    {
     "name": "stdout",
     "output_type": "stream",
     "text": [
      "2020 yılında Fransa devlet başkanı Macron'un, 2020 yılında Fransa'nın Paris'teki büyükelçiliğini Kudüs'e taşıması, 2020 yılında ise Fransa'nın Paris Büyükelçiliğini Kudüs'e taşıması, 2020 yılında Fransa'nın Paris Büyükelçiliğini Kudüs'e taşıması, 2020 yılında ise Fransa'nın Paris Büyükelçiliğini Kudüs'e taşıması, 2020 yılında ise Fransa'nın Paris Büyükelçiliğini Kudüs\n",
      "2020 yılında Fransa devlet başkanı seçilen Macron, 2021'de de Fransa'nın yeni cumhurbaşkanı olacak. Macron, 2021'de de Fransa'nın yeni cumhurbaşkanı olacak. Fransa'da 2021'de yapılan cumhurbaşkanlığı seçimlerinin ilk turunda, mevcut Cumhurbaşkanı Emmanuel Macron'un 2021'de yeniden seçilmesi bekleniyor. Macron, 2021'de yapılacak cumhurbaşkanlığı seçimlerinin ilk turunda, 2021'de yapılacak\n",
      "2020 yılında Fransa devlet başkanı seçilen Emmanuel Macron, 2020'de yapılacak cumhurbaşkanlığı seçimlerinde aday olmayacağını açıkladı. Macron, 2020'de yapılacak cumhurbaşkanlığı seçimlerinde aday olmayacağını açıkladı. Macron, 2020'de yapılacak cumhurbaşkanlığı seçimlerinde aday olmayacağını açıkladı. Macron, 2020'de yapılacak cumhurbaşkanlığı seçimlerinde aday olmayacağını açıkladı. Macron, 2020'de yapılacak cumhurbaşkanlığı seçimlerinde aday olmayacağını açıkladı. Macron, 2020'de yapılacak cumhurbaşkanlığı seçimlerinde\n"
     ]
    }
   ],
   "source": [
    "for decoder in decoders:\n",
    "    print(decoder.decode_greedy('2020 yılında Fransa devlet başkanı', max_tokens=100))"
   ]
  },
  {
   "cell_type": "code",
   "execution_count": 11,
   "metadata": {},
   "outputs": [
    {
     "name": "stdout",
     "output_type": "stream",
     "text": [
      "2010 yılında Fransa devlet başkanı olan François Hollande, 2014 yılında da Fransa'nın Avrupa Birliği'ne (AB) tam üye olması için mücadele edeceğini açıklamıştı. Hollande, 2014 yılında da Fransa'nın Avrupa Birliği'ne (AB) tam üye olması için mücadele edeceğini açıklamıştı.\n",
      "2010 yılında Fransa devlet başkanı seçilen François Hollande, 2014 yılında Fransa'nın yeni cumhurbaşkanı oldu. Fransa'da 2010 yılında Fransa'nın yeni cumhurbaşkanı seçilen François Hollande, 2014 yılında Fransa'nın yeni cumhurbaşkanı oldu. Fransa'da 2010 yılında yapılan cumhurbaşkanlığı seçimlerini kazanan François Hollande, 2014 yılında Fransa'nın yeni cumhurbaşkanı oldu. 2014 yılında\n",
      "2010 yılında Fransa devlet başkanı seçilen François Hollande, 2014 yılında Fransa'nın yeni cumhurbaşkanı seçildi. Hollande, 2015 yılında ise Fransa'nın yeni cumhurbaşkanı seçildi. Hollande, 2015 yılında Fransa'nın yeni cumhurbaşkanı seçildi. Hollande, 2015 yılında ise Fransa'nın yeni cumhurbaşkanı seçildi. Hollande, 2015 yılında ise Fransa'nın yeni cumhurbaşkanı seçildi. Hollande, 2015 yılında ise Fransa'nın yeni cumhurbaşkanı seçildi.\n"
     ]
    }
   ],
   "source": [
    "for decoder in decoders:\n",
    "    print(decoder.decode_greedy('2010 yılında Fransa devlet başkanı', max_tokens=100))"
   ]
  },
  {
   "cell_type": "code",
   "execution_count": 12,
   "metadata": {},
   "outputs": [
    {
     "name": "stdout",
     "output_type": "stream",
     "text": [
      "Borsa güne yükselişle başladı. Borsa İstanbul'da BIST 100 endeksi, yüzde 0,32 değer kazanarak günü 1.428,48 puandan tamamladı. BIST 100 endeksi, önceki kapanışa göre 11,50 puan artarken, toplam işlem hacmi 12,5 milyar lira seviyesinde gerçekleşti. Bankacılık endeksi yüzde 0,30 ve holding endeksi yüzde 0,32 değer kazandı.\n",
      "Borsa güne yükselişle başladı (14 Kasım 2018) Borsa İstanbul'da BIST 100 endeksi, güne yüzde 0,10 artışla 103.500,00 puandan başladı. Açılışta BIST 100 endeksi, 103.500,00 puan ve yüzde 0,10 artışla 103.500,00 seviyesine çıktı. Bankacılık endeksi yüzde \n",
      "Borsa güne yükselişle başladı. Borsa İstanbul'da BIST 100 endeksi, yüzde 0,19 değer kazanarak günü 1.406,57 puandan tamamladı. Endeks, önceki kapanışa göre 10,14 puan artarken, toplam işlem hacmi 10,1 milyar lira seviyesinde gerçekleşti. Bankacılık endeksi yüzde 0,19, holding endeksi yüzde 0,19 değer kazandı. Sektör endeksleri arasında en fazla kazandıran yüzde 1,10 ile metal, ana sanayi,\n"
     ]
    }
   ],
   "source": [
    "for decoder in decoders:\n",
    "    print(decoder.decode_greedy( 'Borsa güne yükselişle başladı', max_tokens=100))"
   ]
  },
  {
   "cell_type": "code",
   "execution_count": 13,
   "metadata": {},
   "outputs": [
    {
     "name": "stdout",
     "output_type": "stream",
     "text": [
      "Borsa güne düşüşle başladı. Borsa İstanbul'da BIST 100 endeksi, yüzde 0,32 değer kaybederek 1.489,00 puana geriledi. Bankacılık endeksi yüzde 0,35 ve holding endeksi yüzde 0,32 artış kaydetti. Sektör endeksleri arasında en fazla kazandıran yüzde 0,35 ile spor, en çok gerileyen ise yüzde 0,25 ile sigorta oldu. Dün, alış\n",
      "Borsa güne düşüşle başladı (14 Kasım 2018) Borsa İstanbul'da BIST 100 endeksi, güne yüzde 0,10 azalışla 7.080,88 puandan başladı. Açılışta BIST 100 endeksi, 130,36 puan ve yüzde 0,10 azalışla 7.080,88 seviyesine geriledi. Bankacılık endeksi yüzde 0,1\n",
      "Borsa güne düşüşle başladı Borsa güne düşüşle başladı. BIST 100 endeksi, yüzde 0,17 değer kaybederek 1.529,53 puandan kapandı. Borsa İstanbul'da BIST 100 endeksi, önceki kapanışa göre 10,19 puan azalırken, toplam işlem hacmi 10,5 milyar lira seviyesinde gerçekleşti. Bankacılık endeksi yüzde 0,17 değer kaybederken, holding endeksi yüzde 0,17 değer kaybetti. Sektör endeksleri arasında en fazla kazandıran yüzde \n"
     ]
    }
   ],
   "source": [
    "for decoder in decoders:\n",
    "    print(decoder.decode_greedy( 'Borsa güne düşüşle başladı', max_tokens=100))"
   ]
  },
  {
   "cell_type": "code",
   "execution_count": 14,
   "metadata": {},
   "outputs": [
    {
     "name": "stdout",
     "output_type": "stream",
     "text": [
      "Dünya kupasının kazananı belli oldu! Dünya kupası finalinde Arjantin'i 3-1 yenen Brezilya, kupaya uzandı. Arjantin'i 3-1 yenen Brezilya, kupaya uzandı. Dünya kupası finalinde Arjantin'i 3-1 yenen Brezilya, kupaya uzandı. Arjantin'i 3-1 yenen Brezilya, kupaya uzandı. Arjantin'i 3-1 yenen Brezilya,\n",
      "Dünya kupasının kazananı belli oldu! İşte 2020 Avrupa Futbol Şampiyonası'nda (EURO 2020) mücadele edecek 2020 Avrupa Futbol Şampiyonası'nda (EURO 2020) mücadele edecek 2020 Avrupa Futbol Şampiyonası'nda (EURO 2020) mücadele edecek 2020 Avrupa Futbol Şampiyonası'nda (EURO 2020) mücadele edecek 2020 Avrupa Futbol Şampiyonası'nda\n",
      "Dünya kupasının kazananı belli oldu. 2020 Tokyo Olimpiyat Oyunları'nda mücadele eden A Milli Kadın Voleybol Takımı, 2020 Tokyo Olimpiyat Oyunları'nda mücadele edecek. Türkiye'nin ev sahipliğinde 2020 Tokyo Olimpiyat Oyunları'nda mücadele edecek olan A Milli Kadın Voleybol Takımı, 2020 Tokyo Olimpiyat Oyunları'nda mücadele edecek. 2020 Tokyo Olimpiyat Oyunları'nda mücadele edecek olan A Milli Kadın Voleybol Takımı, 2020 Tokyo Olimpiyat Oyunları'nda mücadele edecek\n"
     ]
    }
   ],
   "source": [
    "for decoder in decoders:\n",
    "    print(decoder.decode_greedy( 'Dünya kupasının kazananı belli oldu', max_tokens=100))"
   ]
  },
  {
   "cell_type": "code",
   "execution_count": 15,
   "metadata": {},
   "outputs": [
    {
     "name": "stdout",
     "output_type": "stream",
     "text": [
      "Dünyanın en tehlikeli 100 kişisi arasında gösterilen ve 100 milyon dolar servetiyle dünyanın en zengin 100 kişisi arasında gösterilen George Soros'un, 2019'da 100 milyon dolar servete sahip olduğu ortaya çıktı. Soros'un, 2019'da 100 milyon dolar servete sahip olduğu ortaya çıktı. Soros'un, 2019'da 1\n",
      "Dünyanın en tehlikeli yerlerinden biri olan ve 1990'lı yıllarda 100'den fazla kişinin ölümüne neden olan Sibirya soğukları, 2010'da 100'den fazla kişinin ölümüne neden oldu. Sibirya'nın güneyindeki Sibirya'da 1990'lı yıllarda 100'den fazla kişi ölümüne neden olan soğuk hava dalgası, 2010'da 1\n",
      "Dünyanın en tehlikeli 100 terör örgütü listesinde 2014'te 100 terör örgütü üyesi öldürüldü. 2014'te 100 terör örgütü üyesi öldürüldü. 2015'te 100 terör örgütü üyesi öldürüldü. 2015'te 100 terör örgütü üyesi öldürüldü. 2015'te 100 terör örgütü üyesi öldürüldü. 2015'te 100 terör örgütü\n"
     ]
    }
   ],
   "source": [
    "for decoder in decoders:\n",
    "    print(decoder.decode_greedy( 'Dünyanın en tehlikeli', max_tokens=100))"
   ]
  },
  {
   "cell_type": "code",
   "execution_count": 16,
   "metadata": {},
   "outputs": [
    {
     "name": "stdout",
     "output_type": "stream",
     "text": [
      "Dünyanın en güvenli ülkelerinden biri olan Türkiye'de, 2019 yılında 1 milyon 200 bin 500 Suriyeli mülteci, Türkiye'ye sığındı. 2019 yılında 1 milyon 200 bin 500 Suriyeli mülteci, Türkiye'ye sığındı. 2019 yılında 1 milyon 200 bin 500 Suriyeli mülteci, Türkiye'ye sığındı. 2019 yılında 1 milyon 2\n",
      "Dünyanın en güvenli ülkesi Çin'de, 2018'de 100 bin kişi başına düşen trafikte en güvenli ülke Çin'de, 2018'de 100 bin kişi başına düşen trafikte en güvenli ülke Çin'de, 2018'de 100 bin kişi başına düşen trafikte en güvenli ülke Çin'de, 2018'de 100 bin kişi başına düşen trafikte en güvenli ülke Çin'de\n",
      "Dünyanın en güvenli 100 askeri üssünü barındıran ABD'nin Teksas eyaletinde bulunan Fort Lauderdale Hava Üssü'nde 100'den fazla askeri personel bulunuyor. ABD'nin Teksas eyaletinde bulunan Fort Lauderdale Hava Üssü'nde 100'den fazla askeri personel bulunuyor. 100'den fazla askeri personel bulunan üssün 2019'da hizmete açılması planlanıyor. Fort Lauderdale Hava Üssü'nde 100'\n"
     ]
    }
   ],
   "source": [
    "for decoder in decoders:\n",
    "    print(decoder.decode_greedy( 'Dünyanın en güvenli', max_tokens=100))"
   ]
  },
  {
   "cell_type": "code",
   "execution_count": 17,
   "metadata": {},
   "outputs": [
    {
     "name": "stdout",
     "output_type": "stream",
     "text": [
      "Dünyanın en sağlıklı ve en sağlıklı insanı olarak gösterilen ve 1970'li yıllardaki başarılarıyla bilinen 65 yaşındaki Amerikalı ünlü şarkıcı ve oyuncu Johnny Depp, 1973'te hayatını kaybetti. Depp'in ölümü, 1974'te Amsterdam'da düzenlenen bir törenle son buldu. 1974'te Amsterdam'da düzenlenen törenle hayatını kaybeden ünlü şarkıcı, 1974'te Amster\n",
      "Dünyanın en sağlıklı 500 kadını arasında yer alan ve 2018'de 100'den fazla ödül kazanan 20 yaşındaki Amerikalı kadın, 2019'da 100'den fazla ödül kazanarak, dünyanın en mutlu kadınları listesinde 100'üncü sıraya yükseldi. 2018'de 100'den fazla ödül kazanan 20 yaşındaki Amerikalı kadın, 2019'da 10\n",
      "Dünyanın en sağlıklı 100 insanı arasında gösterilen 200'den fazla bilim insanı, 2019'da 100'den fazla bilim insanı, 2020'de 100'den fazla bilim insanı, 2021'de 100'den fazla bilim insanı, 2021'de 100'den fazla bilim insanı, 2021'de 100'den fazla bilim\n"
     ]
    }
   ],
   "source": [
    "for decoder in decoders:\n",
    "    print(decoder.decode_greedy( 'Dünyanın en sağlıklı', max_tokens=100))"
   ]
  },
  {
   "cell_type": "code",
   "execution_count": 18,
   "metadata": {},
   "outputs": [
    {
     "name": "stdout",
     "output_type": "stream",
     "text": [
      "Dünyanın en zenginleri listesinde 100 milyar dolarlık servetiyle dünyanın en zenginleri arasında yer alan ABD'li milyarder Jeffrey Epstein, 2019'da 100 milyar dolarlık servetiyle dünyanın en zenginleri listesinde 100 milyar dolarlık servetiyle dünyanın en zenginleri arasında yer alıyor. ABD'li milyarder Jeffrey Epstein, 2019'da 100 milyar\n",
      "Dünyanın en zengin insanı olan Jeff Bezos, 2018'de 1 milyar 200 milyon dolar servete sahip. Bezos'un serveti 2018'de 1 milyar 200 milyon dolardı. Bezos'un serveti 2018'de 1 milyar 200 milyon dolardı. Bezos'un serveti 2018'de 1 milyar 20\n",
      "Dünyanın en zengin 100 kişisi listesinde 2019'da 100'den fazla kişi yer aldı. Listede 100'den fazla kişi yer alırken, 100'den fazla kişi de \"dünyanın en zengin 100 kişisi\" listesinde yer aldı. Listede 100'den fazla kişi yer alırken, 100'den fazla kişi de \"dünyanın en zengin 100 kişisi\" listesinde yer aldı\n"
     ]
    }
   ],
   "source": [
    "for decoder in decoders:\n",
    "    print(decoder.decode_greedy( 'Dünyanın en zengin', max_tokens=100))"
   ]
  },
  {
   "cell_type": "code",
   "execution_count": 19,
   "metadata": {},
   "outputs": [
    {
     "name": "stdout",
     "output_type": "stream",
     "text": [
      "Vizyonda bu hafta: 19 Eylül'de vizyona girecek filmler şöyle; - 19 Eylül: 19. yüzyılın en büyük korku filmlerinden biri olan \"The Last Jedi\" (The Last Jedi) - 19.000.000 (The Last Jedi) - 19.000.000 (The Last Jedi) - 19.000.000\n",
      "Vizyonda bu hafta: 20. yüzyılın en önemli filmleri: 20. yüzyılın en önemli filmleri: 20. yüzyılın en önemli filmleri: 20. yüzyılın en önemli filmleri: 20. yüzyılın en önemli filmleri: 20. yüzyılın en önemli filmleri: 20. yüzyılın en önemli filmleri: 20. yüzyılın en önemli filmleri: 20. yüzyılın en önemli filmleri: \n",
      "Vizyonda bu hafta: 100. Yılında 100. Yılında 100. Yılında 100. Yılında 100. Yılında 100. Yılında 100. Yılında 100. Yılında 100. Yılında 100. Yılında 100. Yılında 100. Yılında 100. Yılında 100. Yılında 1\n"
     ]
    }
   ],
   "source": [
    "for decoder in decoders:\n",
    "    print(decoder.decode_greedy( 'Vizyonda bu hafta:', max_tokens=100))"
   ]
  },
  {
   "cell_type": "code",
   "execution_count": 20,
   "metadata": {},
   "outputs": [
    {
     "name": "stdout",
     "output_type": "stream",
     "text": [
      "Yeşil çamın usta oyuncusu, 1994 yılında İstanbul'da doğdu. İlk ve orta öğrenimini İstanbul'da tamamladı. 2000 yılında İstanbul Üniversitesi Siyasal Bilgiler Fakültesi Kamu Yönetimi Bölümü'nden mezun oldu. 2001 yılında İstanbul Büyükşehir Belediyesi'nde (İBB) Başkan Danışmanlığı görevine getirildi. 2003 yılında İstanbul Büyükşehir Belediyesi'nde (İBB) Başkan Danışmanlığı görevine getirildi. 2004 yılında İstanbul Büyükşehir Belediyesi\n",
      "Yeşil çamın usta oyuncusu, 1970'li yıllardaki sinema filmlerinde rol alan, 1980'li yıllarda ise 1980'li yıllardaki sinema filmlerinde rol alan, 1980'li yıllarda ise 1980'li yıllardaki sinema filmlerinde rol alan, 1980'li yıllarda ise 1980'li yıllardaki sinema filmlerinde rol alan, 1980'li yıllarda ise 19\n",
      "Yeşil çamın usta oyuncusu, 1970'li yıllarda İstanbul'da doğdu. İlk, orta ve lise öğrenimini İstanbul'da tamamladı. 1999'da İstanbul Üniversitesi Hukuk Fakültesi'nden mezun oldu. 2000'li yıllarda İstanbul'da serbest avukatlık yaptı. 2001'de İstanbul Barosu'na bağlı olarak avukatlık yapmaya başladı. 2002'de İstanbul Barosu'na bağlı olarak avukatlık yapmaya başladı. 2004'te İstanbul Barosu'\n"
     ]
    }
   ],
   "source": [
    "for decoder in decoders:\n",
    "    print(decoder.decode_greedy( 'Yeşil çamın usta oyuncusu', max_tokens=100))"
   ]
  },
  {
   "cell_type": "code",
   "execution_count": 21,
   "metadata": {},
   "outputs": [
    {
     "name": "stdout",
     "output_type": "stream",
     "text": [
      "Başbakan Erdoğan muhalefet liderine seslendi: “Sizden bir şey olmaz. Sizden bir şey olmaz. Sizden bir şey olmaz. Sizden bir şey olmaz. Sizden bir şey olmaz. Sizden bir şey olmaz. Sizden bir şey olmaz. Sizden bir şey olmaz. Sizden bir şey olmaz. Sizden bir şey olmaz. Sizden bir şey olmaz. Sizden bir şey olmaz. Sizden bir şey olmaz. Sizden bir şey olmaz. Sizden bir şey olmaz. Sizden bir şey olmaz. Siz\n",
      "Başbakan Erdoğan muhalefet liderine seslendi: “Sayın Başbakan, bu ülkenin cumhurbaşkanı olarak, bu ülkenin cumhurbaşkanı olarak, bu ülkenin cumhurbaşkanı olarak, bu ülkenin cumhurbaşkanı olarak, bu ülkenin cumhurbaşkanı olarak, bu ülkenin cumhurbaşkanı olarak, bu ülkenin cumhurbaşkanı olarak, bu ülkenin cumhurbaşkanı olarak, bu ülkenin cumhurbaşkanı olarak, bu ülkenin cumhurbaşkanı olarak, bu ülkenin cumhurbaşkanı olarak, bu ülkenin cumhurbaşkanı olarak, bu ülkenin cumhurbaşkanı olarak, bu ülkenin cumhurbaşkanı olarak, bu ülkenin cumhurbaşkanı olarak, bu ülkenin cumhurbaşkanı olarak, bu ülkenin cumhurbaşkanı olarak, bu ülkenin cumhurbaşkanı olarak, bu ülkenin cumhurbaşkanı olarak\n",
      "Başbakan Erdoğan muhalefet liderine seslendi: \"Türkiye'nin en büyük sorunu nedir? Türkiye'nin en büyük sorunu nedir? Türkiye'nin en büyük sorunu nedir? Türkiye'nin en büyük sorunu nedir? Türkiye'nin en büyük sorunu nedir? Türkiye'nin en büyük sorunu nedir? Türkiye'nin en büyük sorunu nedir? Türkiye'nin en büyük sorunu nedir? Türkiye'nin en büyük sorunu nedir? Türkiye'nin en büyük sorunu nedir? Türkiye'nin en büyük sorunu nedir? Türkiye'nin en büyük sorunu nedir? Türkiye'\n"
     ]
    }
   ],
   "source": [
    "for decoder in decoders:\n",
    "    print(decoder.decode_greedy( 'Başbakan Erdoğan muhalefet liderine seslendi', max_tokens=100))"
   ]
  },
  {
   "cell_type": "code",
   "execution_count": 22,
   "metadata": {},
   "outputs": [
    {
     "name": "stdout",
     "output_type": "stream",
     "text": [
      "Başkan Erdoğan muhalefet liderine seslendi: \"Sizler, bu ülkenin evlatlarısınız\" \"Sizler, bu ülkenin evlatlarısınız\" \"Sizler, bu ülkenin evlatlarısınız\" \"Sizler, bu ülkenin evlatlarısınız\" \"Sizler, bu ülkenin evlatlarısınız\" \"Sizler, bu ülkenin evlatlarısınız\" \"Sizler, bu ülkenin evlatlarısınız\" \"Sizler, bu ülkenin evlatlarısınız\" \"Siz\n",
      "Başkan Erdoğan muhalefet liderine seslendi: \"Kılıçdaroğlu'nun bu tavrı, Türkiye'nin ve Türk milletinin çıkarlarına aykırıdır\" \"Muhalefet, Türkiye'nin çıkarlarına aykırı bir tavır sergilemektedir\" \"Muhalefet, Türkiye'nin çıkarlarına aykırı bir tavır sergilemektedir\" \"Muhalefet, Türkiye'nin çıkarlarına aykırı bir tavır sergilemektedir\" \"Muhalefet, Türkiye'nin çıkarlarına aykırı bir tavır sergilemektedir\" AN\n",
      "Başkan Erdoğan muhalefet liderine seslendi: \"Bu ülkede 100 bin imza ile 100 bin imza toplayın\" \"Bu ülkede 100 bin imza ile 100 bin imza toplayın\" \"Bu ülkede 100 bin imza ile 100 bin imza toplayın\" \"Bu ülkede 100 bin imza ile 100 bin imza toplayın\" \"Bu ülkede 100 bin imza ile 100 bin imza toplayın\" \"Bu ülkede \n"
     ]
    }
   ],
   "source": [
    "for decoder in decoders:\n",
    "    print(decoder.decode_greedy( 'Başkan Erdoğan muhalefet liderine seslendi', max_tokens=100))"
   ]
  },
  {
   "cell_type": "code",
   "execution_count": 23,
   "metadata": {},
   "outputs": [
    {
     "name": "stdout",
     "output_type": "stream",
     "text": [
      "Muhalefet lideri, \"Kimse bize oy vermesin\" dedi. 09 Ekim 2010 03:00 T24 - CHP Genel Başkanı Kemal Kılıçdaroğlu, \"Kimse bize oy vermesin\" dedi. Kılıçdaroğlu, \"Kimse bize oy vermesin\" dedi. CHP Genel Başkanı Kemal Kılıçdaroğlu, \"Kimse bize oy vermesin\" dedi. Kılıçdaroğlu, \"Kimse bize oy vermesin\" dedi. Kılıçdaroğlu, \"K\n",
      "Muhalefet lideri Kılıçdaroğlu'na yönelik saldırıyla ilgili olarak, \"Saldırıyı yapanlar, bu saldırıyı yapanlar, bu saldırıyı yapanlar, bu saldırıyı yapanlar, bu saldırıyı yapanlar, bu saldırıyı yapanlar, bu saldırıyı yapanlar, bu saldırıyı yapanlar, bu saldırıyı yapanlar, bu saldırıyı yapanlar, bu saldırıyı yapanlar, bu saldırıyı yapanlar, bu saldırıyı yapanlar, bu saldırıyı yapanlar, bu saldırıyı yapan\n",
      "Muhalefet lideri, \"Türkiye'nin Suriye'ye girmesi durumunda, Türkiye'nin Suriye'ye girmesi durumunda, Türkiye'nin Suriye'ye girmesi durumunda, Türkiye'nin Suriye'ye girmesi durumunda, Türkiye'nin Suriye'ye girmesi durumunda, Türkiye'nin Suriye'ye girmesi durumunda, Türkiye'nin Suriye'ye girmesi durumunda, Türkiye'nin Suriye'ye girmesi durumunda, Türkiye'nin Suriye'ye girmesi durumunda, Türkiye'nin Suriye'ye girmesi durumunda, Türkiye'nin Suriye'ye girmesi durumunda\n"
     ]
    }
   ],
   "source": [
    "for decoder in decoders:\n",
    "    print(decoder.decode_greedy( 'Muhalefet lideri', max_tokens=100))"
   ]
  },
  {
   "cell_type": "code",
   "execution_count": 25,
   "metadata": {},
   "outputs": [
    {
     "name": "stdout",
     "output_type": "stream",
     "text": [
      "Hafta sonu kar yağışı beklenen iller arasında yer alan Denizli'de, hava sıcaklığının 20 dereceye kadar düşmesi bekleniyor. Meteoroloji 12. Bölge Müdürlüğünden yapılan açıklamaya göre, bölgede hava sıcaklığının 20 dereceye kadar düşmesi bekleniyor. Hava sıcaklığının 20 dereceye kadar düşmesi beklenen kentte, kar yağışı beklenmiyor. Hava sıcaklığının 20 dereceye kadar düşmesi beklenen kentte, kar yağışı beklenmiyor.\n",
      "Hafta sonu kar yağışı beklenen iller! İstanbul, Ankara, İzmir, Bursa, Antalya, Kocaeli, Sakarya, Samsun, Sivas, Trabzon, Van ve Zonguldak'ta kar yağışı bekleniyor. Peki, kar yağışı ne zaman başlayacak? Kar yağışı ne zaman başlayacak? İşte detaylar... Kar yağışı yurdun birçok bölgesinde etkili oluyor. Kar yağışı yurdun birçok bölgesinde etkisini sürdürüyor. Kar yağışı yurdun birçok bölgesinde etkili oluyor. Kar yağışı yurdun birçok bölgesinde etkili oluyor. Peki, kar yağışı ne zaman başlayacak? İşte detaylar... KAR YAĞIŞI\n",
      "Hafta sonu kar yağışı beklenen iller arasında yer alan Gümüşhane'de kar kalınlığı 10 santimetreye ulaştı. Gümüşhane'de kar yağışı beklenen iller arasında yer alan Gümüşhane'de kar kalınlığı 10 santimetreye ulaştı. Kentte kar yağışı beklenen iller arasında yer alan Gümüşhane'de kar kalınlığı 10 santimetreye ulaştı. Kentte kar yağışı beklenen iller arasında yer alan Gümüşhane'de kar kalınlığı 10 santimetreye ulaştı. Kar yağışının ardından Gümüşhane'de kar kalınlığı 10 santimetreye ulaştı. Kar yağışının ardından\n"
     ]
    }
   ],
   "source": [
    "for decoder in decoders:\n",
    "    print(decoder.decode_greedy( 'Hafta sonu kar yağışı beklenen iller', max_tokens=100))"
   ]
  },
  {
   "cell_type": "code",
   "execution_count": 26,
   "metadata": {},
   "outputs": [
    {
     "name": "stdout",
     "output_type": "stream",
     "text": [
      "Hafta sonu sıcaklıklar mevsim normalleri üzerinde seyredecek. Meteoroloji Genel Müdürlüğü tarafından yapılan son değerlendirmelere göre; Ülkemiz genelinin parçalı ve çok bulutlu, Marmara'nın doğusu, İç Ege, Batı Akdeniz'in iç kesimleri, İç Anadolu'nun kuzeybatısı, Batı Karadeniz'in iç kesimleri, Doğu Anadolu'nun kuzey ve doğusu ile Antalya'nın doğu ilçelerinin yağışlı geçeceği tahmin ediliyor. Yağışların; Doğu Karadeniz'in iç kesimleri, Doğu Anadolu'\n",
      "Hafta sonu sıcaklıklar mevsim normalleri üzerinde seyredecek. Meteoroloji Genel Müdürlüğü tarafından yapılan son değerlendirmelere göre: Ülkemizin kuzey ve doğu kesimlerinin parçalı ve yer yer çok bulutlu, Doğu Akdeniz, İç Anadolu'nun kuzeydoğusu, Doğu Karadeniz kıyıları ile Antalya'nın doğu kesimlerinin yerel olmak üzere sağanak ve gök gürültülü sağanak yağışlı, diğer yerlerin az bulutlu ve açık geçeceği tahmin ediliyor. Yağışların; Doğu Karadeniz kıyıları ile Doğu Anadolu'nun kuzeydoğusunda\n",
      "Hafta sonu sıcaklıklar mevsim normalleri üzerinde seyredecek. Hafta sonu sıcaklıklar mevsim normalleri üzerinde seyredecek. Meteoroloji Genel Müdürlüğü'nden yapılan açıklamaya göre, 23 Nisan Ulusal Egemenlik ve Çocuk Bayramı'nda hava sıcaklıklarının 15 derece, gece sıcaklıklarının ise 21 derece olması bekleniyor. 24 Nisan'da hava sıcaklıklarının 15 derece, gece sıcaklıklarının ise 21 derece olması bekleniyor. 25 Nisan'da hava sıcaklıklarının 15 derece, gece sıcaklıklarının ise 21 derece\n"
     ]
    }
   ],
   "source": [
    "for decoder in decoders:\n",
    "    print(decoder.decode_greedy( 'Hafta sonu sıcaklıklar mevsim normalleri', max_tokens=100))"
   ]
  },
  {
   "cell_type": "code",
   "execution_count": 28,
   "metadata": {},
   "outputs": [
    {
     "name": "stdout",
     "output_type": "stream",
     "text": [
      "Leyla ile Mecnun'un 100. yıl kutlamaları Leyla ile Mecnun'un 100. yıl kutlamaları, 19 Mayıs Atatürk'ü Anma, Gençlik ve Spor Bayramı'nın 100. yıl kutlamaları kapsamında gerçekleştirildi. 19 Mayıs Atatürk'ü Anma, Gençlik ve Spor Bayramı'nın 100. yıl kutlamaları, 19 Mayıs Atatürk'ü Anma, Gençlik ve Spor Bayramı'nın 10\n",
      "Leyla ile Mecnun'un yeni bölüm fragmanı yayınlandı mı? Leyla ile Mecnun yeni bölüm fragmanı izle! Leyla ile Mecnun yeni bölüm fragmanı yayınlandı mı? Leyla ile Mecnun yeni bölüm fragmanı izle! Leyla ile Mecnun yeni bölüm fragmanı izle! Leyla ile Mecnun yeni bölüm fragmanı izle! Leyla ile Mecnun yeni bölüm fragmanı iz\n",
      "Leyla ile Mecnun'un 19. bölüm fragmanı yayınlandı mı? Leyla ile Mecnun 19. bölüm fragmanı yayınlandı mı? Leyla ile Mecnun 19. bölüm fragmanı yayınlandı mı? Leyla ile Mecnun 19. bölüm fragmanı yayınlandı mı? Leyla ile Mecnun 19. bölüm fragmanı yayınlandı mı? Leyla ile Mecnun 19. bölüm fragmanı yayınlandı mı? Leyla ile Mecnun 19. bölüm fragmanı yayınlandı mı? Leyla ile Mecnun 19. bölüm fragmanı yayınlandı\n"
     ]
    }
   ],
   "source": [
    "for decoder in decoders:\n",
    "    print(decoder.decode_greedy( 'Leyla ile Mecnun', max_tokens=100))"
   ]
  },
  {
   "cell_type": "code",
   "execution_count": 29,
   "metadata": {},
   "outputs": [
    {
     "name": "stdout",
     "output_type": "stream",
     "text": [
      "Yaprak dökümü, 1990'lı yıllardaki gibi devam eder. 1990'lı yıllardaki gibi devam eder. 1990'lı yıllardaki gibi devam eder. 1990'lı yıllardaki gibi devam eder. 1990'lı yıllardaki gibi devam eder. 1990'lı yıllardaki gibi devam eder. 1990'lı yıllardaki gibi devam eder. 1990'lı yıllarda\n",
      "Yaprak dökümü, Türkiye'nin en önemli sorunlarından biridir. Bu sorun, Türkiye'nin en önemli sorunlarından biridir. Bu sorun, Türkiye'nin en önemli sorunlarından biridir. Bu sorun, Türkiye'nin en önemli sorunlarından biridir. Bu sorun, Türkiye'nin en önemli sorunlarından biridir. Bu sorun, Türkiye'nin en önemli sorunlarından biridir. Bu sorun, Türkiye'nin en önemli sorunlarından biridir. Bu sorun, Türkiye'nin en önemli sorunlarından biri\n",
      "Yaprak dökümü ve 1000 yıllık tarihi eserlere ev sahipliği yapan, 1960'lı yıllarda 1000 yıllık olduğu tahmin edilen ve 1000 yıllık olduğu düşünülen tarihi eser, 1960'lı yıllarda 1000 yıllık olduğu tahmin edilen bir eser. Yaprak dökümü ve 1000 yıllık olduğu tahmin edilen tarihi eser, 1960'lı yıllarda 1000 yıllık olduğu tahmin edilen bir eser. Yaprak dökümü\n"
     ]
    }
   ],
   "source": [
    "for decoder in decoders:\n",
    "    print(decoder.decode_greedy( 'Yaprak dökümü', max_tokens=100))"
   ]
  },
  {
   "cell_type": "code",
   "execution_count": 30,
   "metadata": {},
   "outputs": [
    {
     "name": "stdout",
     "output_type": "stream",
     "text": [
      "Çarpık şehirleşme ve kentsel dönüşümün, kentsel dönüşümün, kentsel dönüşümün, kentsel dönüşümün, kentsel dönüşümün, kentsel dönüşümün, kentsel dönüşümün, kentsel dönüşümün, kentsel dönüşümün, kentsel dönüşümün, kentsel dönüşümün, kentsel dönüşümün, kentsel dönüşümün, kentsel dönüşümün, kentsel dönüşümün, kentsel dönüşümün, kentsel dönüşümün, kentsel dönüşümün, kentsel dönüşümün, kentsel dönüşümün\n",
      "Çarpık şehirleşme, kentsel dönüşüm ve kentsel dönüşümün en önemli sorunlarından biridir. Bu sorunların çözümü için kentsel dönüşüm ve kentsel dönüşüm projelerinin hayata geçirilmesi, kentsel dönüşümün en önemli adımlarından biridir. Kentsel dönüşümün en önemli adımlarından biri de kentsel dönüşümdür. Kentsel dönüşümün en önemli adımlarından biri de kentsel dönüşümdür. Kentsel dönüşümün en önemli adımlarından biri de kentsel dönüşümdür. Kentsel dönüşümün en önemli adımlarından biri\n",
      "Çarpık şehirleşme, çarpık kentleşme, çarpık kentleşme, çarpık kentleşme, çarpık kentleşme, çarpık kentleşme, çarpık kentleşme, çarpık kentleşme, çarpık kentleşme, çarpık kentleşme, çarpık kentleşme, çarpık kentleşme, çarpık kentleşme, çarpık kentleşme, çarpık kentleşme, çarpık kentleşme, çarpık kentleşme, çarpık kentleşme, çarpık kentleşme, çarpık kentleşme, çarpık kentleşme, çarpık kentleşme, çarpık kentleşme, çarpık kentleşme, çarpık kentleşme, çarpık kentleşme\n"
     ]
    }
   ],
   "source": [
    "for decoder in decoders:\n",
    "    print(decoder.decode_greedy( 'Çarpık şehirleşme', max_tokens=100))"
   ]
  },
  {
   "cell_type": "code",
   "execution_count": 31,
   "metadata": {},
   "outputs": [
    {
     "name": "stdout",
     "output_type": "stream",
     "text": [
      "Bayram dönüşü yoğunluk yaşandı. Bayram tatilinin 9 güne çıkarılmasıyla birlikte İstanbul'da trafik yoğunluğu da arttı. İstanbul'da trafik yoğunluğu yüzde 70'e ulaştı. İstanbul'da trafik yoğunluğu yüzde 70'e ulaştı. İstanbul Büyükşehir Belediyesi'nin trafik yoğunluk haritasına göre, trafik yoğunluğu saat 18.00 itibarıyla yüzde 70'e ulaştı. İstanbul'da trafik yoğunluğu yüzde 70'e ulaştı. İstanbul'da trafik\n",
      "Bayram dönüşü kaza: 1 ölü, 1 yaralı Bayram tatilinde İstanbul'dan İstanbul'a gelen 34 yaşındaki Mehmet Ali K. yönetimindeki 34 DL 666 plakalı otomobil, İstanbul-Kilyos karayolunda kontrolden çıkarak bariyerlere çarptı. Kazada Mehmet Ali K. olay yerinde hayatını kaybederken, Mehmet Ali K. ise yaralandı. İhbar üzerine olay yerine sağlık ve polis ekipleri sevk edildi. Yaralı Mehmet Ali K., sağlık ekiplerince olay yerinde yapılan ilk müdahalenin\n",
      "Bayram dönüşü dönüş yolunda kaza: 1 ölü, 1 yaralı Bayram dönüşü dönüş yolunda kaza: 1 ölü, 1 yaralı BURSA - Bursa'nın İnegöl ilçesinde, dönüş yolunda kontrolden çıkan otomobil, karşı yönden gelen başka bir otomobile çarptı. Kazada, 1 kişi hayatını kaybederken, 1 kişi de yaralandı. Kaza, saat 15.00 sıralarında İnegöl ilçesi Bursa-Ankara karayolu üzerinde meydana geldi. Bursa'dan İnegöl'e giden 34 yaşındaki Mehmet Ali Yılmaz yönetimindeki 16 L \n"
     ]
    }
   ],
   "source": [
    "for decoder in decoders:\n",
    "    print(decoder.decode_greedy( 'Bayram dönüşü', max_tokens=100))"
   ]
  },
  {
   "cell_type": "code",
   "execution_count": 32,
   "metadata": {},
   "outputs": [
    {
     "name": "stdout",
     "output_type": "stream",
     "text": [
      "Vergilerde artışa dikkat! Vergi artışları, vergi ve cezalardaki artışlar, vergi ve cezalardaki artışlar, vergi ve cezalardaki artışlar, vergi ve cezalardaki artışlar, vergi ve cezalardaki artışlar, vergi ve cezalardaki artışlar, vergi ve cezalardaki artışlar, vergi ve cezalardaki artışlar, vergi ve cezalardaki artışlar, vergi ve cezalardaki artışlar, vergi ve cezalardaki artışlar, vergi ve cez\n",
      "Vergilerde artışa neden olan vergi düzenlemeleri, 2019 yılında da devam edecek. Vergi düzenlemeleri, 2019 yılında da devam edecek. 2019 yılında da vergi düzenlemeleri devam edecek. 2019 yılında da vergi düzenlemeleri devam edecek. 2019 yılında da vergi düzenlemeleri devam edecek. 2019 yılında da vergi düzenlemeleri devam edecek. 2019 yılında da vergi düzenlemeleri devam edecek. 2\n",
      "Vergilerde artış sürüyor. 2020'de vergi gelirleri 2019'a göre yüzde 14,4 artarak 1 trilyon 14 milyar 999 milyon TL'ye ulaştı. 2020'de vergi gelirleri 2019'a göre yüzde 14,4 artarak 1 trilyon 14 milyar 999 milyon TL'ye ulaştı. 2020'de vergi gelirleri 2019'\n"
     ]
    }
   ],
   "source": [
    "for decoder in decoders:\n",
    "    print(decoder.decode_greedy( 'Vergilerde', max_tokens=100))"
   ]
  },
  {
   "cell_type": "code",
   "execution_count": 33,
   "metadata": {},
   "outputs": [
    {
     "name": "stdout",
     "output_type": "stream",
     "text": [
      "MTV Video Müzik Ödülleri'nde en iyi müzik ödülü, 2019'da 100 bin TL'lik ödülün sahibi olan Rihanna'ya verildi. Rihanna, 2019'da 100 bin TL'lik ödülün sahibi olan Rihanna'ya verildi. Rihanna, 2019'da 100 bin TL'lik ödülün sahibi olan Rihanna'ya verildi\n",
      "MTV Avrupa Müzik Ödülleri'nde bu yıl 10'uncu kez verilen MTV Avrupa Müzik Ödülleri'nde bu yıl 10'uncu kez verilen MTV Avrupa Müzik Ödülleri'nde bu yıl 10'uncu kez verilen MTV Avrupa Müzik Ödülleri'nde bu yıl 10'uncu kez verilen MTV Avrupa Müzik Ödülleri'nde bu yıl 10'uncu kez verilen MTV Avrupa Müzik Ödülleri'nde bu yıl \n",
      "MTV'nin 2020 yılı için güncellenen güncellenmiş fiyatı 1000 TL'den başlıyor. MTV'nin 2020 yılı için güncellenmiş fiyatı 1000 TL'den başlıyor. MTV'nin 2020 yılı için güncellenmiş fiyatı 1000 TL'den başlıyor. MTV'nin 2020 yılı için güncellenmiş fiyatı 1000 TL'den başlıyor. MTV'nin\n"
     ]
    }
   ],
   "source": [
    "for decoder in decoders:\n",
    "    print(decoder.decode_greedy( 'MTV', max_tokens=100))"
   ]
  },
  {
   "cell_type": "code",
   "execution_count": 34,
   "metadata": {},
   "outputs": [
    {
     "name": "stdout",
     "output_type": "stream",
     "text": [
      "Sakarya'da 15 Temmuz Demokrasi ve Milli Birlik Günü etkinlikleri kapsamında düzenlenen etkinlikte, 15 Temmuz şehitleri için Kur'an-ı Kerim okundu. Sakarya Büyükşehir Belediyesi tarafından düzenlenen etkinlikte, 15 Temmuz şehitleri için Kur'an-ı Kerim okundu. Etkinlikte konuşan Sakarya Büyükşehir Belediye Başkanı Ekrem Yüce, 15 Temmuz'un, milletin iradesine sahip çıkmasıyla, demokrasiye sahip çıkmasıyla, milli iradeye sahip çıkmasıyla, milli iradeye\n",
      "Sakarya'da 100 bin liralık altın bilezik çalan hırsız yakalandı. Hırsızlık anı güvenlik kamerasına yansıdı. Olay, 10 Ekim 2020 tarihinde Sakarya'nın Pamukova ilçesinde meydana geldi. Edinilen bilgilere göre, 100 bin TL değerinde altın bilezik çalan hırsız, bir süre sonra güvenlik kamerasına yansıdı. Hırsızlık anı ise güvenlik kamerasına yansıdı. Hırsızlık anı ise güvenlik kamerasına yansıdı. (İHA)\n",
      "Sakarya'nın Sapanca ilçesinde, 2019 yılında 100 bin lira değerinde 100 bin lira değerinde altın ve ziynet eşyası çalan 2 şüpheli yakalandı. Alınan bilgiye göre, Sapanca İlçe Emniyet Müdürlüğü Asayiş Büro Amirliği ekipleri, 2019 yılında 100 bin lira değerinde 100 bin lira değerinde altın ve ziynet eşyası çalındığı ihbarı üzerine çalışma başlattı. Ekipler, yaptıkları çalışmada, şüphelilerin S.K. ve A.K. olduğunu tespit etti.\n"
     ]
    }
   ],
   "source": [
    "for decoder in decoders:\n",
    "    print(decoder.decode_greedy( 'Sakarya', max_tokens=100))"
   ]
  },
  {
   "cell_type": "code",
   "execution_count": 36,
   "metadata": {},
   "outputs": [
    {
     "name": "stdout",
     "output_type": "stream",
     "text": [
      "Sakarya'nın Pamukova ilçesinde oturan Ş.Ö., uzaktan akrabasının kızı Y.Ş.'yi sürekli telefonda taciz ettiğini iddia ederek H.Y.'ye sorunlarını anlatması için şü bereleri takması talimatını verdi. Edirne'de yaşayan ve birçok ildeki uluslararası kurumlarda çalışan D.Y., internet üzerinden yakınlarına nefret ettirilmeye devam eden Y.Ş.'nin (27) kendisine yönelik olumsuz davranışlarda bulunduğunu belirterek 4 yıl önce açtığı M.G.'\n",
      "Sakarya'da bu sabah başlayan sağanak kentte hayatı olumsuz etkiledi. Başbakanlık Meteoroloji Genel Müdürlüğü'nün bugün Samsun'da sağanak uyarısının ardından kent genelinde 6 ilçede metrekareye 96 kilogram yağış düştü. Sakarya'da ise metrekareye 35 kilogram yağış düşerken, kentte can kaybı yaşanmadı. Şehir camilerinin ve mescitlerin de sular altında kaldığı kentte akşam saatlerinde bazı cadde ve sokaklar sular altında kaldı. Yağışa şehir merkezinde cadde ve sokaklar\n",
      "Sakarya Ticaret ve Sanayi Odası Yönetim Kurulu Başkanı Mahmut Kösemusul, sanayi sektörü olarak ham madde üretiminin ve ihracatın artmasının, üreticiyi daha fazla yatırım yapma konusunda teşvik ettiğini, hem sanayi hem de işletme bazlı yatırımlarda teşviklerin sektöre olumlu yansıdığını belirtti. Kösemusul, Çelikhan'da son yıllarda şiddetli yağışların etkili olduğu bölgeye 1 dekar alanda yaptığı 16 köyün sulama alanlarında, tarımı da 5500 dekar alanda sulama yapılıyor. Torbalı'daki sulama kanallarında su seviyesinin az olduğu bölgelerde\n"
     ]
    }
   ],
   "source": [
    "for decoder in decoders:\n",
    "    print(decoder.decode( 'Sakarya', max_tokens=100))"
   ]
  },
  {
   "cell_type": "code",
   "execution_count": 38,
   "metadata": {},
   "outputs": [
    {
     "name": "stdout",
     "output_type": "stream",
     "text": [
      "Sibirya soğukları geliyor. Hafta sonu yurdun verdiği dondurucu soğuğu, karlı havanın etkisiyle biraz karla birleşince, yurttaşlar tatilin tadını çıkardılar.\n",
      "Sibirya soğukları geliyor. Hafta sonu yurdun pek çok kentinde yağış etki alanları çok çeşitli şekillerde kendini gösterecektir. Avrupa'da sıcak yaz ve batı bölgelerinde ise hafta sonu çalışmalar başladı. Almanya ve Avusturya'da ise sağanak yağış beklenebilir (20 cm/ bir derece), Türkiye'yi terk habercisi olarak değerlendirilmelidir. Akdeniz'in üst kısımları olmak üzere Türkiye'nin 20 merkezinden büyük bir bölümü belirli bir yağış almadan düzelmektedir. Batı'da beklenen yağış uzun bir araya gelmelidir\n",
      "Sibirya soğukları geliyor. Hafta sonu yurdun kuzeyinde yoğun kar yağışı devam ediyor. Kar kalınlığının 15 santimetreyi bulduğu Balkanlar'dan gelen soğuk hava dalgası 15.30-16.15 saatlerini kapsıyor. Bu akşam ise Sibirya soğukları başlayacak. Sıcaklık sabah saatlerinde ise 15  ⁇ g/m2 üzerinde sıcaklığın yükselmesine neden oldu. Hafta sonu yurdu terk eden kar yağışı sürecek. Bazı yurttaşlar uçak biletlerindeki gecikmeleri azaltmayı düşünürken, beklentilerin üstünde açıklama geldi. 16.\n"
     ]
    }
   ],
   "source": [
    "for decoder in decoders:\n",
    "    print(decoder.decode( 'Sibirya soğukları geliyor. Hafta sonu yurdun', max_tokens=100))"
   ]
  },
  {
   "cell_type": "code",
   "execution_count": 39,
   "metadata": {},
   "outputs": [
    {
     "name": "stdout",
     "output_type": "stream",
     "text": [
      "Sibirya soğukları geliyor. Hafta sonu yurdun kuzeydoğusu ile Doğu Anadolu'nun kuzeydoğusunda kar yağışı bekleniyor. Meteoroloji Genel Müdürlüğü'nden yapılan son değerlendirmelere göre, yurdun kuzeydoğusu ile Doğu Anadolu'nun kuzeydoğusunda kar yağışının etkili olması bekleniyor. Yağışların, Erzurum, Kars, Ardahan, Ağrı, Iğdır, Erzincan, Erzurum, Kars, Iğdır, Erzincan, Erzurum, Kars, Ağrı, Iğdır, Arda\n",
      "Sibirya soğukları geliyor. Hafta sonu yurdun büyük bölümünde kar yağışı bekleniyor. Meteoroloji Genel Müdürlüğü tarafından yapılan son değerlendirmelere göre; Ülkemizin kuzey ve doğu kesimlerinin parçalı ve yer yer çok bulutlu, Doğu Karadeniz kıyıları, Doğu Anadolu'nun kuzeydoğusu ile Güneydoğu Anadolu'nun doğusunda yer yer çok kuvvetli ve yer yer şiddetli olmak üzere sağanak ve gök gürültülü sağanak yağışlı, diğer yerlerin az bulutlu ve açık geçeceği tahmin ediliyor. Yağışların; Doğu Karadeniz kıyıları, Doğu\n",
      "Sibirya soğukları geliyor. Hafta sonu yurdun kuzey ve doğu kesimlerinde kar bekleniyor. Yurdun kuzey ve doğu kesimlerinde kar yağışı bekleniyor. Meteoroloji Genel Müdürlüğü'nden yapılan açıklamaya göre, bugün yurdun kuzey ve doğu kesimlerinde kar yağışı bekleniyor. Yurdun kuzey ve doğu kesimlerinde kar yağışı bekleniyor. Hava sıcaklıklarının 2 ila 4 derece azalacağı tahmin ediliyor. Rüzgarın ise genellikle kuzey ve kuzeydoğu, Akdeniz kıyıları ile güneydoğu kesimlerde güney ve güneybatı yönlerden hafif, ara sıra orta kuvvette eseceği tahmin ediliyor. Hava sıcaklıklarının 2 ila \n"
     ]
    }
   ],
   "source": [
    "for decoder in decoders:\n",
    "    print(decoder.decode_greedy( 'Sibirya soğukları geliyor. Hafta sonu yurdun', max_tokens=100))"
   ]
  },
  {
   "cell_type": "code",
   "execution_count": 50,
   "metadata": {},
   "outputs": [
    {
     "name": "stdout",
     "output_type": "stream",
     "text": [
      "TÜSİAD Başkanı Simone Kaslowski, \"Türkiye'nin 2023 hedefleri, 2053 ve 2071 vizyonları, 2071'e hazırlanması için çok önemli\" dedi. TÜSİAD Başkanı Kaslowski, \"Türkiye'nin 2023 hedefleri, 2053 ve 2071 vizyonları, 2071'e hazırlanması için çok önemli. Türkiye'nin\n",
      "TÜSİAD Başkanı Kaslowski, \"Türkiye'nin en büyük 500 sanayi kuruluşu içinde 100'ün üzerinde şirketten biri\" dedi. TÜSİAD Başkanı Kaslowski, \"Türkiye'nin en büyük 500 sanayi kuruluşu içinde 100'ün üzerinde şirketten biri\" dedi. TÜSİAD'ın 2019 yılı faaliyet raporu açıklandı. TÜSİAD Yönetim Kurulu Başkanı Kaslowski, \"Türkiye'nin en büyük 5\n",
      "TÜSİAD Başkanı Kaslowski, \"Türkiye'nin 2023 hedeflerine ulaşması için, 2023'te de bu hedefe ulaşmamız gerekiyor\" dedi. TÜSİAD Başkanı Kaslowski, \"Türkiye'nin 2023 hedeflerine ulaşması için 2023'te de bu hedefe ulaşmamız gerekiyor\" dedi. TÜSİAD Başkanı Kaslowski, TÜSİAD'ın 2023 yılı Olağan Genel Kurul Toplantısı'nda yaptığı konuşmada, Türkiye'nin 2023 hedeflerine\n"
     ]
    }
   ],
   "source": [
    "for decoder in decoders:\n",
    "    print(decoder.decode_greedy( 'TÜSİAD Başkanı', max_tokens=100))"
   ]
  },
  {
   "cell_type": "code",
   "execution_count": 48,
   "metadata": {},
   "outputs": [
    {
     "name": "stdout",
     "output_type": "stream",
     "text": [
      "TÜSİAD Başkanı Boyner, Avrupa'da enflasyon verileriyle ilgili “Avrupa enflasyon verileri, biz yıllardan beri Euro Bölgesi'nde enflasyon verilerinin olumlu olduğunu söylüyor” ifadelerini kullandı. Boyner'den Hakan Yağcı'nın sözünüaler genel beklentilerle ilgili yorumla NodesCHP Tarsus İlçe Başkanı Mehmet Şerif Benli, CHP Korucuk Belediyesinde basın mensuplarına yaptığı açıklamada, Türkiye'de enflasyon arttıkça, enflasyon rakamlarının düşmesinin yüksek olduğunu söyledi. Bu nedenle TÜSİAD üyeleri\n",
      "TÜSİAD Başkanı Boyner, Avrupa Parlamentosu'nun 5 tonluk klima fiyaskoylunu Türk-Alman Demokratik Birlik Partisinin önüne defalarca taşıdı ve Mahkeme başkanlığını da TVN24'e bıraktı. TÜSİAD Başkanı Boyner, hâlen Avrupa Parlamentosu'nun önünde izleyip göreceği Fisıpac, Heidelberg, Rehai ve Centre-tone. Now diyalog son hapishaneleri tamamlıyor.Çapraz soru\n",
      "TÜSİAD Başkanı Boyner, Türkiye ekonomisinin bulut teknolojisi ve bulut teknolojisi üretimindeki cirosunun bu yılın nisan-haziran döneminde geçen yılın aynı dönemine göre yüzde 12,9 azaldığını belirterek, \"Hata pahalı olması gerektiği düşüncesiyle bir bilanço oluşturulmadı. Faaliyetlerin aldığı yakıtlar, gayrimenkuller, amele sterci, kaynak stoku, makine, yapı ve ekipman üretimi yüzde 46 azaltıldı.\" ifadesine yer verdi. Bu dönemde, alt sektörlerdeki yatırımları yükseltebilmek için, portföy yönetimine dair sayısal not havuzunun \n"
     ]
    }
   ],
   "source": [
    "for decoder in decoders:\n",
    "    print(decoder.decode( 'TÜSİAD Başkanı Boyner', max_tokens=100))"
   ]
  },
  {
   "cell_type": "code",
   "execution_count": null,
   "metadata": {},
   "outputs": [],
   "source": []
  }
 ],
 "metadata": {
  "kernelspec": {
   "display_name": "myenv",
   "language": "python",
   "name": "python3"
  },
  "language_info": {
   "codemirror_mode": {
    "name": "ipython",
    "version": 3
   },
   "file_extension": ".py",
   "mimetype": "text/x-python",
   "name": "python",
   "nbconvert_exporter": "python",
   "pygments_lexer": "ipython3",
   "version": "3.11.9"
  }
 },
 "nbformat": 4,
 "nbformat_minor": 2
}
