{
 "cells": [
  {
   "cell_type": "code",
   "execution_count": 1,
   "metadata": {},
   "outputs": [],
   "source": [
    "from nbtr.model.hf_model import HfModel\n",
    "from nbtr.tokenizer.tokenizer import Tokenizer\n",
    "from nbtr.decode.decoder import Decoder\n",
    "import torch\n",
    "from torch.nn import functional as F"
   ]
  },
  {
   "cell_type": "code",
   "execution_count": 2,
   "metadata": {},
   "outputs": [
    {
     "name": "stdout",
     "output_type": "stream",
     "text": [
      "number of parameters: 29.37M\n",
      "Restored model state from repository!\n"
     ]
    }
   ],
   "source": [
    "model = HfModel.from_pretrained(\"habanoz/haber-gpt-2-small-v2.9-30M\",device=\"cpu\")"
   ]
  },
  {
   "cell_type": "code",
   "execution_count": 3,
   "metadata": {},
   "outputs": [],
   "source": [
    "tokenizer = Tokenizer.from_pretrained(\"habanoz/news-tr-1.8M-tokenizer-8k\")"
   ]
  },
  {
   "cell_type": "code",
   "execution_count": 4,
   "metadata": {},
   "outputs": [],
   "source": [
    "decoder = Decoder(tokenizer, model)"
   ]
  },
  {
   "cell_type": "code",
   "execution_count": 8,
   "metadata": {},
   "outputs": [
    {
     "data": {
      "text/plain": [
       "'15 Temmuz şehitleri ikiz polislerin babasının acısı dinmiyor. 15 Temmuz darbe girişiminin ardından 15 Temmuz gecesi şehit olan polisler, 15 Temmuz gecesi de aynı acıyı yaşadı. 15 Temmuz gecesi şehit olan polisler, 15 Temmuz gecesi de aynı acıyı yaşadı. 15 Temmuz gecesi şehit olan polisler, 15 Temmuz gecesi de aynı acıyı yaşadı. 15 Temmuz gecesi şehit olan polisler, 15 Temmuz gecesi de aynı acıyı yaşadı. 15 Temmuz gecesi şehit olan'"
      ]
     },
     "execution_count": 8,
     "metadata": {},
     "output_type": "execute_result"
    }
   ],
   "source": [
    "decoder.decode_greedy('15 Temmuz şehitleri ikiz polislerin babasının acısı dinmiyor', max_tokens=100)"
   ]
  },
  {
   "cell_type": "code",
   "execution_count": 6,
   "metadata": {},
   "outputs": [
    {
     "data": {
      "text/plain": [
       "'15 Temmuz şehitleri ikiz polislerin babasının acısı dinmiyor. 15 Temmuz şehitleri ikiz polislerin babasının acısı dinmiyor. 15 Temmuz şehitleri ikiz polislerin babasının acısı dinmiyor. 15 Temmuz şehitleri ikiz polislerin babasının acısı dinmiyor. 15 Temmuz şehitleri ikiz polislerin babasının acısı dinmiyor. 15 Temmuz şehitleri ikiz polislerin babasının acısı dinmiyor. 15 Temmuz şehitleri ikiz polislerin babasının acısı'"
      ]
     },
     "execution_count": 6,
     "metadata": {},
     "output_type": "execute_result"
    }
   ],
   "source": [
    "decoder.decode_greedy('15 Temmuz şehitleri ikiz polislerin babasının acısı dinmiyor', max_tokens=100)"
   ]
  },
  {
   "cell_type": "code",
   "execution_count": 7,
   "metadata": {},
   "outputs": [
    {
     "data": {
      "text/plain": [
       "'Fransa devlet başkanı Jac ⁇ ues Chirac, Fransa\\'nın 1915 olaylarını \"soykırım\" olarak tanıyan 1915 olaylarını \"soykırım\" olarak tanıyan 1915 olaylarını \"soykırım\" olarak tanıyan 1915 olaylarını \"soykırım\" olarak tanıyan 1915 olaylarını \"soykırım\" olarak tanıyan 1915 olaylarını \"soykırım\" olarak'"
      ]
     },
     "execution_count": 7,
     "metadata": {},
     "output_type": "execute_result"
    }
   ],
   "source": [
    "decoder.decode_greedy('Fransa devlet başkanı', max_tokens=100)"
   ]
  },
  {
   "cell_type": "code",
   "execution_count": 7,
   "metadata": {},
   "outputs": [
    {
     "data": {
      "text/plain": [
       "\"Fransa devlet başkanı Emmanuel Macron, 2018'de Paris'te düzenlenen terör saldırılarının ardından Fransa'nın terörizmle mücadeleye yönelik politikalarını sertleştirmesi gerektiğini söyledi. Macron, Fransa'nın terörizmle mücadeleye yönelik politikalarını sertleştirmesi gerektiğini ifade etti. Macron, Fransa'nın terörizmle mücadeleye yönelik politikalarını sertleştirmesi gerektiğini ifade etti. Macron, Fransa'nın terörizmle mücadeleye yönelik politikalarını sertleştirmesi gerektiğini ifade etti. Macron, Fransa\""
      ]
     },
     "execution_count": 7,
     "metadata": {},
     "output_type": "execute_result"
    }
   ],
   "source": [
    "decoder.decode_greedy('Fransa devlet başkanı', max_tokens=100)"
   ]
  },
  {
   "cell_type": "code",
   "execution_count": 9,
   "metadata": {},
   "outputs": [
    {
     "data": {
      "text/plain": [
       "\"Borsa güne yükselişle başladı Borsa İstanbul'da BIST 100 endeksi, günü yüzde 0,36 değer kazancıyla 9.282,37 puandan tamamladı. BIST 100 endeksi, önceki kapanışa göre 10,36 puan azalırken, toplam işlem hacmi 11,3 milyar lira seviyesinde gerçekleşti. Bankacılık endeksi yüzde 0,08, holding endeksi yüzde 0,08 değer kazandı. S\""
      ]
     },
     "execution_count": 9,
     "metadata": {},
     "output_type": "execute_result"
    }
   ],
   "source": [
    "decoder.decode_greedy('Borsa güne yükselişle başladı', max_tokens=100)"
   ]
  },
  {
   "cell_type": "code",
   "execution_count": 8,
   "metadata": {},
   "outputs": [
    {
     "data": {
      "text/plain": [
       "\"Borsa güne yükselişle başladı Borsa İstanbul'da BIST 100 endeksi, güne yüzde 0,18 artışla 10.681,89 puandan başladı. Açılışta BIST 100 endeksi, 10.681,89 puan ve yüzde 0,18 artışla 10.681,89 puana yükseldi. Bankacılık endeksi yüzde 0,18, holding endeksi yüzde 0,\""
      ]
     },
     "execution_count": 8,
     "metadata": {},
     "output_type": "execute_result"
    }
   ],
   "source": [
    "decoder.decode_greedy('Borsa güne yükselişle başladı', max_tokens=100)"
   ]
  },
  {
   "cell_type": "code",
   "execution_count": 10,
   "metadata": {},
   "outputs": [
    {
     "data": {
      "text/plain": [
       "\"Dünya kupasının kazananı belli oldu. Dünya kupası, 2016'da 100 milyon dolar ödülle kazanılan Dünya Kupası'nın ardından 2016'da 100 milyon dolar ödülle kazanılan Dünya Kupası'nın ardından 2016'da 100 milyon dolar ödülle kazanılan Dünya Kupası'nın ardından 2016'da 100 milyon dolar ödülle kazanılan Dünya Kupası'nın ardından 2016'da\""
      ]
     },
     "execution_count": 10,
     "metadata": {},
     "output_type": "execute_result"
    }
   ],
   "source": [
    "decoder.decode_greedy('Dünya kupasının kazananı belli oldu', max_tokens=100)"
   ]
  },
  {
   "cell_type": "code",
   "execution_count": 9,
   "metadata": {},
   "outputs": [
    {
     "data": {
      "text/plain": [
       "\"Dünya kupasının kazananı belli oldu. 2012 Dünya Kupası'nın ardından 2012 Dünya Kupası'nın ardından 2012 Dünya Kupası'nın ardından 2012 Dünya Kupası'nın ardından 2012 Dünya Kupası'nın ardından 2012 Dünya Kupası'nın ardından 2012 Dünya Kupası'nın ardından 2012 Dünya Kupası'nın ardından 2012 Dünya Kupası'nın ardından 2012 Dünya Kupası'nın\""
      ]
     },
     "execution_count": 9,
     "metadata": {},
     "output_type": "execute_result"
    }
   ],
   "source": [
    "decoder.decode_greedy('Dünya kupasının kazananı belli oldu', max_tokens=100)"
   ]
  },
  {
   "cell_type": "code",
   "execution_count": 11,
   "metadata": {},
   "outputs": [
    {
     "data": {
      "text/plain": [
       "\"Altın yatırıcımcısında yüzler gülüyor. Altın, 1990'lı yılların başında, 1990'lı yılların başında, 1990'lı yılların başında, 1990'lı yılların başında, 1990'lı yılların başında, 1990'lı yılların başında, 1990'lı yılların başında, 1990'lı yılların başında, 1990'lı yılların\""
      ]
     },
     "execution_count": 11,
     "metadata": {},
     "output_type": "execute_result"
    }
   ],
   "source": [
    "decoder.decode_greedy('Altın yatırıcımcısında yüzler gülüyor', max_tokens=100)"
   ]
  },
  {
   "cell_type": "code",
   "execution_count": 10,
   "metadata": {},
   "outputs": [
    {
     "data": {
      "text/plain": [
       "\"Altın yatırıcımcısında yüzler gülüyor. Altın, 1990'lı yılların başında 1990'lı yılların başında 1990'lı yılların başında 1990'lı yılların başında 1990'lı yılların başında 1990'lı yılların başında 1990'lı yılların başında 1990'lı yılların başında 1990'lı yılların başında 1990'lı\""
      ]
     },
     "execution_count": 10,
     "metadata": {},
     "output_type": "execute_result"
    }
   ],
   "source": [
    "decoder.decode_greedy('Altın yatırıcımcısında yüzler gülüyor', max_tokens=100)"
   ]
  },
  {
   "cell_type": "code",
   "execution_count": 12,
   "metadata": {},
   "outputs": [
    {
     "data": {
      "text/plain": [
       "\"Vizyona yeni giren filimler, 2019'un en çok konuşulan filmleri arasında yer alıyor. Filmin yönetmen koltuğunda ise, yönetmen koltuğunda ise, yönetmen koltuğunda ise, yönetmen koltuğunda ise, yönetmen koltuğunda ise, yönetmen koltuğunda ise, yönetmen koltuğunda ise, yönetmen koltuğunda ise, yönetmen koltuğunda ise, yönetmen koltuğunda ise, yönetmen koltuğunda ise, yönetmen koltuğunda ise, yönetmen koltuğunda ise, yönetmen kol\""
      ]
     },
     "execution_count": 12,
     "metadata": {},
     "output_type": "execute_result"
    }
   ],
   "source": [
    "decoder.decode_greedy('Vizyona yeni giren filimler', max_tokens=100)"
   ]
  },
  {
   "cell_type": "code",
   "execution_count": 13,
   "metadata": {},
   "outputs": [
    {
     "data": {
      "text/plain": [
       "\"İkinci dünya savaşında kaybedilenler anıldı. 1944'te, 1944'te, 1944'te, 1944'te, 1944'te, 1944'te, 1944'te, 1944'te, 1944'te, 1944'te, 1944'te, 1944'te, 19\""
      ]
     },
     "execution_count": 13,
     "metadata": {},
     "output_type": "execute_result"
    }
   ],
   "source": [
    "decoder.decode_greedy('İkinci dünya savaşında kaybedilenler anıldı', max_tokens=100)"
   ]
  },
  {
   "cell_type": "code",
   "execution_count": 11,
   "metadata": {},
   "outputs": [
    {
     "data": {
      "text/plain": [
       "\"İkinci dünya savaşında kaybedilenler anıldı 1915'te yaşananlar, 1915'te yaşananlar, 1915'te yaşananlar, 1915'te yaşananlar, 1915'te yaşananlar, 1915'te yaşananlar, 1915'te yaşananlar, 1915'te yaşananlar, 1915'te yaşananlar, 1915'te yaşananlar,\""
      ]
     },
     "execution_count": 11,
     "metadata": {},
     "output_type": "execute_result"
    }
   ],
   "source": [
    "decoder.decode_greedy('İkinci dünya savaşında kaybedilenler anıldı', max_tokens=100)"
   ]
  },
  {
   "cell_type": "code",
   "execution_count": 14,
   "metadata": {},
   "outputs": [
    {
     "data": {
      "text/plain": [
       "'Buğdayda bu sene rekolte düşüklüğü bekleniyor. Buğdayda bu sene rekolte düşüklüğü bekleniyor. Buğdayda bu sene rekolte düşüklüğü bekleniyor. Bu sene rekolte düşüklüğü bekleniyor. Bu sene rekolte düşüklüğü bekleniyor. Bu sene rekolte düşüklüğü bekleniyor. Bu sene rekolte düşüklüğü bekleniyor. Bu sene rekolte düşüklüğü bekleniyor. Bu sene rekolte düşüklüğü bekleniyor. Bu sene rekolte düşüklüğü bekleniyor. Bu sene rekolte düşüklüğü bekleniyor'"
      ]
     },
     "execution_count": 14,
     "metadata": {},
     "output_type": "execute_result"
    }
   ],
   "source": [
    "decoder.decode_greedy('Buğdayda bu sene rekolte düşük', max_tokens=100)"
   ]
  },
  {
   "cell_type": "code",
   "execution_count": 12,
   "metadata": {},
   "outputs": [
    {
     "data": {
      "text/plain": [
       "'Buğdayda bu sene rekolte düşük olacak. Buğdayda bu sene rekolte düşük olacak. Bu sene 100 bin ton buğdayın hasat edilmesi bekleniyor. Bu sene 100 bin ton buğdayın hasat edilmesi bekleniyor. Bu sene 100 bin ton buğdayın hasat edilmesi bekleniyor. Bu sene 100 bin ton buğdayın hasat edilmesi bekleniyor. Bu sene 100 bin ton buğdayın hasat edilmesi bekleniyor. Bu'"
      ]
     },
     "execution_count": 12,
     "metadata": {},
     "output_type": "execute_result"
    }
   ],
   "source": [
    "decoder.decode_greedy('Buğdayda bu sene rekolte düşük', max_tokens=100)"
   ]
  },
  {
   "cell_type": "code",
   "execution_count": 15,
   "metadata": {},
   "outputs": [
    {
     "data": {
      "text/plain": [
       "\"Piyasalar TC Merkez Bankasının kararına kilitlendi TCMB'nin politika faizini yüzde 19'da sabit bırakmasının ardından piyasalarda TCMB'nin politika faizini yüzde 19'da sabit bırakmasının ardından piyasalar TCMB'nin politika faizini yüzde 19'da sabit bırakmasının ardından piyasalar TCMB'nin politika faizini yüzde 19'da sabit bırakmasının ardından piyasalar TCMB'nin politika faizini yüzde 19'da sabit bırakmasının ardından piyasalar TCMB'nin politika\""
      ]
     },
     "execution_count": 15,
     "metadata": {},
     "output_type": "execute_result"
    }
   ],
   "source": [
    "decoder.decode_greedy('Piyasalar TC Merkez Bankasının kararına kilitlendi', max_tokens=100)"
   ]
  },
  {
   "cell_type": "code",
   "execution_count": 13,
   "metadata": {},
   "outputs": [
    {
     "data": {
      "text/plain": [
       "\"Piyasalar TC Merkez Bankasının kararına kilitlendi TCMB'nin faiz kararı sonrası dolar/TL 5.80'in üzerine çıktı. TCMB'nin faiz kararı sonrası dolar/TL 5.80'in üzerine çıktı. TCMB'nin faiz kararı sonrası dolar/TL 5.80'in üzerine çıktı. TCMB'nin faiz kararı sonrası dolar/TL 5.80'in üzerine çıktı. TCMB'nin faiz kararı sonrası dolar/TL 5.80'in üzerine çıktı.\""
      ]
     },
     "execution_count": 13,
     "metadata": {},
     "output_type": "execute_result"
    }
   ],
   "source": [
    "decoder.decode_greedy('Piyasalar TC Merkez Bankasının kararına kilitlendi', max_tokens=100)"
   ]
  },
  {
   "cell_type": "code",
   "execution_count": 16,
   "metadata": {},
   "outputs": [
    {
     "data": {
      "text/plain": [
       "'Başkan Erdoğan muhalefet liderine seslendi: \"Seçimden sonra da seçimden sonra da seçimden sonra da seçimden sonra da seçimden sonra da seçimden sonra da seçimden sonra da seçimden sonra da seçimden sonra da seçimden sonra seçimden sonra seçimden sonra seçimden sonra seçimden sonra seçimden sonra seçimden sonra seçimden sonra seçimden sonra seçimden sonra seçimden sonra seçimden sonra seçimden sonra seçimden sonra seçimden sonra seçimden sonra seçimden sonra seçimden sonra seçimden sonra seçimden sonra'"
      ]
     },
     "execution_count": 16,
     "metadata": {},
     "output_type": "execute_result"
    }
   ],
   "source": [
    "decoder.decode_greedy('Başkan Erdoğan muhalefet liderine seslendi', max_tokens=100)"
   ]
  },
  {
   "cell_type": "code",
   "execution_count": 14,
   "metadata": {},
   "outputs": [
    {
     "data": {
      "text/plain": [
       "'Başkan Erdoğan muhalefet liderine seslendi: \"Sizler, sizler, sizler, sizler, sizler, sizler, sizler, sizler, sizler, sizler, sizler, sizler, sizler, sizler, sizler, sizler, sizler, sizler, sizler, sizler, sizler, sizler, sizler, sizler, sizler, sizler, sizler, sizler, sizler, sizler, sizler, sizler, siz'"
      ]
     },
     "execution_count": 14,
     "metadata": {},
     "output_type": "execute_result"
    }
   ],
   "source": [
    "decoder.decode_greedy('Başkan Erdoğan muhalefet liderine seslendi', max_tokens=100)"
   ]
  },
  {
   "cell_type": "code",
   "execution_count": null,
   "metadata": {},
   "outputs": [],
   "source": []
  },
  {
   "cell_type": "code",
   "execution_count": null,
   "metadata": {},
   "outputs": [],
   "source": []
  },
  {
   "cell_type": "code",
   "execution_count": 62,
   "metadata": {},
   "outputs": [],
   "source": [
    "def decode_greedy(tokenizer, model, prompt, max_tokens=50):\n",
    "    prompt = torch.tensor(tokenizer.encode(prompt, eos=False)['input_ids']).view(1, -1)\n",
    "    \n",
    "    for _ in range(max_tokens):\n",
    "        with torch.inference_mode():\n",
    "            logits = model.forward(prompt)['logits']\n",
    "        logits = logits[:, -1, :]\n",
    "        \n",
    "        tok = torch.argmax(logits, dim=1, keepdim=True)\n",
    "        print(prompt.tolist(),\"->\", tok.tolist())\n",
    "        if tok.item() == tokenizer.eos_id:\n",
    "            break\n",
    "\n",
    "        prompt = torch.cat((prompt , tok), dim=-1)\n",
    "\n",
    "    text = tokenizer.decode(prompt.tolist()[0])\n",
    "    \n",
    "    return text"
   ]
  },
  {
   "cell_type": "code",
   "execution_count": 63,
   "metadata": {},
   "outputs": [
    {
     "name": "stdout",
     "output_type": "stream",
     "text": [
      "[[1, 1020, 764, 4600, 1938, 105, 1695, 1546]] -> [[8171]]\n",
      "[[1, 1020, 764, 4600, 1938, 105, 1695, 1546, 8171]] -> [[147]]\n",
      "[[1, 1020, 764, 4600, 1938, 105, 1695, 1546, 8171, 147]] -> [[8141]]\n",
      "[[1, 1020, 764, 4600, 1938, 105, 1695, 1546, 8171, 147, 8141]] -> [[59]]\n",
      "[[1, 1020, 764, 4600, 1938, 105, 1695, 1546, 8171, 147, 8141, 59]] -> [[33]]\n",
      "[[1, 1020, 764, 4600, 1938, 105, 1695, 1546, 8171, 147, 8141, 59, 33]] -> [[8132]]\n",
      "[[1, 1020, 764, 4600, 1938, 105, 1695, 1546, 8171, 147, 8141, 59, 33, 8132]] -> [[1942]]\n",
      "[[1, 1020, 764, 4600, 1938, 105, 1695, 1546, 8171, 147, 8141, 59, 33, 8132, 1942]] -> [[33]]\n",
      "[[1, 1020, 764, 4600, 1938, 105, 1695, 1546, 8171, 147, 8141, 59, 33, 8132, 1942, 33]] -> [[8132]]\n",
      "[[1, 1020, 764, 4600, 1938, 105, 1695, 1546, 8171, 147, 8141, 59, 33, 8132, 1942, 33, 8132]] -> [[1942]]\n",
      "[[1, 1020, 764, 4600, 1938, 105, 1695, 1546, 8171, 147, 8141, 59, 33, 8132, 1942, 33, 8132, 1942]] -> [[33]]\n",
      "[[1, 1020, 764, 4600, 1938, 105, 1695, 1546, 8171, 147, 8141, 59, 33, 8132, 1942, 33, 8132, 1942, 33]] -> [[8132]]\n",
      "[[1, 1020, 764, 4600, 1938, 105, 1695, 1546, 8171, 147, 8141, 59, 33, 8132, 1942, 33, 8132, 1942, 33, 8132]] -> [[1942]]\n",
      "[[1, 1020, 764, 4600, 1938, 105, 1695, 1546, 8171, 147, 8141, 59, 33, 8132, 1942, 33, 8132, 1942, 33, 8132, 1942]] -> [[33]]\n",
      "[[1, 1020, 764, 4600, 1938, 105, 1695, 1546, 8171, 147, 8141, 59, 33, 8132, 1942, 33, 8132, 1942, 33, 8132, 1942, 33]] -> [[8132]]\n",
      "[[1, 1020, 764, 4600, 1938, 105, 1695, 1546, 8171, 147, 8141, 59, 33, 8132, 1942, 33, 8132, 1942, 33, 8132, 1942, 33, 8132]] -> [[1942]]\n",
      "[[1, 1020, 764, 4600, 1938, 105, 1695, 1546, 8171, 147, 8141, 59, 33, 8132, 1942, 33, 8132, 1942, 33, 8132, 1942, 33, 8132, 1942]] -> [[33]]\n",
      "[[1, 1020, 764, 4600, 1938, 105, 1695, 1546, 8171, 147, 8141, 59, 33, 8132, 1942, 33, 8132, 1942, 33, 8132, 1942, 33, 8132, 1942, 33]] -> [[8132]]\n",
      "[[1, 1020, 764, 4600, 1938, 105, 1695, 1546, 8171, 147, 8141, 59, 33, 8132, 1942, 33, 8132, 1942, 33, 8132, 1942, 33, 8132, 1942, 33, 8132]] -> [[1942]]\n",
      "[[1, 1020, 764, 4600, 1938, 105, 1695, 1546, 8171, 147, 8141, 59, 33, 8132, 1942, 33, 8132, 1942, 33, 8132, 1942, 33, 8132, 1942, 33, 8132, 1942]] -> [[33]]\n",
      "[[1, 1020, 764, 4600, 1938, 105, 1695, 1546, 8171, 147, 8141, 59, 33, 8132, 1942, 33, 8132, 1942, 33, 8132, 1942, 33, 8132, 1942, 33, 8132, 1942, 33]] -> [[8132]]\n",
      "[[1, 1020, 764, 4600, 1938, 105, 1695, 1546, 8171, 147, 8141, 59, 33, 8132, 1942, 33, 8132, 1942, 33, 8132, 1942, 33, 8132, 1942, 33, 8132, 1942, 33, 8132]] -> [[1942]]\n",
      "[[1, 1020, 764, 4600, 1938, 105, 1695, 1546, 8171, 147, 8141, 59, 33, 8132, 1942, 33, 8132, 1942, 33, 8132, 1942, 33, 8132, 1942, 33, 8132, 1942, 33, 8132, 1942]] -> [[33]]\n",
      "[[1, 1020, 764, 4600, 1938, 105, 1695, 1546, 8171, 147, 8141, 59, 33, 8132, 1942, 33, 8132, 1942, 33, 8132, 1942, 33, 8132, 1942, 33, 8132, 1942, 33, 8132, 1942, 33]] -> [[8132]]\n",
      "[[1, 1020, 764, 4600, 1938, 105, 1695, 1546, 8171, 147, 8141, 59, 33, 8132, 1942, 33, 8132, 1942, 33, 8132, 1942, 33, 8132, 1942, 33, 8132, 1942, 33, 8132, 1942, 33, 8132]] -> [[1942]]\n",
      "[[1, 1020, 764, 4600, 1938, 105, 1695, 1546, 8171, 147, 8141, 59, 33, 8132, 1942, 33, 8132, 1942, 33, 8132, 1942, 33, 8132, 1942, 33, 8132, 1942, 33, 8132, 1942, 33, 8132, 1942]] -> [[33]]\n",
      "[[1, 1020, 764, 4600, 1938, 105, 1695, 1546, 8171, 147, 8141, 59, 33, 8132, 1942, 33, 8132, 1942, 33, 8132, 1942, 33, 8132, 1942, 33, 8132, 1942, 33, 8132, 1942, 33, 8132, 1942, 33]] -> [[8132]]\n",
      "[[1, 1020, 764, 4600, 1938, 105, 1695, 1546, 8171, 147, 8141, 59, 33, 8132, 1942, 33, 8132, 1942, 33, 8132, 1942, 33, 8132, 1942, 33, 8132, 1942, 33, 8132, 1942, 33, 8132, 1942, 33, 8132]] -> [[1942]]\n",
      "[[1, 1020, 764, 4600, 1938, 105, 1695, 1546, 8171, 147, 8141, 59, 33, 8132, 1942, 33, 8132, 1942, 33, 8132, 1942, 33, 8132, 1942, 33, 8132, 1942, 33, 8132, 1942, 33, 8132, 1942, 33, 8132, 1942]] -> [[33]]\n",
      "[[1, 1020, 764, 4600, 1938, 105, 1695, 1546, 8171, 147, 8141, 59, 33, 8132, 1942, 33, 8132, 1942, 33, 8132, 1942, 33, 8132, 1942, 33, 8132, 1942, 33, 8132, 1942, 33, 8132, 1942, 33, 8132, 1942, 33]] -> [[8132]]\n",
      "[[1, 1020, 764, 4600, 1938, 105, 1695, 1546, 8171, 147, 8141, 59, 33, 8132, 1942, 33, 8132, 1942, 33, 8132, 1942, 33, 8132, 1942, 33, 8132, 1942, 33, 8132, 1942, 33, 8132, 1942, 33, 8132, 1942, 33, 8132]] -> [[1942]]\n",
      "[[1, 1020, 764, 4600, 1938, 105, 1695, 1546, 8171, 147, 8141, 59, 33, 8132, 1942, 33, 8132, 1942, 33, 8132, 1942, 33, 8132, 1942, 33, 8132, 1942, 33, 8132, 1942, 33, 8132, 1942, 33, 8132, 1942, 33, 8132, 1942]] -> [[33]]\n",
      "[[1, 1020, 764, 4600, 1938, 105, 1695, 1546, 8171, 147, 8141, 59, 33, 8132, 1942, 33, 8132, 1942, 33, 8132, 1942, 33, 8132, 1942, 33, 8132, 1942, 33, 8132, 1942, 33, 8132, 1942, 33, 8132, 1942, 33, 8132, 1942, 33]] -> [[8132]]\n",
      "[[1, 1020, 764, 4600, 1938, 105, 1695, 1546, 8171, 147, 8141, 59, 33, 8132, 1942, 33, 8132, 1942, 33, 8132, 1942, 33, 8132, 1942, 33, 8132, 1942, 33, 8132, 1942, 33, 8132, 1942, 33, 8132, 1942, 33, 8132, 1942, 33, 8132]] -> [[1942]]\n",
      "[[1, 1020, 764, 4600, 1938, 105, 1695, 1546, 8171, 147, 8141, 59, 33, 8132, 1942, 33, 8132, 1942, 33, 8132, 1942, 33, 8132, 1942, 33, 8132, 1942, 33, 8132, 1942, 33, 8132, 1942, 33, 8132, 1942, 33, 8132, 1942, 33, 8132, 1942]] -> [[33]]\n",
      "[[1, 1020, 764, 4600, 1938, 105, 1695, 1546, 8171, 147, 8141, 59, 33, 8132, 1942, 33, 8132, 1942, 33, 8132, 1942, 33, 8132, 1942, 33, 8132, 1942, 33, 8132, 1942, 33, 8132, 1942, 33, 8132, 1942, 33, 8132, 1942, 33, 8132, 1942, 33]] -> [[8132]]\n",
      "[[1, 1020, 764, 4600, 1938, 105, 1695, 1546, 8171, 147, 8141, 59, 33, 8132, 1942, 33, 8132, 1942, 33, 8132, 1942, 33, 8132, 1942, 33, 8132, 1942, 33, 8132, 1942, 33, 8132, 1942, 33, 8132, 1942, 33, 8132, 1942, 33, 8132, 1942, 33, 8132]] -> [[1942]]\n",
      "[[1, 1020, 764, 4600, 1938, 105, 1695, 1546, 8171, 147, 8141, 59, 33, 8132, 1942, 33, 8132, 1942, 33, 8132, 1942, 33, 8132, 1942, 33, 8132, 1942, 33, 8132, 1942, 33, 8132, 1942, 33, 8132, 1942, 33, 8132, 1942, 33, 8132, 1942, 33, 8132, 1942]] -> [[33]]\n",
      "[[1, 1020, 764, 4600, 1938, 105, 1695, 1546, 8171, 147, 8141, 59, 33, 8132, 1942, 33, 8132, 1942, 33, 8132, 1942, 33, 8132, 1942, 33, 8132, 1942, 33, 8132, 1942, 33, 8132, 1942, 33, 8132, 1942, 33, 8132, 1942, 33, 8132, 1942, 33, 8132, 1942, 33]] -> [[8132]]\n",
      "[[1, 1020, 764, 4600, 1938, 105, 1695, 1546, 8171, 147, 8141, 59, 33, 8132, 1942, 33, 8132, 1942, 33, 8132, 1942, 33, 8132, 1942, 33, 8132, 1942, 33, 8132, 1942, 33, 8132, 1942, 33, 8132, 1942, 33, 8132, 1942, 33, 8132, 1942, 33, 8132, 1942, 33, 8132]] -> [[1942]]\n",
      "[[1, 1020, 764, 4600, 1938, 105, 1695, 1546, 8171, 147, 8141, 59, 33, 8132, 1942, 33, 8132, 1942, 33, 8132, 1942, 33, 8132, 1942, 33, 8132, 1942, 33, 8132, 1942, 33, 8132, 1942, 33, 8132, 1942, 33, 8132, 1942, 33, 8132, 1942, 33, 8132, 1942, 33, 8132, 1942]] -> [[33]]\n",
      "[[1, 1020, 764, 4600, 1938, 105, 1695, 1546, 8171, 147, 8141, 59, 33, 8132, 1942, 33, 8132, 1942, 33, 8132, 1942, 33, 8132, 1942, 33, 8132, 1942, 33, 8132, 1942, 33, 8132, 1942, 33, 8132, 1942, 33, 8132, 1942, 33, 8132, 1942, 33, 8132, 1942, 33, 8132, 1942, 33]] -> [[8132]]\n",
      "[[1, 1020, 764, 4600, 1938, 105, 1695, 1546, 8171, 147, 8141, 59, 33, 8132, 1942, 33, 8132, 1942, 33, 8132, 1942, 33, 8132, 1942, 33, 8132, 1942, 33, 8132, 1942, 33, 8132, 1942, 33, 8132, 1942, 33, 8132, 1942, 33, 8132, 1942, 33, 8132, 1942, 33, 8132, 1942, 33, 8132]] -> [[1942]]\n",
      "[[1, 1020, 764, 4600, 1938, 105, 1695, 1546, 8171, 147, 8141, 59, 33, 8132, 1942, 33, 8132, 1942, 33, 8132, 1942, 33, 8132, 1942, 33, 8132, 1942, 33, 8132, 1942, 33, 8132, 1942, 33, 8132, 1942, 33, 8132, 1942, 33, 8132, 1942, 33, 8132, 1942, 33, 8132, 1942, 33, 8132, 1942]] -> [[33]]\n",
      "[[1, 1020, 764, 4600, 1938, 105, 1695, 1546, 8171, 147, 8141, 59, 33, 8132, 1942, 33, 8132, 1942, 33, 8132, 1942, 33, 8132, 1942, 33, 8132, 1942, 33, 8132, 1942, 33, 8132, 1942, 33, 8132, 1942, 33, 8132, 1942, 33, 8132, 1942, 33, 8132, 1942, 33, 8132, 1942, 33, 8132, 1942, 33]] -> [[8132]]\n",
      "[[1, 1020, 764, 4600, 1938, 105, 1695, 1546, 8171, 147, 8141, 59, 33, 8132, 1942, 33, 8132, 1942, 33, 8132, 1942, 33, 8132, 1942, 33, 8132, 1942, 33, 8132, 1942, 33, 8132, 1942, 33, 8132, 1942, 33, 8132, 1942, 33, 8132, 1942, 33, 8132, 1942, 33, 8132, 1942, 33, 8132, 1942, 33, 8132]] -> [[1942]]\n",
      "[[1, 1020, 764, 4600, 1938, 105, 1695, 1546, 8171, 147, 8141, 59, 33, 8132, 1942, 33, 8132, 1942, 33, 8132, 1942, 33, 8132, 1942, 33, 8132, 1942, 33, 8132, 1942, 33, 8132, 1942, 33, 8132, 1942, 33, 8132, 1942, 33, 8132, 1942, 33, 8132, 1942, 33, 8132, 1942, 33, 8132, 1942, 33, 8132, 1942]] -> [[33]]\n",
      "[[1, 1020, 764, 4600, 1938, 105, 1695, 1546, 8171, 147, 8141, 59, 33, 8132, 1942, 33, 8132, 1942, 33, 8132, 1942, 33, 8132, 1942, 33, 8132, 1942, 33, 8132, 1942, 33, 8132, 1942, 33, 8132, 1942, 33, 8132, 1942, 33, 8132, 1942, 33, 8132, 1942, 33, 8132, 1942, 33, 8132, 1942, 33, 8132, 1942, 33]] -> [[8132]]\n",
      "[[1, 1020, 764, 4600, 1938, 105, 1695, 1546, 8171, 147, 8141, 59, 33, 8132, 1942, 33, 8132, 1942, 33, 8132, 1942, 33, 8132, 1942, 33, 8132, 1942, 33, 8132, 1942, 33, 8132, 1942, 33, 8132, 1942, 33, 8132, 1942, 33, 8132, 1942, 33, 8132, 1942, 33, 8132, 1942, 33, 8132, 1942, 33, 8132, 1942, 33, 8132]] -> [[1942]]\n",
      "[[1, 1020, 764, 4600, 1938, 105, 1695, 1546, 8171, 147, 8141, 59, 33, 8132, 1942, 33, 8132, 1942, 33, 8132, 1942, 33, 8132, 1942, 33, 8132, 1942, 33, 8132, 1942, 33, 8132, 1942, 33, 8132, 1942, 33, 8132, 1942, 33, 8132, 1942, 33, 8132, 1942, 33, 8132, 1942, 33, 8132, 1942, 33, 8132, 1942, 33, 8132, 1942]] -> [[33]]\n"
     ]
    },
    {
     "data": {
      "text/plain": [
       "'Başkan Erdoğan muhalefet liderine seslendi: \"Sizler, sizler, sizler, sizler, sizler, sizler, sizler, sizler, sizler, sizler, sizler, sizler, sizler, sizler, sizler, sizler'"
      ]
     },
     "execution_count": 63,
     "metadata": {},
     "output_type": "execute_result"
    }
   ],
   "source": [
    "decode_greedy(tokenizer, model, 'Başkan Erdoğan muhalefet liderine seslendi')"
   ]
  },
  {
   "cell_type": "code",
   "execution_count": 5,
   "metadata": {},
   "outputs": [],
   "source": [
    "text='Başkan Erdoğan muhalefet liderine seslendi'\n",
    "encoded = tokenizer.encode(text, eos=False)['input_ids']"
   ]
  },
  {
   "cell_type": "code",
   "execution_count": 6,
   "metadata": {},
   "outputs": [
    {
     "data": {
      "text/plain": [
       "'Başkan Erdoğan muhalefet liderine seslendi'"
      ]
     },
     "execution_count": 6,
     "metadata": {},
     "output_type": "execute_result"
    }
   ],
   "source": [
    "tokenizer.decode(encoded)"
   ]
  },
  {
   "cell_type": "code",
   "execution_count": 7,
   "metadata": {},
   "outputs": [
    {
     "data": {
      "text/plain": [
       "[1, 1020, 764, 4600, 1938, 105, 1695, 1546]"
      ]
     },
     "execution_count": 7,
     "metadata": {},
     "output_type": "execute_result"
    }
   ],
   "source": [
    "encoded"
   ]
  },
  {
   "cell_type": "code",
   "execution_count": 8,
   "metadata": {},
   "outputs": [],
   "source": [
    "prompt = torch.tensor(encoded).view(1, -1)"
   ]
  },
  {
   "cell_type": "code",
   "execution_count": 9,
   "metadata": {},
   "outputs": [],
   "source": [
    "with torch.inference_mode():\n",
    "    logits = model.forward(prompt)['logits']"
   ]
  },
  {
   "cell_type": "code",
   "execution_count": 13,
   "metadata": {},
   "outputs": [],
   "source": [
    "last_logits = logits[:, -1, :]"
   ]
  },
  {
   "cell_type": "code",
   "execution_count": 15,
   "metadata": {},
   "outputs": [
    {
     "data": {
      "text/plain": [
       "torch.Size([1, 8192])"
      ]
     },
     "execution_count": 15,
     "metadata": {},
     "output_type": "execute_result"
    }
   ],
   "source": [
    "last_logits.shape"
   ]
  },
  {
   "cell_type": "code",
   "execution_count": 16,
   "metadata": {},
   "outputs": [
    {
     "data": {
      "text/plain": [
       "tensor(8171)"
      ]
     },
     "execution_count": 16,
     "metadata": {},
     "output_type": "execute_result"
    }
   ],
   "source": [
    "last_logits.argmax()"
   ]
  },
  {
   "cell_type": "code",
   "execution_count": 23,
   "metadata": {},
   "outputs": [
    {
     "data": {
      "text/plain": [
       "':'"
      ]
     },
     "execution_count": 23,
     "metadata": {},
     "output_type": "execute_result"
    }
   ],
   "source": [
    "tokenizer.decode((8171))"
   ]
  },
  {
   "cell_type": "code",
   "execution_count": 44,
   "metadata": {},
   "outputs": [],
   "source": [
    "def decode_greedy_step(tokenizer, model, prompt, max_tokens=50):\n",
    "    prompt = torch.tensor(tokenizer.encode(prompt, eos=False)['input_ids']).view(1, -1)\n",
    "\n",
    "    with torch.inference_mode():\n",
    "        logits = model.forward(prompt)['logits']\n",
    "    logits = logits[:, -1, :]\n",
    "    \n",
    "    tok = torch.argmax(logits, dim=1, keepdim=True)\n",
    "    tok = tok[0].tolist()\n",
    "    word = tokenizer.decode(tok)\n",
    "    print(tok, f\"'{word}'\")"
   ]
  },
  {
   "cell_type": "code",
   "execution_count": 45,
   "metadata": {},
   "outputs": [
    {
     "name": "stdout",
     "output_type": "stream",
     "text": [
      "[8171] ':'\n"
     ]
    }
   ],
   "source": [
    "decode_greedy_step(tokenizer, model,'Başkan Erdoğan muhalefet liderine seslendi')"
   ]
  },
  {
   "cell_type": "code",
   "execution_count": 46,
   "metadata": {},
   "outputs": [
    {
     "name": "stdout",
     "output_type": "stream",
     "text": [
      "[147] '\"'\n"
     ]
    }
   ],
   "source": [
    "decode_greedy_step(tokenizer, model,'Başkan Erdoğan muhalefet liderine seslendi:')"
   ]
  },
  {
   "cell_type": "code",
   "execution_count": 47,
   "metadata": {},
   "outputs": [
    {
     "name": "stdout",
     "output_type": "stream",
     "text": [
      "[8141] 'S'\n"
     ]
    }
   ],
   "source": [
    "decode_greedy_step(tokenizer, model,'Başkan Erdoğan muhalefet liderine seslendi:\"')"
   ]
  },
  {
   "cell_type": "code",
   "execution_count": 48,
   "metadata": {},
   "outputs": [
    {
     "name": "stdout",
     "output_type": "stream",
     "text": [
      "[59] 'iz'\n"
     ]
    }
   ],
   "source": [
    "decode_greedy_step(tokenizer, model,'Başkan Erdoğan muhalefet liderine seslendi:\"S')"
   ]
  },
  {
   "cell_type": "code",
   "execution_count": 49,
   "metadata": {},
   "outputs": [
    {
     "name": "stdout",
     "output_type": "stream",
     "text": [
      "[33] 'ler'\n"
     ]
    }
   ],
   "source": [
    "decode_greedy_step(tokenizer, model,'Başkan Erdoğan muhalefet liderine seslendi:\"Siz')"
   ]
  },
  {
   "cell_type": "code",
   "execution_count": 50,
   "metadata": {},
   "outputs": [
    {
     "name": "stdout",
     "output_type": "stream",
     "text": [
      "[8132] ','\n"
     ]
    }
   ],
   "source": [
    "decode_greedy_step(tokenizer, model,'Başkan Erdoğan muhalefet liderine seslendi:\"Sizler')"
   ]
  },
  {
   "cell_type": "code",
   "execution_count": 51,
   "metadata": {},
   "outputs": [
    {
     "name": "stdout",
     "output_type": "stream",
     "text": [
      "[1942] 'siz'\n"
     ]
    }
   ],
   "source": [
    "decode_greedy_step(tokenizer, model,'Başkan Erdoğan muhalefet liderine seslendi:\"Sizler,')"
   ]
  },
  {
   "cell_type": "code",
   "execution_count": 52,
   "metadata": {},
   "outputs": [
    {
     "name": "stdout",
     "output_type": "stream",
     "text": [
      "[51] 'bir'\n"
     ]
    }
   ],
   "source": [
    "decode_greedy_step(tokenizer, model,'Başkan Erdoğan muhalefet liderine seslendi:\"Sizler,siz')"
   ]
  },
  {
   "cell_type": "code",
   "execution_count": null,
   "metadata": {},
   "outputs": [],
   "source": []
  }
 ],
 "metadata": {
  "kernelspec": {
   "display_name": "myenv",
   "language": "python",
   "name": "python3"
  },
  "language_info": {
   "codemirror_mode": {
    "name": "ipython",
    "version": 3
   },
   "file_extension": ".py",
   "mimetype": "text/x-python",
   "name": "python",
   "nbconvert_exporter": "python",
   "pygments_lexer": "ipython3",
   "version": "3.11.9"
  }
 },
 "nbformat": 4,
 "nbformat_minor": 2
}
