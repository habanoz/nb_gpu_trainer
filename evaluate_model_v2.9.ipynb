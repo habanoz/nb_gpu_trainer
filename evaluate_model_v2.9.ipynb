{
 "cells": [
  {
   "cell_type": "code",
   "execution_count": 1,
   "metadata": {},
   "outputs": [],
   "source": [
    "from nbtr.model.hf_model import HfModel\n",
    "from nbtr.tokenizer.tokenizer import Tokenizer\n",
    "from nbtr.decode.decoder import Decoder\n",
    "import torch\n",
    "from torch.nn import functional as F"
   ]
  },
  {
   "cell_type": "code",
   "execution_count": 2,
   "metadata": {},
   "outputs": [
    {
     "name": "stdout",
     "output_type": "stream",
     "text": [
      "number of parameters: 29.37M\n",
      "Restored model state from repository!\n"
     ]
    }
   ],
   "source": [
    "model = HfModel.from_pretrained(\"habanoz/haber-gpt-2-small-v2.9-30M\",device=\"cpu\")"
   ]
  },
  {
   "cell_type": "code",
   "execution_count": 3,
   "metadata": {},
   "outputs": [],
   "source": [
    "tokenizer = Tokenizer.from_pretrained(\"habanoz/news-tr-1.8M-tokenizer-8k\")"
   ]
  },
  {
   "cell_type": "code",
   "execution_count": 4,
   "metadata": {},
   "outputs": [],
   "source": [
    "decoder = Decoder(tokenizer, model)"
   ]
  },
  {
   "cell_type": "code",
   "execution_count": 5,
   "metadata": {},
   "outputs": [
    {
     "data": {
      "text/plain": [
       "\"15 Temmuz şehitleri ikiz polislerin babasının acısı dinmiyor. 15 Temmuz'da şehit olan polisler, 15 Temmuz'da şehit olan polisler, 15 Temmuz'da şehit olan polisler, 15 Temmuz'da şehit olan polisler, 15 Temmuz'da şehit olan polisler, 15 Temmuz'da şehit olan polisler, 15 Temmuz'da şehit olan polisler, 15 Temmuz'da şehit olan polisler, 15 Temmuz'da şehit olan polisler,\""
      ]
     },
     "execution_count": 5,
     "metadata": {},
     "output_type": "execute_result"
    }
   ],
   "source": [
    "decoder.decode_greedy('15 Temmuz şehitleri ikiz polislerin babasının acısı dinmiyor', max_tokens=100)"
   ]
  },
  {
   "cell_type": "code",
   "execution_count": 6,
   "metadata": {},
   "outputs": [
    {
     "data": {
      "text/plain": [
       "\"Fransa devlet başkanı Emmanuel Macron, 2015'te imzalanan Paris Anlaşması'nın 2020'de yürürlüğe girmesi için 2025 yılına kadar 10 yıl daha süre tanıdı. Macron, 2025 yılına kadar Paris Anlaşması'nın 2025 yılına kadar yürürlüğe girmesi için 10 yıl daha süre tanıdı. Macron, 2025 yılına kadar Paris Anlaşması'nın 2025 yılına\""
      ]
     },
     "execution_count": 6,
     "metadata": {},
     "output_type": "execute_result"
    }
   ],
   "source": [
    "decoder.decode_greedy('Fransa devlet başkanı', max_tokens=100)"
   ]
  },
  {
   "cell_type": "code",
   "execution_count": 7,
   "metadata": {},
   "outputs": [
    {
     "data": {
      "text/plain": [
       "\"Borsa güne yükselişle başladı Borsa İstanbul'da BIST 100 endeksi, güne yüzde 0,46 artışla 92.524,42 puandan başladı. Açılışta BIST 100 endeksi, 92.524,42 puandan kapandı. Açılışta BIST 100 endeksi, 92.524,42 puandan kapandı. Açılışta BIST \""
      ]
     },
     "execution_count": 7,
     "metadata": {},
     "output_type": "execute_result"
    }
   ],
   "source": [
    "decoder.decode_greedy('Borsa güne yükselişle başladı', max_tokens=100)"
   ]
  },
  {
   "cell_type": "code",
   "execution_count": 8,
   "metadata": {},
   "outputs": [
    {
     "data": {
      "text/plain": [
       "\"Dünya kupasının kazananı belli oldu. 2018 Dünya Kupası'nın ardından Dünya Kupası'nın sahibi belli oldu. 2018 Dünya Kupası'nın ardından Dünya Kupası'nın sahibi belli oldu. 2018 Dünya Kupası'nın ardından Dünya Kupası'nın sahibi belli oldu. 2018 Dünya Kupası'nın ardından Dünya Kupası'nın sahibi belli oldu. 2018 Dünya Kupası'nın ardından Dünya Kupası'nın sahibi belli oldu. 2018 Dünya Kupası'nın\""
      ]
     },
     "execution_count": 8,
     "metadata": {},
     "output_type": "execute_result"
    }
   ],
   "source": [
    "decoder.decode_greedy('Dünya kupasının kazananı belli oldu', max_tokens=100)"
   ]
  },
  {
   "cell_type": "code",
   "execution_count": 9,
   "metadata": {},
   "outputs": [
    {
     "data": {
      "text/plain": [
       "'Altın yatırıcımcısında yüzler gülüyor. Altın yatırımcısının yüzünü güldüren bir gelişme yaşandı. Altın yatırımcısının yüzünü güldüren bir gelişme yaşandı. Altın yatırımcısının yüzünü güldüren bir gelişme yaşandı. Altın yatırımcısının yüzünü güldüren bir gelişme yaşandı. Altın yatırımcısının yüzünü güldüren bir gelişme yaşandı. Altın yatırımcısının yüzünü güldüren bir gelişme yaşandı. Altın yatırımcısının yüzünü güldüren bir gelişme yaşandı. Altın yatırımcısının yüzünü güldür'"
      ]
     },
     "execution_count": 9,
     "metadata": {},
     "output_type": "execute_result"
    }
   ],
   "source": [
    "decoder.decode_greedy('Altın yatırıcımcısında yüzler gülüyor', max_tokens=100)"
   ]
  },
  {
   "cell_type": "code",
   "execution_count": 10,
   "metadata": {},
   "outputs": [
    {
     "data": {
      "text/plain": [
       "\"Vizyona yeni giren filimler, 2019'da vizyona girecek. Vizyona yeni giren filimler, 2019'da vizyona girecek. Vizyona yeni giren filimler, 2019'da vizyona girecek. Vizyona yeni giren filimler, 2020'de vizyona girecek. Vizyona yeni giren filimler, 2020'de vizyona girecek. Vizyona yeni giren filimler\""
      ]
     },
     "execution_count": 10,
     "metadata": {},
     "output_type": "execute_result"
    }
   ],
   "source": [
    "decoder.decode_greedy('Vizyona yeni giren filimler', max_tokens=100)"
   ]
  },
  {
   "cell_type": "code",
   "execution_count": 11,
   "metadata": {},
   "outputs": [
    {
     "data": {
      "text/plain": [
       "\"İkinci dünya savaşında kaybedilenler anıldı. 1990'lı yılların başında, 1990'lı yılların başında, 1990'lı yılların başında, 1990'lı yılların başında, 1990'lı yılların başında, 2000'li yılların başında, 2000'li yılların başında, 2000'li yılların başında, 2000'li yılların başında,\""
      ]
     },
     "execution_count": 11,
     "metadata": {},
     "output_type": "execute_result"
    }
   ],
   "source": [
    "decoder.decode_greedy('İkinci dünya savaşında kaybedilenler anıldı', max_tokens=100)"
   ]
  },
  {
   "cell_type": "code",
   "execution_count": 12,
   "metadata": {},
   "outputs": [
    {
     "data": {
      "text/plain": [
       "'Buğdayda bu sene rekolte düşüklüğü var. Buğdayda bu sene rekolte düşüklüğü var. Bu sene rekolte düşüklüğü var. Bu sene rekolte düşüklüğü var. Bu sene rekolte düşüklüğü var. Bu sene rekolte düşüklüğü var. Bu sene rekolte düşüklüğü var. Bu sene rekolte düşüklüğü var. Bu sene rekolte düşüklüğü var. Bu sene rekolte düşüklüğü var. Bu sene rekolte düşüklüğü var. Bu sene rek'"
      ]
     },
     "execution_count": 12,
     "metadata": {},
     "output_type": "execute_result"
    }
   ],
   "source": [
    "decoder.decode_greedy('Buğdayda bu sene rekolte düşük', max_tokens=100)"
   ]
  },
  {
   "cell_type": "code",
   "execution_count": 13,
   "metadata": {},
   "outputs": [
    {
     "data": {
      "text/plain": [
       "\"Piyasalar TC Merkez Bankasının kararına kilitlendi. Merkez Bankası'nın faiz kararı sonrası dolar/TL 7.20'nin altına geriledi. Dolar/TL 7.20'nin altına geriledi. Dolar/TL 7.20'nin altına geriledi. Dolar/TL 7.20'nin altına geriledi. Dolar/TL 7.20'nin altına geriledi. Dolar/TL 7.20'nin altına geriledi. Dolar/\""
      ]
     },
     "execution_count": 13,
     "metadata": {},
     "output_type": "execute_result"
    }
   ],
   "source": [
    "decoder.decode_greedy('Piyasalar TC Merkez Bankasının kararına kilitlendi', max_tokens=100)"
   ]
  },
  {
   "cell_type": "code",
   "execution_count": 14,
   "metadata": {},
   "outputs": [
    {
     "data": {
      "text/plain": [
       "'Başkan Erdoğan muhalefet liderine seslendi: \"Siyasi partiler, bu ülkenin birliğini, bütünlüğünü, bütünlüğünü, bütünlüğünü, bütünlüğünü, bütünlüğünü, bütünlüğünü, bütünlüğünü, bütünlüğünü, bütünlüğünü, bütünlüğünü, bütünlüğünü, bütünlüğünü, bütünlüğünü, bütünlüğünü, bütünlüğünü, bütünlüğünü, bütünlüğünü, bütünlüğünü, bütünlüğünü, bütünlüğünü, bütünlüğünü, bütünlüğünü, bütünlüğünü, bütünlüğünü, bütünlüğünü, bütünlüğünü, bütünlüğünü, bütünlüğünü, bütünlüğünü,'"
      ]
     },
     "execution_count": 14,
     "metadata": {},
     "output_type": "execute_result"
    }
   ],
   "source": [
    "decoder.decode_greedy('Başkan Erdoğan muhalefet liderine seslendi', max_tokens=100)"
   ]
  }
 ],
 "metadata": {
  "kernelspec": {
   "display_name": "myenv",
   "language": "python",
   "name": "python3"
  },
  "language_info": {
   "codemirror_mode": {
    "name": "ipython",
    "version": 3
   },
   "file_extension": ".py",
   "mimetype": "text/x-python",
   "name": "python",
   "nbconvert_exporter": "python",
   "pygments_lexer": "ipython3",
   "version": "3.11.9"
  }
 },
 "nbformat": 4,
 "nbformat_minor": 2
}
