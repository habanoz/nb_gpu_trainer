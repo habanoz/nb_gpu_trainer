{
 "cells": [
  {
   "cell_type": "code",
   "execution_count": 1,
   "metadata": {},
   "outputs": [],
   "source": [
    "from nbtr.model.hf_model import HfModel\n",
    "from nbtr.tokenizer.tokenizer import Tokenizer\n",
    "from nbtr.decode.decoder import Decoder\n",
    "import torch\n",
    "from torch.nn import functional as F"
   ]
  },
  {
   "cell_type": "code",
   "execution_count": 2,
   "metadata": {},
   "outputs": [
    {
     "data": {
      "application/vnd.jupyter.widget-view+json": {
       "model_id": "cae9387c93fa40a381d026b5b9d114c9",
       "version_major": 2,
       "version_minor": 0
      },
      "text/plain": [
       "pytorch_model.bin:   0%|          | 0.00/367M [00:00<?, ?B/s]"
      ]
     },
     "metadata": {},
     "output_type": "display_data"
    },
    {
     "data": {
      "application/vnd.jupyter.widget-view+json": {
       "model_id": "b27e1c70eef94c43a4099f3bb3620f63",
       "version_major": 2,
       "version_minor": 0
      },
      "text/plain": [
       "config.json:   0%|          | 0.00/148 [00:00<?, ?B/s]"
      ]
     },
     "metadata": {},
     "output_type": "display_data"
    },
    {
     "name": "stdout",
     "output_type": "stream",
     "text": [
      "number of parameters: 91.25M\n",
      "Restored model state from repository!\n"
     ]
    }
   ],
   "source": [
    "model = HfModel.from_pretrained(\"habanoz/haber-gpt-2-small-v3.6-92M\",device=\"cpu\")"
   ]
  },
  {
   "cell_type": "code",
   "execution_count": 3,
   "metadata": {},
   "outputs": [],
   "source": [
    "tokenizer = Tokenizer.from_pretrained(\"habanoz/news-tr-1.8M-tokenizer-8k\")"
   ]
  },
  {
   "cell_type": "code",
   "execution_count": 4,
   "metadata": {},
   "outputs": [],
   "source": [
    "decoder = Decoder(tokenizer, model)"
   ]
  },
  {
   "cell_type": "code",
   "execution_count": 5,
   "metadata": {},
   "outputs": [
    {
     "data": {
      "text/plain": [
       "'15 Temmuz şehitleri ikiz polislerin babasının acısı dinmiyor. 15 Temmuz şehitleri ikiz polislerin babasının acısı dinmiyor. 15 Temmuz şehitleri ikiz polislerin babasının acısı dinmiyor. 15 Temmuz şehitleri ikiz polislerin babasının acısı dinmiyor. 15 Temmuz şehitleri ikiz polislerin babasının acısı dinmiyor. 15 Temmuz şehitleri ikiz polislerin babasının acısı dinmiyor. 15 Temmuz şehitleri ikiz polislerin babasının acısı'"
      ]
     },
     "execution_count": 5,
     "metadata": {},
     "output_type": "execute_result"
    }
   ],
   "source": [
    "decoder.decode_greedy('15 Temmuz şehitleri ikiz polislerin babasının acısı dinmiyor', max_tokens=100)"
   ]
  },
  {
   "cell_type": "code",
   "execution_count": 5,
   "metadata": {},
   "outputs": [
    {
     "data": {
      "text/plain": [
       "'15 Temmuz şehitleri ikiz polislerin babasının acısı dinmiyor 15 Temmuz şehitleri ikiz polislerin babasının acısı dinmiyor 15 Temmuz şehitleri ikiz polislerin babasının acısı dinmiyor 15 Temmuz şehitleri ikiz polislerin babasının acısı dinmiyor 15 Temmuz şehitleri ikiz polislerin babasının acısı dinmiyor 15 Temmuz şehitleri ikiz polislerin babasının acısı dinmiyor 15 Temmuz şehitleri ikiz polislerin babasının acısı dinmiyor 15 Temmuz'"
      ]
     },
     "execution_count": 5,
     "metadata": {},
     "output_type": "execute_result"
    }
   ],
   "source": [
    "decoder.decode_greedy('15 Temmuz şehitleri ikiz polislerin babasının acısı dinmiyor', max_tokens=100)"
   ]
  },
  {
   "cell_type": "code",
   "execution_count": 6,
   "metadata": {},
   "outputs": [
    {
     "data": {
      "text/plain": [
       "'Fransa devlet başkanı Emmanuel Macron, 2018\\'de Fransa\\'nın Avrupa Birliği (AB) üyeliğine karşı çıkanların \"siyasi bir karar\" olarak gördüğü Fransa\\'nın Avrupa Birliği (AB) üyeliğine karşı çıkanların \"siyasi bir karar\" olarak gördüğü Fransa\\'nın Avrupa Birliği (AB) üyeliğine karşı çıkanların \"siyasi bir karar\" olarak gördüğü Fransa\\'nın Avrupa Birliği (AB) üyeliğine karşı çıkanların \"siyasi bir'"
      ]
     },
     "execution_count": 6,
     "metadata": {},
     "output_type": "execute_result"
    }
   ],
   "source": [
    "decoder.decode_greedy('Fransa devlet başkanı', max_tokens=100)"
   ]
  },
  {
   "cell_type": "code",
   "execution_count": 6,
   "metadata": {},
   "outputs": [
    {
     "data": {
      "text/plain": [
       "'Fransa devlet başkanı Emmanuel Macron, Fransa\\'nın Avrupa Birliği\\'ne (AB) üyelik müzakerelerini askıya aldığını duyurdu. Macron, Twitter hesabından yaptığı açıklamada, \"Fransa\\'nın Avrupa Birliği\\'ne (AB) üyelik müzakerelerini askıya alıyoruz.\" ifadesini kullandı. Macron, AB\\'nin \"Avrupa\\'nın bir parçası\" olduğunu ve Fransa\\'nın AB\\'nin \"bölgesel ve küresel bir aktör\" olduğunu söyledi. Macron, \"Fransa, AB\\'nin bir'"
      ]
     },
     "execution_count": 6,
     "metadata": {},
     "output_type": "execute_result"
    }
   ],
   "source": [
    "decoder.decode_greedy('Fransa devlet başkanı', max_tokens=100)"
   ]
  },
  {
   "cell_type": "code",
   "execution_count": 7,
   "metadata": {},
   "outputs": [
    {
     "data": {
      "text/plain": [
       "\"Borsa güne yükselişle başladı Borsa İstanbul'da BIST 100 endeksi, yüzde 0,10 değer kazanarak 9.766,40 puana yükseldi. BIST 100 endeksi, önceki kapanışa göre 11,10 puan artarken, toplam işlem hacmi 1,2 milyar lira seviyesinde gerçekleşti. Bankacılık endeksi yüzde 0,50 değer kazanırken, holding endeksi yüzde 0,5 değer kaybetti. S\""
      ]
     },
     "execution_count": 7,
     "metadata": {},
     "output_type": "execute_result"
    }
   ],
   "source": [
    "decoder.decode_greedy('Borsa güne yükselişle başladı', max_tokens=100)"
   ]
  },
  {
   "cell_type": "code",
   "execution_count": 7,
   "metadata": {},
   "outputs": [
    {
     "data": {
      "text/plain": [
       "\"Borsa güne yükselişle başladı Borsa İstanbul'da BIST 100 endeksi, güne yüzde 0,13 artışla 100.381,38 puandan başladı. Açılışta BIST 100 endeksi, 100.000,00 puan ve yüzde 0,13 artışla 100.381,38 puana yükseldi. Bankacılık endeksi yüzde 0,16 ve holding endeksi yüzde\""
      ]
     },
     "execution_count": 7,
     "metadata": {},
     "output_type": "execute_result"
    }
   ],
   "source": [
    "decoder.decode_greedy('Borsa güne yükselişle başladı', max_tokens=100)"
   ]
  },
  {
   "cell_type": "code",
   "execution_count": 8,
   "metadata": {},
   "outputs": [
    {
     "data": {
      "text/plain": [
       "\"Dünya kupasının kazananı belli oldu. 2012 Avrupa Futbol Şampiyonası'nda (EURO 2012) grup aşamasında mücadele eden A Milli Futbol Takımı, 2012 Avrupa Futbol Şampiyonası'nda (EURO 2012) grup aşamasında mücadele edecek. Türkiye, 2012 Avrupa Futbol Şampiyonası'nda (EURO 2012) grup aşamasında mücadele edecek. Türkiye, 2012 Avrupa Futbol Şampiyonası'nda grup aşamasında\""
      ]
     },
     "execution_count": 8,
     "metadata": {},
     "output_type": "execute_result"
    }
   ],
   "source": [
    "decoder.decode_greedy('Dünya kupasının kazananı belli oldu', max_tokens=100)"
   ]
  },
  {
   "cell_type": "code",
   "execution_count": 8,
   "metadata": {},
   "outputs": [
    {
     "data": {
      "text/plain": [
       "\"Dünya kupasının kazananı belli oldu! İşte finalistlerin isimleri... EURO 2020'nin açılış maçında İtalya ile karşı karşıya gelecek olan A Milli Futbol Takımı, 2022 FIFA Dünya Kupası'nda mücadele edecek. EURO 2020'nin açılış maçında İtalya ile karşı karşıya gelecek olan A Milli Futbol Takımı, 2022 FIFA Dünya Kupası'nda mücadele edecek. Milliler, 2022 FIFA Dünya Kupası'nda mücadele edecek. Mil\""
      ]
     },
     "execution_count": 8,
     "metadata": {},
     "output_type": "execute_result"
    }
   ],
   "source": [
    "decoder.decode_greedy('Dünya kupasının kazananı belli oldu', max_tokens=100)"
   ]
  },
  {
   "cell_type": "code",
   "execution_count": 9,
   "metadata": {},
   "outputs": [
    {
     "data": {
      "text/plain": [
       "'Altın yatırıcımcısında yüzler gülüyor. Altın yatırımcısı, yatırımcısının yüzünü güldürüyor. Altın yatırımcısı, yatırımcısının yüzünü güldürüyor. Altın yatırımcısı, yatırımcısının yüzünü güldürüyor. Altın yatırımcısı, yatırımcısının yüzünü güldürüyor. Altın yatırımcısı, yatırımcısının yüzünü güldürüyor. Altın yatırımcısı, yatırımcısının yüzünü güldürüyor. Altın yatırımcısı, yatırımcısının yüzünü güldürüyor. Altın yatırımcısı, yatırımcısının yüz'"
      ]
     },
     "execution_count": 9,
     "metadata": {},
     "output_type": "execute_result"
    }
   ],
   "source": [
    "decoder.decode_greedy('Altın yatırıcımcısında yüzler gülüyor', max_tokens=100)"
   ]
  },
  {
   "cell_type": "code",
   "execution_count": 9,
   "metadata": {},
   "outputs": [
    {
     "data": {
      "text/plain": [
       "\"Altın yatırıcımcısında yüzler gülüyor. 2018'de 100 bin TL'lik yatırımla 100 bin TL'lik yatırım yapan bir yatırımcı, 2019'da 100 bin TL'lik yatırımla 100 bin TL'lik yatırım yaptı. 2019'da 100 bin TL'lik yatırımla 100 bin TL'lik yatırım yapan bir yatırımcı, 2019'da 1\""
      ]
     },
     "execution_count": 9,
     "metadata": {},
     "output_type": "execute_result"
    }
   ],
   "source": [
    "decoder.decode_greedy('Altın yatırıcımcısında yüzler gülüyor', max_tokens=100)"
   ]
  },
  {
   "cell_type": "code",
   "execution_count": 10,
   "metadata": {},
   "outputs": [
    {
     "data": {
      "text/plain": [
       "\"Vizyona yeni giren filimler arasında yer alan ve 2019'da vizyona giren filmler arasında yer alan 'Aşk ve Mavi' de yer alıyor. Filmin yönetmen koltuğunda ise Josh Horsbaw oturuyor. Filmin senaryosunu ise Josh Horsbaw yazıyor. Filmin oyuncu kadrosunda ise Josh Horsbaw, Josh Horsbaw, Josh Horsbaw,\""
      ]
     },
     "execution_count": 10,
     "metadata": {},
     "output_type": "execute_result"
    }
   ],
   "source": [
    "decoder.decode_greedy('Vizyona yeni giren filimler', max_tokens=100)"
   ]
  },
  {
   "cell_type": "code",
   "execution_count": 11,
   "metadata": {},
   "outputs": [
    {
     "data": {
      "text/plain": [
       "\"İkinci dünya savaşında kaybedilenler anıldı. 1915'te yaşananları anlatan film, 1915'te yaşananları konu ediyor. Filmde, 1915'te yaşananları anlatan bir film de var. 1915'te yaşananları anlatan film, 1915'te yaşananları konu ediyor. 1915'te yaşananları anlatan film, 1915'te yaşananları konu ediyor. 1915'te yaşananları\""
      ]
     },
     "execution_count": 11,
     "metadata": {},
     "output_type": "execute_result"
    }
   ],
   "source": [
    "decoder.decode_greedy('İkinci dünya savaşında kaybedilenler anıldı', max_tokens=100)"
   ]
  },
  {
   "cell_type": "code",
   "execution_count": 11,
   "metadata": {},
   "outputs": [
    {
     "data": {
      "text/plain": [
       "\"İkinci dünya savaşında kaybedilenler anıldı. 1915'te yaşananları anlatan filmde, 1915'te yaşananları anlatan bir sahne yer alıyor. Filmde, 1915'te yaşananları anlatan bir sahne yer alıyor. Filmde, 1915'te yaşananları anlatan bir sahne yer alıyor. Filmde, 1915'te yaşananları anlatan bir sahne yer alıyor. Filmde, 1915'te yaşananları anlatan bir sahne yer alıyor\""
      ]
     },
     "execution_count": 11,
     "metadata": {},
     "output_type": "execute_result"
    }
   ],
   "source": [
    "decoder.decode_greedy('İkinci dünya savaşında kaybedilenler anıldı', max_tokens=100)"
   ]
  },
  {
   "cell_type": "code",
   "execution_count": 12,
   "metadata": {},
   "outputs": [
    {
     "data": {
      "text/plain": [
       "'Buğdayda bu sene rekolte düşüklüğü yaşanacak. Buğdayda bu sene rekolte düşüklüğü yaşanacak. Buğdayda bu sene rekolte düşüklüğü yaşanacak. Buğdayda bu sene rekolte düşüklüğü yaşanacak. Buğdayda bu sene rekolte düşüklüğü yaşanacak. Bu sene rekolte düşüklüğü yaşanacak. Bu sene rekolte düşüklüğü yaşanacak. Bu sene rekolte düşüklüğü yaşanacak. Bu sene rekolte düşüklüğü yaşanacak.'"
      ]
     },
     "execution_count": 12,
     "metadata": {},
     "output_type": "execute_result"
    }
   ],
   "source": [
    "decoder.decode_greedy('Buğdayda bu sene rekolte düşük', max_tokens=100)"
   ]
  },
  {
   "cell_type": "code",
   "execution_count": 12,
   "metadata": {},
   "outputs": [
    {
     "data": {
      "text/plain": [
       "'Buğdayda bu sene rekolte düşük, fiyatlar yüksek, üretimin düşmesi üreticiyi zor durumda bıraktı. Buğdayda bu yıl rekolte düşük, fiyatlar yüksek, üretimin düşmesi üreticiyi zor durumda bıraktı. Üreticinin elinde kalan buğdayın hasadına başlandı. Buğdayda bu yıl rekolte düşük, fiyatlar yüksek, üretimin düşmesi üreticiyi zor durumda bıraktı. Üreticinin elinde kalan buğdayın hasadına başlandı. Buğdayda bu'"
      ]
     },
     "execution_count": 12,
     "metadata": {},
     "output_type": "execute_result"
    }
   ],
   "source": [
    "decoder.decode_greedy('Buğdayda bu sene rekolte düşük', max_tokens=100)"
   ]
  },
  {
   "cell_type": "code",
   "execution_count": 13,
   "metadata": {},
   "outputs": [
    {
     "data": {
      "text/plain": [
       "\"Piyasalar TC Merkez Bankasının kararına kilitlendi. Merkez Bankası'nın faiz kararı sonrası dolar 7,50'nin üzerine çıktı. Piyasalar TCMB'nin faiz kararı sonrası dolar 7,50'nin üzerine çıktı. Piyasalar TCMB'nin faiz kararı sonrası dolar 7,50'nin üzerine çıktı. Piyasalar TCMB'nin faiz kararı sonrası dolar 7,50'nin üzerine çıktı. Piyasalar TCMB'nin faiz kararı sonrası dolar 7,50'nin\""
      ]
     },
     "execution_count": 13,
     "metadata": {},
     "output_type": "execute_result"
    }
   ],
   "source": [
    "decoder.decode_greedy('Piyasalar TC Merkez Bankasının kararına kilitlendi', max_tokens=100)"
   ]
  },
  {
   "cell_type": "code",
   "execution_count": 13,
   "metadata": {},
   "outputs": [
    {
     "data": {
      "text/plain": [
       "\"Piyasalar TC Merkez Bankasının kararına kilitlendi! İşte dolar ve euro kurunda son durum... Piyasalar Merkez Bankası'nın faiz kararını bekliyor. Merkez Bankası'nın faiz kararı öncesi dolar ve euro kurunda son durum merak ediliyor. Merkez Bankası'nın faiz kararı öncesi dolar ve euro kurunda son durum merak ediliyor. Peki, bugün dolar ne kadar, euro ve sterlin kaç TL? İşte, 23 Kasım 2020 döviz kurları... Piyasalarda bugün Merkez Bankası'nın faiz kararı merakla bekleniyor. Fa\""
      ]
     },
     "execution_count": 13,
     "metadata": {},
     "output_type": "execute_result"
    }
   ],
   "source": [
    "decoder.decode_greedy('Piyasalar TC Merkez Bankasının kararına kilitlendi', max_tokens=100)"
   ]
  },
  {
   "cell_type": "code",
   "execution_count": 15,
   "metadata": {},
   "outputs": [
    {
     "data": {
      "text/plain": [
       "'Başkan Erdoğan muhalefet liderine seslendi: \"Sayın Erdoğan\\'a sesleniyorum, bu ülkenin başına bir şey gelmesin\" \"Bütün bu yaşananlar, bu ülkenin başına bir şey gelmesin\" \"Bütün bu yaşananlar, bu ülkenin başına bir şey gelmesin\" \"Bütün bu yaşananlar, bu ülkenin başına bir şey gelmesin\" \"Bütün bu yaşananlar, bu ülkenin başına bir şey gelmesin\" \"Bütün bu yaşananlar, bu ülkenin başına bir şey gelmesin\"'"
      ]
     },
     "execution_count": 15,
     "metadata": {},
     "output_type": "execute_result"
    }
   ],
   "source": [
    "decoder.decode_greedy('Başkan Erdoğan muhalefet liderine seslendi', max_tokens=100)"
   ]
  },
  {
   "cell_type": "code",
   "execution_count": 14,
   "metadata": {},
   "outputs": [
    {
     "data": {
      "text/plain": [
       "'Başkan Erdoğan muhalefet liderine seslendi: \"Sizler de bu ülkenin evlatlarısınız\" AK Parti Genel Başkan Yardımcısı ve Parti Sözcüsü Ömer Çelik, \"Sizler de bu ülkenin evlatlarısınız. Sizler bu ülkenin evlatlarısınız. Sizler bu ülkenin evlatlarısınız. Sizler bu ülkenin evlatlarısınız. Sizler bu ülkenin evlatlarısınız. Sizler bu ülkenin evlatlarısınız. Sizler bu ülkenin evlatlarısınız. Sizler bu ülkenin evlatlarısınız. Siz'"
      ]
     },
     "execution_count": 14,
     "metadata": {},
     "output_type": "execute_result"
    }
   ],
   "source": [
    "decoder.decode_greedy('Başkan Erdoğan muhalefet liderine seslendi', max_tokens=100)"
   ]
  },
  {
   "cell_type": "code",
   "execution_count": null,
   "metadata": {},
   "outputs": [],
   "source": []
  }
 ],
 "metadata": {
  "kernelspec": {
   "display_name": "myenv",
   "language": "python",
   "name": "python3"
  },
  "language_info": {
   "codemirror_mode": {
    "name": "ipython",
    "version": 3
   },
   "file_extension": ".py",
   "mimetype": "text/x-python",
   "name": "python",
   "nbconvert_exporter": "python",
   "pygments_lexer": "ipython3",
   "version": "3.11.9"
  }
 },
 "nbformat": 4,
 "nbformat_minor": 2
}
