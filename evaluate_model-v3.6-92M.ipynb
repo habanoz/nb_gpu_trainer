{
 "cells": [
  {
   "cell_type": "code",
   "execution_count": 1,
   "metadata": {},
   "outputs": [],
   "source": [
    "from nbtr.model.hf_model import HfModel\n",
    "from nbtr.tokenizer.tokenizer import Tokenizer\n",
    "from nbtr.decode.decoder import Decoder\n",
    "import torch\n",
    "from torch.nn import functional as F"
   ]
  },
  {
   "cell_type": "code",
   "execution_count": 2,
   "metadata": {},
   "outputs": [
    {
     "data": {
      "application/vnd.jupyter.widget-view+json": {
       "model_id": "5e68f62e62914ac8a21f0058656e1675",
       "version_major": 2,
       "version_minor": 0
      },
      "text/plain": [
       "pytorch_model.bin:   0%|          | 0.00/367M [00:00<?, ?B/s]"
      ]
     },
     "metadata": {},
     "output_type": "display_data"
    },
    {
     "data": {
      "application/vnd.jupyter.widget-view+json": {
       "model_id": "d9e56eddbea14a35963654f0036cf95c",
       "version_major": 2,
       "version_minor": 0
      },
      "text/plain": [
       "config.json:   0%|          | 0.00/148 [00:00<?, ?B/s]"
      ]
     },
     "metadata": {},
     "output_type": "display_data"
    },
    {
     "name": "stdout",
     "output_type": "stream",
     "text": [
      "number of parameters: 91.25M\n",
      "Restored model state from repository!\n"
     ]
    }
   ],
   "source": [
    "model = HfModel.from_pretrained(\"habanoz/haber-gpt-2-small-v3.6-92M\",device=\"cpu\")"
   ]
  },
  {
   "cell_type": "code",
   "execution_count": 3,
   "metadata": {},
   "outputs": [],
   "source": [
    "tokenizer = Tokenizer.from_pretrained(\"habanoz/news-tr-1.8M-tokenizer-8k\")"
   ]
  },
  {
   "cell_type": "code",
   "execution_count": 4,
   "metadata": {},
   "outputs": [],
   "source": [
    "decoder = Decoder(tokenizer, model)"
   ]
  },
  {
   "cell_type": "code",
   "execution_count": 5,
   "metadata": {},
   "outputs": [
    {
     "data": {
      "text/plain": [
       "'15 Temmuz şehitleri ikiz polislerin babasının acısı dinmiyor. 15 Temmuz şehitleri ikiz polislerin babasının acısı dinmiyor. 15 Temmuz şehitleri ikiz polislerin babasının acısı dinmiyor. 15 Temmuz şehitleri ikiz polislerin babasının acısı dinmiyor. 15 Temmuz şehitleri ikiz polislerin babasının acısı dinmiyor. 15 Temmuz şehitleri ikiz polislerin babasının acısı dinmiyor. 15 Temmuz şehitleri ikiz polislerin babasının acısı'"
      ]
     },
     "execution_count": 5,
     "metadata": {},
     "output_type": "execute_result"
    }
   ],
   "source": [
    "decoder.decode_greedy('15 Temmuz şehitleri ikiz polislerin babasının acısı dinmiyor', max_tokens=100)"
   ]
  },
  {
   "cell_type": "code",
   "execution_count": 5,
   "metadata": {},
   "outputs": [
    {
     "data": {
      "text/plain": [
       "'15 Temmuz şehitleri ikiz polislerin babasının acısı dinmiyor. 15 Temmuz şehitleri ikiz polislerin babasının acısı dinmiyor. 15 Temmuz şehitleri ikiz polislerin babasının acısı dinmiyor. 15 Temmuz şehitleri ikiz polislerin babasının acısı dinmiyor. 15 Temmuz şehitleri ikiz polislerin babasının acısı dinmiyor. 15 Temmuz şehitleri ikiz polislerin babasının acısı dinmiyor. 15 Temmuz şehitleri ikiz polislerin babasının acısı'"
      ]
     },
     "execution_count": 5,
     "metadata": {},
     "output_type": "execute_result"
    }
   ],
   "source": [
    "decoder.decode_greedy('15 Temmuz şehitleri ikiz polislerin babasının acısı dinmiyor', max_tokens=100)"
   ]
  },
  {
   "cell_type": "code",
   "execution_count": 6,
   "metadata": {},
   "outputs": [
    {
     "data": {
      "text/plain": [
       "'Fransa devlet başkanı Emmanuel Macron, 2018\\'de Fransa\\'nın Avrupa Birliği (AB) üyeliğine karşı çıkanların \"siyasi bir karar\" olarak gördüğü Fransa\\'nın Avrupa Birliği (AB) üyeliğine karşı çıkanların \"siyasi bir karar\" olarak gördüğü Fransa\\'nın Avrupa Birliği (AB) üyeliğine karşı çıkanların \"siyasi bir karar\" olarak gördüğü Fransa\\'nın Avrupa Birliği (AB) üyeliğine karşı çıkanların \"siyasi bir'"
      ]
     },
     "execution_count": 6,
     "metadata": {},
     "output_type": "execute_result"
    }
   ],
   "source": [
    "decoder.decode_greedy('Fransa devlet başkanı', max_tokens=100)"
   ]
  },
  {
   "cell_type": "code",
   "execution_count": 6,
   "metadata": {},
   "outputs": [
    {
     "data": {
      "text/plain": [
       "\"Fransa devlet başkanı Emmanuel Macron, 2018'de Paris'te düzenlenen ve 2019'da Paris'te düzenlenen terör saldırılarının ardından, Fransa'nın Paris'teki terör saldırılarının ardından, Fransa'nın Paris'teki terör saldırılarının ardından, Fransa'nın Paris'teki terör saldırılarının ardından, Fransa'nın Paris'teki terör saldırılarının ardından, Fransa'nın Paris'teki terör saldırılarının ardından, Fransa'nın Paris'teki terör saldırılarının ardından, Fransa\""
      ]
     },
     "execution_count": 6,
     "metadata": {},
     "output_type": "execute_result"
    }
   ],
   "source": [
    "decoder.decode_greedy('Fransa devlet başkanı', max_tokens=100)"
   ]
  },
  {
   "cell_type": "code",
   "execution_count": 7,
   "metadata": {},
   "outputs": [
    {
     "data": {
      "text/plain": [
       "\"Borsa güne yükselişle başladı Borsa İstanbul'da BIST 100 endeksi, yüzde 0,10 değer kazanarak 9.766,40 puana yükseldi. BIST 100 endeksi, önceki kapanışa göre 11,10 puan artarken, toplam işlem hacmi 1,2 milyar lira seviyesinde gerçekleşti. Bankacılık endeksi yüzde 0,50 değer kazanırken, holding endeksi yüzde 0,5 değer kaybetti. S\""
      ]
     },
     "execution_count": 7,
     "metadata": {},
     "output_type": "execute_result"
    }
   ],
   "source": [
    "decoder.decode_greedy('Borsa güne yükselişle başladı', max_tokens=100)"
   ]
  },
  {
   "cell_type": "code",
   "execution_count": 7,
   "metadata": {},
   "outputs": [
    {
     "data": {
      "text/plain": [
       "\"Borsa güne yükselişle başladı Borsa İstanbul'da BIST 100 endeksi, 10.100 puanın üzerinde dengelendi. BIST 100 endeksi, 10.100 puanın üzerinde dengelendi. Endeks 10.000 puanın üzerinde dengelendi. Endeks 10.000 puanın üzerinde dengelendi. Endeks 10.000 puanın\""
      ]
     },
     "execution_count": 7,
     "metadata": {},
     "output_type": "execute_result"
    }
   ],
   "source": [
    "decoder.decode_greedy('Borsa güne yükselişle başladı', max_tokens=100)"
   ]
  },
  {
   "cell_type": "code",
   "execution_count": 8,
   "metadata": {},
   "outputs": [
    {
     "data": {
      "text/plain": [
       "\"Dünya kupasının kazananı belli oldu. 2012 Avrupa Futbol Şampiyonası'nda (EURO 2012) grup aşamasında mücadele eden A Milli Futbol Takımı, 2012 Avrupa Futbol Şampiyonası'nda (EURO 2012) grup aşamasında mücadele edecek. Türkiye, 2012 Avrupa Futbol Şampiyonası'nda (EURO 2012) grup aşamasında mücadele edecek. Türkiye, 2012 Avrupa Futbol Şampiyonası'nda grup aşamasında\""
      ]
     },
     "execution_count": 8,
     "metadata": {},
     "output_type": "execute_result"
    }
   ],
   "source": [
    "decoder.decode_greedy('Dünya kupasının kazananı belli oldu', max_tokens=100)"
   ]
  },
  {
   "cell_type": "code",
   "execution_count": 8,
   "metadata": {},
   "outputs": [
    {
     "data": {
      "text/plain": [
       "\"Dünya kupasının kazananı belli oldu! İşte 2024 Dünya Kupası'nın kazananı belli oldu! İşte 2024 Dünya Kupası'nın kazananı belli oldu! İşte 2024 Dünya Kupası'nın kazananı belli oldu! İşte 2024 Dünya Kupası'nın kazananı belli oldu! İşte 2024 Dünya Kupası'nın kazananı belli oldu! İşte 2024 Dünya Kupası'nın kazananı belli oldu! İşte 2024 Dünya Kupası'\""
      ]
     },
     "execution_count": 8,
     "metadata": {},
     "output_type": "execute_result"
    }
   ],
   "source": [
    "decoder.decode_greedy('Dünya kupasının kazananı belli oldu', max_tokens=100)"
   ]
  },
  {
   "cell_type": "code",
   "execution_count": 9,
   "metadata": {},
   "outputs": [
    {
     "data": {
      "text/plain": [
       "'Altın yatırıcımcısında yüzler gülüyor. Altın yatırımcısı, yatırımcısının yüzünü güldürüyor. Altın yatırımcısı, yatırımcısının yüzünü güldürüyor. Altın yatırımcısı, yatırımcısının yüzünü güldürüyor. Altın yatırımcısı, yatırımcısının yüzünü güldürüyor. Altın yatırımcısı, yatırımcısının yüzünü güldürüyor. Altın yatırımcısı, yatırımcısının yüzünü güldürüyor. Altın yatırımcısı, yatırımcısının yüzünü güldürüyor. Altın yatırımcısı, yatırımcısının yüz'"
      ]
     },
     "execution_count": 9,
     "metadata": {},
     "output_type": "execute_result"
    }
   ],
   "source": [
    "decoder.decode_greedy('Altın yatırıcımcısında yüzler gülüyor', max_tokens=100)"
   ]
  },
  {
   "cell_type": "code",
   "execution_count": 9,
   "metadata": {},
   "outputs": [
    {
     "data": {
      "text/plain": [
       "'Altın yatırıcımcısında yüzler gülüyor. Altın yatırımı yaparken yüzler gülüyor. Altın yatırımı yaparken yüzler gülüyor. Altın yatırımı yaparken yüzler gülüyor. Altın yatırımı yaparken yüzler gülüyor. Altın yatırımı yaparken yüzler gülüyor. Altın yatırımı yaparken yüzler gülüyor. Altın yatırımı yaparken yüzler gülüyor. Altın yatırımı yaparken yüzler gülüyor. Altın yatırımı yaparken yüzler gülüyor. Altın yatırımı yaparken yüzler gülüyor. Altın yatırımı yaparken yüzler gülüyor.'"
      ]
     },
     "execution_count": 9,
     "metadata": {},
     "output_type": "execute_result"
    }
   ],
   "source": [
    "decoder.decode_greedy('Altın yatırıcımcısında yüzler gülüyor', max_tokens=100)"
   ]
  },
  {
   "cell_type": "code",
   "execution_count": 10,
   "metadata": {},
   "outputs": [
    {
     "data": {
      "text/plain": [
       "\"Vizyona yeni giren filimler, 2019'da da en çok izlenen filmler arasında yer aldı. 2019'da en çok izlenen filmler arasında yer alan 'Kız Kardeşler' 2019'da en çok izlenen filmler arasında yer aldı. 2019'da en çok izlenen filmler arasında yer alan 'Kız Kardeşler' 2019'da en çok izlenen filmler arasında yer aldı. 20\""
      ]
     },
     "execution_count": 10,
     "metadata": {},
     "output_type": "execute_result"
    }
   ],
   "source": [
    "decoder.decode_greedy('Vizyona yeni giren filimler', max_tokens=100)"
   ]
  },
  {
   "cell_type": "code",
   "execution_count": 11,
   "metadata": {},
   "outputs": [
    {
     "data": {
      "text/plain": [
       "\"İkinci dünya savaşında kaybedilenler anıldı. 1915'te yaşananları anlatan film, 1915'te yaşananları konu ediyor. Filmde, 1915'te yaşananları anlatan bir film de var. 1915'te yaşananları anlatan film, 1915'te yaşananları konu ediyor. 1915'te yaşananları anlatan film, 1915'te yaşananları konu ediyor. 1915'te yaşananları\""
      ]
     },
     "execution_count": 11,
     "metadata": {},
     "output_type": "execute_result"
    }
   ],
   "source": [
    "decoder.decode_greedy('İkinci dünya savaşında kaybedilenler anıldı', max_tokens=100)"
   ]
  },
  {
   "cell_type": "code",
   "execution_count": 10,
   "metadata": {},
   "outputs": [
    {
     "data": {
      "text/plain": [
       "\"İkinci dünya savaşında kaybedilenler anıldı. 1949'da, 1949'da, 1949'da, 1949'da, 1949'da, 1949'da, 1949'da, 1949'da, 1949'da, 1949'da, 1949'da, 1949'da, 19\""
      ]
     },
     "execution_count": 10,
     "metadata": {},
     "output_type": "execute_result"
    }
   ],
   "source": [
    "decoder.decode_greedy('İkinci dünya savaşında kaybedilenler anıldı', max_tokens=100)"
   ]
  },
  {
   "cell_type": "code",
   "execution_count": 12,
   "metadata": {},
   "outputs": [
    {
     "data": {
      "text/plain": [
       "'Buğdayda bu sene rekolte düşüklüğü yaşanacak. Buğdayda bu sene rekolte düşüklüğü yaşanacak. Buğdayda bu sene rekolte düşüklüğü yaşanacak. Buğdayda bu sene rekolte düşüklüğü yaşanacak. Buğdayda bu sene rekolte düşüklüğü yaşanacak. Bu sene rekolte düşüklüğü yaşanacak. Bu sene rekolte düşüklüğü yaşanacak. Bu sene rekolte düşüklüğü yaşanacak. Bu sene rekolte düşüklüğü yaşanacak.'"
      ]
     },
     "execution_count": 12,
     "metadata": {},
     "output_type": "execute_result"
    }
   ],
   "source": [
    "decoder.decode_greedy('Buğdayda bu sene rekolte düşük', max_tokens=100)"
   ]
  },
  {
   "cell_type": "code",
   "execution_count": 11,
   "metadata": {},
   "outputs": [
    {
     "data": {
      "text/plain": [
       "'Buğdayda bu sene rekolte düşüklüğü yaşanıyor. Buğdayda bu sene rekolte düşüklüğü yaşanıyor. Buğdayda bu sene rekolte düşüklüğü yaşanıyor. Buğdayda bu sene rekolte düşüklüğü yaşanıyor. Buğdayda bu sene rekolte düşüklüğü yaşanıyor. Buğdayda bu sene rekolte düşüklüğü yaşanıyor. Buğdayda bu sene rekolte düşüklüğü yaşanıyor. Bu sene rekolte düşüklüğü yaşanıyor. Buğdayda bu sene rekolte düşük'"
      ]
     },
     "execution_count": 11,
     "metadata": {},
     "output_type": "execute_result"
    }
   ],
   "source": [
    "decoder.decode_greedy('Buğdayda bu sene rekolte düşük', max_tokens=100)"
   ]
  },
  {
   "cell_type": "code",
   "execution_count": 13,
   "metadata": {},
   "outputs": [
    {
     "data": {
      "text/plain": [
       "\"Piyasalar TC Merkez Bankasının kararına kilitlendi. Merkez Bankası'nın faiz kararı sonrası dolar 7,50'nin üzerine çıktı. Piyasalar TCMB'nin faiz kararı sonrası dolar 7,50'nin üzerine çıktı. Piyasalar TCMB'nin faiz kararı sonrası dolar 7,50'nin üzerine çıktı. Piyasalar TCMB'nin faiz kararı sonrası dolar 7,50'nin üzerine çıktı. Piyasalar TCMB'nin faiz kararı sonrası dolar 7,50'nin\""
      ]
     },
     "execution_count": 13,
     "metadata": {},
     "output_type": "execute_result"
    }
   ],
   "source": [
    "decoder.decode_greedy('Piyasalar TC Merkez Bankasının kararına kilitlendi', max_tokens=100)"
   ]
  },
  {
   "cell_type": "code",
   "execution_count": 12,
   "metadata": {},
   "outputs": [
    {
     "data": {
      "text/plain": [
       "\"Piyasalar TC Merkez Bankasının kararına kilitlendi. Piyasalar TCMB'nin faiz kararının ardından dolar/TL'de 3.75 seviyesinin üzerinde dalgalanmalar yaşandığını belirtmişti. Piyasalar TCMB'nin faiz kararının ardından dolar/TL'de 3.75 seviyesinin üzerinde dalgalanmalar yaşandığını belirtmişti. Piyasalar TCMB'nin faiz kararının ardından dolar/TL'de 3.75 seviyesinin üzerinde dalgalanmalar yaşandığını belirtmişti. Piyasalar TCMB'\""
      ]
     },
     "execution_count": 12,
     "metadata": {},
     "output_type": "execute_result"
    }
   ],
   "source": [
    "decoder.decode_greedy('Piyasalar TC Merkez Bankasının kararına kilitlendi', max_tokens=100)"
   ]
  },
  {
   "cell_type": "code",
   "execution_count": 15,
   "metadata": {},
   "outputs": [
    {
     "data": {
      "text/plain": [
       "'Başkan Erdoğan muhalefet liderine seslendi: \"Sayın Erdoğan\\'a sesleniyorum, bu ülkenin başına bir şey gelmesin\" \"Bütün bu yaşananlar, bu ülkenin başına bir şey gelmesin\" \"Bütün bu yaşananlar, bu ülkenin başına bir şey gelmesin\" \"Bütün bu yaşananlar, bu ülkenin başına bir şey gelmesin\" \"Bütün bu yaşananlar, bu ülkenin başına bir şey gelmesin\" \"Bütün bu yaşananlar, bu ülkenin başına bir şey gelmesin\"'"
      ]
     },
     "execution_count": 15,
     "metadata": {},
     "output_type": "execute_result"
    }
   ],
   "source": [
    "decoder.decode_greedy('Başkan Erdoğan muhalefet liderine seslendi', max_tokens=100)"
   ]
  },
  {
   "cell_type": "code",
   "execution_count": 13,
   "metadata": {},
   "outputs": [
    {
     "data": {
      "text/plain": [
       "'Başkan Erdoğan muhalefet liderine seslendi: \"Sizler, sizler, sizler, sizler, sizler, sizler, sizler, sizler, sizler, sizler, sizler, sizler, sizler, sizler, sizler, sizler, sizler, sizler, sizler, sizler, sizler, sizler, sizler, sizler, sizler, sizler, sizler, sizler, sizler, sizler, sizler, sizler, siz'"
      ]
     },
     "execution_count": 13,
     "metadata": {},
     "output_type": "execute_result"
    }
   ],
   "source": [
    "decoder.decode_greedy('Başkan Erdoğan muhalefet liderine seslendi', max_tokens=100)"
   ]
  },
  {
   "cell_type": "code",
   "execution_count": null,
   "metadata": {},
   "outputs": [],
   "source": []
  }
 ],
 "metadata": {
  "kernelspec": {
   "display_name": "myenv",
   "language": "python",
   "name": "python3"
  },
  "language_info": {
   "codemirror_mode": {
    "name": "ipython",
    "version": 3
   },
   "file_extension": ".py",
   "mimetype": "text/x-python",
   "name": "python",
   "nbconvert_exporter": "python",
   "pygments_lexer": "ipython3",
   "version": "3.11.9"
  }
 },
 "nbformat": 4,
 "nbformat_minor": 2
}
