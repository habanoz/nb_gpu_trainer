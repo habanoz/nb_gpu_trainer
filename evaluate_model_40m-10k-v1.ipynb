{
 "cells": [
  {
   "cell_type": "code",
   "execution_count": 5,
   "metadata": {},
   "outputs": [],
   "source": [
    "from nbtr.model.hf_model import HfModel\n",
    "from nbtr.tokenizer.tokenizer import Tokenizer\n",
    "import torch\n",
    "from torch.nn import functional as F\n",
    "from nbtr.decode.decoder import Decoder"
   ]
  },
  {
   "cell_type": "code",
   "execution_count": 2,
   "metadata": {},
   "outputs": [
    {
     "data": {
      "application/vnd.jupyter.widget-view+json": {
       "model_id": "79ae9353d78842c68af38214ca48c564",
       "version_major": 2,
       "version_minor": 0
      },
      "text/plain": [
       "pytorch_model.bin:   0%|          | 0.00/155M [00:00<?, ?B/s]"
      ]
     },
     "metadata": {},
     "output_type": "display_data"
    },
    {
     "data": {
      "application/vnd.jupyter.widget-view+json": {
       "model_id": "ad336ca89b6b44e9a9b30dc4e9ceead7",
       "version_major": 2,
       "version_minor": 0
      },
      "text/plain": [
       "config.json:   0%|          | 0.00/147 [00:00<?, ?B/s]"
      ]
     },
     "metadata": {},
     "output_type": "display_data"
    },
    {
     "name": "stdout",
     "output_type": "stream",
     "text": [
      "number of parameters: 38.81M\n",
      "Restored model state from repository!\n"
     ]
    }
   ],
   "source": [
    "model = HfModel.from_pretrained(\"habanoz/haber-gpt-2.1-40M-v1.04\",device=\"cpu\")"
   ]
  },
  {
   "cell_type": "code",
   "execution_count": 3,
   "metadata": {},
   "outputs": [],
   "source": [
    "tokenizer = Tokenizer.from_pretrained(\"habanoz/news-tr-1.8M-tokenizer-8k\")"
   ]
  },
  {
   "cell_type": "code",
   "execution_count": 6,
   "metadata": {},
   "outputs": [],
   "source": [
    "decoder = Decoder(tokenizer, model)"
   ]
  },
  {
   "cell_type": "code",
   "execution_count": 7,
   "metadata": {},
   "outputs": [
    {
     "data": {
      "text/plain": [
       "'15 Temmuz şehitleri ikiz polislerin babasının acısı dinmiyor. 15 Temmuz şehitleri ikiz polislerin babasının acısı dinmiyor. 15 Temmuz şehitleri ikiz polislerin babasının acısı dinmiyor. 15 Temmuz şehitleri ikiz polislerin babasının acısı dinmiyor. 15 Temmuz şehitleri ikiz polislerin babasının acısı dinmiyor. 15 Temmuz şehitleri ikiz polislerin babasının acısı dinmiyor. 15 Temmuz şehitleri ikiz polislerin babasının acısı'"
      ]
     },
     "execution_count": 7,
     "metadata": {},
     "output_type": "execute_result"
    }
   ],
   "source": [
    "decoder.decode_greedy('15 Temmuz şehitleri ikiz polislerin babasının acısı dinmiyor', max_tokens=100)"
   ]
  },
  {
   "cell_type": "code",
   "execution_count": 11,
   "metadata": {},
   "outputs": [
    {
     "name": "stdout",
     "output_type": "stream",
     "text": [
      "2015 yılında Fransa devlet başkanı olan François Hollande, 2016 yılında da Fransa'nın Avrupa Birliği'ne (AB) tam üye olması için mücadele edeceğini açıklamıştı. Hollande, 2016 yılında da Fransa'nın Avrupa Birliği'ne (AB) tam üye olması için mücadele edeceğini açıklamıştı. Fransa'nın Avrupa Birliği'ne tam üye olması için mücadele edeceğini açıklayan Hollande, 2016 yılında da Fransa'nın Avrupa Birliği'ne tam üye olması için mücadele\n"
     ]
    }
   ],
   "source": [
    "print(decoder.decode_greedy('2015 yılında Fransa devlet başkanı', max_tokens=100))"
   ]
  },
  {
   "cell_type": "code",
   "execution_count": 14,
   "metadata": {},
   "outputs": [
    {
     "name": "stdout",
     "output_type": "stream",
     "text": [
      "2020 yılında Fransa devlet başkanı Macron'un, 2020 yılında Fransa'nın Paris'teki büyükelçiliğini Kudüs'e taşıması, 2020 yılında ise Fransa'nın Paris Büyükelçiliğini Kudüs'e taşıması, 2020 yılında Fransa'nın Paris Büyükelçiliğini Kudüs'e taşıması, 2020 yılında ise Fransa'nın Paris Büyükelçiliğini Kudüs'e taşıması, 2020 yılında ise Fransa'nın Paris Büyükelçiliğini Kudüs\n"
     ]
    }
   ],
   "source": [
    "print(decoder.decode_greedy('2020 yılında Fransa devlet başkanı', max_tokens=100))"
   ]
  },
  {
   "cell_type": "code",
   "execution_count": 15,
   "metadata": {},
   "outputs": [
    {
     "name": "stdout",
     "output_type": "stream",
     "text": [
      "2010 yılında Fransa devlet başkanı olan François Hollande, 2014 yılında da Fransa'nın Avrupa Birliği'ne (AB) tam üye olması için mücadele edeceğini açıklamıştı. Hollande, 2014 yılında da Fransa'nın Avrupa Birliği'ne (AB) tam üye olması için mücadele edeceğini açıklamıştı.\n"
     ]
    }
   ],
   "source": [
    "print(decoder.decode_greedy('2010 yılında Fransa devlet başkanı', max_tokens=100))"
   ]
  },
  {
   "cell_type": "code",
   "execution_count": 17,
   "metadata": {},
   "outputs": [
    {
     "name": "stdout",
     "output_type": "stream",
     "text": [
      "Borsa güne yükselişle başladı. Borsa İstanbul'da BIST 100 endeksi, yüzde 0,32 değer kazanarak günü 1.428,48 puandan tamamladı. BIST 100 endeksi, önceki kapanışa göre 11,50 puan artarken, toplam işlem hacmi 12,5 milyar lira seviyesinde gerçekleşti. Bankacılık endeksi yüzde 0,30 ve holding endeksi yüzde 0,32 değer kazandı.\n"
     ]
    }
   ],
   "source": [
    "print(decoder.decode_greedy( 'Borsa güne yükselişle başladı', max_tokens=100))"
   ]
  },
  {
   "cell_type": "code",
   "execution_count": 18,
   "metadata": {},
   "outputs": [
    {
     "name": "stdout",
     "output_type": "stream",
     "text": [
      "Borsa güne düşüşle başladı. Borsa İstanbul'da BIST 100 endeksi, yüzde 0,32 değer kaybederek 1.489,00 puana geriledi. Bankacılık endeksi yüzde 0,35 ve holding endeksi yüzde 0,32 artış kaydetti. Sektör endeksleri arasında en fazla kazandıran yüzde 0,35 ile spor, en çok gerileyen ise yüzde 0,25 ile sigorta oldu. Dün, alış\n"
     ]
    }
   ],
   "source": [
    "print(decoder.decode_greedy( 'Borsa güne düşüşle başladı', max_tokens=100))"
   ]
  },
  {
   "cell_type": "code",
   "execution_count": 19,
   "metadata": {},
   "outputs": [
    {
     "name": "stdout",
     "output_type": "stream",
     "text": [
      "Dünya kupasının kazananı belli oldu! Dünya kupası finalinde Arjantin'i 3-1 yenen Brezilya, kupaya uzandı. Arjantin'i 3-1 yenen Brezilya, kupaya uzandı. Dünya kupası finalinde Arjantin'i 3-1 yenen Brezilya, kupaya uzandı. Arjantin'i 3-1 yenen Brezilya, kupaya uzandı. Arjantin'i 3-1 yenen Brezilya,\n"
     ]
    }
   ],
   "source": [
    "print(decoder.decode_greedy( 'Dünya kupasının kazananı belli oldu', max_tokens=100))"
   ]
  },
  {
   "cell_type": "code",
   "execution_count": 23,
   "metadata": {},
   "outputs": [
    {
     "name": "stdout",
     "output_type": "stream",
     "text": [
      "Dünyanın en tehlikeli 100 kişisi arasında gösterilen ve 100 milyon dolar servetiyle dünyanın en zengin 100 kişisi arasında gösterilen George Soros'un, 2019'da 100 milyon dolar servete sahip olduğu ortaya çıktı. Soros'un, 2019'da 100 milyon dolar servete sahip olduğu ortaya çıktı. Soros'un, 2019'da 1\n"
     ]
    }
   ],
   "source": [
    "print(decoder.decode_greedy( 'Dünyanın en tehlikeli', max_tokens=100))"
   ]
  },
  {
   "cell_type": "code",
   "execution_count": 24,
   "metadata": {},
   "outputs": [
    {
     "name": "stdout",
     "output_type": "stream",
     "text": [
      "Dünyanın en güvenli ülkelerinden biri olan Türkiye'de, 2019 yılında 1 milyon 200 bin 500 Suriyeli mülteci, Türkiye'ye sığındı. 2019 yılında 1 milyon 200 bin 500 Suriyeli mülteci, Türkiye'ye sığındı. 2019 yılında 1 milyon 200 bin 500 Suriyeli mülteci, Türkiye'ye sığındı. 2019 yılında 1 milyon 2\n"
     ]
    }
   ],
   "source": [
    "print(decoder.decode_greedy( 'Dünyanın en güvenli', max_tokens=100))"
   ]
  },
  {
   "cell_type": "code",
   "execution_count": 25,
   "metadata": {},
   "outputs": [
    {
     "name": "stdout",
     "output_type": "stream",
     "text": [
      "Dünyanın en sağlıklı ve en sağlıklı insanı olarak gösterilen ve 1970'li yıllardaki başarılarıyla bilinen 65 yaşındaki Amerikalı ünlü şarkıcı ve oyuncu Johnny Depp, 1973'te hayatını kaybetti. Depp'in ölümü, 1974'te Amsterdam'da düzenlenen bir törenle son buldu. 1974'te Amsterdam'da düzenlenen törenle hayatını kaybeden ünlü şarkıcı, 1974'te Amster\n"
     ]
    }
   ],
   "source": [
    "print(decoder.decode_greedy( 'Dünyanın en sağlıklı', max_tokens=100))"
   ]
  },
  {
   "cell_type": "code",
   "execution_count": 26,
   "metadata": {},
   "outputs": [
    {
     "name": "stdout",
     "output_type": "stream",
     "text": [
      "Dünyanın en zenginleri listesinde 100 milyar dolarlık servetiyle dünyanın en zenginleri arasında yer alan ABD'li milyarder Jeffrey Epstein, 2019'da 100 milyar dolarlık servetiyle dünyanın en zenginleri listesinde 100 milyar dolarlık servetiyle dünyanın en zenginleri arasında yer alıyor. ABD'li milyarder Jeffrey Epstein, 2019'da 100 milyar\n"
     ]
    }
   ],
   "source": [
    "print(decoder.decode_greedy( 'Dünyanın en zengin', max_tokens=100))"
   ]
  },
  {
   "cell_type": "code",
   "execution_count": 34,
   "metadata": {},
   "outputs": [
    {
     "name": "stdout",
     "output_type": "stream",
     "text": [
      "Vizyonda bu hafta: 19 Eylül'de vizyona girecek filmler şöyle; - 19 Eylül: 19. yüzyılın en büyük korku filmlerinden biri olan \"The Last Jedi\" (The Last Jedi) - 19.000.000 (The Last Jedi) - 19.000.000 (The Last Jedi) - 19.000.000\n"
     ]
    }
   ],
   "source": [
    "print(decoder.decode_greedy( 'Vizyonda bu hafta:', max_tokens=100))"
   ]
  },
  {
   "cell_type": "code",
   "execution_count": 37,
   "metadata": {},
   "outputs": [
    {
     "name": "stdout",
     "output_type": "stream",
     "text": [
      "Yeşil çamın usta oyuncusu, 1994 yılında İstanbul'da doğdu. İlk ve orta öğrenimini İstanbul'da tamamladı. 2000 yılında İstanbul Üniversitesi Siyasal Bilgiler Fakültesi Kamu Yönetimi Bölümü'nden mezun oldu. 2001 yılında İstanbul Büyükşehir Belediyesi'nde (İBB) Başkan Danışmanlığı görevine getirildi. 2003 yılında İstanbul Büyükşehir Belediyesi'nde (İBB) Başkan Danışmanlığı görevine getirildi. 2004 yılında İstanbul Büyükşehir Belediyesi\n"
     ]
    }
   ],
   "source": [
    "print(decoder.decode_greedy( 'Yeşil çamın usta oyuncusu', max_tokens=100))"
   ]
  },
  {
   "cell_type": "code",
   "execution_count": 38,
   "metadata": {},
   "outputs": [
    {
     "name": "stdout",
     "output_type": "stream",
     "text": [
      "Başbakan Erdoğan muhalefet liderine seslendi: “Sizden bir şey olmaz. Sizden bir şey olmaz. Sizden bir şey olmaz. Sizden bir şey olmaz. Sizden bir şey olmaz. Sizden bir şey olmaz. Sizden bir şey olmaz. Sizden bir şey olmaz. Sizden bir şey olmaz. Sizden bir şey olmaz. Sizden bir şey olmaz. Sizden bir şey olmaz. Sizden bir şey olmaz. Sizden bir şey olmaz. Sizden bir şey olmaz. Sizden bir şey olmaz. Siz\n"
     ]
    }
   ],
   "source": [
    "print(decoder.decode_greedy( 'Başbakan Erdoğan muhalefet liderine seslendi', max_tokens=100))"
   ]
  },
  {
   "cell_type": "code",
   "execution_count": 39,
   "metadata": {},
   "outputs": [
    {
     "name": "stdout",
     "output_type": "stream",
     "text": [
      "Başkan Erdoğan muhalefet liderine seslendi: \"Sizler, bu ülkenin evlatlarısınız\" \"Sizler, bu ülkenin evlatlarısınız\" \"Sizler, bu ülkenin evlatlarısınız\" \"Sizler, bu ülkenin evlatlarısınız\" \"Sizler, bu ülkenin evlatlarısınız\" \"Sizler, bu ülkenin evlatlarısınız\" \"Sizler, bu ülkenin evlatlarısınız\" \"Sizler, bu ülkenin evlatlarısınız\" \"Siz\n"
     ]
    }
   ],
   "source": [
    "print(decoder.decode_greedy( 'Başkan Erdoğan muhalefet liderine seslendi', max_tokens=100))"
   ]
  },
  {
   "cell_type": "code",
   "execution_count": null,
   "metadata": {},
   "outputs": [],
   "source": []
  },
  {
   "cell_type": "code",
   "execution_count": null,
   "metadata": {},
   "outputs": [],
   "source": []
  },
  {
   "cell_type": "code",
   "execution_count": null,
   "metadata": {},
   "outputs": [],
   "source": []
  }
 ],
 "metadata": {
  "kernelspec": {
   "display_name": "myenv",
   "language": "python",
   "name": "python3"
  },
  "language_info": {
   "codemirror_mode": {
    "name": "ipython",
    "version": 3
   },
   "file_extension": ".py",
   "mimetype": "text/x-python",
   "name": "python",
   "nbconvert_exporter": "python",
   "pygments_lexer": "ipython3",
   "version": "3.11.9"
  }
 },
 "nbformat": 4,
 "nbformat_minor": 2
}
